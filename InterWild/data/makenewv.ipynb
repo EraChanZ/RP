{
 "cells": [
  {
   "cell_type": "code",
   "execution_count": 1,
   "metadata": {},
   "outputs": [
    {
     "name": "stdout",
     "output_type": "stream",
     "text": [
      "WARNING: You are using a MANO model, with only 10 shape coefficients.\n",
      "WARNING: You are using a MANO model, with only 10 shape coefficients.\n",
      "Fix shapedirs bug of MANO\n"
     ]
    }
   ],
   "source": [
    "import torch\n",
    "from torchvision import transforms\n",
    "import sys\n",
    "import os\n",
    "import os.path as osp\n",
    "import numpy as np\n",
    "\n",
    "sys.path.insert(0, osp.join('..', 'main'))\n",
    "sys.path.insert(0, osp.join('..', 'data'))\n",
    "sys.path.insert(0, osp.join('..', 'common'))\n",
    "\n",
    "from MSCOCO import MSCOCO_orig"
   ]
  },
  {
   "cell_type": "code",
   "execution_count": 2,
   "metadata": {},
   "outputs": [
    {
     "name": "stdout",
     "output_type": "stream",
     "text": [
      "loading annotations into memory...\n",
      "Done (t=37.15s)\n",
      "creating index...\n",
      "index created!\n",
      "Saving preprocessed train dataset to ..\\data\\MSCOCO\\annotations\\MSCOCO_train_preprocessed.pth...\n",
      "Filtered dataset saved.\n"
     ]
    }
   ],
   "source": [
    "from torchvision import transforms\n",
    "\n",
    "# Create a dummy transform (replace with your actual transform)\n",
    "transform = transforms.Compose([\n",
    "    transforms.ToTensor(),\n",
    "])\n",
    "\n",
    "# Load the MSCOCO train dataset\n",
    "train_dataset = MSCOCO_orig.MSCOCO(transform=transform, data_split='train')\n",
    "\n",
    "# Apply filter_and_zoom_datalist\n",
    "train_dataset.filter_and_zoom_datalist()\n",
    "\n",
    "# The filtered dataset is now saved in 'MSCOCO_train_preprocessed.pth'\n",
    "print(\"Filtered dataset saved.\")"
   ]
  },
  {
   "cell_type": "code",
   "execution_count": 4,
   "metadata": {},
   "outputs": [
    {
     "name": "stdout",
     "output_type": "stream",
     "text": [
      "Loading preprocessed train dataset...\n"
     ]
    },
    {
     "name": "stderr",
     "output_type": "stream",
     "text": [
      "c:\\Users\\vladi\\RP\\InterWild\\data\\..\\data\\MSCOCO\\MSCOCO_orig.py:45: FutureWarning: You are using `torch.load` with `weights_only=False` (the current default value), which uses the default pickle module implicitly. It is possible to construct malicious pickle data which will execute arbitrary code during unpickling (See https://github.com/pytorch/pytorch/blob/main/SECURITY.md#untrusted-models for more details). In a future release, the default value for `weights_only` will be flipped to `True`. This limits the functions that could be executed during unpickling. Arbitrary objects will no longer be allowed to be loaded via this mode unless they are explicitly allowlisted by the user via `torch.serialization.add_safe_globals`. We recommend you start setting `weights_only=True` for any use case where you don't have full control of the loaded file. Please open an issue on GitHub for any issues related to this experimental feature.\n",
      "  loaded_data = torch.load(preprocessed_data_path)\n"
     ]
    },
    {
     "name": "stdout",
     "output_type": "stream",
     "text": [
      "Loaded preprocessed dataset with 5153 samples.\n",
      "Sample: dict_keys(['img']) dict_keys(['joint_img', 'mano_joint_img', 'joint_cam', 'mano_mesh_cam', 'rel_trans', 'mano_pose', 'mano_shape', 'lhand_bbox_center', 'lhand_bbox_size', 'rhand_bbox_center', 'rhand_bbox_size']) dict_keys(['bb2img_trans', 'joint_valid', 'joint_trunc', 'mano_joint_trunc', 'mano_mesh_valid', 'rel_trans_valid', 'mano_pose_valid', 'mano_shape_valid', 'lhand_bbox_valid', 'rhand_bbox_valid', 'is_3D', 'orig_img_path'])\n"
     ]
    }
   ],
   "source": [
    "\n",
    "from torchvision import transforms\n",
    "\n",
    "# Create the same dummy transform as before\n",
    "transform = transforms.Compose([\n",
    "    transforms.ToTensor(),\n",
    "])\n",
    "\n",
    "# Load the preprocessed MSCOCO train dataset\n",
    "train_dataset = MSCOCO_orig.MSCOCO(transform=transform, data_split='train')\n",
    "\n",
    "# Now you can use train_dataset directly\n",
    "print(f\"Loaded preprocessed dataset with {len(train_dataset)} samples.\")\n",
    "\n",
    "# Example: Accessing the first sample\n",
    "inputs, targets, meta_info = train_dataset[0]\n",
    "print(\"Sample:\", inputs.keys(), targets.keys(), meta_info.keys())"
   ]
  }
 ],
 "metadata": {
  "kernelspec": {
   "display_name": "Python 3",
   "language": "python",
   "name": "python3"
  },
  "language_info": {
   "codemirror_mode": {
    "name": "ipython",
    "version": 3
   },
   "file_extension": ".py",
   "mimetype": "text/x-python",
   "name": "python",
   "nbconvert_exporter": "python",
   "pygments_lexer": "ipython3",
   "version": "3.10.11"
  }
 },
 "nbformat": 4,
 "nbformat_minor": 2
}
