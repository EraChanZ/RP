{
 "cells": [
  {
   "cell_type": "code",
   "execution_count": 1,
   "metadata": {},
   "outputs": [],
   "source": [
    "import unittest\n",
    "import torch\n",
    "import os.path as osp\n",
    "import sys\n",
    "\n",
    "sys.path.insert(0, osp.join('..', 'main'))\n",
    "sys.path.insert(0, osp.join('..', 'data'))\n",
    "sys.path.insert(0, osp.join('..', 'common'))"
   ]
  },
  {
   "cell_type": "code",
   "execution_count": 2,
   "metadata": {},
   "outputs": [],
   "source": [
    "import random\n",
    "import numpy as np\n",
    "\n",
    "def set_seed(seed):\n",
    "    \"\"\"Set random seed for reproducibility.\"\"\"\n",
    "    random.seed(seed)\n",
    "    np.random.seed(seed)\n",
    "    torch.manual_seed(seed)\n",
    "    torch.cuda.manual_seed(seed)\n",
    "    torch.cuda.manual_seed_all(seed)  # For multi-GPU\n",
    "    torch.backends.cudnn.deterministic = True\n",
    "    torch.backends.cudnn.benchmark = False\n",
    "\n",
    "set_seed(42)\n"
   ]
  },
  {
   "cell_type": "code",
   "execution_count": 3,
   "metadata": {},
   "outputs": [
    {
     "name": "stdout",
     "output_type": "stream",
     "text": [
      "WARNING: You are using a MANO model, with only 10 shape coefficients.\n",
      "WARNING: You are using a MANO model, with only 10 shape coefficients.\n",
      "Fix shapedirs bug of MANO\n"
     ]
    }
   ],
   "source": [
    "from train_ssa import SSATrainer\n",
    "from config import cfg\n",
    "import argparse\n",
    "args = argparse.Namespace(\n",
    "    gpu_ids='0',\n",
    "    device='cuda',\n",
    "    continue_train=False,\n",
    "    source_ckpt=r\"C:\\Users\\vladi\\RP\\InterWild\\demo\\snapshot_6.pth\",\n",
    "    max_batches=80,\n",
    "    batch_size=26,  # Small batch size for testing\n",
    "    amp=True,\n",
    "    grad_accumulation_steps=4\n",
    ")"
   ]
  },
  {
   "cell_type": "code",
   "execution_count": 4,
   "metadata": {},
   "outputs": [],
   "source": [
    "cfg.lr = 0.001\n",
    "cfg.end_epoch = 60"
   ]
  },
  {
   "cell_type": "code",
   "execution_count": 5,
   "metadata": {},
   "outputs": [
    {
     "name": "stdout",
     "output_type": "stream",
     "text": [
      ">>> Using GPU: 0\n"
     ]
    }
   ],
   "source": [
    "cfg.set_args(\"0\", False)\n",
    "cfg.train_batch_size = args.batch_size\n",
    "cfg.num_thread = 1\n",
    "\n",
    "\n",
    "trainer = SSATrainer(args)"
   ]
  },
  {
   "cell_type": "code",
   "execution_count": 6,
   "metadata": {},
   "outputs": [
    {
     "name": "stderr",
     "output_type": "stream",
     "text": [
      "\u001b[92m01-22 17:32:57\u001b[0m Creating dataset for target domain...\n",
      "INFO:train_logs.txt:Creating dataset for target domain...\n"
     ]
    }
   ],
   "source": [
    "trainer._make_batch_generator()"
   ]
  },
  {
   "cell_type": "code",
   "execution_count": 7,
   "metadata": {},
   "outputs": [
    {
     "name": "stderr",
     "output_type": "stream",
     "text": [
      "\u001b[92m01-22 17:33:01\u001b[0m Creating SSA model + optimizer...\n",
      "INFO:train_logs.txt:Creating SSA model + optimizer...\n"
     ]
    },
    {
     "name": "stdout",
     "output_type": "stream",
     "text": [
      "Initialize resnet from model zoo\n",
      "Initialize resnet from model zoo\n"
     ]
    },
    {
     "name": "stderr",
     "output_type": "stream",
     "text": [
      "\u001b[92m01-22 17:33:05\u001b[0m Loading source checkpoint: C:\\Users\\vladi\\RP\\InterWild\\demo\\snapshot_6.pth\n",
      "INFO:train_logs.txt:Loading source checkpoint: C:\\Users\\vladi\\RP\\InterWild\\demo\\snapshot_6.pth\n",
      "c:\\Users\\vladi\\RP\\InterWild\\main\\..\\main\\train_ssa.py:350: FutureWarning: You are using `torch.load` with `weights_only=False` (the current default value), which uses the default pickle module implicitly. It is possible to construct malicious pickle data which will execute arbitrary code during unpickling (See https://github.com/pytorch/pytorch/blob/main/SECURITY.md#untrusted-models for more details). In a future release, the default value for `weights_only` will be flipped to `True`. This limits the functions that could be executed during unpickling. Arbitrary objects will no longer be allowed to be loaded via this mode unless they are explicitly allowlisted by the user via `torch.serialization.add_safe_globals`. We recommend you start setting `weights_only=True` for any use case where you don't have full control of the loaded file. Please open an issue on GitHub for any issues related to this experimental feature.\n",
      "  ckpt = torch.load(self.args.source_ckpt)\n",
      "\u001b[92m01-22 17:33:06\u001b[0m Keeping module.hand_roi_net.backbone.bn1.weight trainable\n",
      "INFO:train_logs.txt:Keeping module.hand_roi_net.backbone.bn1.weight trainable\n",
      "\u001b[92m01-22 17:33:06\u001b[0m Keeping module.hand_roi_net.backbone.bn1.bias trainable\n",
      "INFO:train_logs.txt:Keeping module.hand_roi_net.backbone.bn1.bias trainable\n",
      "\u001b[92m01-22 17:33:06\u001b[0m Keeping module.hand_roi_net.backbone.layer1.0.bn1.weight trainable\n",
      "INFO:train_logs.txt:Keeping module.hand_roi_net.backbone.layer1.0.bn1.weight trainable\n",
      "\u001b[92m01-22 17:33:06\u001b[0m Keeping module.hand_roi_net.backbone.layer1.0.bn1.bias trainable\n",
      "INFO:train_logs.txt:Keeping module.hand_roi_net.backbone.layer1.0.bn1.bias trainable\n",
      "\u001b[92m01-22 17:33:06\u001b[0m Keeping module.hand_roi_net.backbone.layer1.0.bn2.weight trainable\n",
      "INFO:train_logs.txt:Keeping module.hand_roi_net.backbone.layer1.0.bn2.weight trainable\n",
      "\u001b[92m01-22 17:33:06\u001b[0m Keeping module.hand_roi_net.backbone.layer1.0.bn2.bias trainable\n",
      "INFO:train_logs.txt:Keeping module.hand_roi_net.backbone.layer1.0.bn2.bias trainable\n",
      "\u001b[92m01-22 17:33:06\u001b[0m Keeping module.hand_roi_net.backbone.layer1.0.bn3.weight trainable\n",
      "INFO:train_logs.txt:Keeping module.hand_roi_net.backbone.layer1.0.bn3.weight trainable\n",
      "\u001b[92m01-22 17:33:06\u001b[0m Keeping module.hand_roi_net.backbone.layer1.0.bn3.bias trainable\n",
      "INFO:train_logs.txt:Keeping module.hand_roi_net.backbone.layer1.0.bn3.bias trainable\n",
      "\u001b[92m01-22 17:33:06\u001b[0m Keeping module.hand_roi_net.backbone.layer1.1.bn1.weight trainable\n",
      "INFO:train_logs.txt:Keeping module.hand_roi_net.backbone.layer1.1.bn1.weight trainable\n",
      "\u001b[92m01-22 17:33:06\u001b[0m Keeping module.hand_roi_net.backbone.layer1.1.bn1.bias trainable\n",
      "INFO:train_logs.txt:Keeping module.hand_roi_net.backbone.layer1.1.bn1.bias trainable\n",
      "\u001b[92m01-22 17:33:06\u001b[0m Keeping module.hand_roi_net.backbone.layer1.1.bn2.weight trainable\n",
      "INFO:train_logs.txt:Keeping module.hand_roi_net.backbone.layer1.1.bn2.weight trainable\n",
      "\u001b[92m01-22 17:33:06\u001b[0m Keeping module.hand_roi_net.backbone.layer1.1.bn2.bias trainable\n",
      "INFO:train_logs.txt:Keeping module.hand_roi_net.backbone.layer1.1.bn2.bias trainable\n",
      "\u001b[92m01-22 17:33:06\u001b[0m Keeping module.hand_roi_net.backbone.layer1.1.bn3.weight trainable\n",
      "INFO:train_logs.txt:Keeping module.hand_roi_net.backbone.layer1.1.bn3.weight trainable\n",
      "\u001b[92m01-22 17:33:06\u001b[0m Keeping module.hand_roi_net.backbone.layer1.1.bn3.bias trainable\n",
      "INFO:train_logs.txt:Keeping module.hand_roi_net.backbone.layer1.1.bn3.bias trainable\n",
      "\u001b[92m01-22 17:33:06\u001b[0m Keeping module.hand_roi_net.backbone.layer1.2.bn1.weight trainable\n",
      "INFO:train_logs.txt:Keeping module.hand_roi_net.backbone.layer1.2.bn1.weight trainable\n",
      "\u001b[92m01-22 17:33:06\u001b[0m Keeping module.hand_roi_net.backbone.layer1.2.bn1.bias trainable\n",
      "INFO:train_logs.txt:Keeping module.hand_roi_net.backbone.layer1.2.bn1.bias trainable\n",
      "\u001b[92m01-22 17:33:06\u001b[0m Keeping module.hand_roi_net.backbone.layer1.2.bn2.weight trainable\n",
      "INFO:train_logs.txt:Keeping module.hand_roi_net.backbone.layer1.2.bn2.weight trainable\n",
      "\u001b[92m01-22 17:33:06\u001b[0m Keeping module.hand_roi_net.backbone.layer1.2.bn2.bias trainable\n",
      "INFO:train_logs.txt:Keeping module.hand_roi_net.backbone.layer1.2.bn2.bias trainable\n",
      "\u001b[92m01-22 17:33:06\u001b[0m Keeping module.hand_roi_net.backbone.layer1.2.bn3.weight trainable\n",
      "INFO:train_logs.txt:Keeping module.hand_roi_net.backbone.layer1.2.bn3.weight trainable\n",
      "\u001b[92m01-22 17:33:06\u001b[0m Keeping module.hand_roi_net.backbone.layer1.2.bn3.bias trainable\n",
      "INFO:train_logs.txt:Keeping module.hand_roi_net.backbone.layer1.2.bn3.bias trainable\n",
      "\u001b[92m01-22 17:33:06\u001b[0m Keeping module.hand_roi_net.backbone.layer2.0.bn1.weight trainable\n",
      "INFO:train_logs.txt:Keeping module.hand_roi_net.backbone.layer2.0.bn1.weight trainable\n",
      "\u001b[92m01-22 17:33:06\u001b[0m Keeping module.hand_roi_net.backbone.layer2.0.bn1.bias trainable\n",
      "INFO:train_logs.txt:Keeping module.hand_roi_net.backbone.layer2.0.bn1.bias trainable\n",
      "\u001b[92m01-22 17:33:06\u001b[0m Keeping module.hand_roi_net.backbone.layer2.0.bn2.weight trainable\n",
      "INFO:train_logs.txt:Keeping module.hand_roi_net.backbone.layer2.0.bn2.weight trainable\n",
      "\u001b[92m01-22 17:33:06\u001b[0m Keeping module.hand_roi_net.backbone.layer2.0.bn2.bias trainable\n",
      "INFO:train_logs.txt:Keeping module.hand_roi_net.backbone.layer2.0.bn2.bias trainable\n",
      "\u001b[92m01-22 17:33:06\u001b[0m Keeping module.hand_roi_net.backbone.layer2.0.bn3.weight trainable\n",
      "INFO:train_logs.txt:Keeping module.hand_roi_net.backbone.layer2.0.bn3.weight trainable\n",
      "\u001b[92m01-22 17:33:06\u001b[0m Keeping module.hand_roi_net.backbone.layer2.0.bn3.bias trainable\n",
      "INFO:train_logs.txt:Keeping module.hand_roi_net.backbone.layer2.0.bn3.bias trainable\n",
      "\u001b[92m01-22 17:33:06\u001b[0m Keeping module.hand_roi_net.backbone.layer2.1.bn1.weight trainable\n",
      "INFO:train_logs.txt:Keeping module.hand_roi_net.backbone.layer2.1.bn1.weight trainable\n",
      "\u001b[92m01-22 17:33:06\u001b[0m Keeping module.hand_roi_net.backbone.layer2.1.bn1.bias trainable\n",
      "INFO:train_logs.txt:Keeping module.hand_roi_net.backbone.layer2.1.bn1.bias trainable\n",
      "\u001b[92m01-22 17:33:06\u001b[0m Keeping module.hand_roi_net.backbone.layer2.1.bn2.weight trainable\n",
      "INFO:train_logs.txt:Keeping module.hand_roi_net.backbone.layer2.1.bn2.weight trainable\n",
      "\u001b[92m01-22 17:33:06\u001b[0m Keeping module.hand_roi_net.backbone.layer2.1.bn2.bias trainable\n",
      "INFO:train_logs.txt:Keeping module.hand_roi_net.backbone.layer2.1.bn2.bias trainable\n",
      "\u001b[92m01-22 17:33:06\u001b[0m Keeping module.hand_roi_net.backbone.layer2.1.bn3.weight trainable\n",
      "INFO:train_logs.txt:Keeping module.hand_roi_net.backbone.layer2.1.bn3.weight trainable\n",
      "\u001b[92m01-22 17:33:06\u001b[0m Keeping module.hand_roi_net.backbone.layer2.1.bn3.bias trainable\n",
      "INFO:train_logs.txt:Keeping module.hand_roi_net.backbone.layer2.1.bn3.bias trainable\n",
      "\u001b[92m01-22 17:33:06\u001b[0m Keeping module.hand_roi_net.backbone.layer2.2.bn1.weight trainable\n",
      "INFO:train_logs.txt:Keeping module.hand_roi_net.backbone.layer2.2.bn1.weight trainable\n",
      "\u001b[92m01-22 17:33:06\u001b[0m Keeping module.hand_roi_net.backbone.layer2.2.bn1.bias trainable\n",
      "INFO:train_logs.txt:Keeping module.hand_roi_net.backbone.layer2.2.bn1.bias trainable\n",
      "\u001b[92m01-22 17:33:06\u001b[0m Keeping module.hand_roi_net.backbone.layer2.2.bn2.weight trainable\n",
      "INFO:train_logs.txt:Keeping module.hand_roi_net.backbone.layer2.2.bn2.weight trainable\n",
      "\u001b[92m01-22 17:33:06\u001b[0m Keeping module.hand_roi_net.backbone.layer2.2.bn2.bias trainable\n",
      "INFO:train_logs.txt:Keeping module.hand_roi_net.backbone.layer2.2.bn2.bias trainable\n",
      "\u001b[92m01-22 17:33:06\u001b[0m Keeping module.hand_roi_net.backbone.layer2.2.bn3.weight trainable\n",
      "INFO:train_logs.txt:Keeping module.hand_roi_net.backbone.layer2.2.bn3.weight trainable\n",
      "\u001b[92m01-22 17:33:06\u001b[0m Keeping module.hand_roi_net.backbone.layer2.2.bn3.bias trainable\n",
      "INFO:train_logs.txt:Keeping module.hand_roi_net.backbone.layer2.2.bn3.bias trainable\n",
      "\u001b[92m01-22 17:33:06\u001b[0m Keeping module.hand_roi_net.backbone.layer2.3.bn1.weight trainable\n",
      "INFO:train_logs.txt:Keeping module.hand_roi_net.backbone.layer2.3.bn1.weight trainable\n",
      "\u001b[92m01-22 17:33:06\u001b[0m Keeping module.hand_roi_net.backbone.layer2.3.bn1.bias trainable\n",
      "INFO:train_logs.txt:Keeping module.hand_roi_net.backbone.layer2.3.bn1.bias trainable\n",
      "\u001b[92m01-22 17:33:06\u001b[0m Keeping module.hand_roi_net.backbone.layer2.3.bn2.weight trainable\n",
      "INFO:train_logs.txt:Keeping module.hand_roi_net.backbone.layer2.3.bn2.weight trainable\n",
      "\u001b[92m01-22 17:33:06\u001b[0m Keeping module.hand_roi_net.backbone.layer2.3.bn2.bias trainable\n",
      "INFO:train_logs.txt:Keeping module.hand_roi_net.backbone.layer2.3.bn2.bias trainable\n",
      "\u001b[92m01-22 17:33:06\u001b[0m Keeping module.hand_roi_net.backbone.layer2.3.bn3.weight trainable\n",
      "INFO:train_logs.txt:Keeping module.hand_roi_net.backbone.layer2.3.bn3.weight trainable\n",
      "\u001b[92m01-22 17:33:06\u001b[0m Keeping module.hand_roi_net.backbone.layer2.3.bn3.bias trainable\n",
      "INFO:train_logs.txt:Keeping module.hand_roi_net.backbone.layer2.3.bn3.bias trainable\n",
      "\u001b[92m01-22 17:33:06\u001b[0m Keeping module.hand_roi_net.backbone.layer3.0.bn1.weight trainable\n",
      "INFO:train_logs.txt:Keeping module.hand_roi_net.backbone.layer3.0.bn1.weight trainable\n",
      "\u001b[92m01-22 17:33:06\u001b[0m Keeping module.hand_roi_net.backbone.layer3.0.bn1.bias trainable\n",
      "INFO:train_logs.txt:Keeping module.hand_roi_net.backbone.layer3.0.bn1.bias trainable\n",
      "\u001b[92m01-22 17:33:06\u001b[0m Keeping module.hand_roi_net.backbone.layer3.0.bn2.weight trainable\n",
      "INFO:train_logs.txt:Keeping module.hand_roi_net.backbone.layer3.0.bn2.weight trainable\n",
      "\u001b[92m01-22 17:33:06\u001b[0m Keeping module.hand_roi_net.backbone.layer3.0.bn2.bias trainable\n",
      "INFO:train_logs.txt:Keeping module.hand_roi_net.backbone.layer3.0.bn2.bias trainable\n",
      "\u001b[92m01-22 17:33:06\u001b[0m Keeping module.hand_roi_net.backbone.layer3.0.bn3.weight trainable\n",
      "INFO:train_logs.txt:Keeping module.hand_roi_net.backbone.layer3.0.bn3.weight trainable\n",
      "\u001b[92m01-22 17:33:06\u001b[0m Keeping module.hand_roi_net.backbone.layer3.0.bn3.bias trainable\n",
      "INFO:train_logs.txt:Keeping module.hand_roi_net.backbone.layer3.0.bn3.bias trainable\n",
      "\u001b[92m01-22 17:33:06\u001b[0m Keeping module.hand_roi_net.backbone.layer3.1.bn1.weight trainable\n",
      "INFO:train_logs.txt:Keeping module.hand_roi_net.backbone.layer3.1.bn1.weight trainable\n",
      "\u001b[92m01-22 17:33:06\u001b[0m Keeping module.hand_roi_net.backbone.layer3.1.bn1.bias trainable\n",
      "INFO:train_logs.txt:Keeping module.hand_roi_net.backbone.layer3.1.bn1.bias trainable\n",
      "\u001b[92m01-22 17:33:06\u001b[0m Keeping module.hand_roi_net.backbone.layer3.1.bn2.weight trainable\n",
      "INFO:train_logs.txt:Keeping module.hand_roi_net.backbone.layer3.1.bn2.weight trainable\n",
      "\u001b[92m01-22 17:33:06\u001b[0m Keeping module.hand_roi_net.backbone.layer3.1.bn2.bias trainable\n",
      "INFO:train_logs.txt:Keeping module.hand_roi_net.backbone.layer3.1.bn2.bias trainable\n",
      "\u001b[92m01-22 17:33:06\u001b[0m Keeping module.hand_roi_net.backbone.layer3.1.bn3.weight trainable\n",
      "INFO:train_logs.txt:Keeping module.hand_roi_net.backbone.layer3.1.bn3.weight trainable\n",
      "\u001b[92m01-22 17:33:06\u001b[0m Keeping module.hand_roi_net.backbone.layer3.1.bn3.bias trainable\n",
      "INFO:train_logs.txt:Keeping module.hand_roi_net.backbone.layer3.1.bn3.bias trainable\n",
      "\u001b[92m01-22 17:33:06\u001b[0m Keeping module.hand_roi_net.backbone.layer3.2.bn1.weight trainable\n",
      "INFO:train_logs.txt:Keeping module.hand_roi_net.backbone.layer3.2.bn1.weight trainable\n",
      "\u001b[92m01-22 17:33:06\u001b[0m Keeping module.hand_roi_net.backbone.layer3.2.bn1.bias trainable\n",
      "INFO:train_logs.txt:Keeping module.hand_roi_net.backbone.layer3.2.bn1.bias trainable\n",
      "\u001b[92m01-22 17:33:06\u001b[0m Keeping module.hand_roi_net.backbone.layer3.2.bn2.weight trainable\n",
      "INFO:train_logs.txt:Keeping module.hand_roi_net.backbone.layer3.2.bn2.weight trainable\n",
      "\u001b[92m01-22 17:33:06\u001b[0m Keeping module.hand_roi_net.backbone.layer3.2.bn2.bias trainable\n",
      "INFO:train_logs.txt:Keeping module.hand_roi_net.backbone.layer3.2.bn2.bias trainable\n",
      "\u001b[92m01-22 17:33:06\u001b[0m Keeping module.hand_roi_net.backbone.layer3.2.bn3.weight trainable\n",
      "INFO:train_logs.txt:Keeping module.hand_roi_net.backbone.layer3.2.bn3.weight trainable\n",
      "\u001b[92m01-22 17:33:06\u001b[0m Keeping module.hand_roi_net.backbone.layer3.2.bn3.bias trainable\n",
      "INFO:train_logs.txt:Keeping module.hand_roi_net.backbone.layer3.2.bn3.bias trainable\n",
      "\u001b[92m01-22 17:33:06\u001b[0m Keeping module.hand_roi_net.backbone.layer3.3.bn1.weight trainable\n",
      "INFO:train_logs.txt:Keeping module.hand_roi_net.backbone.layer3.3.bn1.weight trainable\n",
      "\u001b[92m01-22 17:33:06\u001b[0m Keeping module.hand_roi_net.backbone.layer3.3.bn1.bias trainable\n",
      "INFO:train_logs.txt:Keeping module.hand_roi_net.backbone.layer3.3.bn1.bias trainable\n",
      "\u001b[92m01-22 17:33:06\u001b[0m Keeping module.hand_roi_net.backbone.layer3.3.bn2.weight trainable\n",
      "INFO:train_logs.txt:Keeping module.hand_roi_net.backbone.layer3.3.bn2.weight trainable\n",
      "\u001b[92m01-22 17:33:06\u001b[0m Keeping module.hand_roi_net.backbone.layer3.3.bn2.bias trainable\n",
      "INFO:train_logs.txt:Keeping module.hand_roi_net.backbone.layer3.3.bn2.bias trainable\n",
      "\u001b[92m01-22 17:33:06\u001b[0m Keeping module.hand_roi_net.backbone.layer3.3.bn3.weight trainable\n",
      "INFO:train_logs.txt:Keeping module.hand_roi_net.backbone.layer3.3.bn3.weight trainable\n",
      "\u001b[92m01-22 17:33:06\u001b[0m Keeping module.hand_roi_net.backbone.layer3.3.bn3.bias trainable\n",
      "INFO:train_logs.txt:Keeping module.hand_roi_net.backbone.layer3.3.bn3.bias trainable\n",
      "\u001b[92m01-22 17:33:06\u001b[0m Keeping module.hand_roi_net.backbone.layer3.4.bn1.weight trainable\n",
      "INFO:train_logs.txt:Keeping module.hand_roi_net.backbone.layer3.4.bn1.weight trainable\n",
      "\u001b[92m01-22 17:33:06\u001b[0m Keeping module.hand_roi_net.backbone.layer3.4.bn1.bias trainable\n",
      "INFO:train_logs.txt:Keeping module.hand_roi_net.backbone.layer3.4.bn1.bias trainable\n",
      "\u001b[92m01-22 17:33:06\u001b[0m Keeping module.hand_roi_net.backbone.layer3.4.bn2.weight trainable\n",
      "INFO:train_logs.txt:Keeping module.hand_roi_net.backbone.layer3.4.bn2.weight trainable\n",
      "\u001b[92m01-22 17:33:06\u001b[0m Keeping module.hand_roi_net.backbone.layer3.4.bn2.bias trainable\n",
      "INFO:train_logs.txt:Keeping module.hand_roi_net.backbone.layer3.4.bn2.bias trainable\n",
      "\u001b[92m01-22 17:33:06\u001b[0m Keeping module.hand_roi_net.backbone.layer3.4.bn3.weight trainable\n",
      "INFO:train_logs.txt:Keeping module.hand_roi_net.backbone.layer3.4.bn3.weight trainable\n",
      "\u001b[92m01-22 17:33:06\u001b[0m Keeping module.hand_roi_net.backbone.layer3.4.bn3.bias trainable\n",
      "INFO:train_logs.txt:Keeping module.hand_roi_net.backbone.layer3.4.bn3.bias trainable\n",
      "\u001b[92m01-22 17:33:06\u001b[0m Keeping module.hand_roi_net.backbone.layer3.5.bn1.weight trainable\n",
      "INFO:train_logs.txt:Keeping module.hand_roi_net.backbone.layer3.5.bn1.weight trainable\n",
      "\u001b[92m01-22 17:33:06\u001b[0m Keeping module.hand_roi_net.backbone.layer3.5.bn1.bias trainable\n",
      "INFO:train_logs.txt:Keeping module.hand_roi_net.backbone.layer3.5.bn1.bias trainable\n",
      "\u001b[92m01-22 17:33:06\u001b[0m Keeping module.hand_roi_net.backbone.layer3.5.bn2.weight trainable\n",
      "INFO:train_logs.txt:Keeping module.hand_roi_net.backbone.layer3.5.bn2.weight trainable\n",
      "\u001b[92m01-22 17:33:06\u001b[0m Keeping module.hand_roi_net.backbone.layer3.5.bn2.bias trainable\n",
      "INFO:train_logs.txt:Keeping module.hand_roi_net.backbone.layer3.5.bn2.bias trainable\n",
      "\u001b[92m01-22 17:33:06\u001b[0m Keeping module.hand_roi_net.backbone.layer3.5.bn3.weight trainable\n",
      "INFO:train_logs.txt:Keeping module.hand_roi_net.backbone.layer3.5.bn3.weight trainable\n",
      "\u001b[92m01-22 17:33:06\u001b[0m Keeping module.hand_roi_net.backbone.layer3.5.bn3.bias trainable\n",
      "INFO:train_logs.txt:Keeping module.hand_roi_net.backbone.layer3.5.bn3.bias trainable\n",
      "\u001b[92m01-22 17:33:06\u001b[0m Keeping module.hand_roi_net.backbone.layer4.0.bn1.weight trainable\n",
      "INFO:train_logs.txt:Keeping module.hand_roi_net.backbone.layer4.0.bn1.weight trainable\n",
      "\u001b[92m01-22 17:33:06\u001b[0m Keeping module.hand_roi_net.backbone.layer4.0.bn1.bias trainable\n",
      "INFO:train_logs.txt:Keeping module.hand_roi_net.backbone.layer4.0.bn1.bias trainable\n",
      "\u001b[92m01-22 17:33:06\u001b[0m Keeping module.hand_roi_net.backbone.layer4.0.bn2.weight trainable\n",
      "INFO:train_logs.txt:Keeping module.hand_roi_net.backbone.layer4.0.bn2.weight trainable\n",
      "\u001b[92m01-22 17:33:06\u001b[0m Keeping module.hand_roi_net.backbone.layer4.0.bn2.bias trainable\n",
      "INFO:train_logs.txt:Keeping module.hand_roi_net.backbone.layer4.0.bn2.bias trainable\n",
      "\u001b[92m01-22 17:33:06\u001b[0m Keeping module.hand_roi_net.backbone.layer4.0.bn3.weight trainable\n",
      "INFO:train_logs.txt:Keeping module.hand_roi_net.backbone.layer4.0.bn3.weight trainable\n",
      "\u001b[92m01-22 17:33:06\u001b[0m Keeping module.hand_roi_net.backbone.layer4.0.bn3.bias trainable\n",
      "INFO:train_logs.txt:Keeping module.hand_roi_net.backbone.layer4.0.bn3.bias trainable\n",
      "\u001b[92m01-22 17:33:06\u001b[0m Keeping module.hand_roi_net.backbone.layer4.1.bn1.weight trainable\n",
      "INFO:train_logs.txt:Keeping module.hand_roi_net.backbone.layer4.1.bn1.weight trainable\n",
      "\u001b[92m01-22 17:33:06\u001b[0m Keeping module.hand_roi_net.backbone.layer4.1.bn1.bias trainable\n",
      "INFO:train_logs.txt:Keeping module.hand_roi_net.backbone.layer4.1.bn1.bias trainable\n",
      "\u001b[92m01-22 17:33:06\u001b[0m Keeping module.hand_roi_net.backbone.layer4.1.bn2.weight trainable\n",
      "INFO:train_logs.txt:Keeping module.hand_roi_net.backbone.layer4.1.bn2.weight trainable\n",
      "\u001b[92m01-22 17:33:06\u001b[0m Keeping module.hand_roi_net.backbone.layer4.1.bn2.bias trainable\n",
      "INFO:train_logs.txt:Keeping module.hand_roi_net.backbone.layer4.1.bn2.bias trainable\n",
      "\u001b[92m01-22 17:33:06\u001b[0m Keeping module.hand_roi_net.backbone.layer4.1.bn3.weight trainable\n",
      "INFO:train_logs.txt:Keeping module.hand_roi_net.backbone.layer4.1.bn3.weight trainable\n",
      "\u001b[92m01-22 17:33:06\u001b[0m Keeping module.hand_roi_net.backbone.layer4.1.bn3.bias trainable\n",
      "INFO:train_logs.txt:Keeping module.hand_roi_net.backbone.layer4.1.bn3.bias trainable\n",
      "\u001b[92m01-22 17:33:06\u001b[0m Keeping module.hand_roi_net.backbone.layer4.2.bn1.weight trainable\n",
      "INFO:train_logs.txt:Keeping module.hand_roi_net.backbone.layer4.2.bn1.weight trainable\n",
      "\u001b[92m01-22 17:33:06\u001b[0m Keeping module.hand_roi_net.backbone.layer4.2.bn1.bias trainable\n",
      "INFO:train_logs.txt:Keeping module.hand_roi_net.backbone.layer4.2.bn1.bias trainable\n",
      "\u001b[92m01-22 17:33:06\u001b[0m Keeping module.hand_roi_net.backbone.layer4.2.bn2.weight trainable\n",
      "INFO:train_logs.txt:Keeping module.hand_roi_net.backbone.layer4.2.bn2.weight trainable\n",
      "\u001b[92m01-22 17:33:06\u001b[0m Keeping module.hand_roi_net.backbone.layer4.2.bn2.bias trainable\n",
      "INFO:train_logs.txt:Keeping module.hand_roi_net.backbone.layer4.2.bn2.bias trainable\n",
      "\u001b[92m01-22 17:33:06\u001b[0m Keeping module.hand_roi_net.backbone.layer4.2.bn3.weight trainable\n",
      "INFO:train_logs.txt:Keeping module.hand_roi_net.backbone.layer4.2.bn3.weight trainable\n",
      "\u001b[92m01-22 17:33:06\u001b[0m Keeping module.hand_roi_net.backbone.layer4.2.bn3.bias trainable\n",
      "INFO:train_logs.txt:Keeping module.hand_roi_net.backbone.layer4.2.bn3.bias trainable\n"
     ]
    },
    {
     "name": "stdout",
     "output_type": "stream",
     "text": [
      "Missing keys: []\n",
      "Unexpected keys: ['module.hand_rotation_net.conv.0.weight', 'module.hand_rotation_net.conv.0.bias', 'module.hand_rotation_net.conv.1.weight', 'module.hand_rotation_net.conv.1.bias', 'module.hand_rotation_net.conv.1.running_mean', 'module.hand_rotation_net.conv.1.running_var', 'module.hand_rotation_net.conv.1.num_batches_tracked', 'module.hand_rotation_net.root_pose_out.0.weight', 'module.hand_rotation_net.root_pose_out.0.bias', 'module.hand_rotation_net.pose_out.0.weight', 'module.hand_rotation_net.pose_out.0.bias', 'module.hand_rotation_net.shape_out.0.weight', 'module.hand_rotation_net.shape_out.0.bias', 'module.hand_rotation_net.cam_out.0.weight', 'module.hand_rotation_net.cam_out.0.bias', 'module.hand_trans_net.backbone.conv1.weight', 'module.hand_trans_net.backbone.bn1.weight', 'module.hand_trans_net.backbone.bn1.bias', 'module.hand_trans_net.backbone.bn1.running_mean', 'module.hand_trans_net.backbone.bn1.running_var', 'module.hand_trans_net.backbone.bn1.num_batches_tracked', 'module.hand_trans_net.backbone.layer1.0.conv1.weight', 'module.hand_trans_net.backbone.layer1.0.bn1.weight', 'module.hand_trans_net.backbone.layer1.0.bn1.bias', 'module.hand_trans_net.backbone.layer1.0.bn1.running_mean', 'module.hand_trans_net.backbone.layer1.0.bn1.running_var', 'module.hand_trans_net.backbone.layer1.0.bn1.num_batches_tracked', 'module.hand_trans_net.backbone.layer1.0.conv2.weight', 'module.hand_trans_net.backbone.layer1.0.bn2.weight', 'module.hand_trans_net.backbone.layer1.0.bn2.bias', 'module.hand_trans_net.backbone.layer1.0.bn2.running_mean', 'module.hand_trans_net.backbone.layer1.0.bn2.running_var', 'module.hand_trans_net.backbone.layer1.0.bn2.num_batches_tracked', 'module.hand_trans_net.backbone.layer1.1.conv1.weight', 'module.hand_trans_net.backbone.layer1.1.bn1.weight', 'module.hand_trans_net.backbone.layer1.1.bn1.bias', 'module.hand_trans_net.backbone.layer1.1.bn1.running_mean', 'module.hand_trans_net.backbone.layer1.1.bn1.running_var', 'module.hand_trans_net.backbone.layer1.1.bn1.num_batches_tracked', 'module.hand_trans_net.backbone.layer1.1.conv2.weight', 'module.hand_trans_net.backbone.layer1.1.bn2.weight', 'module.hand_trans_net.backbone.layer1.1.bn2.bias', 'module.hand_trans_net.backbone.layer1.1.bn2.running_mean', 'module.hand_trans_net.backbone.layer1.1.bn2.running_var', 'module.hand_trans_net.backbone.layer1.1.bn2.num_batches_tracked', 'module.hand_trans_net.backbone.layer2.0.conv1.weight', 'module.hand_trans_net.backbone.layer2.0.bn1.weight', 'module.hand_trans_net.backbone.layer2.0.bn1.bias', 'module.hand_trans_net.backbone.layer2.0.bn1.running_mean', 'module.hand_trans_net.backbone.layer2.0.bn1.running_var', 'module.hand_trans_net.backbone.layer2.0.bn1.num_batches_tracked', 'module.hand_trans_net.backbone.layer2.0.conv2.weight', 'module.hand_trans_net.backbone.layer2.0.bn2.weight', 'module.hand_trans_net.backbone.layer2.0.bn2.bias', 'module.hand_trans_net.backbone.layer2.0.bn2.running_mean', 'module.hand_trans_net.backbone.layer2.0.bn2.running_var', 'module.hand_trans_net.backbone.layer2.0.bn2.num_batches_tracked', 'module.hand_trans_net.backbone.layer2.0.downsample.0.weight', 'module.hand_trans_net.backbone.layer2.0.downsample.1.weight', 'module.hand_trans_net.backbone.layer2.0.downsample.1.bias', 'module.hand_trans_net.backbone.layer2.0.downsample.1.running_mean', 'module.hand_trans_net.backbone.layer2.0.downsample.1.running_var', 'module.hand_trans_net.backbone.layer2.0.downsample.1.num_batches_tracked', 'module.hand_trans_net.backbone.layer2.1.conv1.weight', 'module.hand_trans_net.backbone.layer2.1.bn1.weight', 'module.hand_trans_net.backbone.layer2.1.bn1.bias', 'module.hand_trans_net.backbone.layer2.1.bn1.running_mean', 'module.hand_trans_net.backbone.layer2.1.bn1.running_var', 'module.hand_trans_net.backbone.layer2.1.bn1.num_batches_tracked', 'module.hand_trans_net.backbone.layer2.1.conv2.weight', 'module.hand_trans_net.backbone.layer2.1.bn2.weight', 'module.hand_trans_net.backbone.layer2.1.bn2.bias', 'module.hand_trans_net.backbone.layer2.1.bn2.running_mean', 'module.hand_trans_net.backbone.layer2.1.bn2.running_var', 'module.hand_trans_net.backbone.layer2.1.bn2.num_batches_tracked', 'module.hand_trans_net.backbone.layer3.0.conv1.weight', 'module.hand_trans_net.backbone.layer3.0.bn1.weight', 'module.hand_trans_net.backbone.layer3.0.bn1.bias', 'module.hand_trans_net.backbone.layer3.0.bn1.running_mean', 'module.hand_trans_net.backbone.layer3.0.bn1.running_var', 'module.hand_trans_net.backbone.layer3.0.bn1.num_batches_tracked', 'module.hand_trans_net.backbone.layer3.0.conv2.weight', 'module.hand_trans_net.backbone.layer3.0.bn2.weight', 'module.hand_trans_net.backbone.layer3.0.bn2.bias', 'module.hand_trans_net.backbone.layer3.0.bn2.running_mean', 'module.hand_trans_net.backbone.layer3.0.bn2.running_var', 'module.hand_trans_net.backbone.layer3.0.bn2.num_batches_tracked', 'module.hand_trans_net.backbone.layer3.0.downsample.0.weight', 'module.hand_trans_net.backbone.layer3.0.downsample.1.weight', 'module.hand_trans_net.backbone.layer3.0.downsample.1.bias', 'module.hand_trans_net.backbone.layer3.0.downsample.1.running_mean', 'module.hand_trans_net.backbone.layer3.0.downsample.1.running_var', 'module.hand_trans_net.backbone.layer3.0.downsample.1.num_batches_tracked', 'module.hand_trans_net.backbone.layer3.1.conv1.weight', 'module.hand_trans_net.backbone.layer3.1.bn1.weight', 'module.hand_trans_net.backbone.layer3.1.bn1.bias', 'module.hand_trans_net.backbone.layer3.1.bn1.running_mean', 'module.hand_trans_net.backbone.layer3.1.bn1.running_var', 'module.hand_trans_net.backbone.layer3.1.bn1.num_batches_tracked', 'module.hand_trans_net.backbone.layer3.1.conv2.weight', 'module.hand_trans_net.backbone.layer3.1.bn2.weight', 'module.hand_trans_net.backbone.layer3.1.bn2.bias', 'module.hand_trans_net.backbone.layer3.1.bn2.running_mean', 'module.hand_trans_net.backbone.layer3.1.bn2.running_var', 'module.hand_trans_net.backbone.layer3.1.bn2.num_batches_tracked', 'module.hand_trans_net.backbone.layer4.0.conv1.weight', 'module.hand_trans_net.backbone.layer4.0.bn1.weight', 'module.hand_trans_net.backbone.layer4.0.bn1.bias', 'module.hand_trans_net.backbone.layer4.0.bn1.running_mean', 'module.hand_trans_net.backbone.layer4.0.bn1.running_var', 'module.hand_trans_net.backbone.layer4.0.bn1.num_batches_tracked', 'module.hand_trans_net.backbone.layer4.0.conv2.weight', 'module.hand_trans_net.backbone.layer4.0.bn2.weight', 'module.hand_trans_net.backbone.layer4.0.bn2.bias', 'module.hand_trans_net.backbone.layer4.0.bn2.running_mean', 'module.hand_trans_net.backbone.layer4.0.bn2.running_var', 'module.hand_trans_net.backbone.layer4.0.bn2.num_batches_tracked', 'module.hand_trans_net.backbone.layer4.0.downsample.0.weight', 'module.hand_trans_net.backbone.layer4.0.downsample.1.weight', 'module.hand_trans_net.backbone.layer4.0.downsample.1.bias', 'module.hand_trans_net.backbone.layer4.0.downsample.1.running_mean', 'module.hand_trans_net.backbone.layer4.0.downsample.1.running_var', 'module.hand_trans_net.backbone.layer4.0.downsample.1.num_batches_tracked', 'module.hand_trans_net.backbone.layer4.1.conv1.weight', 'module.hand_trans_net.backbone.layer4.1.bn1.weight', 'module.hand_trans_net.backbone.layer4.1.bn1.bias', 'module.hand_trans_net.backbone.layer4.1.bn1.running_mean', 'module.hand_trans_net.backbone.layer4.1.bn1.running_var', 'module.hand_trans_net.backbone.layer4.1.bn1.num_batches_tracked', 'module.hand_trans_net.backbone.layer4.1.conv2.weight', 'module.hand_trans_net.backbone.layer4.1.bn2.weight', 'module.hand_trans_net.backbone.layer4.1.bn2.bias', 'module.hand_trans_net.backbone.layer4.1.bn2.running_mean', 'module.hand_trans_net.backbone.layer4.1.bn2.running_var', 'module.hand_trans_net.backbone.layer4.1.bn2.num_batches_tracked', 'module.hand_trans_net.conv.0.weight', 'module.hand_trans_net.conv.0.bias', 'module.hand_trans_net.conv.1.weight', 'module.hand_trans_net.conv.1.bias', 'module.hand_trans_net.conv.1.running_mean', 'module.hand_trans_net.conv.1.running_var', 'module.hand_trans_net.conv.1.num_batches_tracked', 'module.hand_trans_net.fc.0.weight', 'module.hand_trans_net.fc.0.bias']\n"
     ]
    }
   ],
   "source": [
    "trainer._make_model(K=200) "
   ]
  },
  {
   "cell_type": "code",
   "execution_count": 8,
   "metadata": {},
   "outputs": [
    {
     "name": "stdout",
     "output_type": "stream",
     "text": [
      "Checking trainable parameters in each module:\n",
      "--------------------------------------------------\n",
      "Trainable: module.hand_roi_net.backbone.bn1.weight\n",
      "Trainable: module.hand_roi_net.backbone.bn1.bias\n",
      "Trainable: module.hand_roi_net.backbone.layer1.0.bn1.weight\n",
      "Trainable: module.hand_roi_net.backbone.layer1.0.bn1.bias\n",
      "Trainable: module.hand_roi_net.backbone.layer1.0.bn2.weight\n",
      "Trainable: module.hand_roi_net.backbone.layer1.0.bn2.bias\n",
      "Trainable: module.hand_roi_net.backbone.layer1.0.bn3.weight\n",
      "Trainable: module.hand_roi_net.backbone.layer1.0.bn3.bias\n",
      "Trainable: module.hand_roi_net.backbone.layer1.1.bn1.weight\n",
      "Trainable: module.hand_roi_net.backbone.layer1.1.bn1.bias\n",
      "Trainable: module.hand_roi_net.backbone.layer1.1.bn2.weight\n",
      "Trainable: module.hand_roi_net.backbone.layer1.1.bn2.bias\n",
      "Trainable: module.hand_roi_net.backbone.layer1.1.bn3.weight\n",
      "Trainable: module.hand_roi_net.backbone.layer1.1.bn3.bias\n",
      "Trainable: module.hand_roi_net.backbone.layer1.2.bn1.weight\n",
      "Trainable: module.hand_roi_net.backbone.layer1.2.bn1.bias\n",
      "Trainable: module.hand_roi_net.backbone.layer1.2.bn2.weight\n",
      "Trainable: module.hand_roi_net.backbone.layer1.2.bn2.bias\n",
      "Trainable: module.hand_roi_net.backbone.layer1.2.bn3.weight\n",
      "Trainable: module.hand_roi_net.backbone.layer1.2.bn3.bias\n",
      "Trainable: module.hand_roi_net.backbone.layer2.0.bn1.weight\n",
      "Trainable: module.hand_roi_net.backbone.layer2.0.bn1.bias\n",
      "Trainable: module.hand_roi_net.backbone.layer2.0.bn2.weight\n",
      "Trainable: module.hand_roi_net.backbone.layer2.0.bn2.bias\n",
      "Trainable: module.hand_roi_net.backbone.layer2.0.bn3.weight\n",
      "Trainable: module.hand_roi_net.backbone.layer2.0.bn3.bias\n",
      "Trainable: module.hand_roi_net.backbone.layer2.1.bn1.weight\n",
      "Trainable: module.hand_roi_net.backbone.layer2.1.bn1.bias\n",
      "Trainable: module.hand_roi_net.backbone.layer2.1.bn2.weight\n",
      "Trainable: module.hand_roi_net.backbone.layer2.1.bn2.bias\n",
      "Trainable: module.hand_roi_net.backbone.layer2.1.bn3.weight\n",
      "Trainable: module.hand_roi_net.backbone.layer2.1.bn3.bias\n",
      "Trainable: module.hand_roi_net.backbone.layer2.2.bn1.weight\n",
      "Trainable: module.hand_roi_net.backbone.layer2.2.bn1.bias\n",
      "Trainable: module.hand_roi_net.backbone.layer2.2.bn2.weight\n",
      "Trainable: module.hand_roi_net.backbone.layer2.2.bn2.bias\n",
      "Trainable: module.hand_roi_net.backbone.layer2.2.bn3.weight\n",
      "Trainable: module.hand_roi_net.backbone.layer2.2.bn3.bias\n",
      "Trainable: module.hand_roi_net.backbone.layer2.3.bn1.weight\n",
      "Trainable: module.hand_roi_net.backbone.layer2.3.bn1.bias\n",
      "Trainable: module.hand_roi_net.backbone.layer2.3.bn2.weight\n",
      "Trainable: module.hand_roi_net.backbone.layer2.3.bn2.bias\n",
      "Trainable: module.hand_roi_net.backbone.layer2.3.bn3.weight\n",
      "Trainable: module.hand_roi_net.backbone.layer2.3.bn3.bias\n",
      "Trainable: module.hand_roi_net.backbone.layer3.0.bn1.weight\n",
      "Trainable: module.hand_roi_net.backbone.layer3.0.bn1.bias\n",
      "Trainable: module.hand_roi_net.backbone.layer3.0.bn2.weight\n",
      "Trainable: module.hand_roi_net.backbone.layer3.0.bn2.bias\n",
      "Trainable: module.hand_roi_net.backbone.layer3.0.bn3.weight\n",
      "Trainable: module.hand_roi_net.backbone.layer3.0.bn3.bias\n",
      "Trainable: module.hand_roi_net.backbone.layer3.1.bn1.weight\n",
      "Trainable: module.hand_roi_net.backbone.layer3.1.bn1.bias\n",
      "Trainable: module.hand_roi_net.backbone.layer3.1.bn2.weight\n",
      "Trainable: module.hand_roi_net.backbone.layer3.1.bn2.bias\n",
      "Trainable: module.hand_roi_net.backbone.layer3.1.bn3.weight\n",
      "Trainable: module.hand_roi_net.backbone.layer3.1.bn3.bias\n",
      "Trainable: module.hand_roi_net.backbone.layer3.2.bn1.weight\n",
      "Trainable: module.hand_roi_net.backbone.layer3.2.bn1.bias\n",
      "Trainable: module.hand_roi_net.backbone.layer3.2.bn2.weight\n",
      "Trainable: module.hand_roi_net.backbone.layer3.2.bn2.bias\n",
      "Trainable: module.hand_roi_net.backbone.layer3.2.bn3.weight\n",
      "Trainable: module.hand_roi_net.backbone.layer3.2.bn3.bias\n",
      "Trainable: module.hand_roi_net.backbone.layer3.3.bn1.weight\n",
      "Trainable: module.hand_roi_net.backbone.layer3.3.bn1.bias\n",
      "Trainable: module.hand_roi_net.backbone.layer3.3.bn2.weight\n",
      "Trainable: module.hand_roi_net.backbone.layer3.3.bn2.bias\n",
      "Trainable: module.hand_roi_net.backbone.layer3.3.bn3.weight\n",
      "Trainable: module.hand_roi_net.backbone.layer3.3.bn3.bias\n",
      "Trainable: module.hand_roi_net.backbone.layer3.4.bn1.weight\n",
      "Trainable: module.hand_roi_net.backbone.layer3.4.bn1.bias\n",
      "Trainable: module.hand_roi_net.backbone.layer3.4.bn2.weight\n",
      "Trainable: module.hand_roi_net.backbone.layer3.4.bn2.bias\n",
      "Trainable: module.hand_roi_net.backbone.layer3.4.bn3.weight\n",
      "Trainable: module.hand_roi_net.backbone.layer3.4.bn3.bias\n",
      "Trainable: module.hand_roi_net.backbone.layer3.5.bn1.weight\n",
      "Trainable: module.hand_roi_net.backbone.layer3.5.bn1.bias\n",
      "Trainable: module.hand_roi_net.backbone.layer3.5.bn2.weight\n",
      "Trainable: module.hand_roi_net.backbone.layer3.5.bn2.bias\n",
      "Trainable: module.hand_roi_net.backbone.layer3.5.bn3.weight\n",
      "Trainable: module.hand_roi_net.backbone.layer3.5.bn3.bias\n",
      "Trainable: module.hand_roi_net.backbone.layer4.0.bn1.weight\n",
      "Trainable: module.hand_roi_net.backbone.layer4.0.bn1.bias\n",
      "Trainable: module.hand_roi_net.backbone.layer4.0.bn2.weight\n",
      "Trainable: module.hand_roi_net.backbone.layer4.0.bn2.bias\n",
      "Trainable: module.hand_roi_net.backbone.layer4.0.bn3.weight\n",
      "Trainable: module.hand_roi_net.backbone.layer4.0.bn3.bias\n",
      "Trainable: module.hand_roi_net.backbone.layer4.1.bn1.weight\n",
      "Trainable: module.hand_roi_net.backbone.layer4.1.bn1.bias\n",
      "Trainable: module.hand_roi_net.backbone.layer4.1.bn2.weight\n",
      "Trainable: module.hand_roi_net.backbone.layer4.1.bn2.bias\n",
      "Trainable: module.hand_roi_net.backbone.layer4.1.bn3.weight\n",
      "Trainable: module.hand_roi_net.backbone.layer4.1.bn3.bias\n",
      "Trainable: module.hand_roi_net.backbone.layer4.2.bn1.weight\n",
      "Trainable: module.hand_roi_net.backbone.layer4.2.bn1.bias\n",
      "Trainable: module.hand_roi_net.backbone.layer4.2.bn2.weight\n",
      "Trainable: module.hand_roi_net.backbone.layer4.2.bn2.bias\n",
      "Trainable: module.hand_roi_net.backbone.layer4.2.bn3.weight\n",
      "Trainable: module.hand_roi_net.backbone.layer4.2.bn3.bias\n",
      "\n",
      "Summary of trainable vs frozen parameters:\n",
      "Total parameters: 57,980,718\n",
      "Trainable parameters: 45,440\n",
      "Frozen parameters: 57,935,278\n",
      "Percent trainable: 0.08%\n"
     ]
    }
   ],
   "source": [
    "# Print trainable parameters for each module\n",
    "print(\"Checking trainable parameters in each module:\")\n",
    "print(\"-\" * 50)\n",
    "\n",
    "for name, param in trainer.model.named_parameters():\n",
    "    if param.requires_grad:\n",
    "        print(f\"Trainable: {name}\")\n",
    "    else:\n",
    "        #print(f\"Frozen: {name}\")\n",
    "        pass\n",
    "\n",
    "print(\"\\nSummary of trainable vs frozen parameters:\")\n",
    "trainable_params = sum(p.numel() for p in trainer.model.parameters() if p.requires_grad)\n",
    "total_params = sum(p.numel() for p in trainer.model.parameters())\n",
    "print(f\"Total parameters: {total_params:,}\")\n",
    "print(f\"Trainable parameters: {trainable_params:,}\")\n",
    "print(f\"Frozen parameters: {total_params - trainable_params:,}\")\n",
    "print(f\"Percent trainable: {100 * trainable_params / total_params:.2f}%\")\n"
   ]
  },
  {
   "cell_type": "code",
   "execution_count": 9,
   "metadata": {},
   "outputs": [],
   "source": [
    "from custom_eval_framework import HandLandmarksDataset\n",
    "import torchvision.transforms as transforms\n",
    "from train_ssa import CustomHandLandmarksDataset\n",
    "\n",
    "# Create validation datasets for target (IR) and source (RGB) domains\n",
    "val_dataset_target = CustomHandLandmarksDataset(\n",
    "    image_dir=r\"C:\\Users\\vladi\\RP\\our_hands_dataset_labeled_previews\\IR\",\n",
    "    annotations_path=r\"C:\\Users\\vladi\\RP\\our_hands_dataset_labeled_previews\\combined_FIX_IR.json\",\n",
    "    transform=transforms.ToTensor()\n",
    ")\n",
    "\n",
    "val_dataset_source = CustomHandLandmarksDataset(\n",
    "    image_dir=r\"C:\\Users\\vladi\\RP\\our_hands_dataset_labeled_previews\\RGB\", \n",
    "    annotations_path=r\"C:\\Users\\vladi\\RP\\our_hands_dataset_labeled_previews\\combined_FIX_RGB.json\",\n",
    "    transform=transforms.ToTensor()\n",
    ")\n"
   ]
  },
  {
   "cell_type": "code",
   "execution_count": 10,
   "metadata": {},
   "outputs": [],
   "source": [
    "eval_report = val_dataset_source.perform_evaluation(trainer.model, model_type=\"ssa\")\n"
   ]
  },
  {
   "cell_type": "code",
   "execution_count": 11,
   "metadata": {},
   "outputs": [
    {
     "name": "stdout",
     "output_type": "stream",
     "text": [
      "EvaluationReport:\n",
      "PCK:\n",
      "  Mean: 0.944\n",
      "  Min:  0.643\n",
      "  Max:  1.000\n",
      "  Count: 80\n",
      "IOU:\n",
      "  Mean: 0.671\n",
      "  Min:  0.351\n",
      "  Max:  0.815\n",
      "  Count: 80\n"
     ]
    }
   ],
   "source": [
    "print(eval_report)\n"
   ]
  },
  {
   "cell_type": "code",
   "execution_count": 12,
   "metadata": {},
   "outputs": [
    {
     "name": "stderr",
     "output_type": "stream",
     "text": [
      "\u001b[92m01-22 17:33:27\u001b[0m [Epoch 0/60] - Training SSA...\n",
      "INFO:train_logs.txt:[Epoch 0/60] - Training SSA...\n",
      "\u001b[92m01-22 17:33:27\u001b[0m Running validation...\n",
      "INFO:train_logs.txt:Running validation...\n",
      "\u001b[92m01-22 17:33:49\u001b[0m Validation source Results:\n",
      "EvaluationReport:\n",
      "PCK:\n",
      "  Mean: 0.944\n",
      "  Min:  0.643\n",
      "  Max:  1.000\n",
      "  Count: 80\n",
      "IOU:\n",
      "  Mean: 0.671\n",
      "  Min:  0.351\n",
      "  Max:  0.815\n",
      "  Count: 80\n",
      "INFO:train_logs.txt:Validation source Results:\n",
      "EvaluationReport:\n",
      "PCK:\n",
      "  Mean: 0.944\n",
      "  Min:  0.643\n",
      "  Max:  1.000\n",
      "  Count: 80\n",
      "IOU:\n",
      "  Mean: 0.671\n",
      "  Min:  0.351\n",
      "  Max:  0.815\n",
      "  Count: 80\n",
      "\u001b[92m01-22 17:33:49\u001b[0m Running validation...\n",
      "INFO:train_logs.txt:Running validation...\n",
      "\u001b[92m01-22 17:33:56\u001b[0m Validation target Results:\n",
      "EvaluationReport:\n",
      "PCK:\n",
      "  Mean: 0.477\n",
      "  Min:  0.024\n",
      "  Max:  1.000\n",
      "  Count: 80\n",
      "IOU:\n",
      "  Mean: 0.281\n",
      "  Min:  0.000\n",
      "  Max:  0.786\n",
      "  Count: 80\n",
      "INFO:train_logs.txt:Validation target Results:\n",
      "EvaluationReport:\n",
      "PCK:\n",
      "  Mean: 0.477\n",
      "  Min:  0.024\n",
      "  Max:  1.000\n",
      "  Count: 80\n",
      "IOU:\n",
      "  Mean: 0.281\n",
      "  Min:  0.000\n",
      "  Max:  0.786\n",
      "  Count: 80\n"
     ]
    },
    {
     "name": "stdout",
     "output_type": "stream",
     "text": [
      "only hand\n"
     ]
    },
    {
     "name": "stderr",
     "output_type": "stream",
     "text": [
      "\u001b[92m01-22 17:34:02\u001b[0m Epoch 0/60 itr 0/170: lr: 0.001000 speed: 0.00(0.00s r0.00)s/itr 0.00h/epoch hand_ssa_loss: 644.8875\n",
      "INFO:train_logs.txt:Epoch 0/60 itr 0/170: lr: 0.001000 speed: 0.00(0.00s r0.00)s/itr 0.00h/epoch hand_ssa_loss: 644.8875\n"
     ]
    },
    {
     "name": "stdout",
     "output_type": "stream",
     "text": [
      "only hand\n"
     ]
    },
    {
     "name": "stderr",
     "output_type": "stream",
     "text": [
      "\u001b[92m01-22 17:34:03\u001b[0m Epoch 0/60 itr 1/170: lr: 0.001000 speed: 0.00(0.00s r0.00)s/itr 0.00h/epoch hand_ssa_loss: 111.0304\n",
      "INFO:train_logs.txt:Epoch 0/60 itr 1/170: lr: 0.001000 speed: 0.00(0.00s r0.00)s/itr 0.00h/epoch hand_ssa_loss: 111.0304\n"
     ]
    },
    {
     "name": "stdout",
     "output_type": "stream",
     "text": [
      "only hand\n"
     ]
    },
    {
     "name": "stderr",
     "output_type": "stream",
     "text": [
      "\u001b[92m01-22 17:34:05\u001b[0m Epoch 0/60 itr 2/170: lr: 0.001000 speed: 0.00(0.00s r0.00)s/itr 0.00h/epoch hand_ssa_loss: 184.6192\n",
      "INFO:train_logs.txt:Epoch 0/60 itr 2/170: lr: 0.001000 speed: 0.00(0.00s r0.00)s/itr 0.00h/epoch hand_ssa_loss: 184.6192\n"
     ]
    },
    {
     "name": "stdout",
     "output_type": "stream",
     "text": [
      "only hand\n"
     ]
    },
    {
     "name": "stderr",
     "output_type": "stream",
     "text": [
      "\u001b[92m01-22 17:34:06\u001b[0m Epoch 0/60 itr 3/170: lr: 0.001000 speed: 0.00(0.00s r0.00)s/itr 0.00h/epoch hand_ssa_loss: 238.8623\n",
      "INFO:train_logs.txt:Epoch 0/60 itr 3/170: lr: 0.001000 speed: 0.00(0.00s r0.00)s/itr 0.00h/epoch hand_ssa_loss: 238.8623\n"
     ]
    },
    {
     "name": "stdout",
     "output_type": "stream",
     "text": [
      "only hand\n"
     ]
    },
    {
     "name": "stderr",
     "output_type": "stream",
     "text": [
      "\u001b[92m01-22 17:34:07\u001b[0m Epoch 0/60 itr 4/170: lr: 0.001000 speed: 0.00(0.00s r0.00)s/itr 0.00h/epoch hand_ssa_loss: 187.2024\n",
      "INFO:train_logs.txt:Epoch 0/60 itr 4/170: lr: 0.001000 speed: 0.00(0.00s r0.00)s/itr 0.00h/epoch hand_ssa_loss: 187.2024\n"
     ]
    },
    {
     "name": "stdout",
     "output_type": "stream",
     "text": [
      "only hand\n"
     ]
    },
    {
     "name": "stderr",
     "output_type": "stream",
     "text": [
      "\u001b[92m01-22 17:34:09\u001b[0m Epoch 0/60 itr 5/170: lr: 0.001000 speed: 0.00(0.00s r0.00)s/itr 0.00h/epoch hand_ssa_loss: 144.8259\n",
      "INFO:train_logs.txt:Epoch 0/60 itr 5/170: lr: 0.001000 speed: 0.00(0.00s r0.00)s/itr 0.00h/epoch hand_ssa_loss: 144.8259\n"
     ]
    },
    {
     "name": "stdout",
     "output_type": "stream",
     "text": [
      "only hand\n"
     ]
    },
    {
     "name": "stderr",
     "output_type": "stream",
     "text": [
      "\u001b[92m01-22 17:34:10\u001b[0m Epoch 0/60 itr 6/170: lr: 0.001000 speed: 0.00(0.00s r0.00)s/itr 0.00h/epoch hand_ssa_loss: 130.2495\n",
      "INFO:train_logs.txt:Epoch 0/60 itr 6/170: lr: 0.001000 speed: 0.00(0.00s r0.00)s/itr 0.00h/epoch hand_ssa_loss: 130.2495\n"
     ]
    },
    {
     "name": "stdout",
     "output_type": "stream",
     "text": [
      "only hand\n"
     ]
    },
    {
     "name": "stderr",
     "output_type": "stream",
     "text": [
      "\u001b[92m01-22 17:34:12\u001b[0m Epoch 0/60 itr 7/170: lr: 0.001000 speed: 0.00(0.00s r0.00)s/itr 0.00h/epoch hand_ssa_loss: 119.2703\n",
      "INFO:train_logs.txt:Epoch 0/60 itr 7/170: lr: 0.001000 speed: 0.00(0.00s r0.00)s/itr 0.00h/epoch hand_ssa_loss: 119.2703\n"
     ]
    },
    {
     "name": "stdout",
     "output_type": "stream",
     "text": [
      "only hand\n"
     ]
    },
    {
     "name": "stderr",
     "output_type": "stream",
     "text": [
      "\u001b[92m01-22 17:34:13\u001b[0m Epoch 0/60 itr 8/170: lr: 0.001000 speed: 0.00(0.00s r0.00)s/itr 0.00h/epoch hand_ssa_loss: 120.9340\n",
      "INFO:train_logs.txt:Epoch 0/60 itr 8/170: lr: 0.001000 speed: 0.00(0.00s r0.00)s/itr 0.00h/epoch hand_ssa_loss: 120.9340\n"
     ]
    },
    {
     "name": "stdout",
     "output_type": "stream",
     "text": [
      "only hand\n"
     ]
    },
    {
     "name": "stderr",
     "output_type": "stream",
     "text": [
      "\u001b[92m01-22 17:34:14\u001b[0m Epoch 0/60 itr 9/170: lr: 0.001000 speed: 0.00(0.00s r0.00)s/itr 0.00h/epoch hand_ssa_loss: 122.7253\n",
      "INFO:train_logs.txt:Epoch 0/60 itr 9/170: lr: 0.001000 speed: 0.00(0.00s r0.00)s/itr 0.00h/epoch hand_ssa_loss: 122.7253\n"
     ]
    },
    {
     "name": "stdout",
     "output_type": "stream",
     "text": [
      "only hand\n"
     ]
    },
    {
     "name": "stderr",
     "output_type": "stream",
     "text": [
      "\u001b[92m01-22 17:34:16\u001b[0m Epoch 0/60 itr 10/170: lr: 0.001000 speed: 0.00(0.28s r1.07)s/itr 0.00h/epoch hand_ssa_loss: 103.2287\n",
      "INFO:train_logs.txt:Epoch 0/60 itr 10/170: lr: 0.001000 speed: 0.00(0.28s r1.07)s/itr 0.00h/epoch hand_ssa_loss: 103.2287\n"
     ]
    },
    {
     "name": "stdout",
     "output_type": "stream",
     "text": [
      "only hand\n"
     ]
    },
    {
     "name": "stderr",
     "output_type": "stream",
     "text": [
      "\u001b[92m01-22 17:34:17\u001b[0m Epoch 0/60 itr 11/170: lr: 0.001000 speed: 1.59(0.36s r1.05)s/itr 0.07h/epoch hand_ssa_loss: 106.4216\n",
      "INFO:train_logs.txt:Epoch 0/60 itr 11/170: lr: 0.001000 speed: 1.59(0.36s r1.05)s/itr 0.07h/epoch hand_ssa_loss: 106.4216\n"
     ]
    },
    {
     "name": "stdout",
     "output_type": "stream",
     "text": [
      "only hand\n"
     ]
    },
    {
     "name": "stderr",
     "output_type": "stream",
     "text": [
      "\u001b[92m01-22 17:34:19\u001b[0m Epoch 0/60 itr 12/170: lr: 0.001000 speed: 1.65(0.42s r0.95)s/itr 0.08h/epoch hand_ssa_loss: 85.5205\n",
      "INFO:train_logs.txt:Epoch 0/60 itr 12/170: lr: 0.001000 speed: 1.65(0.42s r0.95)s/itr 0.08h/epoch hand_ssa_loss: 85.5205\n"
     ]
    },
    {
     "name": "stdout",
     "output_type": "stream",
     "text": [
      "only hand\n"
     ]
    },
    {
     "name": "stderr",
     "output_type": "stream",
     "text": [
      "\u001b[92m01-22 17:34:20\u001b[0m Epoch 0/60 itr 13/170: lr: 0.001000 speed: 1.55(0.49s r0.95)s/itr 0.07h/epoch hand_ssa_loss: 89.4472\n",
      "INFO:train_logs.txt:Epoch 0/60 itr 13/170: lr: 0.001000 speed: 1.55(0.49s r0.95)s/itr 0.07h/epoch hand_ssa_loss: 89.4472\n"
     ]
    },
    {
     "name": "stdout",
     "output_type": "stream",
     "text": [
      "only hand\n"
     ]
    },
    {
     "name": "stderr",
     "output_type": "stream",
     "text": [
      "\u001b[92m01-22 17:34:22\u001b[0m Epoch 0/60 itr 14/170: lr: 0.001000 speed: 1.57(0.49s r0.92)s/itr 0.07h/epoch hand_ssa_loss: 87.5766\n",
      "INFO:train_logs.txt:Epoch 0/60 itr 14/170: lr: 0.001000 speed: 1.57(0.49s r0.92)s/itr 0.07h/epoch hand_ssa_loss: 87.5766\n"
     ]
    },
    {
     "name": "stdout",
     "output_type": "stream",
     "text": [
      "only hand\n"
     ]
    },
    {
     "name": "stderr",
     "output_type": "stream",
     "text": [
      "\u001b[92m01-22 17:34:23\u001b[0m Epoch 0/60 itr 15/170: lr: 0.001000 speed: 1.53(0.47s r0.90)s/itr 0.07h/epoch hand_ssa_loss: 80.8937\n",
      "INFO:train_logs.txt:Epoch 0/60 itr 15/170: lr: 0.001000 speed: 1.53(0.47s r0.90)s/itr 0.07h/epoch hand_ssa_loss: 80.8937\n"
     ]
    },
    {
     "name": "stdout",
     "output_type": "stream",
     "text": [
      "only hand\n"
     ]
    },
    {
     "name": "stderr",
     "output_type": "stream",
     "text": [
      "\u001b[92m01-22 17:34:25\u001b[0m Epoch 0/60 itr 16/170: lr: 0.001000 speed: 1.49(0.47s r0.90)s/itr 0.07h/epoch hand_ssa_loss: 65.2379\n",
      "INFO:train_logs.txt:Epoch 0/60 itr 16/170: lr: 0.001000 speed: 1.49(0.47s r0.90)s/itr 0.07h/epoch hand_ssa_loss: 65.2379\n"
     ]
    },
    {
     "name": "stdout",
     "output_type": "stream",
     "text": [
      "only hand\n"
     ]
    },
    {
     "name": "stderr",
     "output_type": "stream",
     "text": [
      "\u001b[92m01-22 17:34:26\u001b[0m Epoch 0/60 itr 17/170: lr: 0.001000 speed: 1.48(0.46s r0.90)s/itr 0.07h/epoch hand_ssa_loss: 69.0192\n",
      "INFO:train_logs.txt:Epoch 0/60 itr 17/170: lr: 0.001000 speed: 1.48(0.46s r0.90)s/itr 0.07h/epoch hand_ssa_loss: 69.0192\n"
     ]
    },
    {
     "name": "stdout",
     "output_type": "stream",
     "text": [
      "only hand\n"
     ]
    },
    {
     "name": "stderr",
     "output_type": "stream",
     "text": [
      "\u001b[92m01-22 17:34:27\u001b[0m Epoch 0/60 itr 18/170: lr: 0.001000 speed: 1.47(0.45s r0.90)s/itr 0.07h/epoch hand_ssa_loss: 65.9783\n",
      "INFO:train_logs.txt:Epoch 0/60 itr 18/170: lr: 0.001000 speed: 1.47(0.45s r0.90)s/itr 0.07h/epoch hand_ssa_loss: 65.9783\n"
     ]
    },
    {
     "name": "stdout",
     "output_type": "stream",
     "text": [
      "only hand\n"
     ]
    },
    {
     "name": "stderr",
     "output_type": "stream",
     "text": [
      "\u001b[92m01-22 17:34:29\u001b[0m Epoch 0/60 itr 19/170: lr: 0.001000 speed: 1.44(0.45s r0.89)s/itr 0.07h/epoch hand_ssa_loss: 53.8481\n",
      "INFO:train_logs.txt:Epoch 0/60 itr 19/170: lr: 0.001000 speed: 1.44(0.45s r0.89)s/itr 0.07h/epoch hand_ssa_loss: 53.8481\n"
     ]
    },
    {
     "name": "stdout",
     "output_type": "stream",
     "text": [
      "only hand\n"
     ]
    },
    {
     "name": "stderr",
     "output_type": "stream",
     "text": [
      "\u001b[92m01-22 17:34:30\u001b[0m Epoch 0/60 itr 20/170: lr: 0.001000 speed: 1.43(0.47s r0.92)s/itr 0.07h/epoch hand_ssa_loss: 54.8681\n",
      "INFO:train_logs.txt:Epoch 0/60 itr 20/170: lr: 0.001000 speed: 1.43(0.47s r0.92)s/itr 0.07h/epoch hand_ssa_loss: 54.8681\n"
     ]
    },
    {
     "name": "stdout",
     "output_type": "stream",
     "text": [
      "only hand\n"
     ]
    },
    {
     "name": "stderr",
     "output_type": "stream",
     "text": [
      "\u001b[92m01-22 17:34:31\u001b[0m Epoch 0/60 itr 21/170: lr: 0.001000 speed: 1.47(0.46s r0.90)s/itr 0.07h/epoch hand_ssa_loss: 52.6904\n",
      "INFO:train_logs.txt:Epoch 0/60 itr 21/170: lr: 0.001000 speed: 1.47(0.46s r0.90)s/itr 0.07h/epoch hand_ssa_loss: 52.6904\n"
     ]
    },
    {
     "name": "stdout",
     "output_type": "stream",
     "text": [
      "only hand\n"
     ]
    },
    {
     "name": "stderr",
     "output_type": "stream",
     "text": [
      "\u001b[92m01-22 17:34:34\u001b[0m Epoch 0/60 itr 22/170: lr: 0.001000 speed: 1.44(0.52s r0.90)s/itr 0.07h/epoch hand_ssa_loss: 47.3648\n",
      "INFO:train_logs.txt:Epoch 0/60 itr 22/170: lr: 0.001000 speed: 1.44(0.52s r0.90)s/itr 0.07h/epoch hand_ssa_loss: 47.3648\n"
     ]
    },
    {
     "name": "stdout",
     "output_type": "stream",
     "text": [
      "only hand\n"
     ]
    },
    {
     "name": "stderr",
     "output_type": "stream",
     "text": [
      "\u001b[92m01-22 17:34:35\u001b[0m Epoch 0/60 itr 23/170: lr: 0.001000 speed: 1.51(0.51s r0.86)s/itr 0.07h/epoch hand_ssa_loss: 50.4890\n",
      "INFO:train_logs.txt:Epoch 0/60 itr 23/170: lr: 0.001000 speed: 1.51(0.51s r0.86)s/itr 0.07h/epoch hand_ssa_loss: 50.4890\n"
     ]
    },
    {
     "name": "stdout",
     "output_type": "stream",
     "text": [
      "only hand\n"
     ]
    },
    {
     "name": "stderr",
     "output_type": "stream",
     "text": [
      "\u001b[92m01-22 17:34:36\u001b[0m Epoch 0/60 itr 24/170: lr: 0.001000 speed: 1.46(0.51s r0.86)s/itr 0.07h/epoch hand_ssa_loss: 60.5081\n",
      "INFO:train_logs.txt:Epoch 0/60 itr 24/170: lr: 0.001000 speed: 1.46(0.51s r0.86)s/itr 0.07h/epoch hand_ssa_loss: 60.5081\n"
     ]
    },
    {
     "name": "stdout",
     "output_type": "stream",
     "text": [
      "only hand\n"
     ]
    },
    {
     "name": "stderr",
     "output_type": "stream",
     "text": [
      "\u001b[92m01-22 17:34:37\u001b[0m Epoch 0/60 itr 25/170: lr: 0.001000 speed: 1.45(0.51s r0.86)s/itr 0.07h/epoch hand_ssa_loss: 45.8267\n",
      "INFO:train_logs.txt:Epoch 0/60 itr 25/170: lr: 0.001000 speed: 1.45(0.51s r0.86)s/itr 0.07h/epoch hand_ssa_loss: 45.8267\n"
     ]
    },
    {
     "name": "stdout",
     "output_type": "stream",
     "text": [
      "only hand\n"
     ]
    },
    {
     "name": "stderr",
     "output_type": "stream",
     "text": [
      "\u001b[92m01-22 17:34:39\u001b[0m Epoch 0/60 itr 26/170: lr: 0.001000 speed: 1.44(0.50s r0.86)s/itr 0.07h/epoch hand_ssa_loss: 46.6242\n",
      "INFO:train_logs.txt:Epoch 0/60 itr 26/170: lr: 0.001000 speed: 1.44(0.50s r0.86)s/itr 0.07h/epoch hand_ssa_loss: 46.6242\n"
     ]
    },
    {
     "name": "stdout",
     "output_type": "stream",
     "text": [
      "only hand\n"
     ]
    },
    {
     "name": "stderr",
     "output_type": "stream",
     "text": [
      "\u001b[92m01-22 17:34:40\u001b[0m Epoch 0/60 itr 27/170: lr: 0.001000 speed: 1.44(0.50s r0.86)s/itr 0.07h/epoch hand_ssa_loss: 47.0546\n",
      "INFO:train_logs.txt:Epoch 0/60 itr 27/170: lr: 0.001000 speed: 1.44(0.50s r0.86)s/itr 0.07h/epoch hand_ssa_loss: 47.0546\n"
     ]
    },
    {
     "name": "stdout",
     "output_type": "stream",
     "text": [
      "only hand\n"
     ]
    },
    {
     "name": "stderr",
     "output_type": "stream",
     "text": [
      "\u001b[92m01-22 17:34:41\u001b[0m Epoch 0/60 itr 28/170: lr: 0.001000 speed: 1.43(0.49s r0.86)s/itr 0.07h/epoch hand_ssa_loss: 41.1976\n",
      "INFO:train_logs.txt:Epoch 0/60 itr 28/170: lr: 0.001000 speed: 1.43(0.49s r0.86)s/itr 0.07h/epoch hand_ssa_loss: 41.1976\n"
     ]
    },
    {
     "name": "stdout",
     "output_type": "stream",
     "text": [
      "only hand\n"
     ]
    },
    {
     "name": "stderr",
     "output_type": "stream",
     "text": [
      "\u001b[92m01-22 17:34:43\u001b[0m Epoch 0/60 itr 29/170: lr: 0.001000 speed: 1.43(0.49s r0.86)s/itr 0.07h/epoch hand_ssa_loss: 34.1057\n",
      "INFO:train_logs.txt:Epoch 0/60 itr 29/170: lr: 0.001000 speed: 1.43(0.49s r0.86)s/itr 0.07h/epoch hand_ssa_loss: 34.1057\n"
     ]
    },
    {
     "name": "stdout",
     "output_type": "stream",
     "text": [
      "only hand\n"
     ]
    },
    {
     "name": "stderr",
     "output_type": "stream",
     "text": [
      "\u001b[92m01-22 17:34:44\u001b[0m Epoch 0/60 itr 30/170: lr: 0.001000 speed: 1.43(0.48s r0.86)s/itr 0.07h/epoch hand_ssa_loss: 38.9391\n",
      "INFO:train_logs.txt:Epoch 0/60 itr 30/170: lr: 0.001000 speed: 1.43(0.48s r0.86)s/itr 0.07h/epoch hand_ssa_loss: 38.9391\n"
     ]
    },
    {
     "name": "stdout",
     "output_type": "stream",
     "text": [
      "only hand\n"
     ]
    },
    {
     "name": "stderr",
     "output_type": "stream",
     "text": [
      "\u001b[92m01-22 17:34:45\u001b[0m Epoch 0/60 itr 31/170: lr: 0.001000 speed: 1.42(0.46s r0.86)s/itr 0.07h/epoch hand_ssa_loss: 32.2423\n",
      "INFO:train_logs.txt:Epoch 0/60 itr 31/170: lr: 0.001000 speed: 1.42(0.46s r0.86)s/itr 0.07h/epoch hand_ssa_loss: 32.2423\n"
     ]
    },
    {
     "name": "stdout",
     "output_type": "stream",
     "text": [
      "only hand\n"
     ]
    },
    {
     "name": "stderr",
     "output_type": "stream",
     "text": [
      "\u001b[92m01-22 17:34:47\u001b[0m Epoch 0/60 itr 32/170: lr: 0.001000 speed: 1.41(0.46s r0.86)s/itr 0.07h/epoch hand_ssa_loss: 30.9953\n",
      "INFO:train_logs.txt:Epoch 0/60 itr 32/170: lr: 0.001000 speed: 1.41(0.46s r0.86)s/itr 0.07h/epoch hand_ssa_loss: 30.9953\n"
     ]
    },
    {
     "name": "stdout",
     "output_type": "stream",
     "text": [
      "only hand\n"
     ]
    },
    {
     "name": "stderr",
     "output_type": "stream",
     "text": [
      "\u001b[92m01-22 17:34:48\u001b[0m Epoch 0/60 itr 33/170: lr: 0.001000 speed: 1.41(0.46s r0.86)s/itr 0.07h/epoch hand_ssa_loss: 32.1169\n",
      "INFO:train_logs.txt:Epoch 0/60 itr 33/170: lr: 0.001000 speed: 1.41(0.46s r0.86)s/itr 0.07h/epoch hand_ssa_loss: 32.1169\n"
     ]
    },
    {
     "name": "stdout",
     "output_type": "stream",
     "text": [
      "only hand\n"
     ]
    },
    {
     "name": "stderr",
     "output_type": "stream",
     "text": [
      "\u001b[92m01-22 17:34:49\u001b[0m Epoch 0/60 itr 34/170: lr: 0.001000 speed: 1.41(0.46s r0.86)s/itr 0.07h/epoch hand_ssa_loss: 31.8994\n",
      "INFO:train_logs.txt:Epoch 0/60 itr 34/170: lr: 0.001000 speed: 1.41(0.46s r0.86)s/itr 0.07h/epoch hand_ssa_loss: 31.8994\n"
     ]
    },
    {
     "name": "stdout",
     "output_type": "stream",
     "text": [
      "only hand\n"
     ]
    },
    {
     "name": "stderr",
     "output_type": "stream",
     "text": [
      "\u001b[92m01-22 17:34:51\u001b[0m Epoch 0/60 itr 35/170: lr: 0.001000 speed: 1.40(0.46s r0.86)s/itr 0.07h/epoch hand_ssa_loss: 37.0576\n",
      "INFO:train_logs.txt:Epoch 0/60 itr 35/170: lr: 0.001000 speed: 1.40(0.46s r0.86)s/itr 0.07h/epoch hand_ssa_loss: 37.0576\n"
     ]
    },
    {
     "name": "stdout",
     "output_type": "stream",
     "text": [
      "only hand\n"
     ]
    },
    {
     "name": "stderr",
     "output_type": "stream",
     "text": [
      "\u001b[92m01-22 17:34:52\u001b[0m Epoch 0/60 itr 36/170: lr: 0.001000 speed: 1.40(0.46s r0.86)s/itr 0.07h/epoch hand_ssa_loss: 26.1543\n",
      "INFO:train_logs.txt:Epoch 0/60 itr 36/170: lr: 0.001000 speed: 1.40(0.46s r0.86)s/itr 0.07h/epoch hand_ssa_loss: 26.1543\n"
     ]
    },
    {
     "name": "stdout",
     "output_type": "stream",
     "text": [
      "only hand\n"
     ]
    },
    {
     "name": "stderr",
     "output_type": "stream",
     "text": [
      "\u001b[92m01-22 17:34:53\u001b[0m Epoch 0/60 itr 37/170: lr: 0.001000 speed: 1.40(0.46s r0.86)s/itr 0.07h/epoch hand_ssa_loss: 30.0472\n",
      "INFO:train_logs.txt:Epoch 0/60 itr 37/170: lr: 0.001000 speed: 1.40(0.46s r0.86)s/itr 0.07h/epoch hand_ssa_loss: 30.0472\n"
     ]
    },
    {
     "name": "stdout",
     "output_type": "stream",
     "text": [
      "only hand\n"
     ]
    },
    {
     "name": "stderr",
     "output_type": "stream",
     "text": [
      "\u001b[92m01-22 17:34:55\u001b[0m Epoch 0/60 itr 38/170: lr: 0.001000 speed: 1.39(0.45s r0.86)s/itr 0.07h/epoch hand_ssa_loss: 46.0963\n",
      "INFO:train_logs.txt:Epoch 0/60 itr 38/170: lr: 0.001000 speed: 1.39(0.45s r0.86)s/itr 0.07h/epoch hand_ssa_loss: 46.0963\n"
     ]
    },
    {
     "name": "stdout",
     "output_type": "stream",
     "text": [
      "only hand\n"
     ]
    },
    {
     "name": "stderr",
     "output_type": "stream",
     "text": [
      "\u001b[92m01-22 17:34:56\u001b[0m Epoch 0/60 itr 39/170: lr: 0.001000 speed: 1.39(0.45s r0.86)s/itr 0.07h/epoch hand_ssa_loss: 67.1056\n",
      "INFO:train_logs.txt:Epoch 0/60 itr 39/170: lr: 0.001000 speed: 1.39(0.45s r0.86)s/itr 0.07h/epoch hand_ssa_loss: 67.1056\n"
     ]
    },
    {
     "name": "stdout",
     "output_type": "stream",
     "text": [
      "only hand\n"
     ]
    },
    {
     "name": "stderr",
     "output_type": "stream",
     "text": [
      "\u001b[92m01-22 17:34:57\u001b[0m Epoch 0/60 itr 40/170: lr: 0.001000 speed: 1.39(0.44s r0.86)s/itr 0.07h/epoch hand_ssa_loss: 28.4568\n",
      "INFO:train_logs.txt:Epoch 0/60 itr 40/170: lr: 0.001000 speed: 1.39(0.44s r0.86)s/itr 0.07h/epoch hand_ssa_loss: 28.4568\n"
     ]
    },
    {
     "name": "stdout",
     "output_type": "stream",
     "text": [
      "only hand\n"
     ]
    },
    {
     "name": "stderr",
     "output_type": "stream",
     "text": [
      "\u001b[92m01-22 17:34:58\u001b[0m Epoch 0/60 itr 41/170: lr: 0.001000 speed: 1.39(0.44s r0.86)s/itr 0.07h/epoch hand_ssa_loss: 33.9366\n",
      "INFO:train_logs.txt:Epoch 0/60 itr 41/170: lr: 0.001000 speed: 1.39(0.44s r0.86)s/itr 0.07h/epoch hand_ssa_loss: 33.9366\n"
     ]
    },
    {
     "name": "stdout",
     "output_type": "stream",
     "text": [
      "only hand\n"
     ]
    },
    {
     "name": "stderr",
     "output_type": "stream",
     "text": [
      "\u001b[92m01-22 17:35:00\u001b[0m Epoch 0/60 itr 42/170: lr: 0.001000 speed: 1.38(0.44s r0.86)s/itr 0.07h/epoch hand_ssa_loss: 31.5158\n",
      "INFO:train_logs.txt:Epoch 0/60 itr 42/170: lr: 0.001000 speed: 1.38(0.44s r0.86)s/itr 0.07h/epoch hand_ssa_loss: 31.5158\n"
     ]
    },
    {
     "name": "stdout",
     "output_type": "stream",
     "text": [
      "only hand\n"
     ]
    },
    {
     "name": "stderr",
     "output_type": "stream",
     "text": [
      "\u001b[92m01-22 17:35:01\u001b[0m Epoch 0/60 itr 43/170: lr: 0.001000 speed: 1.38(0.44s r0.86)s/itr 0.07h/epoch hand_ssa_loss: 50.7389\n",
      "INFO:train_logs.txt:Epoch 0/60 itr 43/170: lr: 0.001000 speed: 1.38(0.44s r0.86)s/itr 0.07h/epoch hand_ssa_loss: 50.7389\n"
     ]
    },
    {
     "name": "stdout",
     "output_type": "stream",
     "text": [
      "only hand\n"
     ]
    },
    {
     "name": "stderr",
     "output_type": "stream",
     "text": [
      "\u001b[92m01-22 17:35:03\u001b[0m Epoch 0/60 itr 44/170: lr: 0.001000 speed: 1.38(0.44s r0.86)s/itr 0.07h/epoch hand_ssa_loss: 28.9709\n",
      "INFO:train_logs.txt:Epoch 0/60 itr 44/170: lr: 0.001000 speed: 1.38(0.44s r0.86)s/itr 0.07h/epoch hand_ssa_loss: 28.9709\n"
     ]
    },
    {
     "name": "stdout",
     "output_type": "stream",
     "text": [
      "only hand\n"
     ]
    },
    {
     "name": "stderr",
     "output_type": "stream",
     "text": [
      "\u001b[92m01-22 17:35:04\u001b[0m Epoch 0/60 itr 45/170: lr: 0.001000 speed: 1.38(0.44s r0.86)s/itr 0.07h/epoch hand_ssa_loss: 29.2739\n",
      "INFO:train_logs.txt:Epoch 0/60 itr 45/170: lr: 0.001000 speed: 1.38(0.44s r0.86)s/itr 0.07h/epoch hand_ssa_loss: 29.2739\n"
     ]
    },
    {
     "name": "stdout",
     "output_type": "stream",
     "text": [
      "only hand\n"
     ]
    },
    {
     "name": "stderr",
     "output_type": "stream",
     "text": [
      "\u001b[92m01-22 17:35:05\u001b[0m Epoch 0/60 itr 46/170: lr: 0.001000 speed: 1.38(0.44s r0.86)s/itr 0.07h/epoch hand_ssa_loss: 21.6449\n",
      "INFO:train_logs.txt:Epoch 0/60 itr 46/170: lr: 0.001000 speed: 1.38(0.44s r0.86)s/itr 0.07h/epoch hand_ssa_loss: 21.6449\n"
     ]
    },
    {
     "name": "stdout",
     "output_type": "stream",
     "text": [
      "only hand\n"
     ]
    },
    {
     "name": "stderr",
     "output_type": "stream",
     "text": [
      "\u001b[92m01-22 17:35:07\u001b[0m Epoch 0/60 itr 47/170: lr: 0.001000 speed: 1.38(0.44s r0.87)s/itr 0.07h/epoch hand_ssa_loss: 21.0859\n",
      "INFO:train_logs.txt:Epoch 0/60 itr 47/170: lr: 0.001000 speed: 1.38(0.44s r0.87)s/itr 0.07h/epoch hand_ssa_loss: 21.0859\n"
     ]
    },
    {
     "name": "stdout",
     "output_type": "stream",
     "text": [
      "only hand\n"
     ]
    },
    {
     "name": "stderr",
     "output_type": "stream",
     "text": [
      "\u001b[92m01-22 17:35:08\u001b[0m Epoch 0/60 itr 48/170: lr: 0.001000 speed: 1.38(0.44s r0.87)s/itr 0.07h/epoch hand_ssa_loss: 35.0268\n",
      "INFO:train_logs.txt:Epoch 0/60 itr 48/170: lr: 0.001000 speed: 1.38(0.44s r0.87)s/itr 0.07h/epoch hand_ssa_loss: 35.0268\n"
     ]
    },
    {
     "name": "stdout",
     "output_type": "stream",
     "text": [
      "only hand\n"
     ]
    },
    {
     "name": "stderr",
     "output_type": "stream",
     "text": [
      "\u001b[92m01-22 17:35:10\u001b[0m Epoch 0/60 itr 49/170: lr: 0.001000 speed: 1.38(0.44s r0.87)s/itr 0.07h/epoch hand_ssa_loss: 71.9790\n",
      "INFO:train_logs.txt:Epoch 0/60 itr 49/170: lr: 0.001000 speed: 1.38(0.44s r0.87)s/itr 0.07h/epoch hand_ssa_loss: 71.9790\n"
     ]
    },
    {
     "name": "stdout",
     "output_type": "stream",
     "text": [
      "only hand\n"
     ]
    },
    {
     "name": "stderr",
     "output_type": "stream",
     "text": [
      "\u001b[92m01-22 17:35:11\u001b[0m Epoch 0/60 itr 50/170: lr: 0.001000 speed: 1.38(0.45s r0.87)s/itr 0.07h/epoch hand_ssa_loss: 20.1743\n",
      "INFO:train_logs.txt:Epoch 0/60 itr 50/170: lr: 0.001000 speed: 1.38(0.45s r0.87)s/itr 0.07h/epoch hand_ssa_loss: 20.1743\n"
     ]
    },
    {
     "name": "stdout",
     "output_type": "stream",
     "text": [
      "only hand\n"
     ]
    },
    {
     "name": "stderr",
     "output_type": "stream",
     "text": [
      "\u001b[92m01-22 17:35:12\u001b[0m Epoch 0/60 itr 51/170: lr: 0.001000 speed: 1.38(0.45s r0.87)s/itr 0.07h/epoch hand_ssa_loss: 27.1227\n",
      "INFO:train_logs.txt:Epoch 0/60 itr 51/170: lr: 0.001000 speed: 1.38(0.45s r0.87)s/itr 0.07h/epoch hand_ssa_loss: 27.1227\n"
     ]
    },
    {
     "name": "stdout",
     "output_type": "stream",
     "text": [
      "only hand\n"
     ]
    },
    {
     "name": "stderr",
     "output_type": "stream",
     "text": [
      "\u001b[92m01-22 17:35:14\u001b[0m Epoch 0/60 itr 52/170: lr: 0.001000 speed: 1.38(0.45s r0.87)s/itr 0.07h/epoch hand_ssa_loss: 37.0995\n",
      "INFO:train_logs.txt:Epoch 0/60 itr 52/170: lr: 0.001000 speed: 1.38(0.45s r0.87)s/itr 0.07h/epoch hand_ssa_loss: 37.0995\n"
     ]
    },
    {
     "name": "stdout",
     "output_type": "stream",
     "text": [
      "only hand\n"
     ]
    },
    {
     "name": "stderr",
     "output_type": "stream",
     "text": [
      "\u001b[92m01-22 17:35:15\u001b[0m Epoch 0/60 itr 53/170: lr: 0.001000 speed: 1.38(0.45s r0.87)s/itr 0.07h/epoch hand_ssa_loss: 39.9181\n",
      "INFO:train_logs.txt:Epoch 0/60 itr 53/170: lr: 0.001000 speed: 1.38(0.45s r0.87)s/itr 0.07h/epoch hand_ssa_loss: 39.9181\n"
     ]
    },
    {
     "name": "stdout",
     "output_type": "stream",
     "text": [
      "only hand\n"
     ]
    },
    {
     "name": "stderr",
     "output_type": "stream",
     "text": [
      "\u001b[92m01-22 17:35:16\u001b[0m Epoch 0/60 itr 54/170: lr: 0.001000 speed: 1.38(0.45s r0.87)s/itr 0.07h/epoch hand_ssa_loss: 25.7991\n",
      "INFO:train_logs.txt:Epoch 0/60 itr 54/170: lr: 0.001000 speed: 1.38(0.45s r0.87)s/itr 0.07h/epoch hand_ssa_loss: 25.7991\n"
     ]
    },
    {
     "name": "stdout",
     "output_type": "stream",
     "text": [
      "only hand\n"
     ]
    },
    {
     "name": "stderr",
     "output_type": "stream",
     "text": [
      "\u001b[92m01-22 17:35:18\u001b[0m Epoch 0/60 itr 55/170: lr: 0.001000 speed: 1.38(0.45s r0.87)s/itr 0.07h/epoch hand_ssa_loss: 25.2400\n",
      "INFO:train_logs.txt:Epoch 0/60 itr 55/170: lr: 0.001000 speed: 1.38(0.45s r0.87)s/itr 0.07h/epoch hand_ssa_loss: 25.2400\n"
     ]
    },
    {
     "name": "stdout",
     "output_type": "stream",
     "text": [
      "only hand\n"
     ]
    },
    {
     "name": "stderr",
     "output_type": "stream",
     "text": [
      "\u001b[92m01-22 17:35:19\u001b[0m Epoch 0/60 itr 56/170: lr: 0.001000 speed: 1.39(0.44s r0.87)s/itr 0.07h/epoch hand_ssa_loss: 21.5159\n",
      "INFO:train_logs.txt:Epoch 0/60 itr 56/170: lr: 0.001000 speed: 1.39(0.44s r0.87)s/itr 0.07h/epoch hand_ssa_loss: 21.5159\n"
     ]
    },
    {
     "name": "stdout",
     "output_type": "stream",
     "text": [
      "only hand\n"
     ]
    },
    {
     "name": "stderr",
     "output_type": "stream",
     "text": [
      "\u001b[92m01-22 17:35:21\u001b[0m Epoch 0/60 itr 57/170: lr: 0.001000 speed: 1.39(0.45s r0.87)s/itr 0.07h/epoch hand_ssa_loss: 21.2326\n",
      "INFO:train_logs.txt:Epoch 0/60 itr 57/170: lr: 0.001000 speed: 1.39(0.45s r0.87)s/itr 0.07h/epoch hand_ssa_loss: 21.2326\n"
     ]
    },
    {
     "name": "stdout",
     "output_type": "stream",
     "text": [
      "only hand\n"
     ]
    },
    {
     "name": "stderr",
     "output_type": "stream",
     "text": [
      "\u001b[92m01-22 17:35:23\u001b[0m Epoch 0/60 itr 58/170: lr: 0.001000 speed: 1.39(0.46s r0.87)s/itr 0.07h/epoch hand_ssa_loss: 48.1823\n",
      "INFO:train_logs.txt:Epoch 0/60 itr 58/170: lr: 0.001000 speed: 1.39(0.46s r0.87)s/itr 0.07h/epoch hand_ssa_loss: 48.1823\n"
     ]
    },
    {
     "name": "stdout",
     "output_type": "stream",
     "text": [
      "only hand\n"
     ]
    },
    {
     "name": "stderr",
     "output_type": "stream",
     "text": [
      "\u001b[92m01-22 17:35:24\u001b[0m Epoch 0/60 itr 59/170: lr: 0.001000 speed: 1.39(0.45s r0.86)s/itr 0.07h/epoch hand_ssa_loss: 25.3040\n",
      "INFO:train_logs.txt:Epoch 0/60 itr 59/170: lr: 0.001000 speed: 1.39(0.45s r0.86)s/itr 0.07h/epoch hand_ssa_loss: 25.3040\n"
     ]
    },
    {
     "name": "stdout",
     "output_type": "stream",
     "text": [
      "only hand\n"
     ]
    },
    {
     "name": "stderr",
     "output_type": "stream",
     "text": [
      "\u001b[92m01-22 17:35:25\u001b[0m Epoch 0/60 itr 60/170: lr: 0.001000 speed: 1.39(0.45s r0.87)s/itr 0.07h/epoch hand_ssa_loss: 23.4900\n",
      "INFO:train_logs.txt:Epoch 0/60 itr 60/170: lr: 0.001000 speed: 1.39(0.45s r0.87)s/itr 0.07h/epoch hand_ssa_loss: 23.4900\n"
     ]
    },
    {
     "name": "stdout",
     "output_type": "stream",
     "text": [
      "only hand\n"
     ]
    },
    {
     "name": "stderr",
     "output_type": "stream",
     "text": [
      "\u001b[92m01-22 17:35:26\u001b[0m Epoch 0/60 itr 61/170: lr: 0.001000 speed: 1.39(0.44s r0.87)s/itr 0.07h/epoch hand_ssa_loss: 20.0129\n",
      "INFO:train_logs.txt:Epoch 0/60 itr 61/170: lr: 0.001000 speed: 1.39(0.44s r0.87)s/itr 0.07h/epoch hand_ssa_loss: 20.0129\n"
     ]
    },
    {
     "name": "stdout",
     "output_type": "stream",
     "text": [
      "only hand\n"
     ]
    },
    {
     "name": "stderr",
     "output_type": "stream",
     "text": [
      "\u001b[92m01-22 17:35:28\u001b[0m Epoch 0/60 itr 62/170: lr: 0.001000 speed: 1.39(0.43s r0.87)s/itr 0.07h/epoch hand_ssa_loss: 21.1077\n",
      "INFO:train_logs.txt:Epoch 0/60 itr 62/170: lr: 0.001000 speed: 1.39(0.43s r0.87)s/itr 0.07h/epoch hand_ssa_loss: 21.1077\n"
     ]
    },
    {
     "name": "stdout",
     "output_type": "stream",
     "text": [
      "only hand\n"
     ]
    },
    {
     "name": "stderr",
     "output_type": "stream",
     "text": [
      "\u001b[92m01-22 17:35:29\u001b[0m Epoch 0/60 itr 63/170: lr: 0.001000 speed: 1.39(0.43s r0.87)s/itr 0.07h/epoch hand_ssa_loss: 21.3972\n",
      "INFO:train_logs.txt:Epoch 0/60 itr 63/170: lr: 0.001000 speed: 1.39(0.43s r0.87)s/itr 0.07h/epoch hand_ssa_loss: 21.3972\n"
     ]
    },
    {
     "name": "stdout",
     "output_type": "stream",
     "text": [
      "only hand\n"
     ]
    },
    {
     "name": "stderr",
     "output_type": "stream",
     "text": [
      "\u001b[92m01-22 17:35:31\u001b[0m Epoch 0/60 itr 64/170: lr: 0.001000 speed: 1.39(0.42s r0.87)s/itr 0.07h/epoch hand_ssa_loss: 19.4972\n",
      "INFO:train_logs.txt:Epoch 0/60 itr 64/170: lr: 0.001000 speed: 1.39(0.42s r0.87)s/itr 0.07h/epoch hand_ssa_loss: 19.4972\n"
     ]
    },
    {
     "name": "stdout",
     "output_type": "stream",
     "text": [
      "only hand\n"
     ]
    },
    {
     "name": "stderr",
     "output_type": "stream",
     "text": [
      "\u001b[92m01-22 17:35:33\u001b[0m Epoch 0/60 itr 65/170: lr: 0.001000 speed: 1.39(0.42s r0.88)s/itr 0.07h/epoch hand_ssa_loss: 23.5244\n",
      "INFO:train_logs.txt:Epoch 0/60 itr 65/170: lr: 0.001000 speed: 1.39(0.42s r0.88)s/itr 0.07h/epoch hand_ssa_loss: 23.5244\n"
     ]
    },
    {
     "name": "stdout",
     "output_type": "stream",
     "text": [
      "only hand\n"
     ]
    },
    {
     "name": "stderr",
     "output_type": "stream",
     "text": [
      "\u001b[92m01-22 17:35:34\u001b[0m Epoch 0/60 itr 66/170: lr: 0.001000 speed: 1.40(0.42s r0.87)s/itr 0.07h/epoch hand_ssa_loss: 18.9140\n",
      "INFO:train_logs.txt:Epoch 0/60 itr 66/170: lr: 0.001000 speed: 1.40(0.42s r0.87)s/itr 0.07h/epoch hand_ssa_loss: 18.9140\n"
     ]
    },
    {
     "name": "stdout",
     "output_type": "stream",
     "text": [
      "only hand\n"
     ]
    },
    {
     "name": "stderr",
     "output_type": "stream",
     "text": [
      "\u001b[92m01-22 17:35:37\u001b[0m Epoch 0/60 itr 67/170: lr: 0.001000 speed: 1.40(0.43s r0.87)s/itr 0.07h/epoch hand_ssa_loss: 20.5590\n",
      "INFO:train_logs.txt:Epoch 0/60 itr 67/170: lr: 0.001000 speed: 1.40(0.43s r0.87)s/itr 0.07h/epoch hand_ssa_loss: 20.5590\n"
     ]
    },
    {
     "name": "stdout",
     "output_type": "stream",
     "text": [
      "only hand\n"
     ]
    },
    {
     "name": "stderr",
     "output_type": "stream",
     "text": [
      "\u001b[92m01-22 17:35:38\u001b[0m Epoch 0/60 itr 68/170: lr: 0.001000 speed: 1.43(0.43s r0.86)s/itr 0.07h/epoch hand_ssa_loss: 22.1592\n",
      "INFO:train_logs.txt:Epoch 0/60 itr 68/170: lr: 0.001000 speed: 1.43(0.43s r0.86)s/itr 0.07h/epoch hand_ssa_loss: 22.1592\n"
     ]
    },
    {
     "name": "stdout",
     "output_type": "stream",
     "text": [
      "only hand\n"
     ]
    },
    {
     "name": "stderr",
     "output_type": "stream",
     "text": [
      "\u001b[92m01-22 17:35:39\u001b[0m Epoch 0/60 itr 69/170: lr: 0.001000 speed: 1.41(0.43s r0.86)s/itr 0.07h/epoch hand_ssa_loss: 32.6531\n",
      "INFO:train_logs.txt:Epoch 0/60 itr 69/170: lr: 0.001000 speed: 1.41(0.43s r0.86)s/itr 0.07h/epoch hand_ssa_loss: 32.6531\n"
     ]
    },
    {
     "name": "stdout",
     "output_type": "stream",
     "text": [
      "only hand\n"
     ]
    },
    {
     "name": "stderr",
     "output_type": "stream",
     "text": [
      "\u001b[92m01-22 17:35:41\u001b[0m Epoch 0/60 itr 70/170: lr: 0.001000 speed: 1.42(0.44s r0.87)s/itr 0.07h/epoch hand_ssa_loss: 20.7761\n",
      "INFO:train_logs.txt:Epoch 0/60 itr 70/170: lr: 0.001000 speed: 1.42(0.44s r0.87)s/itr 0.07h/epoch hand_ssa_loss: 20.7761\n"
     ]
    },
    {
     "name": "stdout",
     "output_type": "stream",
     "text": [
      "only hand\n"
     ]
    },
    {
     "name": "stderr",
     "output_type": "stream",
     "text": [
      "\u001b[92m01-22 17:35:43\u001b[0m Epoch 0/60 itr 71/170: lr: 0.001000 speed: 1.43(0.44s r0.88)s/itr 0.07h/epoch hand_ssa_loss: 20.0913\n",
      "INFO:train_logs.txt:Epoch 0/60 itr 71/170: lr: 0.001000 speed: 1.43(0.44s r0.88)s/itr 0.07h/epoch hand_ssa_loss: 20.0913\n"
     ]
    },
    {
     "name": "stdout",
     "output_type": "stream",
     "text": [
      "only hand\n"
     ]
    },
    {
     "name": "stderr",
     "output_type": "stream",
     "text": [
      "\u001b[92m01-22 17:35:45\u001b[0m Epoch 0/60 itr 72/170: lr: 0.001000 speed: 1.43(0.44s r0.88)s/itr 0.07h/epoch hand_ssa_loss: 18.9657\n",
      "INFO:train_logs.txt:Epoch 0/60 itr 72/170: lr: 0.001000 speed: 1.43(0.44s r0.88)s/itr 0.07h/epoch hand_ssa_loss: 18.9657\n"
     ]
    },
    {
     "name": "stdout",
     "output_type": "stream",
     "text": [
      "only hand\n"
     ]
    },
    {
     "name": "stderr",
     "output_type": "stream",
     "text": [
      "\u001b[92m01-22 17:35:47\u001b[0m Epoch 0/60 itr 73/170: lr: 0.001000 speed: 1.44(0.45s r0.89)s/itr 0.07h/epoch hand_ssa_loss: 18.2286\n",
      "INFO:train_logs.txt:Epoch 0/60 itr 73/170: lr: 0.001000 speed: 1.44(0.45s r0.89)s/itr 0.07h/epoch hand_ssa_loss: 18.2286\n"
     ]
    },
    {
     "name": "stdout",
     "output_type": "stream",
     "text": [
      "only hand\n"
     ]
    },
    {
     "name": "stderr",
     "output_type": "stream",
     "text": [
      "\u001b[92m01-22 17:35:49\u001b[0m Epoch 0/60 itr 74/170: lr: 0.001000 speed: 1.45(0.46s r0.89)s/itr 0.07h/epoch hand_ssa_loss: 17.1576\n",
      "INFO:train_logs.txt:Epoch 0/60 itr 74/170: lr: 0.001000 speed: 1.45(0.46s r0.89)s/itr 0.07h/epoch hand_ssa_loss: 17.1576\n"
     ]
    },
    {
     "name": "stdout",
     "output_type": "stream",
     "text": [
      "only hand\n"
     ]
    },
    {
     "name": "stderr",
     "output_type": "stream",
     "text": [
      "\u001b[92m01-22 17:35:51\u001b[0m Epoch 0/60 itr 75/170: lr: 0.001000 speed: 1.46(0.45s r0.89)s/itr 0.07h/epoch hand_ssa_loss: 23.4091\n",
      "INFO:train_logs.txt:Epoch 0/60 itr 75/170: lr: 0.001000 speed: 1.46(0.45s r0.89)s/itr 0.07h/epoch hand_ssa_loss: 23.4091\n"
     ]
    },
    {
     "name": "stdout",
     "output_type": "stream",
     "text": [
      "only hand\n"
     ]
    },
    {
     "name": "stderr",
     "output_type": "stream",
     "text": [
      "\u001b[92m01-22 17:35:53\u001b[0m Epoch 0/60 itr 76/170: lr: 0.001000 speed: 1.46(0.45s r0.90)s/itr 0.07h/epoch hand_ssa_loss: 16.3727\n",
      "INFO:train_logs.txt:Epoch 0/60 itr 76/170: lr: 0.001000 speed: 1.46(0.45s r0.90)s/itr 0.07h/epoch hand_ssa_loss: 16.3727\n"
     ]
    },
    {
     "name": "stdout",
     "output_type": "stream",
     "text": [
      "only hand\n"
     ]
    },
    {
     "name": "stderr",
     "output_type": "stream",
     "text": [
      "\u001b[92m01-22 17:36:03\u001b[0m Epoch 0/60 itr 77/170: lr: 0.001000 speed: 1.47(0.46s r0.90)s/itr 0.07h/epoch hand_ssa_loss: 17.7833\n",
      "INFO:train_logs.txt:Epoch 0/60 itr 77/170: lr: 0.001000 speed: 1.47(0.46s r0.90)s/itr 0.07h/epoch hand_ssa_loss: 17.7833\n"
     ]
    },
    {
     "name": "stdout",
     "output_type": "stream",
     "text": [
      "only hand\n"
     ]
    },
    {
     "name": "stderr",
     "output_type": "stream",
     "text": [
      "\u001b[92m01-22 17:36:09\u001b[0m Epoch 0/60 itr 78/170: lr: 0.001000 speed: 1.61(0.53s r0.89)s/itr 0.08h/epoch hand_ssa_loss: 28.4699\n",
      "INFO:train_logs.txt:Epoch 0/60 itr 78/170: lr: 0.001000 speed: 1.61(0.53s r0.89)s/itr 0.08h/epoch hand_ssa_loss: 28.4699\n"
     ]
    },
    {
     "name": "stdout",
     "output_type": "stream",
     "text": [
      "only hand\n"
     ]
    },
    {
     "name": "stderr",
     "output_type": "stream",
     "text": [
      "\u001b[92m01-22 17:36:12\u001b[0m Epoch 0/60 itr 79/170: lr: 0.001000 speed: 1.66(0.58s r0.87)s/itr 0.08h/epoch hand_ssa_loss: 14.9781\n",
      "INFO:train_logs.txt:Epoch 0/60 itr 79/170: lr: 0.001000 speed: 1.66(0.58s r0.87)s/itr 0.08h/epoch hand_ssa_loss: 14.9781\n"
     ]
    },
    {
     "name": "stdout",
     "output_type": "stream",
     "text": [
      "only hand\n"
     ]
    },
    {
     "name": "stderr",
     "output_type": "stream",
     "text": [
      "\u001b[92m01-22 17:36:15\u001b[0m Epoch 0/60 itr 80/170: lr: 0.001000 speed: 1.69(0.61s r0.86)s/itr 0.08h/epoch hand_ssa_loss: 18.1219\n",
      "INFO:train_logs.txt:Epoch 0/60 itr 80/170: lr: 0.001000 speed: 1.69(0.61s r0.86)s/itr 0.08h/epoch hand_ssa_loss: 18.1219\n"
     ]
    },
    {
     "name": "stdout",
     "output_type": "stream",
     "text": [
      "only hand\n"
     ]
    },
    {
     "name": "stderr",
     "output_type": "stream",
     "text": [
      "\u001b[92m01-22 17:36:16\u001b[0m Epoch 0/60 itr 81/170: lr: 0.001000 speed: 1.71(0.60s r0.85)s/itr 0.08h/epoch hand_ssa_loss: 15.7695\n",
      "INFO:train_logs.txt:Epoch 0/60 itr 81/170: lr: 0.001000 speed: 1.71(0.60s r0.85)s/itr 0.08h/epoch hand_ssa_loss: 15.7695\n"
     ]
    },
    {
     "name": "stdout",
     "output_type": "stream",
     "text": [
      "only hand\n"
     ]
    },
    {
     "name": "stderr",
     "output_type": "stream",
     "text": [
      "\u001b[92m01-22 17:36:18\u001b[0m Epoch 0/60 itr 82/170: lr: 0.001000 speed: 1.70(0.60s r0.84)s/itr 0.08h/epoch hand_ssa_loss: 24.3014\n",
      "INFO:train_logs.txt:Epoch 0/60 itr 82/170: lr: 0.001000 speed: 1.70(0.60s r0.84)s/itr 0.08h/epoch hand_ssa_loss: 24.3014\n"
     ]
    },
    {
     "name": "stdout",
     "output_type": "stream",
     "text": [
      "only hand\n"
     ]
    },
    {
     "name": "stderr",
     "output_type": "stream",
     "text": [
      "\u001b[92m01-22 17:36:22\u001b[0m Epoch 0/60 itr 83/170: lr: 0.001000 speed: 1.69(0.65s r0.83)s/itr 0.08h/epoch hand_ssa_loss: 18.8760\n",
      "INFO:train_logs.txt:Epoch 0/60 itr 83/170: lr: 0.001000 speed: 1.69(0.65s r0.83)s/itr 0.08h/epoch hand_ssa_loss: 18.8760\n"
     ]
    },
    {
     "name": "stdout",
     "output_type": "stream",
     "text": [
      "only hand\n"
     ]
    },
    {
     "name": "stderr",
     "output_type": "stream",
     "text": [
      "\u001b[92m01-22 17:36:23\u001b[0m Epoch 0/60 itr 84/170: lr: 0.001000 speed: 1.73(0.65s r0.82)s/itr 0.08h/epoch hand_ssa_loss: 15.1545\n",
      "INFO:train_logs.txt:Epoch 0/60 itr 84/170: lr: 0.001000 speed: 1.73(0.65s r0.82)s/itr 0.08h/epoch hand_ssa_loss: 15.1545\n"
     ]
    },
    {
     "name": "stdout",
     "output_type": "stream",
     "text": [
      "only hand\n"
     ]
    },
    {
     "name": "stderr",
     "output_type": "stream",
     "text": [
      "\u001b[92m01-22 17:36:25\u001b[0m Epoch 0/60 itr 85/170: lr: 0.001000 speed: 1.72(0.65s r0.80)s/itr 0.08h/epoch hand_ssa_loss: 14.0922\n",
      "INFO:train_logs.txt:Epoch 0/60 itr 85/170: lr: 0.001000 speed: 1.72(0.65s r0.80)s/itr 0.08h/epoch hand_ssa_loss: 14.0922\n"
     ]
    },
    {
     "name": "stdout",
     "output_type": "stream",
     "text": [
      "only hand\n"
     ]
    },
    {
     "name": "stderr",
     "output_type": "stream",
     "text": [
      "\u001b[92m01-22 17:36:25\u001b[0m Epoch 0/60 itr 86/170: lr: 0.001000 speed: 1.71(0.64s r0.79)s/itr 0.08h/epoch hand_ssa_loss: 14.2809\n",
      "INFO:train_logs.txt:Epoch 0/60 itr 86/170: lr: 0.001000 speed: 1.71(0.64s r0.79)s/itr 0.08h/epoch hand_ssa_loss: 14.2809\n"
     ]
    },
    {
     "name": "stdout",
     "output_type": "stream",
     "text": [
      "only hand\n"
     ]
    },
    {
     "name": "stderr",
     "output_type": "stream",
     "text": [
      "\u001b[92m01-22 17:36:27\u001b[0m Epoch 0/60 itr 87/170: lr: 0.001000 speed: 1.70(0.64s r0.79)s/itr 0.08h/epoch hand_ssa_loss: 16.6773\n",
      "INFO:train_logs.txt:Epoch 0/60 itr 87/170: lr: 0.001000 speed: 1.70(0.64s r0.79)s/itr 0.08h/epoch hand_ssa_loss: 16.6773\n"
     ]
    },
    {
     "name": "stdout",
     "output_type": "stream",
     "text": [
      "only hand\n"
     ]
    },
    {
     "name": "stderr",
     "output_type": "stream",
     "text": [
      "\u001b[92m01-22 17:36:29\u001b[0m Epoch 0/60 itr 88/170: lr: 0.001000 speed: 1.71(0.63s r0.79)s/itr 0.08h/epoch hand_ssa_loss: 26.3846\n",
      "INFO:train_logs.txt:Epoch 0/60 itr 88/170: lr: 0.001000 speed: 1.71(0.63s r0.79)s/itr 0.08h/epoch hand_ssa_loss: 26.3846\n"
     ]
    },
    {
     "name": "stdout",
     "output_type": "stream",
     "text": [
      "only hand\n"
     ]
    },
    {
     "name": "stderr",
     "output_type": "stream",
     "text": [
      "\u001b[92m01-22 17:36:31\u001b[0m Epoch 0/60 itr 89/170: lr: 0.001000 speed: 1.71(0.62s r0.79)s/itr 0.08h/epoch hand_ssa_loss: 17.5564\n",
      "INFO:train_logs.txt:Epoch 0/60 itr 89/170: lr: 0.001000 speed: 1.71(0.62s r0.79)s/itr 0.08h/epoch hand_ssa_loss: 17.5564\n"
     ]
    },
    {
     "name": "stdout",
     "output_type": "stream",
     "text": [
      "only hand\n"
     ]
    },
    {
     "name": "stderr",
     "output_type": "stream",
     "text": [
      "\u001b[92m01-22 17:36:33\u001b[0m Epoch 0/60 itr 90/170: lr: 0.001000 speed: 1.70(0.62s r0.78)s/itr 0.08h/epoch hand_ssa_loss: 16.2078\n",
      "INFO:train_logs.txt:Epoch 0/60 itr 90/170: lr: 0.001000 speed: 1.70(0.62s r0.78)s/itr 0.08h/epoch hand_ssa_loss: 16.2078\n"
     ]
    },
    {
     "name": "stdout",
     "output_type": "stream",
     "text": [
      "only hand\n"
     ]
    },
    {
     "name": "stderr",
     "output_type": "stream",
     "text": [
      "\u001b[92m01-22 17:36:34\u001b[0m Epoch 0/60 itr 91/170: lr: 0.001000 speed: 1.71(0.63s r0.77)s/itr 0.08h/epoch hand_ssa_loss: 12.8431\n",
      "INFO:train_logs.txt:Epoch 0/60 itr 91/170: lr: 0.001000 speed: 1.71(0.63s r0.77)s/itr 0.08h/epoch hand_ssa_loss: 12.8431\n"
     ]
    },
    {
     "name": "stdout",
     "output_type": "stream",
     "text": [
      "only hand\n"
     ]
    },
    {
     "name": "stderr",
     "output_type": "stream",
     "text": [
      "\u001b[92m01-22 17:36:35\u001b[0m Epoch 0/60 itr 92/170: lr: 0.001000 speed: 1.71(0.63s r0.76)s/itr 0.08h/epoch hand_ssa_loss: 14.6051\n",
      "INFO:train_logs.txt:Epoch 0/60 itr 92/170: lr: 0.001000 speed: 1.71(0.63s r0.76)s/itr 0.08h/epoch hand_ssa_loss: 14.6051\n"
     ]
    },
    {
     "name": "stdout",
     "output_type": "stream",
     "text": [
      "only hand\n"
     ]
    },
    {
     "name": "stderr",
     "output_type": "stream",
     "text": [
      "\u001b[92m01-22 17:36:37\u001b[0m Epoch 0/60 itr 93/170: lr: 0.001000 speed: 1.70(0.63s r0.76)s/itr 0.08h/epoch hand_ssa_loss: 20.5144\n",
      "INFO:train_logs.txt:Epoch 0/60 itr 93/170: lr: 0.001000 speed: 1.70(0.63s r0.76)s/itr 0.08h/epoch hand_ssa_loss: 20.5144\n"
     ]
    },
    {
     "name": "stdout",
     "output_type": "stream",
     "text": [
      "only hand\n"
     ]
    },
    {
     "name": "stderr",
     "output_type": "stream",
     "text": [
      "\u001b[92m01-22 17:36:39\u001b[0m Epoch 0/60 itr 94/170: lr: 0.001000 speed: 1.70(0.62s r0.75)s/itr 0.08h/epoch hand_ssa_loss: 25.5146\n",
      "INFO:train_logs.txt:Epoch 0/60 itr 94/170: lr: 0.001000 speed: 1.70(0.62s r0.75)s/itr 0.08h/epoch hand_ssa_loss: 25.5146\n"
     ]
    },
    {
     "name": "stdout",
     "output_type": "stream",
     "text": [
      "only hand\n"
     ]
    },
    {
     "name": "stderr",
     "output_type": "stream",
     "text": [
      "\u001b[92m01-22 17:36:40\u001b[0m Epoch 0/60 itr 95/170: lr: 0.001000 speed: 1.70(0.62s r0.75)s/itr 0.08h/epoch hand_ssa_loss: 24.1631\n",
      "INFO:train_logs.txt:Epoch 0/60 itr 95/170: lr: 0.001000 speed: 1.70(0.62s r0.75)s/itr 0.08h/epoch hand_ssa_loss: 24.1631\n"
     ]
    },
    {
     "name": "stdout",
     "output_type": "stream",
     "text": [
      "only hand\n"
     ]
    },
    {
     "name": "stderr",
     "output_type": "stream",
     "text": [
      "\u001b[92m01-22 17:36:41\u001b[0m Epoch 0/60 itr 96/170: lr: 0.001000 speed: 1.70(0.61s r0.74)s/itr 0.08h/epoch hand_ssa_loss: 14.8078\n",
      "INFO:train_logs.txt:Epoch 0/60 itr 96/170: lr: 0.001000 speed: 1.70(0.61s r0.74)s/itr 0.08h/epoch hand_ssa_loss: 14.8078\n"
     ]
    },
    {
     "name": "stdout",
     "output_type": "stream",
     "text": [
      "only hand\n"
     ]
    },
    {
     "name": "stderr",
     "output_type": "stream",
     "text": [
      "\u001b[92m01-22 17:36:43\u001b[0m Epoch 0/60 itr 97/170: lr: 0.001000 speed: 1.69(0.61s r0.74)s/itr 0.08h/epoch hand_ssa_loss: 29.1205\n",
      "INFO:train_logs.txt:Epoch 0/60 itr 97/170: lr: 0.001000 speed: 1.69(0.61s r0.74)s/itr 0.08h/epoch hand_ssa_loss: 29.1205\n"
     ]
    },
    {
     "name": "stdout",
     "output_type": "stream",
     "text": [
      "only hand\n"
     ]
    },
    {
     "name": "stderr",
     "output_type": "stream",
     "text": [
      "\u001b[92m01-22 17:36:45\u001b[0m Epoch 0/60 itr 98/170: lr: 0.001000 speed: 1.69(0.61s r0.73)s/itr 0.08h/epoch hand_ssa_loss: 20.8950\n",
      "INFO:train_logs.txt:Epoch 0/60 itr 98/170: lr: 0.001000 speed: 1.69(0.61s r0.73)s/itr 0.08h/epoch hand_ssa_loss: 20.8950\n"
     ]
    },
    {
     "name": "stdout",
     "output_type": "stream",
     "text": [
      "only hand\n"
     ]
    },
    {
     "name": "stderr",
     "output_type": "stream",
     "text": [
      "\u001b[92m01-22 17:36:46\u001b[0m Epoch 0/60 itr 99/170: lr: 0.001000 speed: 1.69(0.60s r0.73)s/itr 0.08h/epoch hand_ssa_loss: 17.0023\n",
      "INFO:train_logs.txt:Epoch 0/60 itr 99/170: lr: 0.001000 speed: 1.69(0.60s r0.73)s/itr 0.08h/epoch hand_ssa_loss: 17.0023\n"
     ]
    },
    {
     "name": "stdout",
     "output_type": "stream",
     "text": [
      "only hand\n"
     ]
    },
    {
     "name": "stderr",
     "output_type": "stream",
     "text": [
      "\u001b[92m01-22 17:36:47\u001b[0m Epoch 0/60 itr 100/170: lr: 0.001000 speed: 1.69(0.60s r0.72)s/itr 0.08h/epoch hand_ssa_loss: 19.1821\n",
      "INFO:train_logs.txt:Epoch 0/60 itr 100/170: lr: 0.001000 speed: 1.69(0.60s r0.72)s/itr 0.08h/epoch hand_ssa_loss: 19.1821\n"
     ]
    },
    {
     "name": "stdout",
     "output_type": "stream",
     "text": [
      "only hand\n"
     ]
    },
    {
     "name": "stderr",
     "output_type": "stream",
     "text": [
      "\u001b[92m01-22 17:36:49\u001b[0m Epoch 0/60 itr 101/170: lr: 0.001000 speed: 1.68(0.59s r0.72)s/itr 0.08h/epoch hand_ssa_loss: 20.1327\n",
      "INFO:train_logs.txt:Epoch 0/60 itr 101/170: lr: 0.001000 speed: 1.68(0.59s r0.72)s/itr 0.08h/epoch hand_ssa_loss: 20.1327\n"
     ]
    },
    {
     "name": "stdout",
     "output_type": "stream",
     "text": [
      "only hand\n"
     ]
    },
    {
     "name": "stderr",
     "output_type": "stream",
     "text": [
      "\u001b[92m01-22 17:36:51\u001b[0m Epoch 0/60 itr 102/170: lr: 0.001000 speed: 1.68(0.59s r0.71)s/itr 0.08h/epoch hand_ssa_loss: 31.7758\n",
      "INFO:train_logs.txt:Epoch 0/60 itr 102/170: lr: 0.001000 speed: 1.68(0.59s r0.71)s/itr 0.08h/epoch hand_ssa_loss: 31.7758\n"
     ]
    },
    {
     "name": "stdout",
     "output_type": "stream",
     "text": [
      "only hand\n"
     ]
    },
    {
     "name": "stderr",
     "output_type": "stream",
     "text": [
      "\u001b[92m01-22 17:36:52\u001b[0m Epoch 0/60 itr 103/170: lr: 0.001000 speed: 1.68(0.59s r0.71)s/itr 0.08h/epoch hand_ssa_loss: 37.5187\n",
      "INFO:train_logs.txt:Epoch 0/60 itr 103/170: lr: 0.001000 speed: 1.68(0.59s r0.71)s/itr 0.08h/epoch hand_ssa_loss: 37.5187\n"
     ]
    },
    {
     "name": "stdout",
     "output_type": "stream",
     "text": [
      "only hand\n"
     ]
    },
    {
     "name": "stderr",
     "output_type": "stream",
     "text": [
      "\u001b[92m01-22 17:36:54\u001b[0m Epoch 0/60 itr 104/170: lr: 0.001000 speed: 1.68(0.58s r0.71)s/itr 0.08h/epoch hand_ssa_loss: 26.1938\n",
      "INFO:train_logs.txt:Epoch 0/60 itr 104/170: lr: 0.001000 speed: 1.68(0.58s r0.71)s/itr 0.08h/epoch hand_ssa_loss: 26.1938\n"
     ]
    },
    {
     "name": "stdout",
     "output_type": "stream",
     "text": [
      "only hand\n"
     ]
    },
    {
     "name": "stderr",
     "output_type": "stream",
     "text": [
      "\u001b[92m01-22 17:36:55\u001b[0m Epoch 0/60 itr 105/170: lr: 0.001000 speed: 1.68(0.58s r0.70)s/itr 0.08h/epoch hand_ssa_loss: 14.9962\n",
      "INFO:train_logs.txt:Epoch 0/60 itr 105/170: lr: 0.001000 speed: 1.68(0.58s r0.70)s/itr 0.08h/epoch hand_ssa_loss: 14.9962\n"
     ]
    },
    {
     "name": "stdout",
     "output_type": "stream",
     "text": [
      "only hand\n"
     ]
    },
    {
     "name": "stderr",
     "output_type": "stream",
     "text": [
      "\u001b[92m01-22 17:36:57\u001b[0m Epoch 0/60 itr 106/170: lr: 0.001000 speed: 1.68(0.58s r0.70)s/itr 0.08h/epoch hand_ssa_loss: 14.4142\n",
      "INFO:train_logs.txt:Epoch 0/60 itr 106/170: lr: 0.001000 speed: 1.68(0.58s r0.70)s/itr 0.08h/epoch hand_ssa_loss: 14.4142\n"
     ]
    },
    {
     "name": "stdout",
     "output_type": "stream",
     "text": [
      "only hand\n"
     ]
    },
    {
     "name": "stderr",
     "output_type": "stream",
     "text": [
      "\u001b[92m01-22 17:36:58\u001b[0m Epoch 0/60 itr 107/170: lr: 0.001000 speed: 1.67(0.57s r0.69)s/itr 0.08h/epoch hand_ssa_loss: 16.7710\n",
      "INFO:train_logs.txt:Epoch 0/60 itr 107/170: lr: 0.001000 speed: 1.67(0.57s r0.69)s/itr 0.08h/epoch hand_ssa_loss: 16.7710\n"
     ]
    },
    {
     "name": "stdout",
     "output_type": "stream",
     "text": [
      "only hand\n"
     ]
    },
    {
     "name": "stderr",
     "output_type": "stream",
     "text": [
      "\u001b[92m01-22 17:37:00\u001b[0m Epoch 0/60 itr 108/170: lr: 0.001000 speed: 1.67(0.57s r0.69)s/itr 0.08h/epoch hand_ssa_loss: 17.3082\n",
      "INFO:train_logs.txt:Epoch 0/60 itr 108/170: lr: 0.001000 speed: 1.67(0.57s r0.69)s/itr 0.08h/epoch hand_ssa_loss: 17.3082\n"
     ]
    },
    {
     "name": "stdout",
     "output_type": "stream",
     "text": [
      "only hand\n"
     ]
    },
    {
     "name": "stderr",
     "output_type": "stream",
     "text": [
      "\u001b[92m01-22 17:37:02\u001b[0m Epoch 0/60 itr 109/170: lr: 0.001000 speed: 1.68(0.57s r0.68)s/itr 0.08h/epoch hand_ssa_loss: 17.5101\n",
      "INFO:train_logs.txt:Epoch 0/60 itr 109/170: lr: 0.001000 speed: 1.68(0.57s r0.68)s/itr 0.08h/epoch hand_ssa_loss: 17.5101\n"
     ]
    },
    {
     "name": "stdout",
     "output_type": "stream",
     "text": [
      "only hand\n"
     ]
    },
    {
     "name": "stderr",
     "output_type": "stream",
     "text": [
      "\u001b[92m01-22 17:37:03\u001b[0m Epoch 0/60 itr 110/170: lr: 0.001000 speed: 1.67(0.57s r0.68)s/itr 0.08h/epoch hand_ssa_loss: 16.7394\n",
      "INFO:train_logs.txt:Epoch 0/60 itr 110/170: lr: 0.001000 speed: 1.67(0.57s r0.68)s/itr 0.08h/epoch hand_ssa_loss: 16.7394\n"
     ]
    },
    {
     "name": "stdout",
     "output_type": "stream",
     "text": [
      "only hand\n"
     ]
    },
    {
     "name": "stderr",
     "output_type": "stream",
     "text": [
      "\u001b[92m01-22 17:37:05\u001b[0m Epoch 0/60 itr 111/170: lr: 0.001000 speed: 1.67(0.57s r0.68)s/itr 0.08h/epoch hand_ssa_loss: 16.0669\n",
      "INFO:train_logs.txt:Epoch 0/60 itr 111/170: lr: 0.001000 speed: 1.67(0.57s r0.68)s/itr 0.08h/epoch hand_ssa_loss: 16.0669\n"
     ]
    },
    {
     "name": "stdout",
     "output_type": "stream",
     "text": [
      "only hand\n"
     ]
    },
    {
     "name": "stderr",
     "output_type": "stream",
     "text": [
      "\u001b[92m01-22 17:37:06\u001b[0m Epoch 0/60 itr 112/170: lr: 0.001000 speed: 1.67(0.57s r0.67)s/itr 0.08h/epoch hand_ssa_loss: 15.7069\n",
      "INFO:train_logs.txt:Epoch 0/60 itr 112/170: lr: 0.001000 speed: 1.67(0.57s r0.67)s/itr 0.08h/epoch hand_ssa_loss: 15.7069\n"
     ]
    },
    {
     "name": "stdout",
     "output_type": "stream",
     "text": [
      "only hand\n"
     ]
    },
    {
     "name": "stderr",
     "output_type": "stream",
     "text": [
      "\u001b[92m01-22 17:37:08\u001b[0m Epoch 0/60 itr 113/170: lr: 0.001000 speed: 1.67(0.57s r0.67)s/itr 0.08h/epoch hand_ssa_loss: 15.7276\n",
      "INFO:train_logs.txt:Epoch 0/60 itr 113/170: lr: 0.001000 speed: 1.67(0.57s r0.67)s/itr 0.08h/epoch hand_ssa_loss: 15.7276\n"
     ]
    },
    {
     "name": "stdout",
     "output_type": "stream",
     "text": [
      "only hand\n"
     ]
    },
    {
     "name": "stderr",
     "output_type": "stream",
     "text": [
      "\u001b[92m01-22 17:37:09\u001b[0m Epoch 0/60 itr 114/170: lr: 0.001000 speed: 1.67(0.58s r0.67)s/itr 0.08h/epoch hand_ssa_loss: 19.4036\n",
      "INFO:train_logs.txt:Epoch 0/60 itr 114/170: lr: 0.001000 speed: 1.67(0.58s r0.67)s/itr 0.08h/epoch hand_ssa_loss: 19.4036\n"
     ]
    },
    {
     "name": "stdout",
     "output_type": "stream",
     "text": [
      "only hand\n"
     ]
    },
    {
     "name": "stderr",
     "output_type": "stream",
     "text": [
      "\u001b[92m01-22 17:37:11\u001b[0m Epoch 0/60 itr 115/170: lr: 0.001000 speed: 1.66(0.57s r0.67)s/itr 0.08h/epoch hand_ssa_loss: 15.6561\n",
      "INFO:train_logs.txt:Epoch 0/60 itr 115/170: lr: 0.001000 speed: 1.66(0.57s r0.67)s/itr 0.08h/epoch hand_ssa_loss: 15.6561\n"
     ]
    },
    {
     "name": "stdout",
     "output_type": "stream",
     "text": [
      "only hand\n"
     ]
    },
    {
     "name": "stderr",
     "output_type": "stream",
     "text": [
      "\u001b[92m01-22 17:37:12\u001b[0m Epoch 0/60 itr 116/170: lr: 0.001000 speed: 1.67(0.57s r0.66)s/itr 0.08h/epoch hand_ssa_loss: 17.6595\n",
      "INFO:train_logs.txt:Epoch 0/60 itr 116/170: lr: 0.001000 speed: 1.67(0.57s r0.66)s/itr 0.08h/epoch hand_ssa_loss: 17.6595\n"
     ]
    },
    {
     "name": "stdout",
     "output_type": "stream",
     "text": [
      "only hand\n"
     ]
    },
    {
     "name": "stderr",
     "output_type": "stream",
     "text": [
      "\u001b[92m01-22 17:37:14\u001b[0m Epoch 0/60 itr 117/170: lr: 0.001000 speed: 1.66(0.56s r0.66)s/itr 0.08h/epoch hand_ssa_loss: 14.4526\n",
      "INFO:train_logs.txt:Epoch 0/60 itr 117/170: lr: 0.001000 speed: 1.66(0.56s r0.66)s/itr 0.08h/epoch hand_ssa_loss: 14.4526\n"
     ]
    },
    {
     "name": "stdout",
     "output_type": "stream",
     "text": [
      "only hand\n"
     ]
    },
    {
     "name": "stderr",
     "output_type": "stream",
     "text": [
      "\u001b[92m01-22 17:37:16\u001b[0m Epoch 0/60 itr 118/170: lr: 0.001000 speed: 1.66(0.56s r0.66)s/itr 0.08h/epoch hand_ssa_loss: 19.5144\n",
      "INFO:train_logs.txt:Epoch 0/60 itr 118/170: lr: 0.001000 speed: 1.66(0.56s r0.66)s/itr 0.08h/epoch hand_ssa_loss: 19.5144\n"
     ]
    },
    {
     "name": "stdout",
     "output_type": "stream",
     "text": [
      "only hand\n"
     ]
    },
    {
     "name": "stderr",
     "output_type": "stream",
     "text": [
      "\u001b[92m01-22 17:37:17\u001b[0m Epoch 0/60 itr 119/170: lr: 0.001000 speed: 1.66(0.55s r0.66)s/itr 0.08h/epoch hand_ssa_loss: 15.9619\n",
      "INFO:train_logs.txt:Epoch 0/60 itr 119/170: lr: 0.001000 speed: 1.66(0.55s r0.66)s/itr 0.08h/epoch hand_ssa_loss: 15.9619\n"
     ]
    },
    {
     "name": "stdout",
     "output_type": "stream",
     "text": [
      "only hand\n"
     ]
    },
    {
     "name": "stderr",
     "output_type": "stream",
     "text": [
      "\u001b[92m01-22 17:37:19\u001b[0m Epoch 0/60 itr 120/170: lr: 0.001000 speed: 1.66(0.55s r0.65)s/itr 0.08h/epoch hand_ssa_loss: 22.0382\n",
      "INFO:train_logs.txt:Epoch 0/60 itr 120/170: lr: 0.001000 speed: 1.66(0.55s r0.65)s/itr 0.08h/epoch hand_ssa_loss: 22.0382\n"
     ]
    },
    {
     "name": "stdout",
     "output_type": "stream",
     "text": [
      "only hand\n"
     ]
    },
    {
     "name": "stderr",
     "output_type": "stream",
     "text": [
      "\u001b[92m01-22 17:37:20\u001b[0m Epoch 0/60 itr 121/170: lr: 0.001000 speed: 1.66(0.55s r0.65)s/itr 0.08h/epoch hand_ssa_loss: 21.2211\n",
      "INFO:train_logs.txt:Epoch 0/60 itr 121/170: lr: 0.001000 speed: 1.66(0.55s r0.65)s/itr 0.08h/epoch hand_ssa_loss: 21.2211\n"
     ]
    },
    {
     "name": "stdout",
     "output_type": "stream",
     "text": [
      "only hand\n"
     ]
    },
    {
     "name": "stderr",
     "output_type": "stream",
     "text": [
      "\u001b[92m01-22 17:37:22\u001b[0m Epoch 0/60 itr 122/170: lr: 0.001000 speed: 1.66(0.54s r0.65)s/itr 0.08h/epoch hand_ssa_loss: 16.7204\n",
      "INFO:train_logs.txt:Epoch 0/60 itr 122/170: lr: 0.001000 speed: 1.66(0.54s r0.65)s/itr 0.08h/epoch hand_ssa_loss: 16.7204\n"
     ]
    },
    {
     "name": "stdout",
     "output_type": "stream",
     "text": [
      "only hand\n"
     ]
    },
    {
     "name": "stderr",
     "output_type": "stream",
     "text": [
      "\u001b[92m01-22 17:37:23\u001b[0m Epoch 0/60 itr 123/170: lr: 0.001000 speed: 1.66(0.54s r0.64)s/itr 0.08h/epoch hand_ssa_loss: 13.9218\n",
      "INFO:train_logs.txt:Epoch 0/60 itr 123/170: lr: 0.001000 speed: 1.66(0.54s r0.64)s/itr 0.08h/epoch hand_ssa_loss: 13.9218\n"
     ]
    },
    {
     "name": "stdout",
     "output_type": "stream",
     "text": [
      "only hand\n"
     ]
    },
    {
     "name": "stderr",
     "output_type": "stream",
     "text": [
      "\u001b[92m01-22 17:37:25\u001b[0m Epoch 0/60 itr 124/170: lr: 0.001000 speed: 1.66(0.53s r0.64)s/itr 0.08h/epoch hand_ssa_loss: 10.3052\n",
      "INFO:train_logs.txt:Epoch 0/60 itr 124/170: lr: 0.001000 speed: 1.66(0.53s r0.64)s/itr 0.08h/epoch hand_ssa_loss: 10.3052\n"
     ]
    },
    {
     "name": "stdout",
     "output_type": "stream",
     "text": [
      "only hand\n"
     ]
    },
    {
     "name": "stderr",
     "output_type": "stream",
     "text": [
      "\u001b[92m01-22 17:37:26\u001b[0m Epoch 0/60 itr 125/170: lr: 0.001000 speed: 1.66(0.53s r0.64)s/itr 0.08h/epoch hand_ssa_loss: 14.9784\n",
      "INFO:train_logs.txt:Epoch 0/60 itr 125/170: lr: 0.001000 speed: 1.66(0.53s r0.64)s/itr 0.08h/epoch hand_ssa_loss: 14.9784\n"
     ]
    },
    {
     "name": "stdout",
     "output_type": "stream",
     "text": [
      "only hand\n"
     ]
    },
    {
     "name": "stderr",
     "output_type": "stream",
     "text": [
      "\u001b[92m01-22 17:37:28\u001b[0m Epoch 0/60 itr 126/170: lr: 0.001000 speed: 1.66(0.53s r0.63)s/itr 0.08h/epoch hand_ssa_loss: 14.4641\n",
      "INFO:train_logs.txt:Epoch 0/60 itr 126/170: lr: 0.001000 speed: 1.66(0.53s r0.63)s/itr 0.08h/epoch hand_ssa_loss: 14.4641\n"
     ]
    },
    {
     "name": "stdout",
     "output_type": "stream",
     "text": [
      "only hand\n"
     ]
    },
    {
     "name": "stderr",
     "output_type": "stream",
     "text": [
      "\u001b[92m01-22 17:37:29\u001b[0m Epoch 0/60 itr 127/170: lr: 0.001000 speed: 1.65(0.52s r0.63)s/itr 0.08h/epoch hand_ssa_loss: 16.1162\n",
      "INFO:train_logs.txt:Epoch 0/60 itr 127/170: lr: 0.001000 speed: 1.65(0.52s r0.63)s/itr 0.08h/epoch hand_ssa_loss: 16.1162\n"
     ]
    },
    {
     "name": "stdout",
     "output_type": "stream",
     "text": [
      "only hand\n"
     ]
    },
    {
     "name": "stderr",
     "output_type": "stream",
     "text": [
      "\u001b[92m01-22 17:37:31\u001b[0m Epoch 0/60 itr 128/170: lr: 0.001000 speed: 1.65(0.52s r0.63)s/itr 0.08h/epoch hand_ssa_loss: 19.0823\n",
      "INFO:train_logs.txt:Epoch 0/60 itr 128/170: lr: 0.001000 speed: 1.65(0.52s r0.63)s/itr 0.08h/epoch hand_ssa_loss: 19.0823\n"
     ]
    },
    {
     "name": "stdout",
     "output_type": "stream",
     "text": [
      "only hand\n"
     ]
    },
    {
     "name": "stderr",
     "output_type": "stream",
     "text": [
      "\u001b[92m01-22 17:37:32\u001b[0m Epoch 0/60 itr 129/170: lr: 0.001000 speed: 1.65(0.52s r0.63)s/itr 0.08h/epoch hand_ssa_loss: 18.6652\n",
      "INFO:train_logs.txt:Epoch 0/60 itr 129/170: lr: 0.001000 speed: 1.65(0.52s r0.63)s/itr 0.08h/epoch hand_ssa_loss: 18.6652\n"
     ]
    },
    {
     "name": "stdout",
     "output_type": "stream",
     "text": [
      "only hand\n"
     ]
    },
    {
     "name": "stderr",
     "output_type": "stream",
     "text": [
      "\u001b[92m01-22 17:37:33\u001b[0m Epoch 0/60 itr 130/170: lr: 0.001000 speed: 1.65(0.52s r0.62)s/itr 0.08h/epoch hand_ssa_loss: 15.1218\n",
      "INFO:train_logs.txt:Epoch 0/60 itr 130/170: lr: 0.001000 speed: 1.65(0.52s r0.62)s/itr 0.08h/epoch hand_ssa_loss: 15.1218\n"
     ]
    },
    {
     "name": "stdout",
     "output_type": "stream",
     "text": [
      "only hand\n"
     ]
    },
    {
     "name": "stderr",
     "output_type": "stream",
     "text": [
      "\u001b[92m01-22 17:37:36\u001b[0m Epoch 0/60 itr 131/170: lr: 0.001000 speed: 1.64(0.51s r0.63)s/itr 0.08h/epoch hand_ssa_loss: 14.7559\n",
      "INFO:train_logs.txt:Epoch 0/60 itr 131/170: lr: 0.001000 speed: 1.64(0.51s r0.63)s/itr 0.08h/epoch hand_ssa_loss: 14.7559\n"
     ]
    },
    {
     "name": "stdout",
     "output_type": "stream",
     "text": [
      "only hand\n"
     ]
    },
    {
     "name": "stderr",
     "output_type": "stream",
     "text": [
      "\u001b[92m01-22 17:37:37\u001b[0m Epoch 0/60 itr 132/170: lr: 0.001000 speed: 1.65(0.51s r0.63)s/itr 0.08h/epoch hand_ssa_loss: 14.4929\n",
      "INFO:train_logs.txt:Epoch 0/60 itr 132/170: lr: 0.001000 speed: 1.65(0.51s r0.63)s/itr 0.08h/epoch hand_ssa_loss: 14.4929\n"
     ]
    },
    {
     "name": "stdout",
     "output_type": "stream",
     "text": [
      "only hand\n"
     ]
    },
    {
     "name": "stderr",
     "output_type": "stream",
     "text": [
      "\u001b[92m01-22 17:37:39\u001b[0m Epoch 0/60 itr 133/170: lr: 0.001000 speed: 1.65(0.51s r0.62)s/itr 0.08h/epoch hand_ssa_loss: 14.2211\n",
      "INFO:train_logs.txt:Epoch 0/60 itr 133/170: lr: 0.001000 speed: 1.65(0.51s r0.62)s/itr 0.08h/epoch hand_ssa_loss: 14.2211\n"
     ]
    },
    {
     "name": "stdout",
     "output_type": "stream",
     "text": [
      "only hand\n"
     ]
    },
    {
     "name": "stderr",
     "output_type": "stream",
     "text": [
      "\u001b[92m01-22 17:37:40\u001b[0m Epoch 0/60 itr 134/170: lr: 0.001000 speed: 1.65(0.51s r0.62)s/itr 0.08h/epoch hand_ssa_loss: 13.4339\n",
      "INFO:train_logs.txt:Epoch 0/60 itr 134/170: lr: 0.001000 speed: 1.65(0.51s r0.62)s/itr 0.08h/epoch hand_ssa_loss: 13.4339\n"
     ]
    },
    {
     "name": "stdout",
     "output_type": "stream",
     "text": [
      "only hand\n"
     ]
    },
    {
     "name": "stderr",
     "output_type": "stream",
     "text": [
      "\u001b[92m01-22 17:37:42\u001b[0m Epoch 0/60 itr 135/170: lr: 0.001000 speed: 1.65(0.50s r0.62)s/itr 0.08h/epoch hand_ssa_loss: 18.8862\n",
      "INFO:train_logs.txt:Epoch 0/60 itr 135/170: lr: 0.001000 speed: 1.65(0.50s r0.62)s/itr 0.08h/epoch hand_ssa_loss: 18.8862\n"
     ]
    },
    {
     "name": "stdout",
     "output_type": "stream",
     "text": [
      "only hand\n"
     ]
    },
    {
     "name": "stderr",
     "output_type": "stream",
     "text": [
      "\u001b[92m01-22 17:37:43\u001b[0m Epoch 0/60 itr 136/170: lr: 0.001000 speed: 1.65(0.50s r0.61)s/itr 0.08h/epoch hand_ssa_loss: 12.1202\n",
      "INFO:train_logs.txt:Epoch 0/60 itr 136/170: lr: 0.001000 speed: 1.65(0.50s r0.61)s/itr 0.08h/epoch hand_ssa_loss: 12.1202\n"
     ]
    },
    {
     "name": "stdout",
     "output_type": "stream",
     "text": [
      "only hand\n"
     ]
    },
    {
     "name": "stderr",
     "output_type": "stream",
     "text": [
      "\u001b[92m01-22 17:37:45\u001b[0m Epoch 0/60 itr 137/170: lr: 0.001000 speed: 1.64(0.50s r0.61)s/itr 0.08h/epoch hand_ssa_loss: 12.0337\n",
      "INFO:train_logs.txt:Epoch 0/60 itr 137/170: lr: 0.001000 speed: 1.64(0.50s r0.61)s/itr 0.08h/epoch hand_ssa_loss: 12.0337\n"
     ]
    },
    {
     "name": "stdout",
     "output_type": "stream",
     "text": [
      "only hand\n"
     ]
    },
    {
     "name": "stderr",
     "output_type": "stream",
     "text": [
      "\u001b[92m01-22 17:37:46\u001b[0m Epoch 0/60 itr 138/170: lr: 0.001000 speed: 1.64(0.49s r0.61)s/itr 0.08h/epoch hand_ssa_loss: 17.5642\n",
      "INFO:train_logs.txt:Epoch 0/60 itr 138/170: lr: 0.001000 speed: 1.64(0.49s r0.61)s/itr 0.08h/epoch hand_ssa_loss: 17.5642\n"
     ]
    },
    {
     "name": "stdout",
     "output_type": "stream",
     "text": [
      "only hand\n"
     ]
    },
    {
     "name": "stderr",
     "output_type": "stream",
     "text": [
      "\u001b[92m01-22 17:37:47\u001b[0m Epoch 0/60 itr 139/170: lr: 0.001000 speed: 1.64(0.49s r0.61)s/itr 0.08h/epoch hand_ssa_loss: 16.0021\n",
      "INFO:train_logs.txt:Epoch 0/60 itr 139/170: lr: 0.001000 speed: 1.64(0.49s r0.61)s/itr 0.08h/epoch hand_ssa_loss: 16.0021\n"
     ]
    },
    {
     "name": "stdout",
     "output_type": "stream",
     "text": [
      "only hand\n"
     ]
    },
    {
     "name": "stderr",
     "output_type": "stream",
     "text": [
      "\u001b[92m01-22 17:37:49\u001b[0m Epoch 0/60 itr 140/170: lr: 0.001000 speed: 1.64(0.49s r0.61)s/itr 0.08h/epoch hand_ssa_loss: 16.2725\n",
      "INFO:train_logs.txt:Epoch 0/60 itr 140/170: lr: 0.001000 speed: 1.64(0.49s r0.61)s/itr 0.08h/epoch hand_ssa_loss: 16.2725\n"
     ]
    },
    {
     "name": "stdout",
     "output_type": "stream",
     "text": [
      "only hand\n"
     ]
    },
    {
     "name": "stderr",
     "output_type": "stream",
     "text": [
      "\u001b[92m01-22 17:37:50\u001b[0m Epoch 0/60 itr 141/170: lr: 0.001000 speed: 1.64(0.48s r0.60)s/itr 0.08h/epoch hand_ssa_loss: 10.6089\n",
      "INFO:train_logs.txt:Epoch 0/60 itr 141/170: lr: 0.001000 speed: 1.64(0.48s r0.60)s/itr 0.08h/epoch hand_ssa_loss: 10.6089\n"
     ]
    },
    {
     "name": "stdout",
     "output_type": "stream",
     "text": [
      "only hand\n"
     ]
    },
    {
     "name": "stderr",
     "output_type": "stream",
     "text": [
      "\u001b[92m01-22 17:37:52\u001b[0m Epoch 0/60 itr 142/170: lr: 0.001000 speed: 1.64(0.48s r0.60)s/itr 0.08h/epoch hand_ssa_loss: 14.5962\n",
      "INFO:train_logs.txt:Epoch 0/60 itr 142/170: lr: 0.001000 speed: 1.64(0.48s r0.60)s/itr 0.08h/epoch hand_ssa_loss: 14.5962\n"
     ]
    },
    {
     "name": "stdout",
     "output_type": "stream",
     "text": [
      "only hand\n"
     ]
    },
    {
     "name": "stderr",
     "output_type": "stream",
     "text": [
      "\u001b[92m01-22 17:37:53\u001b[0m Epoch 0/60 itr 143/170: lr: 0.001000 speed: 1.63(0.48s r0.60)s/itr 0.08h/epoch hand_ssa_loss: 20.4873\n",
      "INFO:train_logs.txt:Epoch 0/60 itr 143/170: lr: 0.001000 speed: 1.63(0.48s r0.60)s/itr 0.08h/epoch hand_ssa_loss: 20.4873\n"
     ]
    },
    {
     "name": "stdout",
     "output_type": "stream",
     "text": [
      "only hand\n"
     ]
    },
    {
     "name": "stderr",
     "output_type": "stream",
     "text": [
      "\u001b[92m01-22 17:37:55\u001b[0m Epoch 0/60 itr 144/170: lr: 0.001000 speed: 1.63(0.48s r0.60)s/itr 0.08h/epoch hand_ssa_loss: 16.3118\n",
      "INFO:train_logs.txt:Epoch 0/60 itr 144/170: lr: 0.001000 speed: 1.63(0.48s r0.60)s/itr 0.08h/epoch hand_ssa_loss: 16.3118\n"
     ]
    },
    {
     "name": "stdout",
     "output_type": "stream",
     "text": [
      "only hand\n"
     ]
    },
    {
     "name": "stderr",
     "output_type": "stream",
     "text": [
      "\u001b[92m01-22 17:37:56\u001b[0m Epoch 0/60 itr 145/170: lr: 0.001000 speed: 1.63(0.47s r0.60)s/itr 0.08h/epoch hand_ssa_loss: 13.7277\n",
      "INFO:train_logs.txt:Epoch 0/60 itr 145/170: lr: 0.001000 speed: 1.63(0.47s r0.60)s/itr 0.08h/epoch hand_ssa_loss: 13.7277\n"
     ]
    },
    {
     "name": "stdout",
     "output_type": "stream",
     "text": [
      "only hand\n"
     ]
    },
    {
     "name": "stderr",
     "output_type": "stream",
     "text": [
      "\u001b[92m01-22 17:37:58\u001b[0m Epoch 0/60 itr 146/170: lr: 0.001000 speed: 1.63(0.47s r0.59)s/itr 0.08h/epoch hand_ssa_loss: 12.4292\n",
      "INFO:train_logs.txt:Epoch 0/60 itr 146/170: lr: 0.001000 speed: 1.63(0.47s r0.59)s/itr 0.08h/epoch hand_ssa_loss: 12.4292\n"
     ]
    },
    {
     "name": "stdout",
     "output_type": "stream",
     "text": [
      "only hand\n"
     ]
    },
    {
     "name": "stderr",
     "output_type": "stream",
     "text": [
      "\u001b[92m01-22 17:37:59\u001b[0m Epoch 0/60 itr 147/170: lr: 0.001000 speed: 1.63(0.47s r0.59)s/itr 0.08h/epoch hand_ssa_loss: 14.5758\n",
      "INFO:train_logs.txt:Epoch 0/60 itr 147/170: lr: 0.001000 speed: 1.63(0.47s r0.59)s/itr 0.08h/epoch hand_ssa_loss: 14.5758\n"
     ]
    },
    {
     "name": "stdout",
     "output_type": "stream",
     "text": [
      "only hand\n"
     ]
    },
    {
     "name": "stderr",
     "output_type": "stream",
     "text": [
      "\u001b[92m01-22 17:38:01\u001b[0m Epoch 0/60 itr 148/170: lr: 0.001000 speed: 1.63(0.47s r0.59)s/itr 0.08h/epoch hand_ssa_loss: 15.6249\n",
      "INFO:train_logs.txt:Epoch 0/60 itr 148/170: lr: 0.001000 speed: 1.63(0.47s r0.59)s/itr 0.08h/epoch hand_ssa_loss: 15.6249\n"
     ]
    },
    {
     "name": "stdout",
     "output_type": "stream",
     "text": [
      "only hand\n"
     ]
    },
    {
     "name": "stderr",
     "output_type": "stream",
     "text": [
      "\u001b[92m01-22 17:38:02\u001b[0m Epoch 0/60 itr 149/170: lr: 0.001000 speed: 1.63(0.47s r0.59)s/itr 0.08h/epoch hand_ssa_loss: 11.9810\n",
      "INFO:train_logs.txt:Epoch 0/60 itr 149/170: lr: 0.001000 speed: 1.63(0.47s r0.59)s/itr 0.08h/epoch hand_ssa_loss: 11.9810\n"
     ]
    },
    {
     "name": "stdout",
     "output_type": "stream",
     "text": [
      "only hand\n"
     ]
    },
    {
     "name": "stderr",
     "output_type": "stream",
     "text": [
      "\u001b[92m01-22 17:38:03\u001b[0m Epoch 0/60 itr 150/170: lr: 0.001000 speed: 1.63(0.47s r0.58)s/itr 0.08h/epoch hand_ssa_loss: 16.3816\n",
      "INFO:train_logs.txt:Epoch 0/60 itr 150/170: lr: 0.001000 speed: 1.63(0.47s r0.58)s/itr 0.08h/epoch hand_ssa_loss: 16.3816\n"
     ]
    },
    {
     "name": "stdout",
     "output_type": "stream",
     "text": [
      "only hand\n"
     ]
    },
    {
     "name": "stderr",
     "output_type": "stream",
     "text": [
      "\u001b[92m01-22 17:38:05\u001b[0m Epoch 0/60 itr 151/170: lr: 0.001000 speed: 1.63(0.47s r0.58)s/itr 0.08h/epoch hand_ssa_loss: 9.7162\n",
      "INFO:train_logs.txt:Epoch 0/60 itr 151/170: lr: 0.001000 speed: 1.63(0.47s r0.58)s/itr 0.08h/epoch hand_ssa_loss: 9.7162\n"
     ]
    },
    {
     "name": "stdout",
     "output_type": "stream",
     "text": [
      "only hand\n"
     ]
    },
    {
     "name": "stderr",
     "output_type": "stream",
     "text": [
      "\u001b[92m01-22 17:38:06\u001b[0m Epoch 0/60 itr 152/170: lr: 0.001000 speed: 1.62(0.47s r0.58)s/itr 0.08h/epoch hand_ssa_loss: 18.1132\n",
      "INFO:train_logs.txt:Epoch 0/60 itr 152/170: lr: 0.001000 speed: 1.62(0.47s r0.58)s/itr 0.08h/epoch hand_ssa_loss: 18.1132\n"
     ]
    },
    {
     "name": "stdout",
     "output_type": "stream",
     "text": [
      "only hand\n"
     ]
    },
    {
     "name": "stderr",
     "output_type": "stream",
     "text": [
      "\u001b[92m01-22 17:38:08\u001b[0m Epoch 0/60 itr 153/170: lr: 0.001000 speed: 1.62(0.47s r0.58)s/itr 0.08h/epoch hand_ssa_loss: 11.2948\n",
      "INFO:train_logs.txt:Epoch 0/60 itr 153/170: lr: 0.001000 speed: 1.62(0.47s r0.58)s/itr 0.08h/epoch hand_ssa_loss: 11.2948\n"
     ]
    },
    {
     "name": "stdout",
     "output_type": "stream",
     "text": [
      "only hand\n"
     ]
    },
    {
     "name": "stderr",
     "output_type": "stream",
     "text": [
      "\u001b[92m01-22 17:38:09\u001b[0m Epoch 0/60 itr 154/170: lr: 0.001000 speed: 1.62(0.47s r0.57)s/itr 0.08h/epoch hand_ssa_loss: 11.2547\n",
      "INFO:train_logs.txt:Epoch 0/60 itr 154/170: lr: 0.001000 speed: 1.62(0.47s r0.57)s/itr 0.08h/epoch hand_ssa_loss: 11.2547\n"
     ]
    },
    {
     "name": "stdout",
     "output_type": "stream",
     "text": [
      "only hand\n"
     ]
    },
    {
     "name": "stderr",
     "output_type": "stream",
     "text": [
      "\u001b[92m01-22 17:38:11\u001b[0m Epoch 0/60 itr 155/170: lr: 0.001000 speed: 1.62(0.46s r0.57)s/itr 0.08h/epoch hand_ssa_loss: 16.5140\n",
      "INFO:train_logs.txt:Epoch 0/60 itr 155/170: lr: 0.001000 speed: 1.62(0.46s r0.57)s/itr 0.08h/epoch hand_ssa_loss: 16.5140\n"
     ]
    },
    {
     "name": "stdout",
     "output_type": "stream",
     "text": [
      "only hand\n"
     ]
    },
    {
     "name": "stderr",
     "output_type": "stream",
     "text": [
      "\u001b[92m01-22 17:38:12\u001b[0m Epoch 0/60 itr 156/170: lr: 0.001000 speed: 1.62(0.47s r0.57)s/itr 0.08h/epoch hand_ssa_loss: 11.4974\n",
      "INFO:train_logs.txt:Epoch 0/60 itr 156/170: lr: 0.001000 speed: 1.62(0.47s r0.57)s/itr 0.08h/epoch hand_ssa_loss: 11.4974\n"
     ]
    },
    {
     "name": "stdout",
     "output_type": "stream",
     "text": [
      "only hand\n"
     ]
    },
    {
     "name": "stderr",
     "output_type": "stream",
     "text": [
      "\u001b[92m01-22 17:38:13\u001b[0m Epoch 0/60 itr 157/170: lr: 0.001000 speed: 1.62(0.46s r0.57)s/itr 0.08h/epoch hand_ssa_loss: 23.0140\n",
      "INFO:train_logs.txt:Epoch 0/60 itr 157/170: lr: 0.001000 speed: 1.62(0.46s r0.57)s/itr 0.08h/epoch hand_ssa_loss: 23.0140\n"
     ]
    },
    {
     "name": "stdout",
     "output_type": "stream",
     "text": [
      "only hand\n"
     ]
    },
    {
     "name": "stderr",
     "output_type": "stream",
     "text": [
      "\u001b[92m01-22 17:38:15\u001b[0m Epoch 0/60 itr 158/170: lr: 0.001000 speed: 1.62(0.46s r0.57)s/itr 0.08h/epoch hand_ssa_loss: 17.0900\n",
      "INFO:train_logs.txt:Epoch 0/60 itr 158/170: lr: 0.001000 speed: 1.62(0.46s r0.57)s/itr 0.08h/epoch hand_ssa_loss: 17.0900\n"
     ]
    },
    {
     "name": "stdout",
     "output_type": "stream",
     "text": [
      "only hand\n"
     ]
    },
    {
     "name": "stderr",
     "output_type": "stream",
     "text": [
      "\u001b[92m01-22 17:38:16\u001b[0m Epoch 0/60 itr 159/170: lr: 0.001000 speed: 1.62(0.47s r0.56)s/itr 0.08h/epoch hand_ssa_loss: 10.0017\n",
      "INFO:train_logs.txt:Epoch 0/60 itr 159/170: lr: 0.001000 speed: 1.62(0.47s r0.56)s/itr 0.08h/epoch hand_ssa_loss: 10.0017\n"
     ]
    },
    {
     "name": "stdout",
     "output_type": "stream",
     "text": [
      "only hand\n"
     ]
    },
    {
     "name": "stderr",
     "output_type": "stream",
     "text": [
      "\u001b[92m01-22 17:38:18\u001b[0m Epoch 0/60 itr 160/170: lr: 0.001000 speed: 1.61(0.47s r0.56)s/itr 0.08h/epoch hand_ssa_loss: 19.6642\n",
      "INFO:train_logs.txt:Epoch 0/60 itr 160/170: lr: 0.001000 speed: 1.61(0.47s r0.56)s/itr 0.08h/epoch hand_ssa_loss: 19.6642\n"
     ]
    },
    {
     "name": "stdout",
     "output_type": "stream",
     "text": [
      "only hand\n"
     ]
    },
    {
     "name": "stderr",
     "output_type": "stream",
     "text": [
      "\u001b[92m01-22 17:38:19\u001b[0m Epoch 0/60 itr 161/170: lr: 0.001000 speed: 1.61(0.47s r0.56)s/itr 0.08h/epoch hand_ssa_loss: 17.9952\n",
      "INFO:train_logs.txt:Epoch 0/60 itr 161/170: lr: 0.001000 speed: 1.61(0.47s r0.56)s/itr 0.08h/epoch hand_ssa_loss: 17.9952\n"
     ]
    },
    {
     "name": "stdout",
     "output_type": "stream",
     "text": [
      "only hand\n"
     ]
    },
    {
     "name": "stderr",
     "output_type": "stream",
     "text": [
      "\u001b[92m01-22 17:38:20\u001b[0m Epoch 0/60 itr 162/170: lr: 0.001000 speed: 1.61(0.47s r0.56)s/itr 0.08h/epoch hand_ssa_loss: 16.3401\n",
      "INFO:train_logs.txt:Epoch 0/60 itr 162/170: lr: 0.001000 speed: 1.61(0.47s r0.56)s/itr 0.08h/epoch hand_ssa_loss: 16.3401\n"
     ]
    },
    {
     "name": "stdout",
     "output_type": "stream",
     "text": [
      "only hand\n"
     ]
    },
    {
     "name": "stderr",
     "output_type": "stream",
     "text": [
      "\u001b[92m01-22 17:38:22\u001b[0m Epoch 0/60 itr 163/170: lr: 0.001000 speed: 1.61(0.46s r0.56)s/itr 0.08h/epoch hand_ssa_loss: 14.0946\n",
      "INFO:train_logs.txt:Epoch 0/60 itr 163/170: lr: 0.001000 speed: 1.61(0.46s r0.56)s/itr 0.08h/epoch hand_ssa_loss: 14.0946\n"
     ]
    },
    {
     "name": "stdout",
     "output_type": "stream",
     "text": [
      "only hand\n"
     ]
    },
    {
     "name": "stderr",
     "output_type": "stream",
     "text": [
      "\u001b[92m01-22 17:38:23\u001b[0m Epoch 0/60 itr 164/170: lr: 0.001000 speed: 1.61(0.46s r0.56)s/itr 0.08h/epoch hand_ssa_loss: 10.8441\n",
      "INFO:train_logs.txt:Epoch 0/60 itr 164/170: lr: 0.001000 speed: 1.61(0.46s r0.56)s/itr 0.08h/epoch hand_ssa_loss: 10.8441\n"
     ]
    },
    {
     "name": "stdout",
     "output_type": "stream",
     "text": [
      "only hand\n"
     ]
    },
    {
     "name": "stderr",
     "output_type": "stream",
     "text": [
      "\u001b[92m01-22 17:38:25\u001b[0m Epoch 0/60 itr 165/170: lr: 0.001000 speed: 1.61(0.46s r0.56)s/itr 0.08h/epoch hand_ssa_loss: 13.8512\n",
      "INFO:train_logs.txt:Epoch 0/60 itr 165/170: lr: 0.001000 speed: 1.61(0.46s r0.56)s/itr 0.08h/epoch hand_ssa_loss: 13.8512\n"
     ]
    },
    {
     "name": "stdout",
     "output_type": "stream",
     "text": [
      "only hand\n"
     ]
    },
    {
     "name": "stderr",
     "output_type": "stream",
     "text": [
      "\u001b[92m01-22 17:38:27\u001b[0m Epoch 0/60 itr 166/170: lr: 0.001000 speed: 1.61(0.47s r0.55)s/itr 0.08h/epoch hand_ssa_loss: 14.9560\n",
      "INFO:train_logs.txt:Epoch 0/60 itr 166/170: lr: 0.001000 speed: 1.61(0.47s r0.55)s/itr 0.08h/epoch hand_ssa_loss: 14.9560\n"
     ]
    },
    {
     "name": "stdout",
     "output_type": "stream",
     "text": [
      "only hand\n"
     ]
    },
    {
     "name": "stderr",
     "output_type": "stream",
     "text": [
      "\u001b[92m01-22 17:38:28\u001b[0m Epoch 0/60 itr 167/170: lr: 0.001000 speed: 1.61(0.46s r0.55)s/itr 0.08h/epoch hand_ssa_loss: 11.4972\n",
      "INFO:train_logs.txt:Epoch 0/60 itr 167/170: lr: 0.001000 speed: 1.61(0.46s r0.55)s/itr 0.08h/epoch hand_ssa_loss: 11.4972\n"
     ]
    },
    {
     "name": "stdout",
     "output_type": "stream",
     "text": [
      "only hand\n"
     ]
    },
    {
     "name": "stderr",
     "output_type": "stream",
     "text": [
      "\u001b[92m01-22 17:38:30\u001b[0m Epoch 0/60 itr 168/170: lr: 0.001000 speed: 1.61(0.46s r0.55)s/itr 0.08h/epoch hand_ssa_loss: 12.0005\n",
      "INFO:train_logs.txt:Epoch 0/60 itr 168/170: lr: 0.001000 speed: 1.61(0.46s r0.55)s/itr 0.08h/epoch hand_ssa_loss: 12.0005\n"
     ]
    },
    {
     "name": "stdout",
     "output_type": "stream",
     "text": [
      "only hand\n"
     ]
    },
    {
     "name": "stderr",
     "output_type": "stream",
     "text": [
      "\u001b[92m01-22 17:38:31\u001b[0m Epoch 0/60 itr 169/170: lr: 0.001000 speed: 1.61(0.47s r0.55)s/itr 0.08h/epoch hand_ssa_loss: 21.1742\n",
      "INFO:train_logs.txt:Epoch 0/60 itr 169/170: lr: 0.001000 speed: 1.61(0.47s r0.55)s/itr 0.08h/epoch hand_ssa_loss: 21.1742\n",
      "\u001b[92m01-22 17:38:31\u001b[0m Write snapshot into c:\\Users\\vladi\\RP\\InterWild\\main\\..\\output\\model_dump\\snapshot_0.pth\n",
      "INFO:train_logs.txt:Write snapshot into c:\\Users\\vladi\\RP\\InterWild\\main\\..\\output\\model_dump\\snapshot_0.pth\n",
      "\u001b[92m01-22 17:38:31\u001b[0m [Epoch 1/60] - Training SSA...\n",
      "INFO:train_logs.txt:[Epoch 1/60] - Training SSA...\n",
      "\u001b[92m01-22 17:38:31\u001b[0m Running validation...\n",
      "INFO:train_logs.txt:Running validation...\n",
      "\u001b[92m01-22 17:38:48\u001b[0m Validation source Results:\n",
      "EvaluationReport:\n",
      "PCK:\n",
      "  Mean: 0.721\n",
      "  Min:  0.452\n",
      "  Max:  1.000\n",
      "  Count: 80\n",
      "IOU:\n",
      "  Mean: 0.671\n",
      "  Min:  0.351\n",
      "  Max:  0.815\n",
      "  Count: 80\n",
      "INFO:train_logs.txt:Validation source Results:\n",
      "EvaluationReport:\n",
      "PCK:\n",
      "  Mean: 0.721\n",
      "  Min:  0.452\n",
      "  Max:  1.000\n",
      "  Count: 80\n",
      "IOU:\n",
      "  Mean: 0.671\n",
      "  Min:  0.351\n",
      "  Max:  0.815\n",
      "  Count: 80\n",
      "\u001b[92m01-22 17:38:48\u001b[0m Running validation...\n",
      "INFO:train_logs.txt:Running validation...\n",
      "\u001b[92m01-22 17:38:53\u001b[0m Validation target Results:\n",
      "EvaluationReport:\n",
      "PCK:\n",
      "  Mean: 0.283\n",
      "  Min:  0.000\n",
      "  Max:  0.905\n",
      "  Count: 80\n",
      "IOU:\n",
      "  Mean: 0.281\n",
      "  Min:  0.000\n",
      "  Max:  0.786\n",
      "  Count: 80\n",
      "INFO:train_logs.txt:Validation target Results:\n",
      "EvaluationReport:\n",
      "PCK:\n",
      "  Mean: 0.283\n",
      "  Min:  0.000\n",
      "  Max:  0.905\n",
      "  Count: 80\n",
      "IOU:\n",
      "  Mean: 0.281\n",
      "  Min:  0.000\n",
      "  Max:  0.786\n",
      "  Count: 80\n"
     ]
    },
    {
     "name": "stdout",
     "output_type": "stream",
     "text": [
      "only hand\n"
     ]
    },
    {
     "name": "stderr",
     "output_type": "stream",
     "text": [
      "\u001b[92m01-22 17:38:56\u001b[0m Epoch 1/60 itr 0/170: lr: 0.001000 speed: 1.60(0.47s r0.69)s/itr 0.08h/epoch hand_ssa_loss: 11.7637\n",
      "INFO:train_logs.txt:Epoch 1/60 itr 0/170: lr: 0.001000 speed: 1.60(0.47s r0.69)s/itr 0.08h/epoch hand_ssa_loss: 11.7637\n"
     ]
    },
    {
     "name": "stdout",
     "output_type": "stream",
     "text": [
      "only hand\n"
     ]
    },
    {
     "name": "stderr",
     "output_type": "stream",
     "text": [
      "\u001b[92m01-22 17:38:58\u001b[0m Epoch 1/60 itr 1/170: lr: 0.001000 speed: 1.75(0.46s r0.69)s/itr 0.08h/epoch hand_ssa_loss: 17.7800\n",
      "INFO:train_logs.txt:Epoch 1/60 itr 1/170: lr: 0.001000 speed: 1.75(0.46s r0.69)s/itr 0.08h/epoch hand_ssa_loss: 17.7800\n"
     ]
    },
    {
     "name": "stdout",
     "output_type": "stream",
     "text": [
      "only hand\n"
     ]
    },
    {
     "name": "stderr",
     "output_type": "stream",
     "text": [
      "\u001b[92m01-22 17:38:59\u001b[0m Epoch 1/60 itr 2/170: lr: 0.001000 speed: 1.75(0.46s r0.68)s/itr 0.08h/epoch hand_ssa_loss: 24.0278\n",
      "INFO:train_logs.txt:Epoch 1/60 itr 2/170: lr: 0.001000 speed: 1.75(0.46s r0.68)s/itr 0.08h/epoch hand_ssa_loss: 24.0278\n"
     ]
    },
    {
     "name": "stdout",
     "output_type": "stream",
     "text": [
      "only hand\n"
     ]
    },
    {
     "name": "stderr",
     "output_type": "stream",
     "text": [
      "\u001b[92m01-22 17:39:00\u001b[0m Epoch 1/60 itr 3/170: lr: 0.001000 speed: 1.74(0.46s r0.68)s/itr 0.08h/epoch hand_ssa_loss: 19.7539\n",
      "INFO:train_logs.txt:Epoch 1/60 itr 3/170: lr: 0.001000 speed: 1.74(0.46s r0.68)s/itr 0.08h/epoch hand_ssa_loss: 19.7539\n"
     ]
    },
    {
     "name": "stdout",
     "output_type": "stream",
     "text": [
      "only hand\n"
     ]
    },
    {
     "name": "stderr",
     "output_type": "stream",
     "text": [
      "\u001b[92m01-22 17:39:02\u001b[0m Epoch 1/60 itr 4/170: lr: 0.001000 speed: 1.74(0.46s r0.68)s/itr 0.08h/epoch hand_ssa_loss: 12.9025\n",
      "INFO:train_logs.txt:Epoch 1/60 itr 4/170: lr: 0.001000 speed: 1.74(0.46s r0.68)s/itr 0.08h/epoch hand_ssa_loss: 12.9025\n"
     ]
    },
    {
     "name": "stdout",
     "output_type": "stream",
     "text": [
      "only hand\n"
     ]
    },
    {
     "name": "stderr",
     "output_type": "stream",
     "text": [
      "\u001b[92m01-22 17:39:03\u001b[0m Epoch 1/60 itr 5/170: lr: 0.001000 speed: 1.74(0.46s r0.68)s/itr 0.08h/epoch hand_ssa_loss: 12.0823\n",
      "INFO:train_logs.txt:Epoch 1/60 itr 5/170: lr: 0.001000 speed: 1.74(0.46s r0.68)s/itr 0.08h/epoch hand_ssa_loss: 12.0823\n"
     ]
    },
    {
     "name": "stdout",
     "output_type": "stream",
     "text": [
      "only hand\n"
     ]
    },
    {
     "name": "stderr",
     "output_type": "stream",
     "text": [
      "\u001b[92m01-22 17:39:05\u001b[0m Epoch 1/60 itr 6/170: lr: 0.001000 speed: 1.74(0.46s r0.68)s/itr 0.08h/epoch hand_ssa_loss: 12.1653\n",
      "INFO:train_logs.txt:Epoch 1/60 itr 6/170: lr: 0.001000 speed: 1.74(0.46s r0.68)s/itr 0.08h/epoch hand_ssa_loss: 12.1653\n"
     ]
    },
    {
     "name": "stdout",
     "output_type": "stream",
     "text": [
      "only hand\n"
     ]
    },
    {
     "name": "stderr",
     "output_type": "stream",
     "text": [
      "\u001b[92m01-22 17:39:06\u001b[0m Epoch 1/60 itr 7/170: lr: 0.001000 speed: 1.74(0.46s r0.68)s/itr 0.08h/epoch hand_ssa_loss: 17.4426\n",
      "INFO:train_logs.txt:Epoch 1/60 itr 7/170: lr: 0.001000 speed: 1.74(0.46s r0.68)s/itr 0.08h/epoch hand_ssa_loss: 17.4426\n"
     ]
    },
    {
     "name": "stdout",
     "output_type": "stream",
     "text": [
      "only hand\n"
     ]
    },
    {
     "name": "stderr",
     "output_type": "stream",
     "text": [
      "\u001b[92m01-22 17:39:08\u001b[0m Epoch 1/60 itr 8/170: lr: 0.001000 speed: 1.74(0.45s r0.67)s/itr 0.08h/epoch hand_ssa_loss: 12.7362\n",
      "INFO:train_logs.txt:Epoch 1/60 itr 8/170: lr: 0.001000 speed: 1.74(0.45s r0.67)s/itr 0.08h/epoch hand_ssa_loss: 12.7362\n"
     ]
    },
    {
     "name": "stdout",
     "output_type": "stream",
     "text": [
      "only hand\n"
     ]
    },
    {
     "name": "stderr",
     "output_type": "stream",
     "text": [
      "\u001b[92m01-22 17:39:09\u001b[0m Epoch 1/60 itr 9/170: lr: 0.001000 speed: 1.74(0.46s r0.67)s/itr 0.08h/epoch hand_ssa_loss: 16.5650\n",
      "INFO:train_logs.txt:Epoch 1/60 itr 9/170: lr: 0.001000 speed: 1.74(0.46s r0.67)s/itr 0.08h/epoch hand_ssa_loss: 16.5650\n"
     ]
    },
    {
     "name": "stdout",
     "output_type": "stream",
     "text": [
      "only hand\n"
     ]
    },
    {
     "name": "stderr",
     "output_type": "stream",
     "text": [
      "\u001b[92m01-22 17:39:11\u001b[0m Epoch 1/60 itr 10/170: lr: 0.001000 speed: 1.73(0.45s r0.67)s/itr 0.08h/epoch hand_ssa_loss: 12.9388\n",
      "INFO:train_logs.txt:Epoch 1/60 itr 10/170: lr: 0.001000 speed: 1.73(0.45s r0.67)s/itr 0.08h/epoch hand_ssa_loss: 12.9388\n"
     ]
    },
    {
     "name": "stdout",
     "output_type": "stream",
     "text": [
      "only hand\n"
     ]
    },
    {
     "name": "stderr",
     "output_type": "stream",
     "text": [
      "\u001b[92m01-22 17:39:12\u001b[0m Epoch 1/60 itr 11/170: lr: 0.001000 speed: 1.73(0.45s r0.67)s/itr 0.08h/epoch hand_ssa_loss: 21.9816\n",
      "INFO:train_logs.txt:Epoch 1/60 itr 11/170: lr: 0.001000 speed: 1.73(0.45s r0.67)s/itr 0.08h/epoch hand_ssa_loss: 21.9816\n"
     ]
    },
    {
     "name": "stdout",
     "output_type": "stream",
     "text": [
      "only hand\n"
     ]
    },
    {
     "name": "stderr",
     "output_type": "stream",
     "text": [
      "\u001b[92m01-22 17:39:14\u001b[0m Epoch 1/60 itr 12/170: lr: 0.001000 speed: 1.73(0.45s r0.67)s/itr 0.08h/epoch hand_ssa_loss: 14.8402\n",
      "INFO:train_logs.txt:Epoch 1/60 itr 12/170: lr: 0.001000 speed: 1.73(0.45s r0.67)s/itr 0.08h/epoch hand_ssa_loss: 14.8402\n"
     ]
    },
    {
     "name": "stdout",
     "output_type": "stream",
     "text": [
      "only hand\n"
     ]
    },
    {
     "name": "stderr",
     "output_type": "stream",
     "text": [
      "\u001b[92m01-22 17:39:15\u001b[0m Epoch 1/60 itr 13/170: lr: 0.001000 speed: 1.73(0.45s r0.66)s/itr 0.08h/epoch hand_ssa_loss: 12.8710\n",
      "INFO:train_logs.txt:Epoch 1/60 itr 13/170: lr: 0.001000 speed: 1.73(0.45s r0.66)s/itr 0.08h/epoch hand_ssa_loss: 12.8710\n"
     ]
    },
    {
     "name": "stdout",
     "output_type": "stream",
     "text": [
      "only hand\n"
     ]
    },
    {
     "name": "stderr",
     "output_type": "stream",
     "text": [
      "\u001b[92m01-22 17:39:17\u001b[0m Epoch 1/60 itr 14/170: lr: 0.001000 speed: 1.73(0.45s r0.66)s/itr 0.08h/epoch hand_ssa_loss: 30.7169\n",
      "INFO:train_logs.txt:Epoch 1/60 itr 14/170: lr: 0.001000 speed: 1.73(0.45s r0.66)s/itr 0.08h/epoch hand_ssa_loss: 30.7169\n"
     ]
    },
    {
     "name": "stdout",
     "output_type": "stream",
     "text": [
      "only hand\n"
     ]
    },
    {
     "name": "stderr",
     "output_type": "stream",
     "text": [
      "\u001b[92m01-22 17:39:18\u001b[0m Epoch 1/60 itr 15/170: lr: 0.001000 speed: 1.73(0.45s r0.66)s/itr 0.08h/epoch hand_ssa_loss: 16.8587\n",
      "INFO:train_logs.txt:Epoch 1/60 itr 15/170: lr: 0.001000 speed: 1.73(0.45s r0.66)s/itr 0.08h/epoch hand_ssa_loss: 16.8587\n"
     ]
    },
    {
     "name": "stdout",
     "output_type": "stream",
     "text": [
      "only hand\n"
     ]
    },
    {
     "name": "stderr",
     "output_type": "stream",
     "text": [
      "\u001b[92m01-22 17:39:19\u001b[0m Epoch 1/60 itr 16/170: lr: 0.001000 speed: 1.72(0.45s r0.66)s/itr 0.08h/epoch hand_ssa_loss: 12.3361\n",
      "INFO:train_logs.txt:Epoch 1/60 itr 16/170: lr: 0.001000 speed: 1.72(0.45s r0.66)s/itr 0.08h/epoch hand_ssa_loss: 12.3361\n"
     ]
    },
    {
     "name": "stdout",
     "output_type": "stream",
     "text": [
      "only hand\n"
     ]
    },
    {
     "name": "stderr",
     "output_type": "stream",
     "text": [
      "\u001b[92m01-22 17:39:21\u001b[0m Epoch 1/60 itr 17/170: lr: 0.001000 speed: 1.72(0.44s r0.66)s/itr 0.08h/epoch hand_ssa_loss: 14.2696\n",
      "INFO:train_logs.txt:Epoch 1/60 itr 17/170: lr: 0.001000 speed: 1.72(0.44s r0.66)s/itr 0.08h/epoch hand_ssa_loss: 14.2696\n"
     ]
    },
    {
     "name": "stdout",
     "output_type": "stream",
     "text": [
      "only hand\n"
     ]
    },
    {
     "name": "stderr",
     "output_type": "stream",
     "text": [
      "\u001b[92m01-22 17:39:23\u001b[0m Epoch 1/60 itr 18/170: lr: 0.001000 speed: 1.72(0.44s r0.66)s/itr 0.08h/epoch hand_ssa_loss: 14.1997\n",
      "INFO:train_logs.txt:Epoch 1/60 itr 18/170: lr: 0.001000 speed: 1.72(0.44s r0.66)s/itr 0.08h/epoch hand_ssa_loss: 14.1997\n"
     ]
    },
    {
     "name": "stdout",
     "output_type": "stream",
     "text": [
      "only hand\n"
     ]
    },
    {
     "name": "stderr",
     "output_type": "stream",
     "text": [
      "\u001b[92m01-22 17:39:24\u001b[0m Epoch 1/60 itr 19/170: lr: 0.001000 speed: 1.72(0.44s r0.66)s/itr 0.08h/epoch hand_ssa_loss: 12.4844\n",
      "INFO:train_logs.txt:Epoch 1/60 itr 19/170: lr: 0.001000 speed: 1.72(0.44s r0.66)s/itr 0.08h/epoch hand_ssa_loss: 12.4844\n"
     ]
    },
    {
     "name": "stdout",
     "output_type": "stream",
     "text": [
      "only hand\n"
     ]
    },
    {
     "name": "stderr",
     "output_type": "stream",
     "text": [
      "\u001b[92m01-22 17:39:26\u001b[0m Epoch 1/60 itr 20/170: lr: 0.001000 speed: 1.72(0.44s r0.65)s/itr 0.08h/epoch hand_ssa_loss: 12.2748\n",
      "INFO:train_logs.txt:Epoch 1/60 itr 20/170: lr: 0.001000 speed: 1.72(0.44s r0.65)s/itr 0.08h/epoch hand_ssa_loss: 12.2748\n"
     ]
    },
    {
     "name": "stdout",
     "output_type": "stream",
     "text": [
      "only hand\n"
     ]
    },
    {
     "name": "stderr",
     "output_type": "stream",
     "text": [
      "\u001b[92m01-22 17:39:27\u001b[0m Epoch 1/60 itr 21/170: lr: 0.001000 speed: 1.72(0.44s r0.65)s/itr 0.08h/epoch hand_ssa_loss: 11.0976\n",
      "INFO:train_logs.txt:Epoch 1/60 itr 21/170: lr: 0.001000 speed: 1.72(0.44s r0.65)s/itr 0.08h/epoch hand_ssa_loss: 11.0976\n"
     ]
    },
    {
     "name": "stdout",
     "output_type": "stream",
     "text": [
      "only hand\n"
     ]
    },
    {
     "name": "stderr",
     "output_type": "stream",
     "text": [
      "\u001b[92m01-22 17:39:29\u001b[0m Epoch 1/60 itr 22/170: lr: 0.001000 speed: 1.72(0.44s r0.65)s/itr 0.08h/epoch hand_ssa_loss: 12.5411\n",
      "INFO:train_logs.txt:Epoch 1/60 itr 22/170: lr: 0.001000 speed: 1.72(0.44s r0.65)s/itr 0.08h/epoch hand_ssa_loss: 12.5411\n"
     ]
    },
    {
     "name": "stdout",
     "output_type": "stream",
     "text": [
      "only hand\n"
     ]
    },
    {
     "name": "stderr",
     "output_type": "stream",
     "text": [
      "\u001b[92m01-22 17:39:30\u001b[0m Epoch 1/60 itr 23/170: lr: 0.001000 speed: 1.72(0.44s r0.65)s/itr 0.08h/epoch hand_ssa_loss: 12.5994\n",
      "INFO:train_logs.txt:Epoch 1/60 itr 23/170: lr: 0.001000 speed: 1.72(0.44s r0.65)s/itr 0.08h/epoch hand_ssa_loss: 12.5994\n"
     ]
    },
    {
     "name": "stdout",
     "output_type": "stream",
     "text": [
      "only hand\n"
     ]
    },
    {
     "name": "stderr",
     "output_type": "stream",
     "text": [
      "\u001b[92m01-22 17:39:32\u001b[0m Epoch 1/60 itr 24/170: lr: 0.001000 speed: 1.72(0.44s r0.65)s/itr 0.08h/epoch hand_ssa_loss: 9.8976\n",
      "INFO:train_logs.txt:Epoch 1/60 itr 24/170: lr: 0.001000 speed: 1.72(0.44s r0.65)s/itr 0.08h/epoch hand_ssa_loss: 9.8976\n"
     ]
    },
    {
     "name": "stdout",
     "output_type": "stream",
     "text": [
      "only hand\n"
     ]
    },
    {
     "name": "stderr",
     "output_type": "stream",
     "text": [
      "\u001b[92m01-22 17:39:34\u001b[0m Epoch 1/60 itr 25/170: lr: 0.001000 speed: 1.72(0.44s r0.65)s/itr 0.08h/epoch hand_ssa_loss: 12.2124\n",
      "INFO:train_logs.txt:Epoch 1/60 itr 25/170: lr: 0.001000 speed: 1.72(0.44s r0.65)s/itr 0.08h/epoch hand_ssa_loss: 12.2124\n"
     ]
    },
    {
     "name": "stdout",
     "output_type": "stream",
     "text": [
      "only hand\n"
     ]
    },
    {
     "name": "stderr",
     "output_type": "stream",
     "text": [
      "\u001b[92m01-22 17:39:36\u001b[0m Epoch 1/60 itr 26/170: lr: 0.001000 speed: 1.72(0.45s r0.65)s/itr 0.08h/epoch hand_ssa_loss: 9.8143\n",
      "INFO:train_logs.txt:Epoch 1/60 itr 26/170: lr: 0.001000 speed: 1.72(0.45s r0.65)s/itr 0.08h/epoch hand_ssa_loss: 9.8143\n"
     ]
    },
    {
     "name": "stdout",
     "output_type": "stream",
     "text": [
      "only hand\n"
     ]
    },
    {
     "name": "stderr",
     "output_type": "stream",
     "text": [
      "\u001b[92m01-22 17:39:38\u001b[0m Epoch 1/60 itr 27/170: lr: 0.001000 speed: 1.72(0.45s r0.65)s/itr 0.08h/epoch hand_ssa_loss: 10.1289\n",
      "INFO:train_logs.txt:Epoch 1/60 itr 27/170: lr: 0.001000 speed: 1.72(0.45s r0.65)s/itr 0.08h/epoch hand_ssa_loss: 10.1289\n"
     ]
    },
    {
     "name": "stdout",
     "output_type": "stream",
     "text": [
      "only hand\n"
     ]
    },
    {
     "name": "stderr",
     "output_type": "stream",
     "text": [
      "\u001b[92m01-22 17:39:41\u001b[0m Epoch 1/60 itr 28/170: lr: 0.001000 speed: 1.72(0.45s r0.65)s/itr 0.08h/epoch hand_ssa_loss: 11.7350\n",
      "INFO:train_logs.txt:Epoch 1/60 itr 28/170: lr: 0.001000 speed: 1.72(0.45s r0.65)s/itr 0.08h/epoch hand_ssa_loss: 11.7350\n"
     ]
    },
    {
     "name": "stdout",
     "output_type": "stream",
     "text": [
      "only hand\n"
     ]
    },
    {
     "name": "stderr",
     "output_type": "stream",
     "text": [
      "\u001b[92m01-22 17:39:43\u001b[0m Epoch 1/60 itr 29/170: lr: 0.001000 speed: 1.73(0.45s r0.65)s/itr 0.08h/epoch hand_ssa_loss: 9.7853\n",
      "INFO:train_logs.txt:Epoch 1/60 itr 29/170: lr: 0.001000 speed: 1.73(0.45s r0.65)s/itr 0.08h/epoch hand_ssa_loss: 9.7853\n"
     ]
    },
    {
     "name": "stdout",
     "output_type": "stream",
     "text": [
      "only hand\n"
     ]
    },
    {
     "name": "stderr",
     "output_type": "stream",
     "text": [
      "\u001b[92m01-22 17:39:45\u001b[0m Epoch 1/60 itr 30/170: lr: 0.001000 speed: 1.73(0.45s r0.65)s/itr 0.08h/epoch hand_ssa_loss: 8.9530\n",
      "INFO:train_logs.txt:Epoch 1/60 itr 30/170: lr: 0.001000 speed: 1.73(0.45s r0.65)s/itr 0.08h/epoch hand_ssa_loss: 8.9530\n"
     ]
    },
    {
     "name": "stdout",
     "output_type": "stream",
     "text": [
      "only hand\n"
     ]
    },
    {
     "name": "stderr",
     "output_type": "stream",
     "text": [
      "\u001b[92m01-22 17:39:46\u001b[0m Epoch 1/60 itr 31/170: lr: 0.001000 speed: 1.73(0.44s r0.65)s/itr 0.08h/epoch hand_ssa_loss: 12.9407\n",
      "INFO:train_logs.txt:Epoch 1/60 itr 31/170: lr: 0.001000 speed: 1.73(0.44s r0.65)s/itr 0.08h/epoch hand_ssa_loss: 12.9407\n"
     ]
    },
    {
     "name": "stdout",
     "output_type": "stream",
     "text": [
      "only hand\n"
     ]
    },
    {
     "name": "stderr",
     "output_type": "stream",
     "text": [
      "\u001b[92m01-22 17:39:48\u001b[0m Epoch 1/60 itr 32/170: lr: 0.001000 speed: 1.73(0.44s r0.65)s/itr 0.08h/epoch hand_ssa_loss: 14.4892\n",
      "INFO:train_logs.txt:Epoch 1/60 itr 32/170: lr: 0.001000 speed: 1.73(0.44s r0.65)s/itr 0.08h/epoch hand_ssa_loss: 14.4892\n"
     ]
    },
    {
     "name": "stdout",
     "output_type": "stream",
     "text": [
      "only hand\n"
     ]
    },
    {
     "name": "stderr",
     "output_type": "stream",
     "text": [
      "\u001b[92m01-22 17:39:49\u001b[0m Epoch 1/60 itr 33/170: lr: 0.001000 speed: 1.73(0.44s r0.65)s/itr 0.08h/epoch hand_ssa_loss: 17.6850\n",
      "INFO:train_logs.txt:Epoch 1/60 itr 33/170: lr: 0.001000 speed: 1.73(0.44s r0.65)s/itr 0.08h/epoch hand_ssa_loss: 17.6850\n"
     ]
    },
    {
     "name": "stdout",
     "output_type": "stream",
     "text": [
      "only hand\n"
     ]
    },
    {
     "name": "stderr",
     "output_type": "stream",
     "text": [
      "\u001b[92m01-22 17:39:51\u001b[0m Epoch 1/60 itr 34/170: lr: 0.001000 speed: 1.73(0.44s r0.65)s/itr 0.08h/epoch hand_ssa_loss: 13.2310\n",
      "INFO:train_logs.txt:Epoch 1/60 itr 34/170: lr: 0.001000 speed: 1.73(0.44s r0.65)s/itr 0.08h/epoch hand_ssa_loss: 13.2310\n"
     ]
    },
    {
     "name": "stdout",
     "output_type": "stream",
     "text": [
      "only hand\n"
     ]
    },
    {
     "name": "stderr",
     "output_type": "stream",
     "text": [
      "\u001b[92m01-22 17:39:52\u001b[0m Epoch 1/60 itr 35/170: lr: 0.001000 speed: 1.72(0.44s r0.64)s/itr 0.08h/epoch hand_ssa_loss: 9.8473\n",
      "INFO:train_logs.txt:Epoch 1/60 itr 35/170: lr: 0.001000 speed: 1.72(0.44s r0.64)s/itr 0.08h/epoch hand_ssa_loss: 9.8473\n"
     ]
    },
    {
     "name": "stdout",
     "output_type": "stream",
     "text": [
      "only hand\n"
     ]
    },
    {
     "name": "stderr",
     "output_type": "stream",
     "text": [
      "\u001b[92m01-22 17:39:54\u001b[0m Epoch 1/60 itr 36/170: lr: 0.001000 speed: 1.72(0.44s r0.64)s/itr 0.08h/epoch hand_ssa_loss: 16.4804\n",
      "INFO:train_logs.txt:Epoch 1/60 itr 36/170: lr: 0.001000 speed: 1.72(0.44s r0.64)s/itr 0.08h/epoch hand_ssa_loss: 16.4804\n"
     ]
    },
    {
     "name": "stdout",
     "output_type": "stream",
     "text": [
      "only hand\n"
     ]
    },
    {
     "name": "stderr",
     "output_type": "stream",
     "text": [
      "\u001b[92m01-22 17:39:56\u001b[0m Epoch 1/60 itr 37/170: lr: 0.001000 speed: 1.73(0.43s r0.65)s/itr 0.08h/epoch hand_ssa_loss: 12.0315\n",
      "INFO:train_logs.txt:Epoch 1/60 itr 37/170: lr: 0.001000 speed: 1.73(0.43s r0.65)s/itr 0.08h/epoch hand_ssa_loss: 12.0315\n"
     ]
    },
    {
     "name": "stdout",
     "output_type": "stream",
     "text": [
      "only hand\n"
     ]
    },
    {
     "name": "stderr",
     "output_type": "stream",
     "text": [
      "\u001b[92m01-22 17:39:59\u001b[0m Epoch 1/60 itr 38/170: lr: 0.001000 speed: 1.73(0.43s r0.65)s/itr 0.08h/epoch hand_ssa_loss: 10.4375\n",
      "INFO:train_logs.txt:Epoch 1/60 itr 38/170: lr: 0.001000 speed: 1.73(0.43s r0.65)s/itr 0.08h/epoch hand_ssa_loss: 10.4375\n"
     ]
    },
    {
     "name": "stdout",
     "output_type": "stream",
     "text": [
      "only hand\n"
     ]
    },
    {
     "name": "stderr",
     "output_type": "stream",
     "text": [
      "\u001b[92m01-22 17:40:01\u001b[0m Epoch 1/60 itr 39/170: lr: 0.001000 speed: 1.73(0.43s r0.65)s/itr 0.08h/epoch hand_ssa_loss: 13.9220\n",
      "INFO:train_logs.txt:Epoch 1/60 itr 39/170: lr: 0.001000 speed: 1.73(0.43s r0.65)s/itr 0.08h/epoch hand_ssa_loss: 13.9220\n"
     ]
    },
    {
     "name": "stdout",
     "output_type": "stream",
     "text": [
      "only hand\n"
     ]
    },
    {
     "name": "stderr",
     "output_type": "stream",
     "text": [
      "\u001b[92m01-22 17:40:05\u001b[0m Epoch 1/60 itr 40/170: lr: 0.001000 speed: 1.73(0.43s r0.66)s/itr 0.08h/epoch hand_ssa_loss: 12.0659\n",
      "INFO:train_logs.txt:Epoch 1/60 itr 40/170: lr: 0.001000 speed: 1.73(0.43s r0.66)s/itr 0.08h/epoch hand_ssa_loss: 12.0659\n"
     ]
    },
    {
     "name": "stdout",
     "output_type": "stream",
     "text": [
      "only hand\n"
     ]
    },
    {
     "name": "stderr",
     "output_type": "stream",
     "text": [
      "\u001b[92m01-22 17:40:09\u001b[0m Epoch 1/60 itr 41/170: lr: 0.001000 speed: 1.74(0.43s r0.67)s/itr 0.08h/epoch hand_ssa_loss: 11.4094\n",
      "INFO:train_logs.txt:Epoch 1/60 itr 41/170: lr: 0.001000 speed: 1.74(0.43s r0.67)s/itr 0.08h/epoch hand_ssa_loss: 11.4094\n"
     ]
    },
    {
     "name": "stdout",
     "output_type": "stream",
     "text": [
      "only hand\n"
     ]
    },
    {
     "name": "stderr",
     "output_type": "stream",
     "text": [
      "\u001b[92m01-22 17:40:11\u001b[0m Epoch 1/60 itr 42/170: lr: 0.001000 speed: 1.76(0.43s r0.67)s/itr 0.08h/epoch hand_ssa_loss: 11.0855\n",
      "INFO:train_logs.txt:Epoch 1/60 itr 42/170: lr: 0.001000 speed: 1.76(0.43s r0.67)s/itr 0.08h/epoch hand_ssa_loss: 11.0855\n"
     ]
    },
    {
     "name": "stdout",
     "output_type": "stream",
     "text": [
      "only hand\n"
     ]
    },
    {
     "name": "stderr",
     "output_type": "stream",
     "text": [
      "\u001b[92m01-22 17:40:12\u001b[0m Epoch 1/60 itr 43/170: lr: 0.001000 speed: 1.76(0.43s r0.66)s/itr 0.08h/epoch hand_ssa_loss: 14.8712\n",
      "INFO:train_logs.txt:Epoch 1/60 itr 43/170: lr: 0.001000 speed: 1.76(0.43s r0.66)s/itr 0.08h/epoch hand_ssa_loss: 14.8712\n"
     ]
    },
    {
     "name": "stdout",
     "output_type": "stream",
     "text": [
      "only hand\n"
     ]
    },
    {
     "name": "stderr",
     "output_type": "stream",
     "text": [
      "\u001b[92m01-22 17:40:14\u001b[0m Epoch 1/60 itr 44/170: lr: 0.001000 speed: 1.75(0.42s r0.66)s/itr 0.08h/epoch hand_ssa_loss: 15.1426\n",
      "INFO:train_logs.txt:Epoch 1/60 itr 44/170: lr: 0.001000 speed: 1.75(0.42s r0.66)s/itr 0.08h/epoch hand_ssa_loss: 15.1426\n"
     ]
    },
    {
     "name": "stdout",
     "output_type": "stream",
     "text": [
      "only hand\n"
     ]
    },
    {
     "name": "stderr",
     "output_type": "stream",
     "text": [
      "\u001b[92m01-22 17:40:15\u001b[0m Epoch 1/60 itr 45/170: lr: 0.001000 speed: 1.75(0.42s r0.66)s/itr 0.08h/epoch hand_ssa_loss: 17.0443\n",
      "INFO:train_logs.txt:Epoch 1/60 itr 45/170: lr: 0.001000 speed: 1.75(0.42s r0.66)s/itr 0.08h/epoch hand_ssa_loss: 17.0443\n"
     ]
    },
    {
     "name": "stdout",
     "output_type": "stream",
     "text": [
      "only hand\n"
     ]
    },
    {
     "name": "stderr",
     "output_type": "stream",
     "text": [
      "\u001b[92m01-22 17:40:17\u001b[0m Epoch 1/60 itr 46/170: lr: 0.001000 speed: 1.75(0.42s r0.66)s/itr 0.08h/epoch hand_ssa_loss: 11.1116\n",
      "INFO:train_logs.txt:Epoch 1/60 itr 46/170: lr: 0.001000 speed: 1.75(0.42s r0.66)s/itr 0.08h/epoch hand_ssa_loss: 11.1116\n"
     ]
    },
    {
     "name": "stdout",
     "output_type": "stream",
     "text": [
      "only hand\n"
     ]
    },
    {
     "name": "stderr",
     "output_type": "stream",
     "text": [
      "\u001b[92m01-22 17:40:19\u001b[0m Epoch 1/60 itr 47/170: lr: 0.001000 speed: 1.75(0.42s r0.66)s/itr 0.08h/epoch hand_ssa_loss: 10.5504\n",
      "INFO:train_logs.txt:Epoch 1/60 itr 47/170: lr: 0.001000 speed: 1.75(0.42s r0.66)s/itr 0.08h/epoch hand_ssa_loss: 10.5504\n"
     ]
    },
    {
     "name": "stdout",
     "output_type": "stream",
     "text": [
      "only hand\n"
     ]
    },
    {
     "name": "stderr",
     "output_type": "stream",
     "text": [
      "\u001b[92m01-22 17:40:20\u001b[0m Epoch 1/60 itr 48/170: lr: 0.001000 speed: 1.75(0.42s r0.65)s/itr 0.08h/epoch hand_ssa_loss: 14.0722\n",
      "INFO:train_logs.txt:Epoch 1/60 itr 48/170: lr: 0.001000 speed: 1.75(0.42s r0.65)s/itr 0.08h/epoch hand_ssa_loss: 14.0722\n"
     ]
    },
    {
     "name": "stdout",
     "output_type": "stream",
     "text": [
      "only hand\n"
     ]
    },
    {
     "name": "stderr",
     "output_type": "stream",
     "text": [
      "\u001b[92m01-22 17:40:21\u001b[0m Epoch 1/60 itr 49/170: lr: 0.001000 speed: 1.75(0.42s r0.65)s/itr 0.08h/epoch hand_ssa_loss: 13.3305\n",
      "INFO:train_logs.txt:Epoch 1/60 itr 49/170: lr: 0.001000 speed: 1.75(0.42s r0.65)s/itr 0.08h/epoch hand_ssa_loss: 13.3305\n"
     ]
    },
    {
     "name": "stdout",
     "output_type": "stream",
     "text": [
      "only hand\n"
     ]
    },
    {
     "name": "stderr",
     "output_type": "stream",
     "text": [
      "\u001b[92m01-22 17:40:23\u001b[0m Epoch 1/60 itr 50/170: lr: 0.001000 speed: 1.75(0.41s r0.65)s/itr 0.08h/epoch hand_ssa_loss: 9.7577\n",
      "INFO:train_logs.txt:Epoch 1/60 itr 50/170: lr: 0.001000 speed: 1.75(0.41s r0.65)s/itr 0.08h/epoch hand_ssa_loss: 9.7577\n"
     ]
    },
    {
     "name": "stdout",
     "output_type": "stream",
     "text": [
      "only hand\n"
     ]
    },
    {
     "name": "stderr",
     "output_type": "stream",
     "text": [
      "\u001b[92m01-22 17:40:25\u001b[0m Epoch 1/60 itr 51/170: lr: 0.001000 speed: 1.75(0.41s r0.65)s/itr 0.08h/epoch hand_ssa_loss: 15.9906\n",
      "INFO:train_logs.txt:Epoch 1/60 itr 51/170: lr: 0.001000 speed: 1.75(0.41s r0.65)s/itr 0.08h/epoch hand_ssa_loss: 15.9906\n"
     ]
    },
    {
     "name": "stdout",
     "output_type": "stream",
     "text": [
      "only hand\n"
     ]
    },
    {
     "name": "stderr",
     "output_type": "stream",
     "text": [
      "\u001b[92m01-22 17:40:26\u001b[0m Epoch 1/60 itr 52/170: lr: 0.001000 speed: 1.75(0.41s r0.65)s/itr 0.08h/epoch hand_ssa_loss: 12.6116\n",
      "INFO:train_logs.txt:Epoch 1/60 itr 52/170: lr: 0.001000 speed: 1.75(0.41s r0.65)s/itr 0.08h/epoch hand_ssa_loss: 12.6116\n"
     ]
    },
    {
     "name": "stdout",
     "output_type": "stream",
     "text": [
      "only hand\n"
     ]
    },
    {
     "name": "stderr",
     "output_type": "stream",
     "text": [
      "\u001b[92m01-22 17:40:27\u001b[0m Epoch 1/60 itr 53/170: lr: 0.001000 speed: 1.74(0.41s r0.64)s/itr 0.08h/epoch hand_ssa_loss: 18.2838\n",
      "INFO:train_logs.txt:Epoch 1/60 itr 53/170: lr: 0.001000 speed: 1.74(0.41s r0.64)s/itr 0.08h/epoch hand_ssa_loss: 18.2838\n"
     ]
    },
    {
     "name": "stdout",
     "output_type": "stream",
     "text": [
      "only hand\n"
     ]
    },
    {
     "name": "stderr",
     "output_type": "stream",
     "text": [
      "\u001b[92m01-22 17:40:29\u001b[0m Epoch 1/60 itr 54/170: lr: 0.001000 speed: 1.74(0.41s r0.64)s/itr 0.08h/epoch hand_ssa_loss: 11.7905\n",
      "INFO:train_logs.txt:Epoch 1/60 itr 54/170: lr: 0.001000 speed: 1.74(0.41s r0.64)s/itr 0.08h/epoch hand_ssa_loss: 11.7905\n"
     ]
    },
    {
     "name": "stdout",
     "output_type": "stream",
     "text": [
      "only hand\n"
     ]
    },
    {
     "name": "stderr",
     "output_type": "stream",
     "text": [
      "\u001b[92m01-22 17:40:30\u001b[0m Epoch 1/60 itr 55/170: lr: 0.001000 speed: 1.74(0.41s r0.64)s/itr 0.08h/epoch hand_ssa_loss: 17.0498\n",
      "INFO:train_logs.txt:Epoch 1/60 itr 55/170: lr: 0.001000 speed: 1.74(0.41s r0.64)s/itr 0.08h/epoch hand_ssa_loss: 17.0498\n"
     ]
    },
    {
     "name": "stdout",
     "output_type": "stream",
     "text": [
      "only hand\n"
     ]
    },
    {
     "name": "stderr",
     "output_type": "stream",
     "text": [
      "\u001b[92m01-22 17:40:31\u001b[0m Epoch 1/60 itr 56/170: lr: 0.001000 speed: 1.74(0.41s r0.64)s/itr 0.08h/epoch hand_ssa_loss: 17.5891\n",
      "INFO:train_logs.txt:Epoch 1/60 itr 56/170: lr: 0.001000 speed: 1.74(0.41s r0.64)s/itr 0.08h/epoch hand_ssa_loss: 17.5891\n"
     ]
    },
    {
     "name": "stdout",
     "output_type": "stream",
     "text": [
      "only hand\n"
     ]
    },
    {
     "name": "stderr",
     "output_type": "stream",
     "text": [
      "\u001b[92m01-22 17:40:33\u001b[0m Epoch 1/60 itr 57/170: lr: 0.001000 speed: 1.74(0.41s r0.64)s/itr 0.08h/epoch hand_ssa_loss: 14.2716\n",
      "INFO:train_logs.txt:Epoch 1/60 itr 57/170: lr: 0.001000 speed: 1.74(0.41s r0.64)s/itr 0.08h/epoch hand_ssa_loss: 14.2716\n"
     ]
    },
    {
     "name": "stdout",
     "output_type": "stream",
     "text": [
      "only hand\n"
     ]
    },
    {
     "name": "stderr",
     "output_type": "stream",
     "text": [
      "\u001b[92m01-22 17:40:34\u001b[0m Epoch 1/60 itr 58/170: lr: 0.001000 speed: 1.74(0.41s r0.64)s/itr 0.08h/epoch hand_ssa_loss: 16.6861\n",
      "INFO:train_logs.txt:Epoch 1/60 itr 58/170: lr: 0.001000 speed: 1.74(0.41s r0.64)s/itr 0.08h/epoch hand_ssa_loss: 16.6861\n"
     ]
    },
    {
     "name": "stdout",
     "output_type": "stream",
     "text": [
      "only hand\n"
     ]
    },
    {
     "name": "stderr",
     "output_type": "stream",
     "text": [
      "\u001b[92m01-22 17:40:37\u001b[0m Epoch 1/60 itr 59/170: lr: 0.001000 speed: 1.73(0.41s r0.64)s/itr 0.08h/epoch hand_ssa_loss: 17.9231\n",
      "INFO:train_logs.txt:Epoch 1/60 itr 59/170: lr: 0.001000 speed: 1.73(0.41s r0.64)s/itr 0.08h/epoch hand_ssa_loss: 17.9231\n"
     ]
    },
    {
     "name": "stdout",
     "output_type": "stream",
     "text": [
      "only hand\n"
     ]
    },
    {
     "name": "stderr",
     "output_type": "stream",
     "text": [
      "\u001b[92m01-22 17:40:39\u001b[0m Epoch 1/60 itr 60/170: lr: 0.001000 speed: 1.74(0.42s r0.64)s/itr 0.08h/epoch hand_ssa_loss: 15.1302\n",
      "INFO:train_logs.txt:Epoch 1/60 itr 60/170: lr: 0.001000 speed: 1.74(0.42s r0.64)s/itr 0.08h/epoch hand_ssa_loss: 15.1302\n"
     ]
    },
    {
     "name": "stdout",
     "output_type": "stream",
     "text": [
      "only hand\n"
     ]
    },
    {
     "name": "stderr",
     "output_type": "stream",
     "text": [
      "\u001b[92m01-22 17:40:40\u001b[0m Epoch 1/60 itr 61/170: lr: 0.001000 speed: 1.74(0.42s r0.63)s/itr 0.08h/epoch hand_ssa_loss: 12.1951\n",
      "INFO:train_logs.txt:Epoch 1/60 itr 61/170: lr: 0.001000 speed: 1.74(0.42s r0.63)s/itr 0.08h/epoch hand_ssa_loss: 12.1951\n"
     ]
    },
    {
     "name": "stdout",
     "output_type": "stream",
     "text": [
      "only hand\n"
     ]
    },
    {
     "name": "stderr",
     "output_type": "stream",
     "text": [
      "\u001b[92m01-22 17:40:41\u001b[0m Epoch 1/60 itr 62/170: lr: 0.001000 speed: 1.74(0.42s r0.63)s/itr 0.08h/epoch hand_ssa_loss: 9.8082\n",
      "INFO:train_logs.txt:Epoch 1/60 itr 62/170: lr: 0.001000 speed: 1.74(0.42s r0.63)s/itr 0.08h/epoch hand_ssa_loss: 9.8082\n"
     ]
    },
    {
     "name": "stdout",
     "output_type": "stream",
     "text": [
      "only hand\n"
     ]
    },
    {
     "name": "stderr",
     "output_type": "stream",
     "text": [
      "\u001b[92m01-22 17:40:43\u001b[0m Epoch 1/60 itr 63/170: lr: 0.001000 speed: 1.73(0.42s r0.63)s/itr 0.08h/epoch hand_ssa_loss: 15.5130\n",
      "INFO:train_logs.txt:Epoch 1/60 itr 63/170: lr: 0.001000 speed: 1.73(0.42s r0.63)s/itr 0.08h/epoch hand_ssa_loss: 15.5130\n"
     ]
    },
    {
     "name": "stdout",
     "output_type": "stream",
     "text": [
      "only hand\n"
     ]
    },
    {
     "name": "stderr",
     "output_type": "stream",
     "text": [
      "\u001b[92m01-22 17:40:45\u001b[0m Epoch 1/60 itr 64/170: lr: 0.001000 speed: 1.73(0.41s r0.63)s/itr 0.08h/epoch hand_ssa_loss: 14.6095\n",
      "INFO:train_logs.txt:Epoch 1/60 itr 64/170: lr: 0.001000 speed: 1.73(0.41s r0.63)s/itr 0.08h/epoch hand_ssa_loss: 14.6095\n"
     ]
    },
    {
     "name": "stdout",
     "output_type": "stream",
     "text": [
      "only hand\n"
     ]
    },
    {
     "name": "stderr",
     "output_type": "stream",
     "text": [
      "\u001b[92m01-22 17:40:46\u001b[0m Epoch 1/60 itr 65/170: lr: 0.001000 speed: 1.73(0.41s r0.63)s/itr 0.08h/epoch hand_ssa_loss: 14.7686\n",
      "INFO:train_logs.txt:Epoch 1/60 itr 65/170: lr: 0.001000 speed: 1.73(0.41s r0.63)s/itr 0.08h/epoch hand_ssa_loss: 14.7686\n"
     ]
    },
    {
     "name": "stdout",
     "output_type": "stream",
     "text": [
      "only hand\n"
     ]
    },
    {
     "name": "stderr",
     "output_type": "stream",
     "text": [
      "\u001b[92m01-22 17:40:48\u001b[0m Epoch 1/60 itr 66/170: lr: 0.001000 speed: 1.73(0.41s r0.63)s/itr 0.08h/epoch hand_ssa_loss: 11.8691\n",
      "INFO:train_logs.txt:Epoch 1/60 itr 66/170: lr: 0.001000 speed: 1.73(0.41s r0.63)s/itr 0.08h/epoch hand_ssa_loss: 11.8691\n"
     ]
    },
    {
     "name": "stdout",
     "output_type": "stream",
     "text": [
      "only hand\n"
     ]
    },
    {
     "name": "stderr",
     "output_type": "stream",
     "text": [
      "\u001b[92m01-22 17:40:50\u001b[0m Epoch 1/60 itr 67/170: lr: 0.001000 speed: 1.73(0.41s r0.63)s/itr 0.08h/epoch hand_ssa_loss: 20.0688\n",
      "INFO:train_logs.txt:Epoch 1/60 itr 67/170: lr: 0.001000 speed: 1.73(0.41s r0.63)s/itr 0.08h/epoch hand_ssa_loss: 20.0688\n"
     ]
    },
    {
     "name": "stdout",
     "output_type": "stream",
     "text": [
      "only hand\n"
     ]
    },
    {
     "name": "stderr",
     "output_type": "stream",
     "text": [
      "\u001b[92m01-22 17:40:51\u001b[0m Epoch 1/60 itr 68/170: lr: 0.001000 speed: 1.73(0.41s r0.62)s/itr 0.08h/epoch hand_ssa_loss: 15.2848\n",
      "INFO:train_logs.txt:Epoch 1/60 itr 68/170: lr: 0.001000 speed: 1.73(0.41s r0.62)s/itr 0.08h/epoch hand_ssa_loss: 15.2848\n"
     ]
    },
    {
     "name": "stdout",
     "output_type": "stream",
     "text": [
      "only hand\n"
     ]
    },
    {
     "name": "stderr",
     "output_type": "stream",
     "text": [
      "\u001b[92m01-22 17:40:53\u001b[0m Epoch 1/60 itr 69/170: lr: 0.001000 speed: 1.73(0.42s r0.62)s/itr 0.08h/epoch hand_ssa_loss: 19.5241\n",
      "INFO:train_logs.txt:Epoch 1/60 itr 69/170: lr: 0.001000 speed: 1.73(0.42s r0.62)s/itr 0.08h/epoch hand_ssa_loss: 19.5241\n"
     ]
    },
    {
     "name": "stdout",
     "output_type": "stream",
     "text": [
      "only hand\n"
     ]
    },
    {
     "name": "stderr",
     "output_type": "stream",
     "text": [
      "\u001b[92m01-22 17:40:55\u001b[0m Epoch 1/60 itr 70/170: lr: 0.001000 speed: 1.73(0.42s r0.62)s/itr 0.08h/epoch hand_ssa_loss: 16.4492\n",
      "INFO:train_logs.txt:Epoch 1/60 itr 70/170: lr: 0.001000 speed: 1.73(0.42s r0.62)s/itr 0.08h/epoch hand_ssa_loss: 16.4492\n"
     ]
    },
    {
     "name": "stdout",
     "output_type": "stream",
     "text": [
      "only hand\n"
     ]
    },
    {
     "name": "stderr",
     "output_type": "stream",
     "text": [
      "\u001b[92m01-22 17:40:57\u001b[0m Epoch 1/60 itr 71/170: lr: 0.001000 speed: 1.73(0.42s r0.62)s/itr 0.08h/epoch hand_ssa_loss: 13.8862\n",
      "INFO:train_logs.txt:Epoch 1/60 itr 71/170: lr: 0.001000 speed: 1.73(0.42s r0.62)s/itr 0.08h/epoch hand_ssa_loss: 13.8862\n"
     ]
    },
    {
     "name": "stdout",
     "output_type": "stream",
     "text": [
      "only hand\n"
     ]
    },
    {
     "name": "stderr",
     "output_type": "stream",
     "text": [
      "\u001b[92m01-22 17:40:58\u001b[0m Epoch 1/60 itr 72/170: lr: 0.001000 speed: 1.73(0.42s r0.62)s/itr 0.08h/epoch hand_ssa_loss: 11.6135\n",
      "INFO:train_logs.txt:Epoch 1/60 itr 72/170: lr: 0.001000 speed: 1.73(0.42s r0.62)s/itr 0.08h/epoch hand_ssa_loss: 11.6135\n"
     ]
    },
    {
     "name": "stdout",
     "output_type": "stream",
     "text": [
      "only hand\n"
     ]
    },
    {
     "name": "stderr",
     "output_type": "stream",
     "text": [
      "\u001b[92m01-22 17:41:00\u001b[0m Epoch 1/60 itr 73/170: lr: 0.001000 speed: 1.73(0.42s r0.62)s/itr 0.08h/epoch hand_ssa_loss: 11.2347\n",
      "INFO:train_logs.txt:Epoch 1/60 itr 73/170: lr: 0.001000 speed: 1.73(0.42s r0.62)s/itr 0.08h/epoch hand_ssa_loss: 11.2347\n"
     ]
    },
    {
     "name": "stdout",
     "output_type": "stream",
     "text": [
      "only hand\n"
     ]
    },
    {
     "name": "stderr",
     "output_type": "stream",
     "text": [
      "\u001b[92m01-22 17:41:02\u001b[0m Epoch 1/60 itr 74/170: lr: 0.001000 speed: 1.73(0.42s r0.62)s/itr 0.08h/epoch hand_ssa_loss: 13.3248\n",
      "INFO:train_logs.txt:Epoch 1/60 itr 74/170: lr: 0.001000 speed: 1.73(0.42s r0.62)s/itr 0.08h/epoch hand_ssa_loss: 13.3248\n"
     ]
    },
    {
     "name": "stdout",
     "output_type": "stream",
     "text": [
      "only hand\n"
     ]
    },
    {
     "name": "stderr",
     "output_type": "stream",
     "text": [
      "\u001b[92m01-22 17:41:04\u001b[0m Epoch 1/60 itr 75/170: lr: 0.001000 speed: 1.73(0.42s r0.61)s/itr 0.08h/epoch hand_ssa_loss: 11.1001\n",
      "INFO:train_logs.txt:Epoch 1/60 itr 75/170: lr: 0.001000 speed: 1.73(0.42s r0.61)s/itr 0.08h/epoch hand_ssa_loss: 11.1001\n"
     ]
    },
    {
     "name": "stdout",
     "output_type": "stream",
     "text": [
      "only hand\n"
     ]
    },
    {
     "name": "stderr",
     "output_type": "stream",
     "text": [
      "\u001b[92m01-22 17:41:05\u001b[0m Epoch 1/60 itr 76/170: lr: 0.001000 speed: 1.73(0.42s r0.61)s/itr 0.08h/epoch hand_ssa_loss: 14.8740\n",
      "INFO:train_logs.txt:Epoch 1/60 itr 76/170: lr: 0.001000 speed: 1.73(0.42s r0.61)s/itr 0.08h/epoch hand_ssa_loss: 14.8740\n"
     ]
    },
    {
     "name": "stdout",
     "output_type": "stream",
     "text": [
      "only hand\n"
     ]
    },
    {
     "name": "stderr",
     "output_type": "stream",
     "text": [
      "\u001b[92m01-22 17:41:07\u001b[0m Epoch 1/60 itr 77/170: lr: 0.001000 speed: 1.73(0.42s r0.61)s/itr 0.08h/epoch hand_ssa_loss: 12.4439\n",
      "INFO:train_logs.txt:Epoch 1/60 itr 77/170: lr: 0.001000 speed: 1.73(0.42s r0.61)s/itr 0.08h/epoch hand_ssa_loss: 12.4439\n"
     ]
    },
    {
     "name": "stdout",
     "output_type": "stream",
     "text": [
      "only hand\n"
     ]
    },
    {
     "name": "stderr",
     "output_type": "stream",
     "text": [
      "\u001b[92m01-22 17:41:08\u001b[0m Epoch 1/60 itr 78/170: lr: 0.001000 speed: 1.73(0.41s r0.61)s/itr 0.08h/epoch hand_ssa_loss: 10.7493\n",
      "INFO:train_logs.txt:Epoch 1/60 itr 78/170: lr: 0.001000 speed: 1.73(0.41s r0.61)s/itr 0.08h/epoch hand_ssa_loss: 10.7493\n"
     ]
    },
    {
     "name": "stdout",
     "output_type": "stream",
     "text": [
      "only hand\n"
     ]
    },
    {
     "name": "stderr",
     "output_type": "stream",
     "text": [
      "\u001b[92m01-22 17:41:10\u001b[0m Epoch 1/60 itr 79/170: lr: 0.001000 speed: 1.73(0.41s r0.61)s/itr 0.08h/epoch hand_ssa_loss: 11.8924\n",
      "INFO:train_logs.txt:Epoch 1/60 itr 79/170: lr: 0.001000 speed: 1.73(0.41s r0.61)s/itr 0.08h/epoch hand_ssa_loss: 11.8924\n"
     ]
    },
    {
     "name": "stdout",
     "output_type": "stream",
     "text": [
      "only hand\n"
     ]
    },
    {
     "name": "stderr",
     "output_type": "stream",
     "text": [
      "\u001b[92m01-22 17:41:11\u001b[0m Epoch 1/60 itr 80/170: lr: 0.001000 speed: 1.73(0.41s r0.61)s/itr 0.08h/epoch hand_ssa_loss: 21.9480\n",
      "INFO:train_logs.txt:Epoch 1/60 itr 80/170: lr: 0.001000 speed: 1.73(0.41s r0.61)s/itr 0.08h/epoch hand_ssa_loss: 21.9480\n"
     ]
    },
    {
     "name": "stdout",
     "output_type": "stream",
     "text": [
      "only hand\n"
     ]
    },
    {
     "name": "stderr",
     "output_type": "stream",
     "text": [
      "\u001b[92m01-22 17:41:13\u001b[0m Epoch 1/60 itr 81/170: lr: 0.001000 speed: 1.73(0.41s r0.61)s/itr 0.08h/epoch hand_ssa_loss: 15.6380\n",
      "INFO:train_logs.txt:Epoch 1/60 itr 81/170: lr: 0.001000 speed: 1.73(0.41s r0.61)s/itr 0.08h/epoch hand_ssa_loss: 15.6380\n"
     ]
    },
    {
     "name": "stdout",
     "output_type": "stream",
     "text": [
      "only hand\n"
     ]
    },
    {
     "name": "stderr",
     "output_type": "stream",
     "text": [
      "\u001b[92m01-22 17:41:15\u001b[0m Epoch 1/60 itr 82/170: lr: 0.001000 speed: 1.73(0.41s r0.60)s/itr 0.08h/epoch hand_ssa_loss: 11.0585\n",
      "INFO:train_logs.txt:Epoch 1/60 itr 82/170: lr: 0.001000 speed: 1.73(0.41s r0.60)s/itr 0.08h/epoch hand_ssa_loss: 11.0585\n"
     ]
    },
    {
     "name": "stdout",
     "output_type": "stream",
     "text": [
      "only hand\n"
     ]
    },
    {
     "name": "stderr",
     "output_type": "stream",
     "text": [
      "\u001b[92m01-22 17:41:16\u001b[0m Epoch 1/60 itr 83/170: lr: 0.001000 speed: 1.73(0.41s r0.60)s/itr 0.08h/epoch hand_ssa_loss: 11.5176\n",
      "INFO:train_logs.txt:Epoch 1/60 itr 83/170: lr: 0.001000 speed: 1.73(0.41s r0.60)s/itr 0.08h/epoch hand_ssa_loss: 11.5176\n"
     ]
    },
    {
     "name": "stdout",
     "output_type": "stream",
     "text": [
      "only hand\n"
     ]
    },
    {
     "name": "stderr",
     "output_type": "stream",
     "text": [
      "\u001b[92m01-22 17:41:17\u001b[0m Epoch 1/60 itr 84/170: lr: 0.001000 speed: 1.73(0.41s r0.60)s/itr 0.08h/epoch hand_ssa_loss: 11.0399\n",
      "INFO:train_logs.txt:Epoch 1/60 itr 84/170: lr: 0.001000 speed: 1.73(0.41s r0.60)s/itr 0.08h/epoch hand_ssa_loss: 11.0399\n"
     ]
    },
    {
     "name": "stdout",
     "output_type": "stream",
     "text": [
      "only hand\n"
     ]
    },
    {
     "name": "stderr",
     "output_type": "stream",
     "text": [
      "\u001b[92m01-22 17:41:19\u001b[0m Epoch 1/60 itr 85/170: lr: 0.001000 speed: 1.73(0.41s r0.60)s/itr 0.08h/epoch hand_ssa_loss: 12.7992\n",
      "INFO:train_logs.txt:Epoch 1/60 itr 85/170: lr: 0.001000 speed: 1.73(0.41s r0.60)s/itr 0.08h/epoch hand_ssa_loss: 12.7992\n"
     ]
    },
    {
     "name": "stdout",
     "output_type": "stream",
     "text": [
      "only hand\n"
     ]
    },
    {
     "name": "stderr",
     "output_type": "stream",
     "text": [
      "\u001b[92m01-22 17:41:21\u001b[0m Epoch 1/60 itr 86/170: lr: 0.001000 speed: 1.72(0.41s r0.60)s/itr 0.08h/epoch hand_ssa_loss: 12.8246\n",
      "INFO:train_logs.txt:Epoch 1/60 itr 86/170: lr: 0.001000 speed: 1.72(0.41s r0.60)s/itr 0.08h/epoch hand_ssa_loss: 12.8246\n"
     ]
    },
    {
     "name": "stdout",
     "output_type": "stream",
     "text": [
      "only hand\n"
     ]
    },
    {
     "name": "stderr",
     "output_type": "stream",
     "text": [
      "\u001b[92m01-22 17:41:22\u001b[0m Epoch 1/60 itr 87/170: lr: 0.001000 speed: 1.72(0.41s r0.60)s/itr 0.08h/epoch hand_ssa_loss: 20.1827\n",
      "INFO:train_logs.txt:Epoch 1/60 itr 87/170: lr: 0.001000 speed: 1.72(0.41s r0.60)s/itr 0.08h/epoch hand_ssa_loss: 20.1827\n"
     ]
    },
    {
     "name": "stdout",
     "output_type": "stream",
     "text": [
      "only hand\n"
     ]
    },
    {
     "name": "stderr",
     "output_type": "stream",
     "text": [
      "\u001b[92m01-22 17:41:24\u001b[0m Epoch 1/60 itr 88/170: lr: 0.001000 speed: 1.73(0.41s r0.60)s/itr 0.08h/epoch hand_ssa_loss: 19.3250\n",
      "INFO:train_logs.txt:Epoch 1/60 itr 88/170: lr: 0.001000 speed: 1.73(0.41s r0.60)s/itr 0.08h/epoch hand_ssa_loss: 19.3250\n"
     ]
    },
    {
     "name": "stdout",
     "output_type": "stream",
     "text": [
      "only hand\n"
     ]
    },
    {
     "name": "stderr",
     "output_type": "stream",
     "text": [
      "\u001b[92m01-22 17:41:26\u001b[0m Epoch 1/60 itr 89/170: lr: 0.001000 speed: 1.73(0.40s r0.60)s/itr 0.08h/epoch hand_ssa_loss: 11.5166\n",
      "INFO:train_logs.txt:Epoch 1/60 itr 89/170: lr: 0.001000 speed: 1.73(0.40s r0.60)s/itr 0.08h/epoch hand_ssa_loss: 11.5166\n"
     ]
    },
    {
     "name": "stdout",
     "output_type": "stream",
     "text": [
      "only hand\n"
     ]
    },
    {
     "name": "stderr",
     "output_type": "stream",
     "text": [
      "\u001b[92m01-22 17:41:28\u001b[0m Epoch 1/60 itr 90/170: lr: 0.001000 speed: 1.73(0.41s r0.60)s/itr 0.08h/epoch hand_ssa_loss: 10.9042\n",
      "INFO:train_logs.txt:Epoch 1/60 itr 90/170: lr: 0.001000 speed: 1.73(0.41s r0.60)s/itr 0.08h/epoch hand_ssa_loss: 10.9042\n"
     ]
    },
    {
     "name": "stdout",
     "output_type": "stream",
     "text": [
      "only hand\n"
     ]
    },
    {
     "name": "stderr",
     "output_type": "stream",
     "text": [
      "\u001b[92m01-22 17:41:30\u001b[0m Epoch 1/60 itr 91/170: lr: 0.001000 speed: 1.73(0.41s r0.60)s/itr 0.08h/epoch hand_ssa_loss: 21.5667\n",
      "INFO:train_logs.txt:Epoch 1/60 itr 91/170: lr: 0.001000 speed: 1.73(0.41s r0.60)s/itr 0.08h/epoch hand_ssa_loss: 21.5667\n"
     ]
    },
    {
     "name": "stdout",
     "output_type": "stream",
     "text": [
      "only hand\n"
     ]
    },
    {
     "name": "stderr",
     "output_type": "stream",
     "text": [
      "\u001b[92m01-22 17:41:33\u001b[0m Epoch 1/60 itr 92/170: lr: 0.001000 speed: 1.73(0.41s r0.60)s/itr 0.08h/epoch hand_ssa_loss: 11.1967\n",
      "INFO:train_logs.txt:Epoch 1/60 itr 92/170: lr: 0.001000 speed: 1.73(0.41s r0.60)s/itr 0.08h/epoch hand_ssa_loss: 11.1967\n"
     ]
    },
    {
     "name": "stdout",
     "output_type": "stream",
     "text": [
      "only hand\n"
     ]
    },
    {
     "name": "stderr",
     "output_type": "stream",
     "text": [
      "\u001b[92m01-22 17:41:34\u001b[0m Epoch 1/60 itr 93/170: lr: 0.001000 speed: 1.73(0.41s r0.60)s/itr 0.08h/epoch hand_ssa_loss: 27.7140\n",
      "INFO:train_logs.txt:Epoch 1/60 itr 93/170: lr: 0.001000 speed: 1.73(0.41s r0.60)s/itr 0.08h/epoch hand_ssa_loss: 27.7140\n"
     ]
    },
    {
     "name": "stdout",
     "output_type": "stream",
     "text": [
      "only hand\n"
     ]
    },
    {
     "name": "stderr",
     "output_type": "stream",
     "text": [
      "\u001b[92m01-22 17:41:37\u001b[0m Epoch 1/60 itr 94/170: lr: 0.001000 speed: 1.73(0.40s r0.60)s/itr 0.08h/epoch hand_ssa_loss: 16.2698\n",
      "INFO:train_logs.txt:Epoch 1/60 itr 94/170: lr: 0.001000 speed: 1.73(0.40s r0.60)s/itr 0.08h/epoch hand_ssa_loss: 16.2698\n"
     ]
    },
    {
     "name": "stdout",
     "output_type": "stream",
     "text": [
      "only hand\n"
     ]
    },
    {
     "name": "stderr",
     "output_type": "stream",
     "text": [
      "\u001b[92m01-22 17:41:38\u001b[0m Epoch 1/60 itr 95/170: lr: 0.001000 speed: 1.73(0.40s r0.59)s/itr 0.08h/epoch hand_ssa_loss: 15.8602\n",
      "INFO:train_logs.txt:Epoch 1/60 itr 95/170: lr: 0.001000 speed: 1.73(0.40s r0.59)s/itr 0.08h/epoch hand_ssa_loss: 15.8602\n"
     ]
    },
    {
     "name": "stdout",
     "output_type": "stream",
     "text": [
      "only hand\n"
     ]
    },
    {
     "name": "stderr",
     "output_type": "stream",
     "text": [
      "\u001b[92m01-22 17:41:40\u001b[0m Epoch 1/60 itr 96/170: lr: 0.001000 speed: 1.73(0.40s r0.59)s/itr 0.08h/epoch hand_ssa_loss: 8.9424\n",
      "INFO:train_logs.txt:Epoch 1/60 itr 96/170: lr: 0.001000 speed: 1.73(0.40s r0.59)s/itr 0.08h/epoch hand_ssa_loss: 8.9424\n"
     ]
    },
    {
     "name": "stdout",
     "output_type": "stream",
     "text": [
      "only hand\n"
     ]
    },
    {
     "name": "stderr",
     "output_type": "stream",
     "text": [
      "\u001b[92m01-22 17:41:42\u001b[0m Epoch 1/60 itr 97/170: lr: 0.001000 speed: 1.73(0.40s r0.59)s/itr 0.08h/epoch hand_ssa_loss: 18.5058\n",
      "INFO:train_logs.txt:Epoch 1/60 itr 97/170: lr: 0.001000 speed: 1.73(0.40s r0.59)s/itr 0.08h/epoch hand_ssa_loss: 18.5058\n"
     ]
    },
    {
     "name": "stdout",
     "output_type": "stream",
     "text": [
      "only hand\n"
     ]
    },
    {
     "name": "stderr",
     "output_type": "stream",
     "text": [
      "\u001b[92m01-22 17:41:44\u001b[0m Epoch 1/60 itr 98/170: lr: 0.001000 speed: 1.74(0.40s r0.59)s/itr 0.08h/epoch hand_ssa_loss: 21.6379\n",
      "INFO:train_logs.txt:Epoch 1/60 itr 98/170: lr: 0.001000 speed: 1.74(0.40s r0.59)s/itr 0.08h/epoch hand_ssa_loss: 21.6379\n"
     ]
    },
    {
     "name": "stdout",
     "output_type": "stream",
     "text": [
      "only hand\n"
     ]
    },
    {
     "name": "stderr",
     "output_type": "stream",
     "text": [
      "\u001b[92m01-22 17:41:45\u001b[0m Epoch 1/60 itr 99/170: lr: 0.001000 speed: 1.74(0.40s r0.59)s/itr 0.08h/epoch hand_ssa_loss: 12.0235\n",
      "INFO:train_logs.txt:Epoch 1/60 itr 99/170: lr: 0.001000 speed: 1.74(0.40s r0.59)s/itr 0.08h/epoch hand_ssa_loss: 12.0235\n"
     ]
    },
    {
     "name": "stdout",
     "output_type": "stream",
     "text": [
      "only hand\n"
     ]
    },
    {
     "name": "stderr",
     "output_type": "stream",
     "text": [
      "\u001b[92m01-22 17:41:48\u001b[0m Epoch 1/60 itr 100/170: lr: 0.001000 speed: 1.73(0.40s r0.59)s/itr 0.08h/epoch hand_ssa_loss: 13.5183\n",
      "INFO:train_logs.txt:Epoch 1/60 itr 100/170: lr: 0.001000 speed: 1.73(0.40s r0.59)s/itr 0.08h/epoch hand_ssa_loss: 13.5183\n"
     ]
    },
    {
     "name": "stdout",
     "output_type": "stream",
     "text": [
      "only hand\n"
     ]
    },
    {
     "name": "stderr",
     "output_type": "stream",
     "text": [
      "\u001b[92m01-22 17:41:49\u001b[0m Epoch 1/60 itr 101/170: lr: 0.001000 speed: 1.74(0.40s r0.59)s/itr 0.08h/epoch hand_ssa_loss: 10.7348\n",
      "INFO:train_logs.txt:Epoch 1/60 itr 101/170: lr: 0.001000 speed: 1.74(0.40s r0.59)s/itr 0.08h/epoch hand_ssa_loss: 10.7348\n"
     ]
    },
    {
     "name": "stdout",
     "output_type": "stream",
     "text": [
      "only hand\n"
     ]
    },
    {
     "name": "stderr",
     "output_type": "stream",
     "text": [
      "\u001b[92m01-22 17:41:51\u001b[0m Epoch 1/60 itr 102/170: lr: 0.001000 speed: 1.74(0.40s r0.59)s/itr 0.08h/epoch hand_ssa_loss: 11.6999\n",
      "INFO:train_logs.txt:Epoch 1/60 itr 102/170: lr: 0.001000 speed: 1.74(0.40s r0.59)s/itr 0.08h/epoch hand_ssa_loss: 11.6999\n"
     ]
    },
    {
     "name": "stdout",
     "output_type": "stream",
     "text": [
      "only hand\n"
     ]
    },
    {
     "name": "stderr",
     "output_type": "stream",
     "text": [
      "\u001b[92m01-22 17:41:53\u001b[0m Epoch 1/60 itr 103/170: lr: 0.001000 speed: 1.74(0.40s r0.59)s/itr 0.08h/epoch hand_ssa_loss: 10.7431\n",
      "INFO:train_logs.txt:Epoch 1/60 itr 103/170: lr: 0.001000 speed: 1.74(0.40s r0.59)s/itr 0.08h/epoch hand_ssa_loss: 10.7431\n"
     ]
    },
    {
     "name": "stdout",
     "output_type": "stream",
     "text": [
      "only hand\n"
     ]
    },
    {
     "name": "stderr",
     "output_type": "stream",
     "text": [
      "\u001b[92m01-22 17:41:55\u001b[0m Epoch 1/60 itr 104/170: lr: 0.001000 speed: 1.74(0.40s r0.59)s/itr 0.08h/epoch hand_ssa_loss: 13.5296\n",
      "INFO:train_logs.txt:Epoch 1/60 itr 104/170: lr: 0.001000 speed: 1.74(0.40s r0.59)s/itr 0.08h/epoch hand_ssa_loss: 13.5296\n"
     ]
    },
    {
     "name": "stdout",
     "output_type": "stream",
     "text": [
      "only hand\n"
     ]
    },
    {
     "name": "stderr",
     "output_type": "stream",
     "text": [
      "\u001b[92m01-22 17:41:57\u001b[0m Epoch 1/60 itr 105/170: lr: 0.001000 speed: 1.74(0.40s r0.59)s/itr 0.08h/epoch hand_ssa_loss: 14.9928\n",
      "INFO:train_logs.txt:Epoch 1/60 itr 105/170: lr: 0.001000 speed: 1.74(0.40s r0.59)s/itr 0.08h/epoch hand_ssa_loss: 14.9928\n"
     ]
    },
    {
     "name": "stdout",
     "output_type": "stream",
     "text": [
      "only hand\n"
     ]
    },
    {
     "name": "stderr",
     "output_type": "stream",
     "text": [
      "\u001b[92m01-22 17:41:58\u001b[0m Epoch 1/60 itr 106/170: lr: 0.001000 speed: 1.74(0.40s r0.59)s/itr 0.08h/epoch hand_ssa_loss: 15.4946\n",
      "INFO:train_logs.txt:Epoch 1/60 itr 106/170: lr: 0.001000 speed: 1.74(0.40s r0.59)s/itr 0.08h/epoch hand_ssa_loss: 15.4946\n"
     ]
    },
    {
     "name": "stdout",
     "output_type": "stream",
     "text": [
      "only hand\n"
     ]
    },
    {
     "name": "stderr",
     "output_type": "stream",
     "text": [
      "\u001b[92m01-22 17:42:00\u001b[0m Epoch 1/60 itr 107/170: lr: 0.001000 speed: 1.74(0.40s r0.59)s/itr 0.08h/epoch hand_ssa_loss: 18.9487\n",
      "INFO:train_logs.txt:Epoch 1/60 itr 107/170: lr: 0.001000 speed: 1.74(0.40s r0.59)s/itr 0.08h/epoch hand_ssa_loss: 18.9487\n"
     ]
    },
    {
     "name": "stdout",
     "output_type": "stream",
     "text": [
      "only hand\n"
     ]
    },
    {
     "name": "stderr",
     "output_type": "stream",
     "text": [
      "\u001b[92m01-22 17:42:01\u001b[0m Epoch 1/60 itr 108/170: lr: 0.001000 speed: 1.74(0.40s r0.59)s/itr 0.08h/epoch hand_ssa_loss: 9.0633\n",
      "INFO:train_logs.txt:Epoch 1/60 itr 108/170: lr: 0.001000 speed: 1.74(0.40s r0.59)s/itr 0.08h/epoch hand_ssa_loss: 9.0633\n"
     ]
    },
    {
     "name": "stdout",
     "output_type": "stream",
     "text": [
      "only hand\n"
     ]
    },
    {
     "name": "stderr",
     "output_type": "stream",
     "text": [
      "\u001b[92m01-22 17:42:03\u001b[0m Epoch 1/60 itr 109/170: lr: 0.001000 speed: 1.74(0.40s r0.59)s/itr 0.08h/epoch hand_ssa_loss: 9.6483\n",
      "INFO:train_logs.txt:Epoch 1/60 itr 109/170: lr: 0.001000 speed: 1.74(0.40s r0.59)s/itr 0.08h/epoch hand_ssa_loss: 9.6483\n"
     ]
    },
    {
     "name": "stdout",
     "output_type": "stream",
     "text": [
      "only hand\n"
     ]
    },
    {
     "name": "stderr",
     "output_type": "stream",
     "text": [
      "\u001b[92m01-22 17:42:05\u001b[0m Epoch 1/60 itr 110/170: lr: 0.001000 speed: 1.73(0.40s r0.59)s/itr 0.08h/epoch hand_ssa_loss: 12.1393\n",
      "INFO:train_logs.txt:Epoch 1/60 itr 110/170: lr: 0.001000 speed: 1.73(0.40s r0.59)s/itr 0.08h/epoch hand_ssa_loss: 12.1393\n"
     ]
    },
    {
     "name": "stdout",
     "output_type": "stream",
     "text": [
      "only hand\n"
     ]
    },
    {
     "name": "stderr",
     "output_type": "stream",
     "text": [
      "\u001b[92m01-22 17:42:06\u001b[0m Epoch 1/60 itr 111/170: lr: 0.001000 speed: 1.73(0.39s r0.58)s/itr 0.08h/epoch hand_ssa_loss: 15.5378\n",
      "INFO:train_logs.txt:Epoch 1/60 itr 111/170: lr: 0.001000 speed: 1.73(0.39s r0.58)s/itr 0.08h/epoch hand_ssa_loss: 15.5378\n"
     ]
    },
    {
     "name": "stdout",
     "output_type": "stream",
     "text": [
      "only hand\n"
     ]
    },
    {
     "name": "stderr",
     "output_type": "stream",
     "text": [
      "\u001b[92m01-22 17:42:07\u001b[0m Epoch 1/60 itr 112/170: lr: 0.001000 speed: 1.73(0.39s r0.58)s/itr 0.08h/epoch hand_ssa_loss: 11.3295\n",
      "INFO:train_logs.txt:Epoch 1/60 itr 112/170: lr: 0.001000 speed: 1.73(0.39s r0.58)s/itr 0.08h/epoch hand_ssa_loss: 11.3295\n"
     ]
    },
    {
     "name": "stdout",
     "output_type": "stream",
     "text": [
      "only hand\n"
     ]
    },
    {
     "name": "stderr",
     "output_type": "stream",
     "text": [
      "\u001b[92m01-22 17:42:09\u001b[0m Epoch 1/60 itr 113/170: lr: 0.001000 speed: 1.73(0.39s r0.58)s/itr 0.08h/epoch hand_ssa_loss: 14.1094\n",
      "INFO:train_logs.txt:Epoch 1/60 itr 113/170: lr: 0.001000 speed: 1.73(0.39s r0.58)s/itr 0.08h/epoch hand_ssa_loss: 14.1094\n"
     ]
    },
    {
     "name": "stdout",
     "output_type": "stream",
     "text": [
      "only hand\n"
     ]
    },
    {
     "name": "stderr",
     "output_type": "stream",
     "text": [
      "\u001b[92m01-22 17:42:10\u001b[0m Epoch 1/60 itr 114/170: lr: 0.001000 speed: 1.73(0.39s r0.58)s/itr 0.08h/epoch hand_ssa_loss: 15.3622\n",
      "INFO:train_logs.txt:Epoch 1/60 itr 114/170: lr: 0.001000 speed: 1.73(0.39s r0.58)s/itr 0.08h/epoch hand_ssa_loss: 15.3622\n"
     ]
    },
    {
     "name": "stdout",
     "output_type": "stream",
     "text": [
      "only hand\n"
     ]
    },
    {
     "name": "stderr",
     "output_type": "stream",
     "text": [
      "\u001b[92m01-22 17:42:12\u001b[0m Epoch 1/60 itr 115/170: lr: 0.001000 speed: 1.73(0.39s r0.58)s/itr 0.08h/epoch hand_ssa_loss: 16.3770\n",
      "INFO:train_logs.txt:Epoch 1/60 itr 115/170: lr: 0.001000 speed: 1.73(0.39s r0.58)s/itr 0.08h/epoch hand_ssa_loss: 16.3770\n"
     ]
    },
    {
     "name": "stdout",
     "output_type": "stream",
     "text": [
      "only hand\n"
     ]
    },
    {
     "name": "stderr",
     "output_type": "stream",
     "text": [
      "\u001b[92m01-22 17:42:13\u001b[0m Epoch 1/60 itr 116/170: lr: 0.001000 speed: 1.73(0.39s r0.58)s/itr 0.08h/epoch hand_ssa_loss: 10.4830\n",
      "INFO:train_logs.txt:Epoch 1/60 itr 116/170: lr: 0.001000 speed: 1.73(0.39s r0.58)s/itr 0.08h/epoch hand_ssa_loss: 10.4830\n"
     ]
    },
    {
     "name": "stdout",
     "output_type": "stream",
     "text": [
      "only hand\n"
     ]
    },
    {
     "name": "stderr",
     "output_type": "stream",
     "text": [
      "\u001b[92m01-22 17:42:15\u001b[0m Epoch 1/60 itr 117/170: lr: 0.001000 speed: 1.73(0.39s r0.58)s/itr 0.08h/epoch hand_ssa_loss: 10.2453\n",
      "INFO:train_logs.txt:Epoch 1/60 itr 117/170: lr: 0.001000 speed: 1.73(0.39s r0.58)s/itr 0.08h/epoch hand_ssa_loss: 10.2453\n"
     ]
    },
    {
     "name": "stdout",
     "output_type": "stream",
     "text": [
      "only hand\n"
     ]
    },
    {
     "name": "stderr",
     "output_type": "stream",
     "text": [
      "\u001b[92m01-22 17:42:16\u001b[0m Epoch 1/60 itr 118/170: lr: 0.001000 speed: 1.73(0.39s r0.58)s/itr 0.08h/epoch hand_ssa_loss: 14.7992\n",
      "INFO:train_logs.txt:Epoch 1/60 itr 118/170: lr: 0.001000 speed: 1.73(0.39s r0.58)s/itr 0.08h/epoch hand_ssa_loss: 14.7992\n"
     ]
    },
    {
     "name": "stdout",
     "output_type": "stream",
     "text": [
      "only hand\n"
     ]
    },
    {
     "name": "stderr",
     "output_type": "stream",
     "text": [
      "\u001b[92m01-22 17:42:17\u001b[0m Epoch 1/60 itr 119/170: lr: 0.001000 speed: 1.73(0.39s r0.58)s/itr 0.08h/epoch hand_ssa_loss: 11.2360\n",
      "INFO:train_logs.txt:Epoch 1/60 itr 119/170: lr: 0.001000 speed: 1.73(0.39s r0.58)s/itr 0.08h/epoch hand_ssa_loss: 11.2360\n"
     ]
    },
    {
     "name": "stdout",
     "output_type": "stream",
     "text": [
      "only hand\n"
     ]
    },
    {
     "name": "stderr",
     "output_type": "stream",
     "text": [
      "\u001b[92m01-22 17:42:19\u001b[0m Epoch 1/60 itr 120/170: lr: 0.001000 speed: 1.72(0.39s r0.58)s/itr 0.08h/epoch hand_ssa_loss: 16.4001\n",
      "INFO:train_logs.txt:Epoch 1/60 itr 120/170: lr: 0.001000 speed: 1.72(0.39s r0.58)s/itr 0.08h/epoch hand_ssa_loss: 16.4001\n"
     ]
    },
    {
     "name": "stdout",
     "output_type": "stream",
     "text": [
      "only hand\n"
     ]
    },
    {
     "name": "stderr",
     "output_type": "stream",
     "text": [
      "\u001b[92m01-22 17:42:21\u001b[0m Epoch 1/60 itr 121/170: lr: 0.001000 speed: 1.72(0.39s r0.57)s/itr 0.08h/epoch hand_ssa_loss: 13.3627\n",
      "INFO:train_logs.txt:Epoch 1/60 itr 121/170: lr: 0.001000 speed: 1.72(0.39s r0.57)s/itr 0.08h/epoch hand_ssa_loss: 13.3627\n"
     ]
    },
    {
     "name": "stdout",
     "output_type": "stream",
     "text": [
      "only hand\n"
     ]
    },
    {
     "name": "stderr",
     "output_type": "stream",
     "text": [
      "\u001b[92m01-22 17:42:22\u001b[0m Epoch 1/60 itr 122/170: lr: 0.001000 speed: 1.72(0.38s r0.57)s/itr 0.08h/epoch hand_ssa_loss: 11.0083\n",
      "INFO:train_logs.txt:Epoch 1/60 itr 122/170: lr: 0.001000 speed: 1.72(0.38s r0.57)s/itr 0.08h/epoch hand_ssa_loss: 11.0083\n"
     ]
    },
    {
     "name": "stdout",
     "output_type": "stream",
     "text": [
      "only hand\n"
     ]
    },
    {
     "name": "stderr",
     "output_type": "stream",
     "text": [
      "\u001b[92m01-22 17:42:24\u001b[0m Epoch 1/60 itr 123/170: lr: 0.001000 speed: 1.72(0.38s r0.57)s/itr 0.08h/epoch hand_ssa_loss: 13.2250\n",
      "INFO:train_logs.txt:Epoch 1/60 itr 123/170: lr: 0.001000 speed: 1.72(0.38s r0.57)s/itr 0.08h/epoch hand_ssa_loss: 13.2250\n"
     ]
    },
    {
     "name": "stdout",
     "output_type": "stream",
     "text": [
      "only hand\n"
     ]
    },
    {
     "name": "stderr",
     "output_type": "stream",
     "text": [
      "\u001b[92m01-22 17:42:25\u001b[0m Epoch 1/60 itr 124/170: lr: 0.001000 speed: 1.72(0.38s r0.57)s/itr 0.08h/epoch hand_ssa_loss: 9.6634\n",
      "INFO:train_logs.txt:Epoch 1/60 itr 124/170: lr: 0.001000 speed: 1.72(0.38s r0.57)s/itr 0.08h/epoch hand_ssa_loss: 9.6634\n"
     ]
    },
    {
     "name": "stdout",
     "output_type": "stream",
     "text": [
      "only hand\n"
     ]
    },
    {
     "name": "stderr",
     "output_type": "stream",
     "text": [
      "\u001b[92m01-22 17:42:27\u001b[0m Epoch 1/60 itr 125/170: lr: 0.001000 speed: 1.72(0.38s r0.57)s/itr 0.08h/epoch hand_ssa_loss: 12.7463\n",
      "INFO:train_logs.txt:Epoch 1/60 itr 125/170: lr: 0.001000 speed: 1.72(0.38s r0.57)s/itr 0.08h/epoch hand_ssa_loss: 12.7463\n"
     ]
    },
    {
     "name": "stdout",
     "output_type": "stream",
     "text": [
      "only hand\n"
     ]
    },
    {
     "name": "stderr",
     "output_type": "stream",
     "text": [
      "\u001b[92m01-22 17:42:28\u001b[0m Epoch 1/60 itr 126/170: lr: 0.001000 speed: 1.72(0.38s r0.57)s/itr 0.08h/epoch hand_ssa_loss: 14.5922\n",
      "INFO:train_logs.txt:Epoch 1/60 itr 126/170: lr: 0.001000 speed: 1.72(0.38s r0.57)s/itr 0.08h/epoch hand_ssa_loss: 14.5922\n"
     ]
    },
    {
     "name": "stdout",
     "output_type": "stream",
     "text": [
      "only hand\n"
     ]
    },
    {
     "name": "stderr",
     "output_type": "stream",
     "text": [
      "\u001b[92m01-22 17:42:29\u001b[0m Epoch 1/60 itr 127/170: lr: 0.001000 speed: 1.72(0.38s r0.57)s/itr 0.08h/epoch hand_ssa_loss: 9.0634\n",
      "INFO:train_logs.txt:Epoch 1/60 itr 127/170: lr: 0.001000 speed: 1.72(0.38s r0.57)s/itr 0.08h/epoch hand_ssa_loss: 9.0634\n"
     ]
    },
    {
     "name": "stdout",
     "output_type": "stream",
     "text": [
      "only hand\n"
     ]
    },
    {
     "name": "stderr",
     "output_type": "stream",
     "text": [
      "\u001b[92m01-22 17:42:31\u001b[0m Epoch 1/60 itr 128/170: lr: 0.001000 speed: 1.72(0.39s r0.57)s/itr 0.08h/epoch hand_ssa_loss: 9.7758\n",
      "INFO:train_logs.txt:Epoch 1/60 itr 128/170: lr: 0.001000 speed: 1.72(0.39s r0.57)s/itr 0.08h/epoch hand_ssa_loss: 9.7758\n"
     ]
    },
    {
     "name": "stdout",
     "output_type": "stream",
     "text": [
      "only hand\n"
     ]
    },
    {
     "name": "stderr",
     "output_type": "stream",
     "text": [
      "\u001b[92m01-22 17:42:32\u001b[0m Epoch 1/60 itr 129/170: lr: 0.001000 speed: 1.72(0.38s r0.57)s/itr 0.08h/epoch hand_ssa_loss: 9.8682\n",
      "INFO:train_logs.txt:Epoch 1/60 itr 129/170: lr: 0.001000 speed: 1.72(0.38s r0.57)s/itr 0.08h/epoch hand_ssa_loss: 9.8682\n"
     ]
    },
    {
     "name": "stdout",
     "output_type": "stream",
     "text": [
      "only hand\n"
     ]
    },
    {
     "name": "stderr",
     "output_type": "stream",
     "text": [
      "\u001b[92m01-22 17:42:34\u001b[0m Epoch 1/60 itr 130/170: lr: 0.001000 speed: 1.72(0.38s r0.57)s/itr 0.08h/epoch hand_ssa_loss: 10.9219\n",
      "INFO:train_logs.txt:Epoch 1/60 itr 130/170: lr: 0.001000 speed: 1.72(0.38s r0.57)s/itr 0.08h/epoch hand_ssa_loss: 10.9219\n"
     ]
    },
    {
     "name": "stdout",
     "output_type": "stream",
     "text": [
      "only hand\n"
     ]
    },
    {
     "name": "stderr",
     "output_type": "stream",
     "text": [
      "\u001b[92m01-22 17:42:42\u001b[0m Epoch 1/60 itr 131/170: lr: 0.001000 speed: 1.72(0.41s r0.56)s/itr 0.08h/epoch hand_ssa_loss: 14.7372\n",
      "INFO:train_logs.txt:Epoch 1/60 itr 131/170: lr: 0.001000 speed: 1.72(0.41s r0.56)s/itr 0.08h/epoch hand_ssa_loss: 14.7372\n"
     ]
    },
    {
     "name": "stdout",
     "output_type": "stream",
     "text": [
      "only hand\n"
     ]
    },
    {
     "name": "stderr",
     "output_type": "stream",
     "text": [
      "\u001b[92m01-22 17:42:45\u001b[0m Epoch 1/60 itr 132/170: lr: 0.001000 speed: 1.74(0.42s r0.56)s/itr 0.08h/epoch hand_ssa_loss: 12.3795\n",
      "INFO:train_logs.txt:Epoch 1/60 itr 132/170: lr: 0.001000 speed: 1.74(0.42s r0.56)s/itr 0.08h/epoch hand_ssa_loss: 12.3795\n"
     ]
    },
    {
     "name": "stdout",
     "output_type": "stream",
     "text": [
      "only hand\n"
     ]
    },
    {
     "name": "stderr",
     "output_type": "stream",
     "text": [
      "\u001b[92m01-22 17:42:47\u001b[0m Epoch 1/60 itr 133/170: lr: 0.001000 speed: 1.74(0.42s r0.56)s/itr 0.08h/epoch hand_ssa_loss: 10.4675\n",
      "INFO:train_logs.txt:Epoch 1/60 itr 133/170: lr: 0.001000 speed: 1.74(0.42s r0.56)s/itr 0.08h/epoch hand_ssa_loss: 10.4675\n"
     ]
    },
    {
     "name": "stdout",
     "output_type": "stream",
     "text": [
      "only hand\n"
     ]
    },
    {
     "name": "stderr",
     "output_type": "stream",
     "text": [
      "\u001b[92m01-22 17:42:49\u001b[0m Epoch 1/60 itr 134/170: lr: 0.001000 speed: 1.74(0.43s r0.56)s/itr 0.08h/epoch hand_ssa_loss: 13.2378\n",
      "INFO:train_logs.txt:Epoch 1/60 itr 134/170: lr: 0.001000 speed: 1.74(0.43s r0.56)s/itr 0.08h/epoch hand_ssa_loss: 13.2378\n"
     ]
    },
    {
     "name": "stdout",
     "output_type": "stream",
     "text": [
      "only hand\n"
     ]
    },
    {
     "name": "stderr",
     "output_type": "stream",
     "text": [
      "\u001b[92m01-22 17:42:51\u001b[0m Epoch 1/60 itr 135/170: lr: 0.001000 speed: 1.74(0.43s r0.56)s/itr 0.08h/epoch hand_ssa_loss: 10.5752\n",
      "INFO:train_logs.txt:Epoch 1/60 itr 135/170: lr: 0.001000 speed: 1.74(0.43s r0.56)s/itr 0.08h/epoch hand_ssa_loss: 10.5752\n"
     ]
    },
    {
     "name": "stdout",
     "output_type": "stream",
     "text": [
      "only hand\n"
     ]
    },
    {
     "name": "stderr",
     "output_type": "stream",
     "text": [
      "\u001b[92m01-22 17:42:54\u001b[0m Epoch 1/60 itr 136/170: lr: 0.001000 speed: 1.74(0.44s r0.56)s/itr 0.08h/epoch hand_ssa_loss: 11.4509\n",
      "INFO:train_logs.txt:Epoch 1/60 itr 136/170: lr: 0.001000 speed: 1.74(0.44s r0.56)s/itr 0.08h/epoch hand_ssa_loss: 11.4509\n"
     ]
    },
    {
     "name": "stdout",
     "output_type": "stream",
     "text": [
      "only hand\n"
     ]
    },
    {
     "name": "stderr",
     "output_type": "stream",
     "text": [
      "\u001b[92m01-22 17:42:57\u001b[0m Epoch 1/60 itr 137/170: lr: 0.001000 speed: 1.75(0.45s r0.55)s/itr 0.08h/epoch hand_ssa_loss: 10.5377\n",
      "INFO:train_logs.txt:Epoch 1/60 itr 137/170: lr: 0.001000 speed: 1.75(0.45s r0.55)s/itr 0.08h/epoch hand_ssa_loss: 10.5377\n"
     ]
    },
    {
     "name": "stdout",
     "output_type": "stream",
     "text": [
      "only hand\n"
     ]
    },
    {
     "name": "stderr",
     "output_type": "stream",
     "text": [
      "\u001b[92m01-22 17:42:59\u001b[0m Epoch 1/60 itr 138/170: lr: 0.001000 speed: 1.75(0.46s r0.55)s/itr 0.08h/epoch hand_ssa_loss: 9.1901\n",
      "INFO:train_logs.txt:Epoch 1/60 itr 138/170: lr: 0.001000 speed: 1.75(0.46s r0.55)s/itr 0.08h/epoch hand_ssa_loss: 9.1901\n"
     ]
    },
    {
     "name": "stdout",
     "output_type": "stream",
     "text": [
      "only hand\n"
     ]
    },
    {
     "name": "stderr",
     "output_type": "stream",
     "text": [
      "\u001b[92m01-22 17:43:02\u001b[0m Epoch 1/60 itr 139/170: lr: 0.001000 speed: 1.76(0.46s r0.55)s/itr 0.08h/epoch hand_ssa_loss: 9.8522\n",
      "INFO:train_logs.txt:Epoch 1/60 itr 139/170: lr: 0.001000 speed: 1.76(0.46s r0.55)s/itr 0.08h/epoch hand_ssa_loss: 9.8522\n"
     ]
    },
    {
     "name": "stdout",
     "output_type": "stream",
     "text": [
      "only hand\n"
     ]
    },
    {
     "name": "stderr",
     "output_type": "stream",
     "text": [
      "\u001b[92m01-22 17:43:05\u001b[0m Epoch 1/60 itr 140/170: lr: 0.001000 speed: 1.76(0.47s r0.55)s/itr 0.08h/epoch hand_ssa_loss: 9.7889\n",
      "INFO:train_logs.txt:Epoch 1/60 itr 140/170: lr: 0.001000 speed: 1.76(0.47s r0.55)s/itr 0.08h/epoch hand_ssa_loss: 9.7889\n"
     ]
    },
    {
     "name": "stdout",
     "output_type": "stream",
     "text": [
      "only hand\n"
     ]
    },
    {
     "name": "stderr",
     "output_type": "stream",
     "text": [
      "\u001b[92m01-22 17:43:08\u001b[0m Epoch 1/60 itr 141/170: lr: 0.001000 speed: 1.76(0.48s r0.55)s/itr 0.08h/epoch hand_ssa_loss: 10.7394\n",
      "INFO:train_logs.txt:Epoch 1/60 itr 141/170: lr: 0.001000 speed: 1.76(0.48s r0.55)s/itr 0.08h/epoch hand_ssa_loss: 10.7394\n"
     ]
    },
    {
     "name": "stdout",
     "output_type": "stream",
     "text": [
      "only hand\n"
     ]
    },
    {
     "name": "stderr",
     "output_type": "stream",
     "text": [
      "\u001b[92m01-22 17:43:09\u001b[0m Epoch 1/60 itr 142/170: lr: 0.001000 speed: 1.77(0.48s r0.54)s/itr 0.08h/epoch hand_ssa_loss: 14.3110\n",
      "INFO:train_logs.txt:Epoch 1/60 itr 142/170: lr: 0.001000 speed: 1.77(0.48s r0.54)s/itr 0.08h/epoch hand_ssa_loss: 14.3110\n"
     ]
    },
    {
     "name": "stdout",
     "output_type": "stream",
     "text": [
      "only hand\n"
     ]
    },
    {
     "name": "stderr",
     "output_type": "stream",
     "text": [
      "\u001b[92m01-22 17:43:13\u001b[0m Epoch 1/60 itr 143/170: lr: 0.001000 speed: 1.76(0.49s r0.54)s/itr 0.08h/epoch hand_ssa_loss: 9.8262\n",
      "INFO:train_logs.txt:Epoch 1/60 itr 143/170: lr: 0.001000 speed: 1.76(0.49s r0.54)s/itr 0.08h/epoch hand_ssa_loss: 9.8262\n"
     ]
    },
    {
     "name": "stdout",
     "output_type": "stream",
     "text": [
      "only hand\n"
     ]
    },
    {
     "name": "stderr",
     "output_type": "stream",
     "text": [
      "\u001b[92m01-22 17:43:14\u001b[0m Epoch 1/60 itr 144/170: lr: 0.001000 speed: 1.77(0.50s r0.54)s/itr 0.08h/epoch hand_ssa_loss: 13.1645\n",
      "INFO:train_logs.txt:Epoch 1/60 itr 144/170: lr: 0.001000 speed: 1.77(0.50s r0.54)s/itr 0.08h/epoch hand_ssa_loss: 13.1645\n"
     ]
    },
    {
     "name": "stdout",
     "output_type": "stream",
     "text": [
      "only hand\n"
     ]
    },
    {
     "name": "stderr",
     "output_type": "stream",
     "text": [
      "\u001b[92m01-22 17:43:15\u001b[0m Epoch 1/60 itr 145/170: lr: 0.001000 speed: 1.77(0.50s r0.54)s/itr 0.08h/epoch hand_ssa_loss: 10.1114\n",
      "INFO:train_logs.txt:Epoch 1/60 itr 145/170: lr: 0.001000 speed: 1.77(0.50s r0.54)s/itr 0.08h/epoch hand_ssa_loss: 10.1114\n"
     ]
    },
    {
     "name": "stdout",
     "output_type": "stream",
     "text": [
      "only hand\n"
     ]
    },
    {
     "name": "stderr",
     "output_type": "stream",
     "text": [
      "\u001b[92m01-22 17:43:18\u001b[0m Epoch 1/60 itr 146/170: lr: 0.001000 speed: 1.77(0.50s r0.54)s/itr 0.08h/epoch hand_ssa_loss: 9.3247\n",
      "INFO:train_logs.txt:Epoch 1/60 itr 146/170: lr: 0.001000 speed: 1.77(0.50s r0.54)s/itr 0.08h/epoch hand_ssa_loss: 9.3247\n"
     ]
    },
    {
     "name": "stdout",
     "output_type": "stream",
     "text": [
      "only hand\n"
     ]
    },
    {
     "name": "stderr",
     "output_type": "stream",
     "text": [
      "\u001b[92m01-22 17:43:20\u001b[0m Epoch 1/60 itr 147/170: lr: 0.001000 speed: 1.77(0.51s r0.54)s/itr 0.08h/epoch hand_ssa_loss: 11.8340\n",
      "INFO:train_logs.txt:Epoch 1/60 itr 147/170: lr: 0.001000 speed: 1.77(0.51s r0.54)s/itr 0.08h/epoch hand_ssa_loss: 11.8340\n"
     ]
    },
    {
     "name": "stdout",
     "output_type": "stream",
     "text": [
      "only hand\n"
     ]
    },
    {
     "name": "stderr",
     "output_type": "stream",
     "text": [
      "\u001b[92m01-22 17:43:22\u001b[0m Epoch 1/60 itr 148/170: lr: 0.001000 speed: 1.77(0.51s r0.53)s/itr 0.08h/epoch hand_ssa_loss: 13.1376\n",
      "INFO:train_logs.txt:Epoch 1/60 itr 148/170: lr: 0.001000 speed: 1.77(0.51s r0.53)s/itr 0.08h/epoch hand_ssa_loss: 13.1376\n"
     ]
    },
    {
     "name": "stdout",
     "output_type": "stream",
     "text": [
      "only hand\n"
     ]
    },
    {
     "name": "stderr",
     "output_type": "stream",
     "text": [
      "\u001b[92m01-22 17:43:25\u001b[0m Epoch 1/60 itr 149/170: lr: 0.001000 speed: 1.77(0.52s r0.53)s/itr 0.08h/epoch hand_ssa_loss: 8.7050\n",
      "INFO:train_logs.txt:Epoch 1/60 itr 149/170: lr: 0.001000 speed: 1.77(0.52s r0.53)s/itr 0.08h/epoch hand_ssa_loss: 8.7050\n"
     ]
    },
    {
     "name": "stdout",
     "output_type": "stream",
     "text": [
      "only hand\n"
     ]
    },
    {
     "name": "stderr",
     "output_type": "stream",
     "text": [
      "\u001b[92m01-22 17:43:27\u001b[0m Epoch 1/60 itr 150/170: lr: 0.001000 speed: 1.78(0.52s r0.53)s/itr 0.08h/epoch hand_ssa_loss: 9.9333\n",
      "INFO:train_logs.txt:Epoch 1/60 itr 150/170: lr: 0.001000 speed: 1.78(0.52s r0.53)s/itr 0.08h/epoch hand_ssa_loss: 9.9333\n"
     ]
    },
    {
     "name": "stdout",
     "output_type": "stream",
     "text": [
      "only hand\n"
     ]
    },
    {
     "name": "stderr",
     "output_type": "stream",
     "text": [
      "\u001b[92m01-22 17:43:30\u001b[0m Epoch 1/60 itr 151/170: lr: 0.001000 speed: 1.78(0.52s r0.53)s/itr 0.08h/epoch hand_ssa_loss: 9.9226\n",
      "INFO:train_logs.txt:Epoch 1/60 itr 151/170: lr: 0.001000 speed: 1.78(0.52s r0.53)s/itr 0.08h/epoch hand_ssa_loss: 9.9226\n"
     ]
    },
    {
     "name": "stdout",
     "output_type": "stream",
     "text": [
      "only hand\n"
     ]
    },
    {
     "name": "stderr",
     "output_type": "stream",
     "text": [
      "\u001b[92m01-22 17:43:31\u001b[0m Epoch 1/60 itr 152/170: lr: 0.001000 speed: 1.78(0.52s r0.53)s/itr 0.08h/epoch hand_ssa_loss: 14.4235\n",
      "INFO:train_logs.txt:Epoch 1/60 itr 152/170: lr: 0.001000 speed: 1.78(0.52s r0.53)s/itr 0.08h/epoch hand_ssa_loss: 14.4235\n"
     ]
    },
    {
     "name": "stdout",
     "output_type": "stream",
     "text": [
      "only hand\n"
     ]
    },
    {
     "name": "stderr",
     "output_type": "stream",
     "text": [
      "\u001b[92m01-22 17:43:34\u001b[0m Epoch 1/60 itr 153/170: lr: 0.001000 speed: 1.78(0.53s r0.53)s/itr 0.08h/epoch hand_ssa_loss: 11.0342\n",
      "INFO:train_logs.txt:Epoch 1/60 itr 153/170: lr: 0.001000 speed: 1.78(0.53s r0.53)s/itr 0.08h/epoch hand_ssa_loss: 11.0342\n"
     ]
    },
    {
     "name": "stdout",
     "output_type": "stream",
     "text": [
      "only hand\n"
     ]
    },
    {
     "name": "stderr",
     "output_type": "stream",
     "text": [
      "\u001b[92m01-22 17:43:37\u001b[0m Epoch 1/60 itr 154/170: lr: 0.001000 speed: 1.78(0.53s r0.52)s/itr 0.08h/epoch hand_ssa_loss: 16.6263\n",
      "INFO:train_logs.txt:Epoch 1/60 itr 154/170: lr: 0.001000 speed: 1.78(0.53s r0.52)s/itr 0.08h/epoch hand_ssa_loss: 16.6263\n"
     ]
    },
    {
     "name": "stdout",
     "output_type": "stream",
     "text": [
      "only hand\n"
     ]
    },
    {
     "name": "stderr",
     "output_type": "stream",
     "text": [
      "\u001b[92m01-22 17:43:38\u001b[0m Epoch 1/60 itr 155/170: lr: 0.001000 speed: 1.78(0.54s r0.52)s/itr 0.08h/epoch hand_ssa_loss: 10.1953\n",
      "INFO:train_logs.txt:Epoch 1/60 itr 155/170: lr: 0.001000 speed: 1.78(0.54s r0.52)s/itr 0.08h/epoch hand_ssa_loss: 10.1953\n"
     ]
    },
    {
     "name": "stdout",
     "output_type": "stream",
     "text": [
      "only hand\n"
     ]
    },
    {
     "name": "stderr",
     "output_type": "stream",
     "text": [
      "\u001b[92m01-22 17:43:41\u001b[0m Epoch 1/60 itr 156/170: lr: 0.001000 speed: 1.78(0.54s r0.52)s/itr 0.08h/epoch hand_ssa_loss: 13.3928\n",
      "INFO:train_logs.txt:Epoch 1/60 itr 156/170: lr: 0.001000 speed: 1.78(0.54s r0.52)s/itr 0.08h/epoch hand_ssa_loss: 13.3928\n"
     ]
    },
    {
     "name": "stdout",
     "output_type": "stream",
     "text": [
      "only hand\n"
     ]
    },
    {
     "name": "stderr",
     "output_type": "stream",
     "text": [
      "\u001b[92m01-22 17:43:44\u001b[0m Epoch 1/60 itr 157/170: lr: 0.001000 speed: 1.79(0.55s r0.52)s/itr 0.08h/epoch hand_ssa_loss: 26.0566\n",
      "INFO:train_logs.txt:Epoch 1/60 itr 157/170: lr: 0.001000 speed: 1.79(0.55s r0.52)s/itr 0.08h/epoch hand_ssa_loss: 26.0566\n"
     ]
    },
    {
     "name": "stdout",
     "output_type": "stream",
     "text": [
      "only hand\n"
     ]
    },
    {
     "name": "stderr",
     "output_type": "stream",
     "text": [
      "\u001b[92m01-22 17:43:45\u001b[0m Epoch 1/60 itr 158/170: lr: 0.001000 speed: 1.79(0.55s r0.52)s/itr 0.08h/epoch hand_ssa_loss: 11.4855\n",
      "INFO:train_logs.txt:Epoch 1/60 itr 158/170: lr: 0.001000 speed: 1.79(0.55s r0.52)s/itr 0.08h/epoch hand_ssa_loss: 11.4855\n"
     ]
    },
    {
     "name": "stdout",
     "output_type": "stream",
     "text": [
      "only hand\n"
     ]
    },
    {
     "name": "stderr",
     "output_type": "stream",
     "text": [
      "\u001b[92m01-22 17:43:48\u001b[0m Epoch 1/60 itr 159/170: lr: 0.001000 speed: 1.79(0.56s r0.52)s/itr 0.08h/epoch hand_ssa_loss: 9.4917\n",
      "INFO:train_logs.txt:Epoch 1/60 itr 159/170: lr: 0.001000 speed: 1.79(0.56s r0.52)s/itr 0.08h/epoch hand_ssa_loss: 9.4917\n"
     ]
    },
    {
     "name": "stdout",
     "output_type": "stream",
     "text": [
      "only hand\n"
     ]
    },
    {
     "name": "stderr",
     "output_type": "stream",
     "text": [
      "\u001b[92m01-22 17:43:50\u001b[0m Epoch 1/60 itr 160/170: lr: 0.001000 speed: 1.79(0.56s r0.51)s/itr 0.08h/epoch hand_ssa_loss: 9.8486\n",
      "INFO:train_logs.txt:Epoch 1/60 itr 160/170: lr: 0.001000 speed: 1.79(0.56s r0.51)s/itr 0.08h/epoch hand_ssa_loss: 9.8486\n"
     ]
    },
    {
     "name": "stdout",
     "output_type": "stream",
     "text": [
      "only hand\n"
     ]
    },
    {
     "name": "stderr",
     "output_type": "stream",
     "text": [
      "\u001b[92m01-22 17:43:51\u001b[0m Epoch 1/60 itr 161/170: lr: 0.001000 speed: 1.79(0.57s r0.51)s/itr 0.08h/epoch hand_ssa_loss: 11.6659\n",
      "INFO:train_logs.txt:Epoch 1/60 itr 161/170: lr: 0.001000 speed: 1.79(0.57s r0.51)s/itr 0.08h/epoch hand_ssa_loss: 11.6659\n"
     ]
    },
    {
     "name": "stdout",
     "output_type": "stream",
     "text": [
      "only hand\n"
     ]
    },
    {
     "name": "stderr",
     "output_type": "stream",
     "text": [
      "\u001b[92m01-22 17:43:55\u001b[0m Epoch 1/60 itr 162/170: lr: 0.001000 speed: 1.79(0.58s r0.51)s/itr 0.08h/epoch hand_ssa_loss: 19.8766\n",
      "INFO:train_logs.txt:Epoch 1/60 itr 162/170: lr: 0.001000 speed: 1.79(0.58s r0.51)s/itr 0.08h/epoch hand_ssa_loss: 19.8766\n"
     ]
    },
    {
     "name": "stdout",
     "output_type": "stream",
     "text": [
      "only hand\n"
     ]
    },
    {
     "name": "stderr",
     "output_type": "stream",
     "text": [
      "\u001b[92m01-22 17:43:57\u001b[0m Epoch 1/60 itr 163/170: lr: 0.001000 speed: 1.80(0.58s r0.51)s/itr 0.08h/epoch hand_ssa_loss: 13.2338\n",
      "INFO:train_logs.txt:Epoch 1/60 itr 163/170: lr: 0.001000 speed: 1.80(0.58s r0.51)s/itr 0.08h/epoch hand_ssa_loss: 13.2338\n"
     ]
    },
    {
     "name": "stdout",
     "output_type": "stream",
     "text": [
      "only hand\n"
     ]
    },
    {
     "name": "stderr",
     "output_type": "stream",
     "text": [
      "\u001b[92m01-22 17:43:58\u001b[0m Epoch 1/60 itr 164/170: lr: 0.001000 speed: 1.80(0.58s r0.51)s/itr 0.08h/epoch hand_ssa_loss: 14.8351\n",
      "INFO:train_logs.txt:Epoch 1/60 itr 164/170: lr: 0.001000 speed: 1.80(0.58s r0.51)s/itr 0.08h/epoch hand_ssa_loss: 14.8351\n"
     ]
    },
    {
     "name": "stdout",
     "output_type": "stream",
     "text": [
      "only hand\n"
     ]
    },
    {
     "name": "stderr",
     "output_type": "stream",
     "text": [
      "\u001b[92m01-22 17:44:01\u001b[0m Epoch 1/60 itr 165/170: lr: 0.001000 speed: 1.80(0.59s r0.51)s/itr 0.08h/epoch hand_ssa_loss: 9.5494\n",
      "INFO:train_logs.txt:Epoch 1/60 itr 165/170: lr: 0.001000 speed: 1.80(0.59s r0.51)s/itr 0.08h/epoch hand_ssa_loss: 9.5494\n"
     ]
    },
    {
     "name": "stdout",
     "output_type": "stream",
     "text": [
      "only hand\n"
     ]
    },
    {
     "name": "stderr",
     "output_type": "stream",
     "text": [
      "\u001b[92m01-22 17:44:02\u001b[0m Epoch 1/60 itr 166/170: lr: 0.001000 speed: 1.80(0.59s r0.50)s/itr 0.08h/epoch hand_ssa_loss: 11.4958\n",
      "INFO:train_logs.txt:Epoch 1/60 itr 166/170: lr: 0.001000 speed: 1.80(0.59s r0.50)s/itr 0.08h/epoch hand_ssa_loss: 11.4958\n"
     ]
    },
    {
     "name": "stdout",
     "output_type": "stream",
     "text": [
      "only hand\n"
     ]
    },
    {
     "name": "stderr",
     "output_type": "stream",
     "text": [
      "\u001b[92m01-22 17:44:06\u001b[0m Epoch 1/60 itr 167/170: lr: 0.001000 speed: 1.80(0.60s r0.50)s/itr 0.08h/epoch hand_ssa_loss: 13.1031\n",
      "INFO:train_logs.txt:Epoch 1/60 itr 167/170: lr: 0.001000 speed: 1.80(0.60s r0.50)s/itr 0.08h/epoch hand_ssa_loss: 13.1031\n"
     ]
    },
    {
     "name": "stdout",
     "output_type": "stream",
     "text": [
      "only hand\n"
     ]
    },
    {
     "name": "stderr",
     "output_type": "stream",
     "text": [
      "\u001b[92m01-22 17:44:07\u001b[0m Epoch 1/60 itr 168/170: lr: 0.001000 speed: 1.80(0.60s r0.50)s/itr 0.09h/epoch hand_ssa_loss: 11.4363\n",
      "INFO:train_logs.txt:Epoch 1/60 itr 168/170: lr: 0.001000 speed: 1.80(0.60s r0.50)s/itr 0.09h/epoch hand_ssa_loss: 11.4363\n"
     ]
    },
    {
     "name": "stdout",
     "output_type": "stream",
     "text": [
      "only hand\n"
     ]
    },
    {
     "name": "stderr",
     "output_type": "stream",
     "text": [
      "\u001b[92m01-22 17:44:08\u001b[0m Epoch 1/60 itr 169/170: lr: 0.001000 speed: 1.80(0.60s r0.50)s/itr 0.09h/epoch hand_ssa_loss: 13.5391\n",
      "INFO:train_logs.txt:Epoch 1/60 itr 169/170: lr: 0.001000 speed: 1.80(0.60s r0.50)s/itr 0.09h/epoch hand_ssa_loss: 13.5391\n",
      "\u001b[92m01-22 17:44:08\u001b[0m Write snapshot into c:\\Users\\vladi\\RP\\InterWild\\main\\..\\output\\model_dump\\snapshot_1.pth\n",
      "INFO:train_logs.txt:Write snapshot into c:\\Users\\vladi\\RP\\InterWild\\main\\..\\output\\model_dump\\snapshot_1.pth\n",
      "\u001b[92m01-22 17:44:08\u001b[0m [Epoch 2/60] - Training SSA...\n",
      "INFO:train_logs.txt:[Epoch 2/60] - Training SSA...\n",
      "\u001b[92m01-22 17:44:08\u001b[0m Running validation...\n",
      "INFO:train_logs.txt:Running validation...\n",
      "\u001b[92m01-22 17:44:38\u001b[0m Validation source Results:\n",
      "EvaluationReport:\n",
      "PCK:\n",
      "  Mean: 0.728\n",
      "  Min:  0.476\n",
      "  Max:  1.000\n",
      "  Count: 80\n",
      "IOU:\n",
      "  Mean: 0.671\n",
      "  Min:  0.351\n",
      "  Max:  0.815\n",
      "  Count: 80\n",
      "INFO:train_logs.txt:Validation source Results:\n",
      "EvaluationReport:\n",
      "PCK:\n",
      "  Mean: 0.728\n",
      "  Min:  0.476\n",
      "  Max:  1.000\n",
      "  Count: 80\n",
      "IOU:\n",
      "  Mean: 0.671\n",
      "  Min:  0.351\n",
      "  Max:  0.815\n",
      "  Count: 80\n",
      "\u001b[92m01-22 17:44:38\u001b[0m Running validation...\n",
      "INFO:train_logs.txt:Running validation...\n",
      "\u001b[92m01-22 17:44:45\u001b[0m Validation target Results:\n",
      "EvaluationReport:\n",
      "PCK:\n",
      "  Mean: 0.276\n",
      "  Min:  0.000\n",
      "  Max:  0.857\n",
      "  Count: 80\n",
      "IOU:\n",
      "  Mean: 0.281\n",
      "  Min:  0.000\n",
      "  Max:  0.786\n",
      "  Count: 80\n",
      "INFO:train_logs.txt:Validation target Results:\n",
      "EvaluationReport:\n",
      "PCK:\n",
      "  Mean: 0.276\n",
      "  Min:  0.000\n",
      "  Max:  0.857\n",
      "  Count: 80\n",
      "IOU:\n",
      "  Mean: 0.281\n",
      "  Min:  0.000\n",
      "  Max:  0.786\n",
      "  Count: 80\n"
     ]
    },
    {
     "name": "stdout",
     "output_type": "stream",
     "text": [
      "only hand\n"
     ]
    },
    {
     "name": "stderr",
     "output_type": "stream",
     "text": [
      "\u001b[92m01-22 17:44:52\u001b[0m Epoch 2/60 itr 0/170: lr: 0.001000 speed: 1.80(0.61s r0.62)s/itr 0.08h/epoch hand_ssa_loss: 11.5727\n",
      "INFO:train_logs.txt:Epoch 2/60 itr 0/170: lr: 0.001000 speed: 1.80(0.61s r0.62)s/itr 0.08h/epoch hand_ssa_loss: 11.5727\n"
     ]
    },
    {
     "name": "stdout",
     "output_type": "stream",
     "text": [
      "only hand\n"
     ]
    },
    {
     "name": "stderr",
     "output_type": "stream",
     "text": [
      "\u001b[92m01-22 17:44:54\u001b[0m Epoch 2/60 itr 1/170: lr: 0.001000 speed: 1.92(0.62s r0.61)s/itr 0.09h/epoch hand_ssa_loss: 10.6346\n",
      "INFO:train_logs.txt:Epoch 2/60 itr 1/170: lr: 0.001000 speed: 1.92(0.62s r0.61)s/itr 0.09h/epoch hand_ssa_loss: 10.6346\n"
     ]
    },
    {
     "name": "stdout",
     "output_type": "stream",
     "text": [
      "only hand\n"
     ]
    },
    {
     "name": "stderr",
     "output_type": "stream",
     "text": [
      "\u001b[92m01-22 17:44:57\u001b[0m Epoch 2/60 itr 2/170: lr: 0.001000 speed: 1.93(0.63s r0.61)s/itr 0.09h/epoch hand_ssa_loss: 14.4080\n",
      "INFO:train_logs.txt:Epoch 2/60 itr 2/170: lr: 0.001000 speed: 1.93(0.63s r0.61)s/itr 0.09h/epoch hand_ssa_loss: 14.4080\n"
     ]
    },
    {
     "name": "stdout",
     "output_type": "stream",
     "text": [
      "only hand\n"
     ]
    },
    {
     "name": "stderr",
     "output_type": "stream",
     "text": [
      "\u001b[92m01-22 17:44:58\u001b[0m Epoch 2/60 itr 3/170: lr: 0.001000 speed: 1.93(0.63s r0.61)s/itr 0.09h/epoch hand_ssa_loss: 11.4319\n",
      "INFO:train_logs.txt:Epoch 2/60 itr 3/170: lr: 0.001000 speed: 1.93(0.63s r0.61)s/itr 0.09h/epoch hand_ssa_loss: 11.4319\n"
     ]
    },
    {
     "name": "stdout",
     "output_type": "stream",
     "text": [
      "only hand\n"
     ]
    },
    {
     "name": "stderr",
     "output_type": "stream",
     "text": [
      "\u001b[92m01-22 17:45:02\u001b[0m Epoch 2/60 itr 4/170: lr: 0.001000 speed: 1.92(0.64s r0.61)s/itr 0.09h/epoch hand_ssa_loss: 12.7979\n",
      "INFO:train_logs.txt:Epoch 2/60 itr 4/170: lr: 0.001000 speed: 1.92(0.64s r0.61)s/itr 0.09h/epoch hand_ssa_loss: 12.7979\n"
     ]
    },
    {
     "name": "stdout",
     "output_type": "stream",
     "text": [
      "only hand\n"
     ]
    },
    {
     "name": "stderr",
     "output_type": "stream",
     "text": [
      "\u001b[92m01-22 17:45:03\u001b[0m Epoch 2/60 itr 5/170: lr: 0.001000 speed: 1.93(0.64s r0.61)s/itr 0.09h/epoch hand_ssa_loss: 11.9409\n",
      "INFO:train_logs.txt:Epoch 2/60 itr 5/170: lr: 0.001000 speed: 1.93(0.64s r0.61)s/itr 0.09h/epoch hand_ssa_loss: 11.9409\n"
     ]
    },
    {
     "name": "stdout",
     "output_type": "stream",
     "text": [
      "only hand\n"
     ]
    },
    {
     "name": "stderr",
     "output_type": "stream",
     "text": [
      "\u001b[92m01-22 17:45:07\u001b[0m Epoch 2/60 itr 6/170: lr: 0.001000 speed: 1.93(0.65s r0.60)s/itr 0.09h/epoch hand_ssa_loss: 12.5518\n",
      "INFO:train_logs.txt:Epoch 2/60 itr 6/170: lr: 0.001000 speed: 1.93(0.65s r0.60)s/itr 0.09h/epoch hand_ssa_loss: 12.5518\n"
     ]
    },
    {
     "name": "stdout",
     "output_type": "stream",
     "text": [
      "only hand\n"
     ]
    },
    {
     "name": "stderr",
     "output_type": "stream",
     "text": [
      "\u001b[92m01-22 17:45:09\u001b[0m Epoch 2/60 itr 7/170: lr: 0.001000 speed: 1.93(0.65s r0.60)s/itr 0.09h/epoch hand_ssa_loss: 20.2914\n",
      "INFO:train_logs.txt:Epoch 2/60 itr 7/170: lr: 0.001000 speed: 1.93(0.65s r0.60)s/itr 0.09h/epoch hand_ssa_loss: 20.2914\n"
     ]
    },
    {
     "name": "stdout",
     "output_type": "stream",
     "text": [
      "only hand\n"
     ]
    },
    {
     "name": "stderr",
     "output_type": "stream",
     "text": [
      "\u001b[92m01-22 17:45:12\u001b[0m Epoch 2/60 itr 8/170: lr: 0.001000 speed: 1.94(0.66s r0.60)s/itr 0.09h/epoch hand_ssa_loss: 10.6653\n",
      "INFO:train_logs.txt:Epoch 2/60 itr 8/170: lr: 0.001000 speed: 1.94(0.66s r0.60)s/itr 0.09h/epoch hand_ssa_loss: 10.6653\n"
     ]
    },
    {
     "name": "stdout",
     "output_type": "stream",
     "text": [
      "only hand\n"
     ]
    },
    {
     "name": "stderr",
     "output_type": "stream",
     "text": [
      "\u001b[92m01-22 17:45:15\u001b[0m Epoch 2/60 itr 9/170: lr: 0.001000 speed: 1.94(0.67s r0.60)s/itr 0.09h/epoch hand_ssa_loss: 15.9840\n",
      "INFO:train_logs.txt:Epoch 2/60 itr 9/170: lr: 0.001000 speed: 1.94(0.67s r0.60)s/itr 0.09h/epoch hand_ssa_loss: 15.9840\n"
     ]
    },
    {
     "name": "stdout",
     "output_type": "stream",
     "text": [
      "only hand\n"
     ]
    },
    {
     "name": "stderr",
     "output_type": "stream",
     "text": [
      "\u001b[92m01-22 17:45:17\u001b[0m Epoch 2/60 itr 10/170: lr: 0.001000 speed: 1.94(0.67s r0.60)s/itr 0.09h/epoch hand_ssa_loss: 19.9814\n",
      "INFO:train_logs.txt:Epoch 2/60 itr 10/170: lr: 0.001000 speed: 1.94(0.67s r0.60)s/itr 0.09h/epoch hand_ssa_loss: 19.9814\n"
     ]
    },
    {
     "name": "stdout",
     "output_type": "stream",
     "text": [
      "only hand\n"
     ]
    },
    {
     "name": "stderr",
     "output_type": "stream",
     "text": [
      "\u001b[92m01-22 17:45:19\u001b[0m Epoch 2/60 itr 11/170: lr: 0.001000 speed: 1.94(0.67s r0.60)s/itr 0.09h/epoch hand_ssa_loss: 13.5057\n",
      "INFO:train_logs.txt:Epoch 2/60 itr 11/170: lr: 0.001000 speed: 1.94(0.67s r0.60)s/itr 0.09h/epoch hand_ssa_loss: 13.5057\n"
     ]
    },
    {
     "name": "stdout",
     "output_type": "stream",
     "text": [
      "only hand\n"
     ]
    },
    {
     "name": "stderr",
     "output_type": "stream",
     "text": [
      "\u001b[92m01-22 17:45:20\u001b[0m Epoch 2/60 itr 12/170: lr: 0.001000 speed: 1.94(0.67s r0.59)s/itr 0.09h/epoch hand_ssa_loss: 11.3812\n",
      "INFO:train_logs.txt:Epoch 2/60 itr 12/170: lr: 0.001000 speed: 1.94(0.67s r0.59)s/itr 0.09h/epoch hand_ssa_loss: 11.3812\n"
     ]
    },
    {
     "name": "stdout",
     "output_type": "stream",
     "text": [
      "only hand\n"
     ]
    },
    {
     "name": "stderr",
     "output_type": "stream",
     "text": [
      "\u001b[92m01-22 17:45:24\u001b[0m Epoch 2/60 itr 13/170: lr: 0.001000 speed: 1.94(0.68s r0.59)s/itr 0.09h/epoch hand_ssa_loss: 11.6786\n",
      "INFO:train_logs.txt:Epoch 2/60 itr 13/170: lr: 0.001000 speed: 1.94(0.68s r0.59)s/itr 0.09h/epoch hand_ssa_loss: 11.6786\n"
     ]
    },
    {
     "name": "stdout",
     "output_type": "stream",
     "text": [
      "only hand\n"
     ]
    },
    {
     "name": "stderr",
     "output_type": "stream",
     "text": [
      "\u001b[92m01-22 17:45:26\u001b[0m Epoch 2/60 itr 14/170: lr: 0.001000 speed: 1.94(0.69s r0.59)s/itr 0.09h/epoch hand_ssa_loss: 11.9447\n",
      "INFO:train_logs.txt:Epoch 2/60 itr 14/170: lr: 0.001000 speed: 1.94(0.69s r0.59)s/itr 0.09h/epoch hand_ssa_loss: 11.9447\n"
     ]
    },
    {
     "name": "stdout",
     "output_type": "stream",
     "text": [
      "only hand\n"
     ]
    },
    {
     "name": "stderr",
     "output_type": "stream",
     "text": [
      "\u001b[92m01-22 17:45:29\u001b[0m Epoch 2/60 itr 15/170: lr: 0.001000 speed: 1.95(0.69s r0.59)s/itr 0.09h/epoch hand_ssa_loss: 13.0405\n",
      "INFO:train_logs.txt:Epoch 2/60 itr 15/170: lr: 0.001000 speed: 1.95(0.69s r0.59)s/itr 0.09h/epoch hand_ssa_loss: 13.0405\n"
     ]
    },
    {
     "name": "stdout",
     "output_type": "stream",
     "text": [
      "only hand\n"
     ]
    },
    {
     "name": "stderr",
     "output_type": "stream",
     "text": [
      "\u001b[92m01-22 17:45:31\u001b[0m Epoch 2/60 itr 16/170: lr: 0.001000 speed: 1.95(0.70s r0.59)s/itr 0.09h/epoch hand_ssa_loss: 12.6531\n",
      "INFO:train_logs.txt:Epoch 2/60 itr 16/170: lr: 0.001000 speed: 1.95(0.70s r0.59)s/itr 0.09h/epoch hand_ssa_loss: 12.6531\n"
     ]
    },
    {
     "name": "stdout",
     "output_type": "stream",
     "text": [
      "only hand\n"
     ]
    },
    {
     "name": "stderr",
     "output_type": "stream",
     "text": [
      "\u001b[92m01-22 17:45:34\u001b[0m Epoch 2/60 itr 17/170: lr: 0.001000 speed: 1.95(0.70s r0.59)s/itr 0.09h/epoch hand_ssa_loss: 22.7786\n",
      "INFO:train_logs.txt:Epoch 2/60 itr 17/170: lr: 0.001000 speed: 1.95(0.70s r0.59)s/itr 0.09h/epoch hand_ssa_loss: 22.7786\n"
     ]
    },
    {
     "name": "stdout",
     "output_type": "stream",
     "text": [
      "only hand\n"
     ]
    },
    {
     "name": "stderr",
     "output_type": "stream",
     "text": [
      "\u001b[92m01-22 17:45:37\u001b[0m Epoch 2/60 itr 18/170: lr: 0.001000 speed: 1.95(0.71s r0.58)s/itr 0.09h/epoch hand_ssa_loss: 12.4360\n",
      "INFO:train_logs.txt:Epoch 2/60 itr 18/170: lr: 0.001000 speed: 1.95(0.71s r0.58)s/itr 0.09h/epoch hand_ssa_loss: 12.4360\n"
     ]
    },
    {
     "name": "stdout",
     "output_type": "stream",
     "text": [
      "only hand\n"
     ]
    },
    {
     "name": "stderr",
     "output_type": "stream",
     "text": [
      "\u001b[92m01-22 17:45:40\u001b[0m Epoch 2/60 itr 19/170: lr: 0.001000 speed: 1.95(0.71s r0.58)s/itr 0.09h/epoch hand_ssa_loss: 18.1609\n",
      "INFO:train_logs.txt:Epoch 2/60 itr 19/170: lr: 0.001000 speed: 1.95(0.71s r0.58)s/itr 0.09h/epoch hand_ssa_loss: 18.1609\n"
     ]
    },
    {
     "name": "stdout",
     "output_type": "stream",
     "text": [
      "only hand\n"
     ]
    },
    {
     "name": "stderr",
     "output_type": "stream",
     "text": [
      "\u001b[92m01-22 17:45:42\u001b[0m Epoch 2/60 itr 20/170: lr: 0.001000 speed: 1.96(0.72s r0.58)s/itr 0.09h/epoch hand_ssa_loss: 10.1406\n",
      "INFO:train_logs.txt:Epoch 2/60 itr 20/170: lr: 0.001000 speed: 1.96(0.72s r0.58)s/itr 0.09h/epoch hand_ssa_loss: 10.1406\n"
     ]
    },
    {
     "name": "stdout",
     "output_type": "stream",
     "text": [
      "only hand\n"
     ]
    },
    {
     "name": "stderr",
     "output_type": "stream",
     "text": [
      "\u001b[92m01-22 17:45:45\u001b[0m Epoch 2/60 itr 21/170: lr: 0.001000 speed: 1.96(0.72s r0.58)s/itr 0.09h/epoch hand_ssa_loss: 13.6417\n",
      "INFO:train_logs.txt:Epoch 2/60 itr 21/170: lr: 0.001000 speed: 1.96(0.72s r0.58)s/itr 0.09h/epoch hand_ssa_loss: 13.6417\n"
     ]
    },
    {
     "name": "stdout",
     "output_type": "stream",
     "text": [
      "only hand\n"
     ]
    },
    {
     "name": "stderr",
     "output_type": "stream",
     "text": [
      "\u001b[92m01-22 17:45:47\u001b[0m Epoch 2/60 itr 22/170: lr: 0.001000 speed: 1.96(0.73s r0.58)s/itr 0.09h/epoch hand_ssa_loss: 13.4999\n",
      "INFO:train_logs.txt:Epoch 2/60 itr 22/170: lr: 0.001000 speed: 1.96(0.73s r0.58)s/itr 0.09h/epoch hand_ssa_loss: 13.4999\n"
     ]
    },
    {
     "name": "stdout",
     "output_type": "stream",
     "text": [
      "only hand\n"
     ]
    },
    {
     "name": "stderr",
     "output_type": "stream",
     "text": [
      "\u001b[92m01-22 17:45:49\u001b[0m Epoch 2/60 itr 23/170: lr: 0.001000 speed: 1.96(0.73s r0.58)s/itr 0.09h/epoch hand_ssa_loss: 13.6894\n",
      "INFO:train_logs.txt:Epoch 2/60 itr 23/170: lr: 0.001000 speed: 1.96(0.73s r0.58)s/itr 0.09h/epoch hand_ssa_loss: 13.6894\n"
     ]
    },
    {
     "name": "stdout",
     "output_type": "stream",
     "text": [
      "only hand\n"
     ]
    },
    {
     "name": "stderr",
     "output_type": "stream",
     "text": [
      "\u001b[92m01-22 17:45:52\u001b[0m Epoch 2/60 itr 24/170: lr: 0.001000 speed: 1.96(0.74s r0.57)s/itr 0.09h/epoch hand_ssa_loss: 13.2642\n",
      "INFO:train_logs.txt:Epoch 2/60 itr 24/170: lr: 0.001000 speed: 1.96(0.74s r0.57)s/itr 0.09h/epoch hand_ssa_loss: 13.2642\n"
     ]
    },
    {
     "name": "stdout",
     "output_type": "stream",
     "text": [
      "only hand\n"
     ]
    },
    {
     "name": "stderr",
     "output_type": "stream",
     "text": [
      "\u001b[92m01-22 17:46:00\u001b[0m Epoch 2/60 itr 25/170: lr: 0.001000 speed: 1.96(0.76s r0.57)s/itr 0.09h/epoch hand_ssa_loss: 9.8761\n",
      "INFO:train_logs.txt:Epoch 2/60 itr 25/170: lr: 0.001000 speed: 1.96(0.76s r0.57)s/itr 0.09h/epoch hand_ssa_loss: 9.8761\n"
     ]
    },
    {
     "name": "stdout",
     "output_type": "stream",
     "text": [
      "only hand\n"
     ]
    },
    {
     "name": "stderr",
     "output_type": "stream",
     "text": [
      "\u001b[92m01-22 17:46:04\u001b[0m Epoch 2/60 itr 26/170: lr: 0.001000 speed: 1.98(0.77s r0.57)s/itr 0.09h/epoch hand_ssa_loss: 13.6704\n",
      "INFO:train_logs.txt:Epoch 2/60 itr 26/170: lr: 0.001000 speed: 1.98(0.77s r0.57)s/itr 0.09h/epoch hand_ssa_loss: 13.6704\n"
     ]
    },
    {
     "name": "stdout",
     "output_type": "stream",
     "text": [
      "only hand\n"
     ]
    },
    {
     "name": "stderr",
     "output_type": "stream",
     "text": [
      "\u001b[92m01-22 17:46:08\u001b[0m Epoch 2/60 itr 27/170: lr: 0.001000 speed: 1.99(0.78s r0.57)s/itr 0.09h/epoch hand_ssa_loss: 12.9509\n",
      "INFO:train_logs.txt:Epoch 2/60 itr 27/170: lr: 0.001000 speed: 1.99(0.78s r0.57)s/itr 0.09h/epoch hand_ssa_loss: 12.9509\n"
     ]
    },
    {
     "name": "stdout",
     "output_type": "stream",
     "text": [
      "only hand\n"
     ]
    },
    {
     "name": "stderr",
     "output_type": "stream",
     "text": [
      "\u001b[92m01-22 17:46:10\u001b[0m Epoch 2/60 itr 28/170: lr: 0.001000 speed: 1.99(0.78s r0.57)s/itr 0.09h/epoch hand_ssa_loss: 10.2242\n",
      "INFO:train_logs.txt:Epoch 2/60 itr 28/170: lr: 0.001000 speed: 1.99(0.78s r0.57)s/itr 0.09h/epoch hand_ssa_loss: 10.2242\n"
     ]
    },
    {
     "name": "stdout",
     "output_type": "stream",
     "text": [
      "only hand\n"
     ]
    },
    {
     "name": "stderr",
     "output_type": "stream",
     "text": [
      "\u001b[92m01-22 17:46:11\u001b[0m Epoch 2/60 itr 29/170: lr: 0.001000 speed: 1.99(0.78s r0.57)s/itr 0.09h/epoch hand_ssa_loss: 14.0529\n",
      "INFO:train_logs.txt:Epoch 2/60 itr 29/170: lr: 0.001000 speed: 1.99(0.78s r0.57)s/itr 0.09h/epoch hand_ssa_loss: 14.0529\n"
     ]
    },
    {
     "name": "stdout",
     "output_type": "stream",
     "text": [
      "only hand\n"
     ]
    },
    {
     "name": "stderr",
     "output_type": "stream",
     "text": [
      "\u001b[92m01-22 17:46:12\u001b[0m Epoch 2/60 itr 30/170: lr: 0.001000 speed: 1.99(0.78s r0.56)s/itr 0.09h/epoch hand_ssa_loss: 11.0100\n",
      "INFO:train_logs.txt:Epoch 2/60 itr 30/170: lr: 0.001000 speed: 1.99(0.78s r0.56)s/itr 0.09h/epoch hand_ssa_loss: 11.0100\n"
     ]
    },
    {
     "name": "stdout",
     "output_type": "stream",
     "text": [
      "only hand\n"
     ]
    },
    {
     "name": "stderr",
     "output_type": "stream",
     "text": [
      "\u001b[92m01-22 17:46:13\u001b[0m Epoch 2/60 itr 31/170: lr: 0.001000 speed: 1.99(0.78s r0.56)s/itr 0.09h/epoch hand_ssa_loss: 11.8154\n",
      "INFO:train_logs.txt:Epoch 2/60 itr 31/170: lr: 0.001000 speed: 1.99(0.78s r0.56)s/itr 0.09h/epoch hand_ssa_loss: 11.8154\n"
     ]
    },
    {
     "name": "stdout",
     "output_type": "stream",
     "text": [
      "only hand\n"
     ]
    },
    {
     "name": "stderr",
     "output_type": "stream",
     "text": [
      "\u001b[92m01-22 17:46:15\u001b[0m Epoch 2/60 itr 32/170: lr: 0.001000 speed: 1.98(0.77s r0.56)s/itr 0.09h/epoch hand_ssa_loss: 16.2681\n",
      "INFO:train_logs.txt:Epoch 2/60 itr 32/170: lr: 0.001000 speed: 1.98(0.77s r0.56)s/itr 0.09h/epoch hand_ssa_loss: 16.2681\n"
     ]
    },
    {
     "name": "stdout",
     "output_type": "stream",
     "text": [
      "only hand\n"
     ]
    },
    {
     "name": "stderr",
     "output_type": "stream",
     "text": [
      "\u001b[92m01-22 17:46:17\u001b[0m Epoch 2/60 itr 33/170: lr: 0.001000 speed: 1.98(0.77s r0.56)s/itr 0.09h/epoch hand_ssa_loss: 10.6226\n",
      "INFO:train_logs.txt:Epoch 2/60 itr 33/170: lr: 0.001000 speed: 1.98(0.77s r0.56)s/itr 0.09h/epoch hand_ssa_loss: 10.6226\n"
     ]
    },
    {
     "name": "stdout",
     "output_type": "stream",
     "text": [
      "only hand\n"
     ]
    },
    {
     "name": "stderr",
     "output_type": "stream",
     "text": [
      "\u001b[92m01-22 17:46:18\u001b[0m Epoch 2/60 itr 34/170: lr: 0.001000 speed: 1.98(0.77s r0.56)s/itr 0.09h/epoch hand_ssa_loss: 16.0830\n",
      "INFO:train_logs.txt:Epoch 2/60 itr 34/170: lr: 0.001000 speed: 1.98(0.77s r0.56)s/itr 0.09h/epoch hand_ssa_loss: 16.0830\n"
     ]
    },
    {
     "name": "stdout",
     "output_type": "stream",
     "text": [
      "only hand\n"
     ]
    },
    {
     "name": "stderr",
     "output_type": "stream",
     "text": [
      "\u001b[92m01-22 17:46:20\u001b[0m Epoch 2/60 itr 35/170: lr: 0.001000 speed: 1.98(0.77s r0.56)s/itr 0.09h/epoch hand_ssa_loss: 10.6815\n",
      "INFO:train_logs.txt:Epoch 2/60 itr 35/170: lr: 0.001000 speed: 1.98(0.77s r0.56)s/itr 0.09h/epoch hand_ssa_loss: 10.6815\n"
     ]
    },
    {
     "name": "stdout",
     "output_type": "stream",
     "text": [
      "only hand\n"
     ]
    },
    {
     "name": "stderr",
     "output_type": "stream",
     "text": [
      "\u001b[92m01-22 17:46:21\u001b[0m Epoch 2/60 itr 36/170: lr: 0.001000 speed: 1.98(0.77s r0.56)s/itr 0.09h/epoch hand_ssa_loss: 21.6549\n",
      "INFO:train_logs.txt:Epoch 2/60 itr 36/170: lr: 0.001000 speed: 1.98(0.77s r0.56)s/itr 0.09h/epoch hand_ssa_loss: 21.6549\n"
     ]
    },
    {
     "name": "stdout",
     "output_type": "stream",
     "text": [
      "only hand\n"
     ]
    },
    {
     "name": "stderr",
     "output_type": "stream",
     "text": [
      "\u001b[92m01-22 17:46:23\u001b[0m Epoch 2/60 itr 37/170: lr: 0.001000 speed: 1.98(0.77s r0.56)s/itr 0.09h/epoch hand_ssa_loss: 9.9151\n",
      "INFO:train_logs.txt:Epoch 2/60 itr 37/170: lr: 0.001000 speed: 1.98(0.77s r0.56)s/itr 0.09h/epoch hand_ssa_loss: 9.9151\n"
     ]
    },
    {
     "name": "stdout",
     "output_type": "stream",
     "text": [
      "only hand\n"
     ]
    },
    {
     "name": "stderr",
     "output_type": "stream",
     "text": [
      "\u001b[92m01-22 17:46:24\u001b[0m Epoch 2/60 itr 38/170: lr: 0.001000 speed: 1.98(0.77s r0.56)s/itr 0.09h/epoch hand_ssa_loss: 10.1681\n",
      "INFO:train_logs.txt:Epoch 2/60 itr 38/170: lr: 0.001000 speed: 1.98(0.77s r0.56)s/itr 0.09h/epoch hand_ssa_loss: 10.1681\n"
     ]
    },
    {
     "name": "stdout",
     "output_type": "stream",
     "text": [
      "only hand\n"
     ]
    },
    {
     "name": "stderr",
     "output_type": "stream",
     "text": [
      "\u001b[92m01-22 17:46:26\u001b[0m Epoch 2/60 itr 39/170: lr: 0.001000 speed: 1.98(0.77s r0.56)s/itr 0.09h/epoch hand_ssa_loss: 14.9822\n",
      "INFO:train_logs.txt:Epoch 2/60 itr 39/170: lr: 0.001000 speed: 1.98(0.77s r0.56)s/itr 0.09h/epoch hand_ssa_loss: 14.9822\n"
     ]
    },
    {
     "name": "stdout",
     "output_type": "stream",
     "text": [
      "only hand\n"
     ]
    },
    {
     "name": "stderr",
     "output_type": "stream",
     "text": [
      "\u001b[92m01-22 17:46:28\u001b[0m Epoch 2/60 itr 40/170: lr: 0.001000 speed: 1.98(0.76s r0.56)s/itr 0.09h/epoch hand_ssa_loss: 9.7446\n",
      "INFO:train_logs.txt:Epoch 2/60 itr 40/170: lr: 0.001000 speed: 1.98(0.76s r0.56)s/itr 0.09h/epoch hand_ssa_loss: 9.7446\n"
     ]
    },
    {
     "name": "stdout",
     "output_type": "stream",
     "text": [
      "only hand\n"
     ]
    },
    {
     "name": "stderr",
     "output_type": "stream",
     "text": [
      "\u001b[92m01-22 17:46:29\u001b[0m Epoch 2/60 itr 41/170: lr: 0.001000 speed: 1.97(0.76s r0.56)s/itr 0.09h/epoch hand_ssa_loss: 12.8677\n",
      "INFO:train_logs.txt:Epoch 2/60 itr 41/170: lr: 0.001000 speed: 1.97(0.76s r0.56)s/itr 0.09h/epoch hand_ssa_loss: 12.8677\n"
     ]
    },
    {
     "name": "stdout",
     "output_type": "stream",
     "text": [
      "only hand\n"
     ]
    },
    {
     "name": "stderr",
     "output_type": "stream",
     "text": [
      "\u001b[92m01-22 17:46:31\u001b[0m Epoch 2/60 itr 42/170: lr: 0.001000 speed: 1.97(0.76s r0.56)s/itr 0.09h/epoch hand_ssa_loss: 12.5061\n",
      "INFO:train_logs.txt:Epoch 2/60 itr 42/170: lr: 0.001000 speed: 1.97(0.76s r0.56)s/itr 0.09h/epoch hand_ssa_loss: 12.5061\n"
     ]
    },
    {
     "name": "stdout",
     "output_type": "stream",
     "text": [
      "only hand\n"
     ]
    },
    {
     "name": "stderr",
     "output_type": "stream",
     "text": [
      "\u001b[92m01-22 17:46:32\u001b[0m Epoch 2/60 itr 43/170: lr: 0.001000 speed: 1.97(0.76s r0.56)s/itr 0.09h/epoch hand_ssa_loss: 8.7077\n",
      "INFO:train_logs.txt:Epoch 2/60 itr 43/170: lr: 0.001000 speed: 1.97(0.76s r0.56)s/itr 0.09h/epoch hand_ssa_loss: 8.7077\n"
     ]
    },
    {
     "name": "stdout",
     "output_type": "stream",
     "text": [
      "only hand\n"
     ]
    },
    {
     "name": "stderr",
     "output_type": "stream",
     "text": [
      "\u001b[92m01-22 17:46:33\u001b[0m Epoch 2/60 itr 44/170: lr: 0.001000 speed: 1.97(0.76s r0.55)s/itr 0.09h/epoch hand_ssa_loss: 12.7796\n",
      "INFO:train_logs.txt:Epoch 2/60 itr 44/170: lr: 0.001000 speed: 1.97(0.76s r0.55)s/itr 0.09h/epoch hand_ssa_loss: 12.7796\n"
     ]
    },
    {
     "name": "stdout",
     "output_type": "stream",
     "text": [
      "only hand\n"
     ]
    },
    {
     "name": "stderr",
     "output_type": "stream",
     "text": [
      "\u001b[92m01-22 17:46:34\u001b[0m Epoch 2/60 itr 45/170: lr: 0.001000 speed: 1.97(0.75s r0.56)s/itr 0.09h/epoch hand_ssa_loss: 9.6434\n",
      "INFO:train_logs.txt:Epoch 2/60 itr 45/170: lr: 0.001000 speed: 1.97(0.75s r0.56)s/itr 0.09h/epoch hand_ssa_loss: 9.6434\n"
     ]
    },
    {
     "name": "stdout",
     "output_type": "stream",
     "text": [
      "only hand\n"
     ]
    },
    {
     "name": "stderr",
     "output_type": "stream",
     "text": [
      "\u001b[92m01-22 17:46:42\u001b[0m Epoch 2/60 itr 46/170: lr: 0.001000 speed: 1.97(0.77s r0.56)s/itr 0.09h/epoch hand_ssa_loss: 11.7570\n",
      "INFO:train_logs.txt:Epoch 2/60 itr 46/170: lr: 0.001000 speed: 1.97(0.77s r0.56)s/itr 0.09h/epoch hand_ssa_loss: 11.7570\n"
     ]
    },
    {
     "name": "stdout",
     "output_type": "stream",
     "text": [
      "only hand\n"
     ]
    },
    {
     "name": "stderr",
     "output_type": "stream",
     "text": [
      "\u001b[92m01-22 17:46:44\u001b[0m Epoch 2/60 itr 47/170: lr: 0.001000 speed: 1.98(0.77s r0.56)s/itr 0.09h/epoch hand_ssa_loss: 12.4696\n",
      "INFO:train_logs.txt:Epoch 2/60 itr 47/170: lr: 0.001000 speed: 1.98(0.77s r0.56)s/itr 0.09h/epoch hand_ssa_loss: 12.4696\n"
     ]
    },
    {
     "name": "stdout",
     "output_type": "stream",
     "text": [
      "only hand\n"
     ]
    },
    {
     "name": "stderr",
     "output_type": "stream",
     "text": [
      "\u001b[92m01-22 17:46:46\u001b[0m Epoch 2/60 itr 48/170: lr: 0.001000 speed: 1.98(0.76s r0.55)s/itr 0.09h/epoch hand_ssa_loss: 14.3539\n",
      "INFO:train_logs.txt:Epoch 2/60 itr 48/170: lr: 0.001000 speed: 1.98(0.76s r0.55)s/itr 0.09h/epoch hand_ssa_loss: 14.3539\n"
     ]
    },
    {
     "name": "stdout",
     "output_type": "stream",
     "text": [
      "only hand\n"
     ]
    },
    {
     "name": "stderr",
     "output_type": "stream",
     "text": [
      "\u001b[92m01-22 17:46:48\u001b[0m Epoch 2/60 itr 49/170: lr: 0.001000 speed: 1.98(0.77s r0.55)s/itr 0.09h/epoch hand_ssa_loss: 12.2605\n",
      "INFO:train_logs.txt:Epoch 2/60 itr 49/170: lr: 0.001000 speed: 1.98(0.77s r0.55)s/itr 0.09h/epoch hand_ssa_loss: 12.2605\n"
     ]
    },
    {
     "name": "stdout",
     "output_type": "stream",
     "text": [
      "only hand\n"
     ]
    },
    {
     "name": "stderr",
     "output_type": "stream",
     "text": [
      "\u001b[92m01-22 17:46:49\u001b[0m Epoch 2/60 itr 50/170: lr: 0.001000 speed: 1.98(0.77s r0.55)s/itr 0.09h/epoch hand_ssa_loss: 10.1987\n",
      "INFO:train_logs.txt:Epoch 2/60 itr 50/170: lr: 0.001000 speed: 1.98(0.77s r0.55)s/itr 0.09h/epoch hand_ssa_loss: 10.1987\n"
     ]
    },
    {
     "name": "stdout",
     "output_type": "stream",
     "text": [
      "only hand\n"
     ]
    },
    {
     "name": "stderr",
     "output_type": "stream",
     "text": [
      "\u001b[92m01-22 17:46:50\u001b[0m Epoch 2/60 itr 51/170: lr: 0.001000 speed: 1.98(0.76s r0.55)s/itr 0.09h/epoch hand_ssa_loss: 10.7167\n",
      "INFO:train_logs.txt:Epoch 2/60 itr 51/170: lr: 0.001000 speed: 1.98(0.76s r0.55)s/itr 0.09h/epoch hand_ssa_loss: 10.7167\n"
     ]
    },
    {
     "name": "stdout",
     "output_type": "stream",
     "text": [
      "only hand\n"
     ]
    },
    {
     "name": "stderr",
     "output_type": "stream",
     "text": [
      "\u001b[92m01-22 17:46:52\u001b[0m Epoch 2/60 itr 52/170: lr: 0.001000 speed: 1.98(0.76s r0.55)s/itr 0.09h/epoch hand_ssa_loss: 10.8118\n",
      "INFO:train_logs.txt:Epoch 2/60 itr 52/170: lr: 0.001000 speed: 1.98(0.76s r0.55)s/itr 0.09h/epoch hand_ssa_loss: 10.8118\n"
     ]
    },
    {
     "name": "stdout",
     "output_type": "stream",
     "text": [
      "only hand\n"
     ]
    },
    {
     "name": "stderr",
     "output_type": "stream",
     "text": [
      "\u001b[92m01-22 17:46:54\u001b[0m Epoch 2/60 itr 53/170: lr: 0.001000 speed: 1.98(0.76s r0.55)s/itr 0.09h/epoch hand_ssa_loss: 13.9478\n",
      "INFO:train_logs.txt:Epoch 2/60 itr 53/170: lr: 0.001000 speed: 1.98(0.76s r0.55)s/itr 0.09h/epoch hand_ssa_loss: 13.9478\n"
     ]
    },
    {
     "name": "stdout",
     "output_type": "stream",
     "text": [
      "only hand\n"
     ]
    },
    {
     "name": "stderr",
     "output_type": "stream",
     "text": [
      "\u001b[92m01-22 17:46:56\u001b[0m Epoch 2/60 itr 54/170: lr: 0.001000 speed: 1.98(0.76s r0.55)s/itr 0.09h/epoch hand_ssa_loss: 10.3844\n",
      "INFO:train_logs.txt:Epoch 2/60 itr 54/170: lr: 0.001000 speed: 1.98(0.76s r0.55)s/itr 0.09h/epoch hand_ssa_loss: 10.3844\n"
     ]
    },
    {
     "name": "stdout",
     "output_type": "stream",
     "text": [
      "only hand\n"
     ]
    },
    {
     "name": "stderr",
     "output_type": "stream",
     "text": [
      "\u001b[92m01-22 17:46:59\u001b[0m Epoch 2/60 itr 55/170: lr: 0.001000 speed: 1.98(0.76s r0.55)s/itr 0.09h/epoch hand_ssa_loss: 7.8061\n",
      "INFO:train_logs.txt:Epoch 2/60 itr 55/170: lr: 0.001000 speed: 1.98(0.76s r0.55)s/itr 0.09h/epoch hand_ssa_loss: 7.8061\n"
     ]
    },
    {
     "name": "stdout",
     "output_type": "stream",
     "text": [
      "only hand\n"
     ]
    },
    {
     "name": "stderr",
     "output_type": "stream",
     "text": [
      "\u001b[92m01-22 17:47:00\u001b[0m Epoch 2/60 itr 56/170: lr: 0.001000 speed: 1.98(0.76s r0.55)s/itr 0.09h/epoch hand_ssa_loss: 10.9365\n",
      "INFO:train_logs.txt:Epoch 2/60 itr 56/170: lr: 0.001000 speed: 1.98(0.76s r0.55)s/itr 0.09h/epoch hand_ssa_loss: 10.9365\n"
     ]
    },
    {
     "name": "stdout",
     "output_type": "stream",
     "text": [
      "only hand\n"
     ]
    },
    {
     "name": "stderr",
     "output_type": "stream",
     "text": [
      "\u001b[92m01-22 17:47:02\u001b[0m Epoch 2/60 itr 57/170: lr: 0.001000 speed: 1.98(0.76s r0.55)s/itr 0.09h/epoch hand_ssa_loss: 13.3043\n",
      "INFO:train_logs.txt:Epoch 2/60 itr 57/170: lr: 0.001000 speed: 1.98(0.76s r0.55)s/itr 0.09h/epoch hand_ssa_loss: 13.3043\n"
     ]
    },
    {
     "name": "stdout",
     "output_type": "stream",
     "text": [
      "only hand\n"
     ]
    },
    {
     "name": "stderr",
     "output_type": "stream",
     "text": [
      "\u001b[92m01-22 17:47:04\u001b[0m Epoch 2/60 itr 58/170: lr: 0.001000 speed: 1.98(0.76s r0.55)s/itr 0.09h/epoch hand_ssa_loss: 9.4562\n",
      "INFO:train_logs.txt:Epoch 2/60 itr 58/170: lr: 0.001000 speed: 1.98(0.76s r0.55)s/itr 0.09h/epoch hand_ssa_loss: 9.4562\n"
     ]
    },
    {
     "name": "stdout",
     "output_type": "stream",
     "text": [
      "only hand\n"
     ]
    },
    {
     "name": "stderr",
     "output_type": "stream",
     "text": [
      "\u001b[92m01-22 17:47:05\u001b[0m Epoch 2/60 itr 59/170: lr: 0.001000 speed: 1.98(0.76s r0.55)s/itr 0.09h/epoch hand_ssa_loss: 7.5452\n",
      "INFO:train_logs.txt:Epoch 2/60 itr 59/170: lr: 0.001000 speed: 1.98(0.76s r0.55)s/itr 0.09h/epoch hand_ssa_loss: 7.5452\n"
     ]
    },
    {
     "name": "stdout",
     "output_type": "stream",
     "text": [
      "only hand\n"
     ]
    },
    {
     "name": "stderr",
     "output_type": "stream",
     "text": [
      "\u001b[92m01-22 17:47:07\u001b[0m Epoch 2/60 itr 60/170: lr: 0.001000 speed: 1.98(0.76s r0.55)s/itr 0.09h/epoch hand_ssa_loss: 11.8271\n",
      "INFO:train_logs.txt:Epoch 2/60 itr 60/170: lr: 0.001000 speed: 1.98(0.76s r0.55)s/itr 0.09h/epoch hand_ssa_loss: 11.8271\n"
     ]
    },
    {
     "name": "stdout",
     "output_type": "stream",
     "text": [
      "only hand\n"
     ]
    },
    {
     "name": "stderr",
     "output_type": "stream",
     "text": [
      "\u001b[92m01-22 17:47:08\u001b[0m Epoch 2/60 itr 61/170: lr: 0.001000 speed: 1.97(0.76s r0.55)s/itr 0.09h/epoch hand_ssa_loss: 10.5471\n",
      "INFO:train_logs.txt:Epoch 2/60 itr 61/170: lr: 0.001000 speed: 1.97(0.76s r0.55)s/itr 0.09h/epoch hand_ssa_loss: 10.5471\n"
     ]
    },
    {
     "name": "stdout",
     "output_type": "stream",
     "text": [
      "only hand\n"
     ]
    },
    {
     "name": "stderr",
     "output_type": "stream",
     "text": [
      "\u001b[92m01-22 17:47:10\u001b[0m Epoch 2/60 itr 62/170: lr: 0.001000 speed: 1.97(0.76s r0.55)s/itr 0.09h/epoch hand_ssa_loss: 9.6556\n",
      "INFO:train_logs.txt:Epoch 2/60 itr 62/170: lr: 0.001000 speed: 1.97(0.76s r0.55)s/itr 0.09h/epoch hand_ssa_loss: 9.6556\n"
     ]
    },
    {
     "name": "stdout",
     "output_type": "stream",
     "text": [
      "only hand\n"
     ]
    },
    {
     "name": "stderr",
     "output_type": "stream",
     "text": [
      "\u001b[92m01-22 17:47:11\u001b[0m Epoch 2/60 itr 63/170: lr: 0.001000 speed: 1.97(0.75s r0.55)s/itr 0.09h/epoch hand_ssa_loss: 10.0485\n",
      "INFO:train_logs.txt:Epoch 2/60 itr 63/170: lr: 0.001000 speed: 1.97(0.75s r0.55)s/itr 0.09h/epoch hand_ssa_loss: 10.0485\n"
     ]
    },
    {
     "name": "stdout",
     "output_type": "stream",
     "text": [
      "only hand\n"
     ]
    },
    {
     "name": "stderr",
     "output_type": "stream",
     "text": [
      "\u001b[92m01-22 17:47:13\u001b[0m Epoch 2/60 itr 64/170: lr: 0.001000 speed: 1.97(0.75s r0.55)s/itr 0.09h/epoch hand_ssa_loss: 10.4305\n",
      "INFO:train_logs.txt:Epoch 2/60 itr 64/170: lr: 0.001000 speed: 1.97(0.75s r0.55)s/itr 0.09h/epoch hand_ssa_loss: 10.4305\n"
     ]
    },
    {
     "name": "stdout",
     "output_type": "stream",
     "text": [
      "only hand\n"
     ]
    },
    {
     "name": "stderr",
     "output_type": "stream",
     "text": [
      "\u001b[92m01-22 17:47:14\u001b[0m Epoch 2/60 itr 65/170: lr: 0.001000 speed: 1.97(0.75s r0.55)s/itr 0.09h/epoch hand_ssa_loss: 7.8081\n",
      "INFO:train_logs.txt:Epoch 2/60 itr 65/170: lr: 0.001000 speed: 1.97(0.75s r0.55)s/itr 0.09h/epoch hand_ssa_loss: 7.8081\n"
     ]
    },
    {
     "name": "stdout",
     "output_type": "stream",
     "text": [
      "only hand\n"
     ]
    },
    {
     "name": "stderr",
     "output_type": "stream",
     "text": [
      "\u001b[92m01-22 17:47:16\u001b[0m Epoch 2/60 itr 66/170: lr: 0.001000 speed: 1.97(0.75s r0.55)s/itr 0.09h/epoch hand_ssa_loss: 16.8174\n",
      "INFO:train_logs.txt:Epoch 2/60 itr 66/170: lr: 0.001000 speed: 1.97(0.75s r0.55)s/itr 0.09h/epoch hand_ssa_loss: 16.8174\n"
     ]
    },
    {
     "name": "stdout",
     "output_type": "stream",
     "text": [
      "only hand\n"
     ]
    },
    {
     "name": "stderr",
     "output_type": "stream",
     "text": [
      "\u001b[92m01-22 17:47:17\u001b[0m Epoch 2/60 itr 67/170: lr: 0.001000 speed: 1.97(0.75s r0.55)s/itr 0.09h/epoch hand_ssa_loss: 14.8216\n",
      "INFO:train_logs.txt:Epoch 2/60 itr 67/170: lr: 0.001000 speed: 1.97(0.75s r0.55)s/itr 0.09h/epoch hand_ssa_loss: 14.8216\n"
     ]
    },
    {
     "name": "stdout",
     "output_type": "stream",
     "text": [
      "only hand\n"
     ]
    },
    {
     "name": "stderr",
     "output_type": "stream",
     "text": [
      "\u001b[92m01-22 17:47:19\u001b[0m Epoch 2/60 itr 68/170: lr: 0.001000 speed: 1.97(0.75s r0.55)s/itr 0.09h/epoch hand_ssa_loss: 8.3428\n",
      "INFO:train_logs.txt:Epoch 2/60 itr 68/170: lr: 0.001000 speed: 1.97(0.75s r0.55)s/itr 0.09h/epoch hand_ssa_loss: 8.3428\n"
     ]
    },
    {
     "name": "stdout",
     "output_type": "stream",
     "text": [
      "only hand\n"
     ]
    },
    {
     "name": "stderr",
     "output_type": "stream",
     "text": [
      "\u001b[92m01-22 17:47:21\u001b[0m Epoch 2/60 itr 69/170: lr: 0.001000 speed: 1.96(0.75s r0.55)s/itr 0.09h/epoch hand_ssa_loss: 20.5078\n",
      "INFO:train_logs.txt:Epoch 2/60 itr 69/170: lr: 0.001000 speed: 1.96(0.75s r0.55)s/itr 0.09h/epoch hand_ssa_loss: 20.5078\n"
     ]
    },
    {
     "name": "stdout",
     "output_type": "stream",
     "text": [
      "only hand\n"
     ]
    },
    {
     "name": "stderr",
     "output_type": "stream",
     "text": [
      "\u001b[92m01-22 17:47:22\u001b[0m Epoch 2/60 itr 70/170: lr: 0.001000 speed: 1.96(0.75s r0.55)s/itr 0.09h/epoch hand_ssa_loss: 15.7993\n",
      "INFO:train_logs.txt:Epoch 2/60 itr 70/170: lr: 0.001000 speed: 1.96(0.75s r0.55)s/itr 0.09h/epoch hand_ssa_loss: 15.7993\n"
     ]
    },
    {
     "name": "stdout",
     "output_type": "stream",
     "text": [
      "only hand\n"
     ]
    },
    {
     "name": "stderr",
     "output_type": "stream",
     "text": [
      "\u001b[92m01-22 17:47:23\u001b[0m Epoch 2/60 itr 71/170: lr: 0.001000 speed: 1.96(0.75s r0.54)s/itr 0.09h/epoch hand_ssa_loss: 9.3323\n",
      "INFO:train_logs.txt:Epoch 2/60 itr 71/170: lr: 0.001000 speed: 1.96(0.75s r0.54)s/itr 0.09h/epoch hand_ssa_loss: 9.3323\n"
     ]
    },
    {
     "name": "stdout",
     "output_type": "stream",
     "text": [
      "only hand\n"
     ]
    },
    {
     "name": "stderr",
     "output_type": "stream",
     "text": [
      "\u001b[92m01-22 17:47:25\u001b[0m Epoch 2/60 itr 72/170: lr: 0.001000 speed: 1.96(0.74s r0.54)s/itr 0.09h/epoch hand_ssa_loss: 14.4196\n",
      "INFO:train_logs.txt:Epoch 2/60 itr 72/170: lr: 0.001000 speed: 1.96(0.74s r0.54)s/itr 0.09h/epoch hand_ssa_loss: 14.4196\n"
     ]
    },
    {
     "name": "stdout",
     "output_type": "stream",
     "text": [
      "only hand\n"
     ]
    },
    {
     "name": "stderr",
     "output_type": "stream",
     "text": [
      "\u001b[92m01-22 17:47:27\u001b[0m Epoch 2/60 itr 73/170: lr: 0.001000 speed: 1.96(0.74s r0.54)s/itr 0.09h/epoch hand_ssa_loss: 10.2161\n",
      "INFO:train_logs.txt:Epoch 2/60 itr 73/170: lr: 0.001000 speed: 1.96(0.74s r0.54)s/itr 0.09h/epoch hand_ssa_loss: 10.2161\n"
     ]
    },
    {
     "name": "stdout",
     "output_type": "stream",
     "text": [
      "only hand\n"
     ]
    },
    {
     "name": "stderr",
     "output_type": "stream",
     "text": [
      "\u001b[92m01-22 17:47:28\u001b[0m Epoch 2/60 itr 74/170: lr: 0.001000 speed: 1.96(0.74s r0.54)s/itr 0.09h/epoch hand_ssa_loss: 10.5347\n",
      "INFO:train_logs.txt:Epoch 2/60 itr 74/170: lr: 0.001000 speed: 1.96(0.74s r0.54)s/itr 0.09h/epoch hand_ssa_loss: 10.5347\n"
     ]
    },
    {
     "name": "stdout",
     "output_type": "stream",
     "text": [
      "only hand\n"
     ]
    },
    {
     "name": "stderr",
     "output_type": "stream",
     "text": [
      "\u001b[92m01-22 17:47:29\u001b[0m Epoch 2/60 itr 75/170: lr: 0.001000 speed: 1.96(0.74s r0.54)s/itr 0.09h/epoch hand_ssa_loss: 33.1667\n",
      "INFO:train_logs.txt:Epoch 2/60 itr 75/170: lr: 0.001000 speed: 1.96(0.74s r0.54)s/itr 0.09h/epoch hand_ssa_loss: 33.1667\n"
     ]
    },
    {
     "name": "stdout",
     "output_type": "stream",
     "text": [
      "only hand\n"
     ]
    },
    {
     "name": "stderr",
     "output_type": "stream",
     "text": [
      "\u001b[92m01-22 17:47:31\u001b[0m Epoch 2/60 itr 76/170: lr: 0.001000 speed: 1.96(0.74s r0.54)s/itr 0.09h/epoch hand_ssa_loss: 18.6944\n",
      "INFO:train_logs.txt:Epoch 2/60 itr 76/170: lr: 0.001000 speed: 1.96(0.74s r0.54)s/itr 0.09h/epoch hand_ssa_loss: 18.6944\n"
     ]
    },
    {
     "name": "stdout",
     "output_type": "stream",
     "text": [
      "only hand\n"
     ]
    },
    {
     "name": "stderr",
     "output_type": "stream",
     "text": [
      "\u001b[92m01-22 17:47:33\u001b[0m Epoch 2/60 itr 77/170: lr: 0.001000 speed: 1.96(0.74s r0.54)s/itr 0.09h/epoch hand_ssa_loss: 11.1600\n",
      "INFO:train_logs.txt:Epoch 2/60 itr 77/170: lr: 0.001000 speed: 1.96(0.74s r0.54)s/itr 0.09h/epoch hand_ssa_loss: 11.1600\n"
     ]
    },
    {
     "name": "stdout",
     "output_type": "stream",
     "text": [
      "only hand\n"
     ]
    },
    {
     "name": "stderr",
     "output_type": "stream",
     "text": [
      "\u001b[92m01-22 17:47:34\u001b[0m Epoch 2/60 itr 78/170: lr: 0.001000 speed: 1.96(0.74s r0.54)s/itr 0.09h/epoch hand_ssa_loss: 13.2579\n",
      "INFO:train_logs.txt:Epoch 2/60 itr 78/170: lr: 0.001000 speed: 1.96(0.74s r0.54)s/itr 0.09h/epoch hand_ssa_loss: 13.2579\n"
     ]
    },
    {
     "name": "stdout",
     "output_type": "stream",
     "text": [
      "only hand\n"
     ]
    },
    {
     "name": "stderr",
     "output_type": "stream",
     "text": [
      "\u001b[92m01-22 17:47:36\u001b[0m Epoch 2/60 itr 79/170: lr: 0.001000 speed: 1.95(0.73s r0.54)s/itr 0.09h/epoch hand_ssa_loss: 10.5098\n",
      "INFO:train_logs.txt:Epoch 2/60 itr 79/170: lr: 0.001000 speed: 1.95(0.73s r0.54)s/itr 0.09h/epoch hand_ssa_loss: 10.5098\n"
     ]
    },
    {
     "name": "stdout",
     "output_type": "stream",
     "text": [
      "only hand\n"
     ]
    },
    {
     "name": "stderr",
     "output_type": "stream",
     "text": [
      "\u001b[92m01-22 17:47:37\u001b[0m Epoch 2/60 itr 80/170: lr: 0.001000 speed: 1.95(0.73s r0.54)s/itr 0.09h/epoch hand_ssa_loss: 16.6917\n",
      "INFO:train_logs.txt:Epoch 2/60 itr 80/170: lr: 0.001000 speed: 1.95(0.73s r0.54)s/itr 0.09h/epoch hand_ssa_loss: 16.6917\n"
     ]
    },
    {
     "name": "stdout",
     "output_type": "stream",
     "text": [
      "only hand\n"
     ]
    },
    {
     "name": "stderr",
     "output_type": "stream",
     "text": [
      "\u001b[92m01-22 17:47:39\u001b[0m Epoch 2/60 itr 81/170: lr: 0.001000 speed: 1.95(0.73s r0.54)s/itr 0.09h/epoch hand_ssa_loss: 12.3653\n",
      "INFO:train_logs.txt:Epoch 2/60 itr 81/170: lr: 0.001000 speed: 1.95(0.73s r0.54)s/itr 0.09h/epoch hand_ssa_loss: 12.3653\n"
     ]
    },
    {
     "name": "stdout",
     "output_type": "stream",
     "text": [
      "only hand\n"
     ]
    },
    {
     "name": "stderr",
     "output_type": "stream",
     "text": [
      "\u001b[92m01-22 17:47:40\u001b[0m Epoch 2/60 itr 82/170: lr: 0.001000 speed: 1.95(0.73s r0.54)s/itr 0.09h/epoch hand_ssa_loss: 12.7920\n",
      "INFO:train_logs.txt:Epoch 2/60 itr 82/170: lr: 0.001000 speed: 1.95(0.73s r0.54)s/itr 0.09h/epoch hand_ssa_loss: 12.7920\n"
     ]
    },
    {
     "name": "stdout",
     "output_type": "stream",
     "text": [
      "only hand\n"
     ]
    },
    {
     "name": "stderr",
     "output_type": "stream",
     "text": [
      "\u001b[92m01-22 17:47:42\u001b[0m Epoch 2/60 itr 83/170: lr: 0.001000 speed: 1.95(0.73s r0.54)s/itr 0.09h/epoch hand_ssa_loss: 10.9953\n",
      "INFO:train_logs.txt:Epoch 2/60 itr 83/170: lr: 0.001000 speed: 1.95(0.73s r0.54)s/itr 0.09h/epoch hand_ssa_loss: 10.9953\n"
     ]
    },
    {
     "name": "stdout",
     "output_type": "stream",
     "text": [
      "only hand\n"
     ]
    },
    {
     "name": "stderr",
     "output_type": "stream",
     "text": [
      "\u001b[92m01-22 17:47:44\u001b[0m Epoch 2/60 itr 84/170: lr: 0.001000 speed: 1.95(0.73s r0.54)s/itr 0.09h/epoch hand_ssa_loss: 12.3914\n",
      "INFO:train_logs.txt:Epoch 2/60 itr 84/170: lr: 0.001000 speed: 1.95(0.73s r0.54)s/itr 0.09h/epoch hand_ssa_loss: 12.3914\n"
     ]
    },
    {
     "name": "stdout",
     "output_type": "stream",
     "text": [
      "only hand\n"
     ]
    },
    {
     "name": "stderr",
     "output_type": "stream",
     "text": [
      "\u001b[92m01-22 17:47:46\u001b[0m Epoch 2/60 itr 85/170: lr: 0.001000 speed: 1.95(0.73s r0.54)s/itr 0.09h/epoch hand_ssa_loss: 8.4083\n",
      "INFO:train_logs.txt:Epoch 2/60 itr 85/170: lr: 0.001000 speed: 1.95(0.73s r0.54)s/itr 0.09h/epoch hand_ssa_loss: 8.4083\n"
     ]
    },
    {
     "name": "stdout",
     "output_type": "stream",
     "text": [
      "only hand\n"
     ]
    },
    {
     "name": "stderr",
     "output_type": "stream",
     "text": [
      "\u001b[92m01-22 17:47:47\u001b[0m Epoch 2/60 itr 86/170: lr: 0.001000 speed: 1.95(0.73s r0.54)s/itr 0.09h/epoch hand_ssa_loss: 23.1662\n",
      "INFO:train_logs.txt:Epoch 2/60 itr 86/170: lr: 0.001000 speed: 1.95(0.73s r0.54)s/itr 0.09h/epoch hand_ssa_loss: 23.1662\n"
     ]
    },
    {
     "name": "stdout",
     "output_type": "stream",
     "text": [
      "only hand\n"
     ]
    },
    {
     "name": "stderr",
     "output_type": "stream",
     "text": [
      "\u001b[92m01-22 17:47:49\u001b[0m Epoch 2/60 itr 87/170: lr: 0.001000 speed: 1.95(0.73s r0.54)s/itr 0.09h/epoch hand_ssa_loss: 10.8129\n",
      "INFO:train_logs.txt:Epoch 2/60 itr 87/170: lr: 0.001000 speed: 1.95(0.73s r0.54)s/itr 0.09h/epoch hand_ssa_loss: 10.8129\n"
     ]
    },
    {
     "name": "stdout",
     "output_type": "stream",
     "text": [
      "only hand\n"
     ]
    },
    {
     "name": "stderr",
     "output_type": "stream",
     "text": [
      "\u001b[92m01-22 17:47:50\u001b[0m Epoch 2/60 itr 88/170: lr: 0.001000 speed: 1.95(0.73s r0.53)s/itr 0.09h/epoch hand_ssa_loss: 14.7453\n",
      "INFO:train_logs.txt:Epoch 2/60 itr 88/170: lr: 0.001000 speed: 1.95(0.73s r0.53)s/itr 0.09h/epoch hand_ssa_loss: 14.7453\n"
     ]
    },
    {
     "name": "stdout",
     "output_type": "stream",
     "text": [
      "only hand\n"
     ]
    },
    {
     "name": "stderr",
     "output_type": "stream",
     "text": [
      "\u001b[92m01-22 17:47:52\u001b[0m Epoch 2/60 itr 89/170: lr: 0.001000 speed: 1.95(0.72s r0.53)s/itr 0.09h/epoch hand_ssa_loss: 12.4843\n",
      "INFO:train_logs.txt:Epoch 2/60 itr 89/170: lr: 0.001000 speed: 1.95(0.72s r0.53)s/itr 0.09h/epoch hand_ssa_loss: 12.4843\n"
     ]
    },
    {
     "name": "stdout",
     "output_type": "stream",
     "text": [
      "only hand\n"
     ]
    },
    {
     "name": "stderr",
     "output_type": "stream",
     "text": [
      "\u001b[92m01-22 17:47:53\u001b[0m Epoch 2/60 itr 90/170: lr: 0.001000 speed: 1.95(0.72s r0.53)s/itr 0.09h/epoch hand_ssa_loss: 12.5401\n",
      "INFO:train_logs.txt:Epoch 2/60 itr 90/170: lr: 0.001000 speed: 1.95(0.72s r0.53)s/itr 0.09h/epoch hand_ssa_loss: 12.5401\n"
     ]
    },
    {
     "name": "stdout",
     "output_type": "stream",
     "text": [
      "only hand\n"
     ]
    },
    {
     "name": "stderr",
     "output_type": "stream",
     "text": [
      "\u001b[92m01-22 17:47:55\u001b[0m Epoch 2/60 itr 91/170: lr: 0.001000 speed: 1.94(0.72s r0.53)s/itr 0.09h/epoch hand_ssa_loss: 9.8910\n",
      "INFO:train_logs.txt:Epoch 2/60 itr 91/170: lr: 0.001000 speed: 1.94(0.72s r0.53)s/itr 0.09h/epoch hand_ssa_loss: 9.8910\n"
     ]
    },
    {
     "name": "stdout",
     "output_type": "stream",
     "text": [
      "only hand\n"
     ]
    },
    {
     "name": "stderr",
     "output_type": "stream",
     "text": [
      "\u001b[92m01-22 17:47:57\u001b[0m Epoch 2/60 itr 92/170: lr: 0.001000 speed: 1.94(0.72s r0.53)s/itr 0.09h/epoch hand_ssa_loss: 9.2332\n",
      "INFO:train_logs.txt:Epoch 2/60 itr 92/170: lr: 0.001000 speed: 1.94(0.72s r0.53)s/itr 0.09h/epoch hand_ssa_loss: 9.2332\n"
     ]
    },
    {
     "name": "stdout",
     "output_type": "stream",
     "text": [
      "only hand\n"
     ]
    },
    {
     "name": "stderr",
     "output_type": "stream",
     "text": [
      "\u001b[92m01-22 17:47:58\u001b[0m Epoch 2/60 itr 93/170: lr: 0.001000 speed: 1.94(0.72s r0.53)s/itr 0.09h/epoch hand_ssa_loss: 9.9580\n",
      "INFO:train_logs.txt:Epoch 2/60 itr 93/170: lr: 0.001000 speed: 1.94(0.72s r0.53)s/itr 0.09h/epoch hand_ssa_loss: 9.9580\n"
     ]
    },
    {
     "name": "stdout",
     "output_type": "stream",
     "text": [
      "only hand\n"
     ]
    },
    {
     "name": "stderr",
     "output_type": "stream",
     "text": [
      "\u001b[92m01-22 17:48:00\u001b[0m Epoch 2/60 itr 94/170: lr: 0.001000 speed: 1.94(0.72s r0.53)s/itr 0.09h/epoch hand_ssa_loss: 10.4693\n",
      "INFO:train_logs.txt:Epoch 2/60 itr 94/170: lr: 0.001000 speed: 1.94(0.72s r0.53)s/itr 0.09h/epoch hand_ssa_loss: 10.4693\n"
     ]
    },
    {
     "name": "stdout",
     "output_type": "stream",
     "text": [
      "only hand\n"
     ]
    },
    {
     "name": "stderr",
     "output_type": "stream",
     "text": [
      "\u001b[92m01-22 17:48:01\u001b[0m Epoch 2/60 itr 95/170: lr: 0.001000 speed: 1.94(0.72s r0.53)s/itr 0.09h/epoch hand_ssa_loss: 8.4357\n",
      "INFO:train_logs.txt:Epoch 2/60 itr 95/170: lr: 0.001000 speed: 1.94(0.72s r0.53)s/itr 0.09h/epoch hand_ssa_loss: 8.4357\n"
     ]
    },
    {
     "name": "stdout",
     "output_type": "stream",
     "text": [
      "only hand\n"
     ]
    },
    {
     "name": "stderr",
     "output_type": "stream",
     "text": [
      "\u001b[92m01-22 17:48:03\u001b[0m Epoch 2/60 itr 96/170: lr: 0.001000 speed: 1.94(0.72s r0.53)s/itr 0.09h/epoch hand_ssa_loss: 10.5018\n",
      "INFO:train_logs.txt:Epoch 2/60 itr 96/170: lr: 0.001000 speed: 1.94(0.72s r0.53)s/itr 0.09h/epoch hand_ssa_loss: 10.5018\n"
     ]
    },
    {
     "name": "stdout",
     "output_type": "stream",
     "text": [
      "only hand\n"
     ]
    },
    {
     "name": "stderr",
     "output_type": "stream",
     "text": [
      "\u001b[92m01-22 17:48:04\u001b[0m Epoch 2/60 itr 97/170: lr: 0.001000 speed: 1.94(0.72s r0.53)s/itr 0.09h/epoch hand_ssa_loss: 7.6826\n",
      "INFO:train_logs.txt:Epoch 2/60 itr 97/170: lr: 0.001000 speed: 1.94(0.72s r0.53)s/itr 0.09h/epoch hand_ssa_loss: 7.6826\n"
     ]
    },
    {
     "name": "stdout",
     "output_type": "stream",
     "text": [
      "only hand\n"
     ]
    },
    {
     "name": "stderr",
     "output_type": "stream",
     "text": [
      "\u001b[92m01-22 17:48:06\u001b[0m Epoch 2/60 itr 98/170: lr: 0.001000 speed: 1.94(0.72s r0.53)s/itr 0.09h/epoch hand_ssa_loss: 12.1294\n",
      "INFO:train_logs.txt:Epoch 2/60 itr 98/170: lr: 0.001000 speed: 1.94(0.72s r0.53)s/itr 0.09h/epoch hand_ssa_loss: 12.1294\n"
     ]
    },
    {
     "name": "stdout",
     "output_type": "stream",
     "text": [
      "only hand\n"
     ]
    },
    {
     "name": "stderr",
     "output_type": "stream",
     "text": [
      "\u001b[92m01-22 17:48:07\u001b[0m Epoch 2/60 itr 99/170: lr: 0.001000 speed: 1.94(0.71s r0.53)s/itr 0.09h/epoch hand_ssa_loss: 12.3545\n",
      "INFO:train_logs.txt:Epoch 2/60 itr 99/170: lr: 0.001000 speed: 1.94(0.71s r0.53)s/itr 0.09h/epoch hand_ssa_loss: 12.3545\n"
     ]
    },
    {
     "name": "stdout",
     "output_type": "stream",
     "text": [
      "only hand\n"
     ]
    },
    {
     "name": "stderr",
     "output_type": "stream",
     "text": [
      "\u001b[92m01-22 17:48:09\u001b[0m Epoch 2/60 itr 100/170: lr: 0.001000 speed: 1.94(0.71s r0.53)s/itr 0.09h/epoch hand_ssa_loss: 12.1440\n",
      "INFO:train_logs.txt:Epoch 2/60 itr 100/170: lr: 0.001000 speed: 1.94(0.71s r0.53)s/itr 0.09h/epoch hand_ssa_loss: 12.1440\n"
     ]
    },
    {
     "name": "stdout",
     "output_type": "stream",
     "text": [
      "only hand\n"
     ]
    },
    {
     "name": "stderr",
     "output_type": "stream",
     "text": [
      "\u001b[92m01-22 17:48:10\u001b[0m Epoch 2/60 itr 101/170: lr: 0.001000 speed: 1.93(0.71s r0.53)s/itr 0.09h/epoch hand_ssa_loss: 8.9653\n",
      "INFO:train_logs.txt:Epoch 2/60 itr 101/170: lr: 0.001000 speed: 1.93(0.71s r0.53)s/itr 0.09h/epoch hand_ssa_loss: 8.9653\n"
     ]
    },
    {
     "name": "stdout",
     "output_type": "stream",
     "text": [
      "only hand\n"
     ]
    },
    {
     "name": "stderr",
     "output_type": "stream",
     "text": [
      "\u001b[92m01-22 17:48:12\u001b[0m Epoch 2/60 itr 102/170: lr: 0.001000 speed: 1.93(0.71s r0.53)s/itr 0.09h/epoch hand_ssa_loss: 7.8384\n",
      "INFO:train_logs.txt:Epoch 2/60 itr 102/170: lr: 0.001000 speed: 1.93(0.71s r0.53)s/itr 0.09h/epoch hand_ssa_loss: 7.8384\n"
     ]
    },
    {
     "name": "stdout",
     "output_type": "stream",
     "text": [
      "only hand\n"
     ]
    },
    {
     "name": "stderr",
     "output_type": "stream",
     "text": [
      "\u001b[92m01-22 17:48:14\u001b[0m Epoch 2/60 itr 103/170: lr: 0.001000 speed: 1.93(0.71s r0.53)s/itr 0.09h/epoch hand_ssa_loss: 12.1932\n",
      "INFO:train_logs.txt:Epoch 2/60 itr 103/170: lr: 0.001000 speed: 1.93(0.71s r0.53)s/itr 0.09h/epoch hand_ssa_loss: 12.1932\n"
     ]
    },
    {
     "name": "stdout",
     "output_type": "stream",
     "text": [
      "only hand\n"
     ]
    },
    {
     "name": "stderr",
     "output_type": "stream",
     "text": [
      "\u001b[92m01-22 17:48:15\u001b[0m Epoch 2/60 itr 104/170: lr: 0.001000 speed: 1.93(0.71s r0.53)s/itr 0.09h/epoch hand_ssa_loss: 7.7898\n",
      "INFO:train_logs.txt:Epoch 2/60 itr 104/170: lr: 0.001000 speed: 1.93(0.71s r0.53)s/itr 0.09h/epoch hand_ssa_loss: 7.7898\n"
     ]
    },
    {
     "name": "stdout",
     "output_type": "stream",
     "text": [
      "only hand\n"
     ]
    },
    {
     "name": "stderr",
     "output_type": "stream",
     "text": [
      "\u001b[92m01-22 17:48:16\u001b[0m Epoch 2/60 itr 105/170: lr: 0.001000 speed: 1.93(0.71s r0.53)s/itr 0.09h/epoch hand_ssa_loss: 11.0409\n",
      "INFO:train_logs.txt:Epoch 2/60 itr 105/170: lr: 0.001000 speed: 1.93(0.71s r0.53)s/itr 0.09h/epoch hand_ssa_loss: 11.0409\n"
     ]
    },
    {
     "name": "stdout",
     "output_type": "stream",
     "text": [
      "only hand\n"
     ]
    },
    {
     "name": "stderr",
     "output_type": "stream",
     "text": [
      "\u001b[92m01-22 17:48:18\u001b[0m Epoch 2/60 itr 106/170: lr: 0.001000 speed: 1.93(0.71s r0.53)s/itr 0.09h/epoch hand_ssa_loss: 11.2337\n",
      "INFO:train_logs.txt:Epoch 2/60 itr 106/170: lr: 0.001000 speed: 1.93(0.71s r0.53)s/itr 0.09h/epoch hand_ssa_loss: 11.2337\n"
     ]
    },
    {
     "name": "stdout",
     "output_type": "stream",
     "text": [
      "only hand\n"
     ]
    },
    {
     "name": "stderr",
     "output_type": "stream",
     "text": [
      "\u001b[92m01-22 17:48:20\u001b[0m Epoch 2/60 itr 107/170: lr: 0.001000 speed: 1.93(0.71s r0.52)s/itr 0.09h/epoch hand_ssa_loss: 13.6792\n",
      "INFO:train_logs.txt:Epoch 2/60 itr 107/170: lr: 0.001000 speed: 1.93(0.71s r0.52)s/itr 0.09h/epoch hand_ssa_loss: 13.6792\n"
     ]
    },
    {
     "name": "stdout",
     "output_type": "stream",
     "text": [
      "only hand\n"
     ]
    },
    {
     "name": "stderr",
     "output_type": "stream",
     "text": [
      "\u001b[92m01-22 17:48:21\u001b[0m Epoch 2/60 itr 108/170: lr: 0.001000 speed: 1.93(0.71s r0.52)s/itr 0.09h/epoch hand_ssa_loss: 9.7658\n",
      "INFO:train_logs.txt:Epoch 2/60 itr 108/170: lr: 0.001000 speed: 1.93(0.71s r0.52)s/itr 0.09h/epoch hand_ssa_loss: 9.7658\n"
     ]
    },
    {
     "name": "stdout",
     "output_type": "stream",
     "text": [
      "only hand\n"
     ]
    },
    {
     "name": "stderr",
     "output_type": "stream",
     "text": [
      "\u001b[92m01-22 17:48:23\u001b[0m Epoch 2/60 itr 109/170: lr: 0.001000 speed: 1.93(0.71s r0.52)s/itr 0.09h/epoch hand_ssa_loss: 14.1762\n",
      "INFO:train_logs.txt:Epoch 2/60 itr 109/170: lr: 0.001000 speed: 1.93(0.71s r0.52)s/itr 0.09h/epoch hand_ssa_loss: 14.1762\n"
     ]
    },
    {
     "name": "stdout",
     "output_type": "stream",
     "text": [
      "only hand\n"
     ]
    },
    {
     "name": "stderr",
     "output_type": "stream",
     "text": [
      "\u001b[92m01-22 17:48:24\u001b[0m Epoch 2/60 itr 110/170: lr: 0.001000 speed: 1.93(0.70s r0.52)s/itr 0.09h/epoch hand_ssa_loss: 9.5509\n",
      "INFO:train_logs.txt:Epoch 2/60 itr 110/170: lr: 0.001000 speed: 1.93(0.70s r0.52)s/itr 0.09h/epoch hand_ssa_loss: 9.5509\n"
     ]
    },
    {
     "name": "stdout",
     "output_type": "stream",
     "text": [
      "only hand\n"
     ]
    },
    {
     "name": "stderr",
     "output_type": "stream",
     "text": [
      "\u001b[92m01-22 17:48:26\u001b[0m Epoch 2/60 itr 111/170: lr: 0.001000 speed: 1.93(0.70s r0.52)s/itr 0.09h/epoch hand_ssa_loss: 9.2560\n",
      "INFO:train_logs.txt:Epoch 2/60 itr 111/170: lr: 0.001000 speed: 1.93(0.70s r0.52)s/itr 0.09h/epoch hand_ssa_loss: 9.2560\n"
     ]
    },
    {
     "name": "stdout",
     "output_type": "stream",
     "text": [
      "only hand\n"
     ]
    },
    {
     "name": "stderr",
     "output_type": "stream",
     "text": [
      "\u001b[92m01-22 17:48:27\u001b[0m Epoch 2/60 itr 112/170: lr: 0.001000 speed: 1.92(0.70s r0.52)s/itr 0.09h/epoch hand_ssa_loss: 15.2915\n",
      "INFO:train_logs.txt:Epoch 2/60 itr 112/170: lr: 0.001000 speed: 1.92(0.70s r0.52)s/itr 0.09h/epoch hand_ssa_loss: 15.2915\n"
     ]
    },
    {
     "name": "stdout",
     "output_type": "stream",
     "text": [
      "only hand\n"
     ]
    },
    {
     "name": "stderr",
     "output_type": "stream",
     "text": [
      "\u001b[92m01-22 17:48:29\u001b[0m Epoch 2/60 itr 113/170: lr: 0.001000 speed: 1.92(0.70s r0.52)s/itr 0.09h/epoch hand_ssa_loss: 19.1251\n",
      "INFO:train_logs.txt:Epoch 2/60 itr 113/170: lr: 0.001000 speed: 1.92(0.70s r0.52)s/itr 0.09h/epoch hand_ssa_loss: 19.1251\n"
     ]
    },
    {
     "name": "stdout",
     "output_type": "stream",
     "text": [
      "only hand\n"
     ]
    },
    {
     "name": "stderr",
     "output_type": "stream",
     "text": [
      "\u001b[92m01-22 17:48:30\u001b[0m Epoch 2/60 itr 114/170: lr: 0.001000 speed: 1.92(0.70s r0.52)s/itr 0.09h/epoch hand_ssa_loss: 11.3520\n",
      "INFO:train_logs.txt:Epoch 2/60 itr 114/170: lr: 0.001000 speed: 1.92(0.70s r0.52)s/itr 0.09h/epoch hand_ssa_loss: 11.3520\n"
     ]
    },
    {
     "name": "stdout",
     "output_type": "stream",
     "text": [
      "only hand\n"
     ]
    },
    {
     "name": "stderr",
     "output_type": "stream",
     "text": [
      "\u001b[92m01-22 17:48:32\u001b[0m Epoch 2/60 itr 115/170: lr: 0.001000 speed: 1.92(0.70s r0.52)s/itr 0.09h/epoch hand_ssa_loss: 8.1585\n",
      "INFO:train_logs.txt:Epoch 2/60 itr 115/170: lr: 0.001000 speed: 1.92(0.70s r0.52)s/itr 0.09h/epoch hand_ssa_loss: 8.1585\n"
     ]
    },
    {
     "name": "stdout",
     "output_type": "stream",
     "text": [
      "only hand\n"
     ]
    },
    {
     "name": "stderr",
     "output_type": "stream",
     "text": [
      "\u001b[92m01-22 17:48:34\u001b[0m Epoch 2/60 itr 116/170: lr: 0.001000 speed: 1.92(0.70s r0.52)s/itr 0.09h/epoch hand_ssa_loss: 17.7028\n",
      "INFO:train_logs.txt:Epoch 2/60 itr 116/170: lr: 0.001000 speed: 1.92(0.70s r0.52)s/itr 0.09h/epoch hand_ssa_loss: 17.7028\n"
     ]
    },
    {
     "name": "stdout",
     "output_type": "stream",
     "text": [
      "only hand\n"
     ]
    },
    {
     "name": "stderr",
     "output_type": "stream",
     "text": [
      "\u001b[92m01-22 17:48:35\u001b[0m Epoch 2/60 itr 117/170: lr: 0.001000 speed: 1.92(0.70s r0.52)s/itr 0.09h/epoch hand_ssa_loss: 10.7119\n",
      "INFO:train_logs.txt:Epoch 2/60 itr 117/170: lr: 0.001000 speed: 1.92(0.70s r0.52)s/itr 0.09h/epoch hand_ssa_loss: 10.7119\n"
     ]
    },
    {
     "name": "stdout",
     "output_type": "stream",
     "text": [
      "only hand\n"
     ]
    },
    {
     "name": "stderr",
     "output_type": "stream",
     "text": [
      "\u001b[92m01-22 17:48:37\u001b[0m Epoch 2/60 itr 118/170: lr: 0.001000 speed: 1.92(0.69s r0.52)s/itr 0.09h/epoch hand_ssa_loss: 17.1519\n",
      "INFO:train_logs.txt:Epoch 2/60 itr 118/170: lr: 0.001000 speed: 1.92(0.69s r0.52)s/itr 0.09h/epoch hand_ssa_loss: 17.1519\n"
     ]
    },
    {
     "name": "stdout",
     "output_type": "stream",
     "text": [
      "only hand\n"
     ]
    },
    {
     "name": "stderr",
     "output_type": "stream",
     "text": [
      "\u001b[92m01-22 17:48:39\u001b[0m Epoch 2/60 itr 119/170: lr: 0.001000 speed: 1.92(0.69s r0.52)s/itr 0.09h/epoch hand_ssa_loss: 10.6267\n",
      "INFO:train_logs.txt:Epoch 2/60 itr 119/170: lr: 0.001000 speed: 1.92(0.69s r0.52)s/itr 0.09h/epoch hand_ssa_loss: 10.6267\n"
     ]
    },
    {
     "name": "stdout",
     "output_type": "stream",
     "text": [
      "only hand\n"
     ]
    },
    {
     "name": "stderr",
     "output_type": "stream",
     "text": [
      "\u001b[92m01-22 17:48:40\u001b[0m Epoch 2/60 itr 120/170: lr: 0.001000 speed: 1.92(0.69s r0.52)s/itr 0.09h/epoch hand_ssa_loss: 9.8298\n",
      "INFO:train_logs.txt:Epoch 2/60 itr 120/170: lr: 0.001000 speed: 1.92(0.69s r0.52)s/itr 0.09h/epoch hand_ssa_loss: 9.8298\n"
     ]
    },
    {
     "name": "stdout",
     "output_type": "stream",
     "text": [
      "only hand\n"
     ]
    },
    {
     "name": "stderr",
     "output_type": "stream",
     "text": [
      "\u001b[92m01-22 17:48:42\u001b[0m Epoch 2/60 itr 121/170: lr: 0.001000 speed: 1.92(0.69s r0.52)s/itr 0.09h/epoch hand_ssa_loss: 10.2836\n",
      "INFO:train_logs.txt:Epoch 2/60 itr 121/170: lr: 0.001000 speed: 1.92(0.69s r0.52)s/itr 0.09h/epoch hand_ssa_loss: 10.2836\n"
     ]
    },
    {
     "name": "stdout",
     "output_type": "stream",
     "text": [
      "only hand\n"
     ]
    },
    {
     "name": "stderr",
     "output_type": "stream",
     "text": [
      "\u001b[92m01-22 17:48:43\u001b[0m Epoch 2/60 itr 122/170: lr: 0.001000 speed: 1.92(0.69s r0.52)s/itr 0.09h/epoch hand_ssa_loss: 10.6358\n",
      "INFO:train_logs.txt:Epoch 2/60 itr 122/170: lr: 0.001000 speed: 1.92(0.69s r0.52)s/itr 0.09h/epoch hand_ssa_loss: 10.6358\n"
     ]
    },
    {
     "name": "stdout",
     "output_type": "stream",
     "text": [
      "only hand\n"
     ]
    },
    {
     "name": "stderr",
     "output_type": "stream",
     "text": [
      "\u001b[92m01-22 17:48:45\u001b[0m Epoch 2/60 itr 123/170: lr: 0.001000 speed: 1.92(0.69s r0.52)s/itr 0.09h/epoch hand_ssa_loss: 13.1006\n",
      "INFO:train_logs.txt:Epoch 2/60 itr 123/170: lr: 0.001000 speed: 1.92(0.69s r0.52)s/itr 0.09h/epoch hand_ssa_loss: 13.1006\n"
     ]
    },
    {
     "name": "stdout",
     "output_type": "stream",
     "text": [
      "only hand\n"
     ]
    },
    {
     "name": "stderr",
     "output_type": "stream",
     "text": [
      "\u001b[92m01-22 17:48:46\u001b[0m Epoch 2/60 itr 124/170: lr: 0.001000 speed: 1.92(0.69s r0.52)s/itr 0.09h/epoch hand_ssa_loss: 10.5593\n",
      "INFO:train_logs.txt:Epoch 2/60 itr 124/170: lr: 0.001000 speed: 1.92(0.69s r0.52)s/itr 0.09h/epoch hand_ssa_loss: 10.5593\n"
     ]
    },
    {
     "name": "stdout",
     "output_type": "stream",
     "text": [
      "only hand\n"
     ]
    },
    {
     "name": "stderr",
     "output_type": "stream",
     "text": [
      "\u001b[92m01-22 17:48:48\u001b[0m Epoch 2/60 itr 125/170: lr: 0.001000 speed: 1.92(0.69s r0.52)s/itr 0.09h/epoch hand_ssa_loss: 10.4797\n",
      "INFO:train_logs.txt:Epoch 2/60 itr 125/170: lr: 0.001000 speed: 1.92(0.69s r0.52)s/itr 0.09h/epoch hand_ssa_loss: 10.4797\n"
     ]
    },
    {
     "name": "stdout",
     "output_type": "stream",
     "text": [
      "only hand\n"
     ]
    },
    {
     "name": "stderr",
     "output_type": "stream",
     "text": [
      "\u001b[92m01-22 17:48:49\u001b[0m Epoch 2/60 itr 126/170: lr: 0.001000 speed: 1.91(0.69s r0.51)s/itr 0.09h/epoch hand_ssa_loss: 9.3434\n",
      "INFO:train_logs.txt:Epoch 2/60 itr 126/170: lr: 0.001000 speed: 1.91(0.69s r0.51)s/itr 0.09h/epoch hand_ssa_loss: 9.3434\n"
     ]
    },
    {
     "name": "stdout",
     "output_type": "stream",
     "text": [
      "only hand\n"
     ]
    },
    {
     "name": "stderr",
     "output_type": "stream",
     "text": [
      "\u001b[92m01-22 17:48:51\u001b[0m Epoch 2/60 itr 127/170: lr: 0.001000 speed: 1.91(0.69s r0.51)s/itr 0.09h/epoch hand_ssa_loss: 15.1918\n",
      "INFO:train_logs.txt:Epoch 2/60 itr 127/170: lr: 0.001000 speed: 1.91(0.69s r0.51)s/itr 0.09h/epoch hand_ssa_loss: 15.1918\n"
     ]
    },
    {
     "name": "stdout",
     "output_type": "stream",
     "text": [
      "only hand\n"
     ]
    },
    {
     "name": "stderr",
     "output_type": "stream",
     "text": [
      "\u001b[92m01-22 17:48:53\u001b[0m Epoch 2/60 itr 128/170: lr: 0.001000 speed: 1.91(0.69s r0.51)s/itr 0.09h/epoch hand_ssa_loss: 7.7809\n",
      "INFO:train_logs.txt:Epoch 2/60 itr 128/170: lr: 0.001000 speed: 1.91(0.69s r0.51)s/itr 0.09h/epoch hand_ssa_loss: 7.7809\n"
     ]
    },
    {
     "name": "stdout",
     "output_type": "stream",
     "text": [
      "only hand\n"
     ]
    },
    {
     "name": "stderr",
     "output_type": "stream",
     "text": [
      "\u001b[92m01-22 17:48:54\u001b[0m Epoch 2/60 itr 129/170: lr: 0.001000 speed: 1.91(0.69s r0.51)s/itr 0.09h/epoch hand_ssa_loss: 9.1796\n",
      "INFO:train_logs.txt:Epoch 2/60 itr 129/170: lr: 0.001000 speed: 1.91(0.69s r0.51)s/itr 0.09h/epoch hand_ssa_loss: 9.1796\n"
     ]
    },
    {
     "name": "stdout",
     "output_type": "stream",
     "text": [
      "only hand\n"
     ]
    },
    {
     "name": "stderr",
     "output_type": "stream",
     "text": [
      "\u001b[92m01-22 17:48:56\u001b[0m Epoch 2/60 itr 130/170: lr: 0.001000 speed: 1.91(0.69s r0.51)s/itr 0.09h/epoch hand_ssa_loss: 8.8665\n",
      "INFO:train_logs.txt:Epoch 2/60 itr 130/170: lr: 0.001000 speed: 1.91(0.69s r0.51)s/itr 0.09h/epoch hand_ssa_loss: 8.8665\n"
     ]
    },
    {
     "name": "stdout",
     "output_type": "stream",
     "text": [
      "only hand\n"
     ]
    },
    {
     "name": "stderr",
     "output_type": "stream",
     "text": [
      "\u001b[92m01-22 17:48:57\u001b[0m Epoch 2/60 itr 131/170: lr: 0.001000 speed: 1.91(0.68s r0.51)s/itr 0.09h/epoch hand_ssa_loss: 10.2022\n",
      "INFO:train_logs.txt:Epoch 2/60 itr 131/170: lr: 0.001000 speed: 1.91(0.68s r0.51)s/itr 0.09h/epoch hand_ssa_loss: 10.2022\n"
     ]
    },
    {
     "name": "stdout",
     "output_type": "stream",
     "text": [
      "only hand\n"
     ]
    },
    {
     "name": "stderr",
     "output_type": "stream",
     "text": [
      "\u001b[92m01-22 17:48:59\u001b[0m Epoch 2/60 itr 132/170: lr: 0.001000 speed: 1.91(0.68s r0.51)s/itr 0.09h/epoch hand_ssa_loss: 6.6196\n",
      "INFO:train_logs.txt:Epoch 2/60 itr 132/170: lr: 0.001000 speed: 1.91(0.68s r0.51)s/itr 0.09h/epoch hand_ssa_loss: 6.6196\n"
     ]
    },
    {
     "name": "stdout",
     "output_type": "stream",
     "text": [
      "only hand\n"
     ]
    },
    {
     "name": "stderr",
     "output_type": "stream",
     "text": [
      "\u001b[92m01-22 17:49:00\u001b[0m Epoch 2/60 itr 133/170: lr: 0.001000 speed: 1.91(0.68s r0.51)s/itr 0.09h/epoch hand_ssa_loss: 10.5876\n",
      "INFO:train_logs.txt:Epoch 2/60 itr 133/170: lr: 0.001000 speed: 1.91(0.68s r0.51)s/itr 0.09h/epoch hand_ssa_loss: 10.5876\n"
     ]
    },
    {
     "name": "stdout",
     "output_type": "stream",
     "text": [
      "only hand\n"
     ]
    },
    {
     "name": "stderr",
     "output_type": "stream",
     "text": [
      "\u001b[92m01-22 17:49:02\u001b[0m Epoch 2/60 itr 134/170: lr: 0.001000 speed: 1.91(0.68s r0.51)s/itr 0.09h/epoch hand_ssa_loss: 14.0497\n",
      "INFO:train_logs.txt:Epoch 2/60 itr 134/170: lr: 0.001000 speed: 1.91(0.68s r0.51)s/itr 0.09h/epoch hand_ssa_loss: 14.0497\n"
     ]
    },
    {
     "name": "stdout",
     "output_type": "stream",
     "text": [
      "only hand\n"
     ]
    },
    {
     "name": "stderr",
     "output_type": "stream",
     "text": [
      "\u001b[92m01-22 17:49:03\u001b[0m Epoch 2/60 itr 135/170: lr: 0.001000 speed: 1.91(0.68s r0.51)s/itr 0.09h/epoch hand_ssa_loss: 9.5706\n",
      "INFO:train_logs.txt:Epoch 2/60 itr 135/170: lr: 0.001000 speed: 1.91(0.68s r0.51)s/itr 0.09h/epoch hand_ssa_loss: 9.5706\n"
     ]
    },
    {
     "name": "stdout",
     "output_type": "stream",
     "text": [
      "only hand\n"
     ]
    },
    {
     "name": "stderr",
     "output_type": "stream",
     "text": [
      "\u001b[92m01-22 17:49:05\u001b[0m Epoch 2/60 itr 136/170: lr: 0.001000 speed: 1.91(0.68s r0.51)s/itr 0.09h/epoch hand_ssa_loss: 10.5886\n",
      "INFO:train_logs.txt:Epoch 2/60 itr 136/170: lr: 0.001000 speed: 1.91(0.68s r0.51)s/itr 0.09h/epoch hand_ssa_loss: 10.5886\n"
     ]
    },
    {
     "name": "stdout",
     "output_type": "stream",
     "text": [
      "only hand\n"
     ]
    },
    {
     "name": "stderr",
     "output_type": "stream",
     "text": [
      "\u001b[92m01-22 17:49:06\u001b[0m Epoch 2/60 itr 137/170: lr: 0.001000 speed: 1.91(0.68s r0.51)s/itr 0.09h/epoch hand_ssa_loss: 10.8534\n",
      "INFO:train_logs.txt:Epoch 2/60 itr 137/170: lr: 0.001000 speed: 1.91(0.68s r0.51)s/itr 0.09h/epoch hand_ssa_loss: 10.8534\n"
     ]
    },
    {
     "name": "stdout",
     "output_type": "stream",
     "text": [
      "only hand\n"
     ]
    },
    {
     "name": "stderr",
     "output_type": "stream",
     "text": [
      "\u001b[92m01-22 17:49:08\u001b[0m Epoch 2/60 itr 138/170: lr: 0.001000 speed: 1.90(0.68s r0.51)s/itr 0.09h/epoch hand_ssa_loss: 8.2297\n",
      "INFO:train_logs.txt:Epoch 2/60 itr 138/170: lr: 0.001000 speed: 1.90(0.68s r0.51)s/itr 0.09h/epoch hand_ssa_loss: 8.2297\n"
     ]
    },
    {
     "name": "stdout",
     "output_type": "stream",
     "text": [
      "only hand\n"
     ]
    },
    {
     "name": "stderr",
     "output_type": "stream",
     "text": [
      "\u001b[92m01-22 17:49:09\u001b[0m Epoch 2/60 itr 139/170: lr: 0.001000 speed: 1.90(0.67s r0.51)s/itr 0.09h/epoch hand_ssa_loss: 14.9778\n",
      "INFO:train_logs.txt:Epoch 2/60 itr 139/170: lr: 0.001000 speed: 1.90(0.67s r0.51)s/itr 0.09h/epoch hand_ssa_loss: 14.9778\n"
     ]
    },
    {
     "name": "stdout",
     "output_type": "stream",
     "text": [
      "only hand\n"
     ]
    },
    {
     "name": "stderr",
     "output_type": "stream",
     "text": [
      "\u001b[92m01-22 17:49:11\u001b[0m Epoch 2/60 itr 140/170: lr: 0.001000 speed: 1.90(0.67s r0.51)s/itr 0.09h/epoch hand_ssa_loss: 13.8984\n",
      "INFO:train_logs.txt:Epoch 2/60 itr 140/170: lr: 0.001000 speed: 1.90(0.67s r0.51)s/itr 0.09h/epoch hand_ssa_loss: 13.8984\n"
     ]
    },
    {
     "name": "stdout",
     "output_type": "stream",
     "text": [
      "only hand\n"
     ]
    },
    {
     "name": "stderr",
     "output_type": "stream",
     "text": [
      "\u001b[92m01-22 17:49:12\u001b[0m Epoch 2/60 itr 141/170: lr: 0.001000 speed: 1.90(0.67s r0.51)s/itr 0.09h/epoch hand_ssa_loss: 14.6749\n",
      "INFO:train_logs.txt:Epoch 2/60 itr 141/170: lr: 0.001000 speed: 1.90(0.67s r0.51)s/itr 0.09h/epoch hand_ssa_loss: 14.6749\n"
     ]
    },
    {
     "name": "stdout",
     "output_type": "stream",
     "text": [
      "only hand\n"
     ]
    },
    {
     "name": "stderr",
     "output_type": "stream",
     "text": [
      "\u001b[92m01-22 17:49:14\u001b[0m Epoch 2/60 itr 142/170: lr: 0.001000 speed: 1.90(0.67s r0.51)s/itr 0.09h/epoch hand_ssa_loss: 7.9515\n",
      "INFO:train_logs.txt:Epoch 2/60 itr 142/170: lr: 0.001000 speed: 1.90(0.67s r0.51)s/itr 0.09h/epoch hand_ssa_loss: 7.9515\n"
     ]
    },
    {
     "name": "stdout",
     "output_type": "stream",
     "text": [
      "only hand\n"
     ]
    },
    {
     "name": "stderr",
     "output_type": "stream",
     "text": [
      "\u001b[92m01-22 17:49:15\u001b[0m Epoch 2/60 itr 143/170: lr: 0.001000 speed: 1.90(0.67s r0.51)s/itr 0.09h/epoch hand_ssa_loss: 9.8288\n",
      "INFO:train_logs.txt:Epoch 2/60 itr 143/170: lr: 0.001000 speed: 1.90(0.67s r0.51)s/itr 0.09h/epoch hand_ssa_loss: 9.8288\n"
     ]
    },
    {
     "name": "stdout",
     "output_type": "stream",
     "text": [
      "only hand\n"
     ]
    },
    {
     "name": "stderr",
     "output_type": "stream",
     "text": [
      "\u001b[92m01-22 17:49:18\u001b[0m Epoch 2/60 itr 144/170: lr: 0.001000 speed: 1.90(0.67s r0.50)s/itr 0.09h/epoch hand_ssa_loss: 9.5544\n",
      "INFO:train_logs.txt:Epoch 2/60 itr 144/170: lr: 0.001000 speed: 1.90(0.67s r0.50)s/itr 0.09h/epoch hand_ssa_loss: 9.5544\n"
     ]
    },
    {
     "name": "stdout",
     "output_type": "stream",
     "text": [
      "only hand\n"
     ]
    },
    {
     "name": "stderr",
     "output_type": "stream",
     "text": [
      "\u001b[92m01-22 17:49:19\u001b[0m Epoch 2/60 itr 145/170: lr: 0.001000 speed: 1.90(0.67s r0.50)s/itr 0.09h/epoch hand_ssa_loss: 8.1311\n",
      "INFO:train_logs.txt:Epoch 2/60 itr 145/170: lr: 0.001000 speed: 1.90(0.67s r0.50)s/itr 0.09h/epoch hand_ssa_loss: 8.1311\n"
     ]
    },
    {
     "name": "stdout",
     "output_type": "stream",
     "text": [
      "only hand\n"
     ]
    },
    {
     "name": "stderr",
     "output_type": "stream",
     "text": [
      "\u001b[92m01-22 17:49:21\u001b[0m Epoch 2/60 itr 146/170: lr: 0.001000 speed: 1.90(0.67s r0.50)s/itr 0.09h/epoch hand_ssa_loss: 10.1982\n",
      "INFO:train_logs.txt:Epoch 2/60 itr 146/170: lr: 0.001000 speed: 1.90(0.67s r0.50)s/itr 0.09h/epoch hand_ssa_loss: 10.1982\n"
     ]
    },
    {
     "name": "stdout",
     "output_type": "stream",
     "text": [
      "only hand\n"
     ]
    },
    {
     "name": "stderr",
     "output_type": "stream",
     "text": [
      "\u001b[92m01-22 17:49:22\u001b[0m Epoch 2/60 itr 147/170: lr: 0.001000 speed: 1.90(0.67s r0.50)s/itr 0.09h/epoch hand_ssa_loss: 7.4702\n",
      "INFO:train_logs.txt:Epoch 2/60 itr 147/170: lr: 0.001000 speed: 1.90(0.67s r0.50)s/itr 0.09h/epoch hand_ssa_loss: 7.4702\n"
     ]
    },
    {
     "name": "stdout",
     "output_type": "stream",
     "text": [
      "only hand\n"
     ]
    },
    {
     "name": "stderr",
     "output_type": "stream",
     "text": [
      "\u001b[92m01-22 17:49:23\u001b[0m Epoch 2/60 itr 148/170: lr: 0.001000 speed: 1.90(0.67s r0.50)s/itr 0.09h/epoch hand_ssa_loss: 6.3631\n",
      "INFO:train_logs.txt:Epoch 2/60 itr 148/170: lr: 0.001000 speed: 1.90(0.67s r0.50)s/itr 0.09h/epoch hand_ssa_loss: 6.3631\n"
     ]
    },
    {
     "name": "stdout",
     "output_type": "stream",
     "text": [
      "only hand\n"
     ]
    },
    {
     "name": "stderr",
     "output_type": "stream",
     "text": [
      "\u001b[92m01-22 17:49:25\u001b[0m Epoch 2/60 itr 149/170: lr: 0.001000 speed: 1.90(0.67s r0.50)s/itr 0.09h/epoch hand_ssa_loss: 9.6269\n",
      "INFO:train_logs.txt:Epoch 2/60 itr 149/170: lr: 0.001000 speed: 1.90(0.67s r0.50)s/itr 0.09h/epoch hand_ssa_loss: 9.6269\n"
     ]
    },
    {
     "name": "stdout",
     "output_type": "stream",
     "text": [
      "only hand\n"
     ]
    },
    {
     "name": "stderr",
     "output_type": "stream",
     "text": [
      "\u001b[92m01-22 17:49:26\u001b[0m Epoch 2/60 itr 150/170: lr: 0.001000 speed: 1.90(0.66s r0.50)s/itr 0.09h/epoch hand_ssa_loss: 8.0030\n",
      "INFO:train_logs.txt:Epoch 2/60 itr 150/170: lr: 0.001000 speed: 1.90(0.66s r0.50)s/itr 0.09h/epoch hand_ssa_loss: 8.0030\n"
     ]
    },
    {
     "name": "stdout",
     "output_type": "stream",
     "text": [
      "only hand\n"
     ]
    },
    {
     "name": "stderr",
     "output_type": "stream",
     "text": [
      "\u001b[92m01-22 17:49:27\u001b[0m Epoch 2/60 itr 151/170: lr: 0.001000 speed: 1.89(0.66s r0.50)s/itr 0.09h/epoch hand_ssa_loss: 9.4007\n",
      "INFO:train_logs.txt:Epoch 2/60 itr 151/170: lr: 0.001000 speed: 1.89(0.66s r0.50)s/itr 0.09h/epoch hand_ssa_loss: 9.4007\n"
     ]
    },
    {
     "name": "stdout",
     "output_type": "stream",
     "text": [
      "only hand\n"
     ]
    },
    {
     "name": "stderr",
     "output_type": "stream",
     "text": [
      "\u001b[92m01-22 17:49:29\u001b[0m Epoch 2/60 itr 152/170: lr: 0.001000 speed: 1.89(0.66s r0.50)s/itr 0.09h/epoch hand_ssa_loss: 9.1544\n",
      "INFO:train_logs.txt:Epoch 2/60 itr 152/170: lr: 0.001000 speed: 1.89(0.66s r0.50)s/itr 0.09h/epoch hand_ssa_loss: 9.1544\n"
     ]
    },
    {
     "name": "stdout",
     "output_type": "stream",
     "text": [
      "only hand\n"
     ]
    },
    {
     "name": "stderr",
     "output_type": "stream",
     "text": [
      "\u001b[92m01-22 17:49:31\u001b[0m Epoch 2/60 itr 153/170: lr: 0.001000 speed: 1.89(0.66s r0.50)s/itr 0.09h/epoch hand_ssa_loss: 7.9577\n",
      "INFO:train_logs.txt:Epoch 2/60 itr 153/170: lr: 0.001000 speed: 1.89(0.66s r0.50)s/itr 0.09h/epoch hand_ssa_loss: 7.9577\n"
     ]
    },
    {
     "name": "stdout",
     "output_type": "stream",
     "text": [
      "only hand\n"
     ]
    },
    {
     "name": "stderr",
     "output_type": "stream",
     "text": [
      "\u001b[92m01-22 17:49:32\u001b[0m Epoch 2/60 itr 154/170: lr: 0.001000 speed: 1.89(0.66s r0.50)s/itr 0.09h/epoch hand_ssa_loss: 8.0439\n",
      "INFO:train_logs.txt:Epoch 2/60 itr 154/170: lr: 0.001000 speed: 1.89(0.66s r0.50)s/itr 0.09h/epoch hand_ssa_loss: 8.0439\n"
     ]
    },
    {
     "name": "stdout",
     "output_type": "stream",
     "text": [
      "only hand\n"
     ]
    },
    {
     "name": "stderr",
     "output_type": "stream",
     "text": [
      "\u001b[92m01-22 17:49:34\u001b[0m Epoch 2/60 itr 155/170: lr: 0.001000 speed: 1.89(0.66s r0.50)s/itr 0.09h/epoch hand_ssa_loss: 19.1944\n",
      "INFO:train_logs.txt:Epoch 2/60 itr 155/170: lr: 0.001000 speed: 1.89(0.66s r0.50)s/itr 0.09h/epoch hand_ssa_loss: 19.1944\n"
     ]
    },
    {
     "name": "stdout",
     "output_type": "stream",
     "text": [
      "only hand\n"
     ]
    },
    {
     "name": "stderr",
     "output_type": "stream",
     "text": [
      "\u001b[92m01-22 17:49:35\u001b[0m Epoch 2/60 itr 156/170: lr: 0.001000 speed: 1.89(0.66s r0.50)s/itr 0.09h/epoch hand_ssa_loss: 10.6925\n",
      "INFO:train_logs.txt:Epoch 2/60 itr 156/170: lr: 0.001000 speed: 1.89(0.66s r0.50)s/itr 0.09h/epoch hand_ssa_loss: 10.6925\n"
     ]
    },
    {
     "name": "stdout",
     "output_type": "stream",
     "text": [
      "only hand\n"
     ]
    },
    {
     "name": "stderr",
     "output_type": "stream",
     "text": [
      "\u001b[92m01-22 17:49:37\u001b[0m Epoch 2/60 itr 157/170: lr: 0.001000 speed: 1.89(0.66s r0.50)s/itr 0.09h/epoch hand_ssa_loss: 7.2615\n",
      "INFO:train_logs.txt:Epoch 2/60 itr 157/170: lr: 0.001000 speed: 1.89(0.66s r0.50)s/itr 0.09h/epoch hand_ssa_loss: 7.2615\n"
     ]
    },
    {
     "name": "stdout",
     "output_type": "stream",
     "text": [
      "only hand\n"
     ]
    },
    {
     "name": "stderr",
     "output_type": "stream",
     "text": [
      "\u001b[92m01-22 17:49:39\u001b[0m Epoch 2/60 itr 158/170: lr: 0.001000 speed: 1.89(0.66s r0.50)s/itr 0.09h/epoch hand_ssa_loss: 13.5258\n",
      "INFO:train_logs.txt:Epoch 2/60 itr 158/170: lr: 0.001000 speed: 1.89(0.66s r0.50)s/itr 0.09h/epoch hand_ssa_loss: 13.5258\n"
     ]
    },
    {
     "name": "stdout",
     "output_type": "stream",
     "text": [
      "only hand\n"
     ]
    },
    {
     "name": "stderr",
     "output_type": "stream",
     "text": [
      "\u001b[92m01-22 17:49:40\u001b[0m Epoch 2/60 itr 159/170: lr: 0.001000 speed: 1.89(0.66s r0.49)s/itr 0.09h/epoch hand_ssa_loss: 12.1251\n",
      "INFO:train_logs.txt:Epoch 2/60 itr 159/170: lr: 0.001000 speed: 1.89(0.66s r0.49)s/itr 0.09h/epoch hand_ssa_loss: 12.1251\n"
     ]
    },
    {
     "name": "stdout",
     "output_type": "stream",
     "text": [
      "only hand\n"
     ]
    },
    {
     "name": "stderr",
     "output_type": "stream",
     "text": [
      "\u001b[92m01-22 17:49:41\u001b[0m Epoch 2/60 itr 160/170: lr: 0.001000 speed: 1.89(0.65s r0.49)s/itr 0.09h/epoch hand_ssa_loss: 11.8594\n",
      "INFO:train_logs.txt:Epoch 2/60 itr 160/170: lr: 0.001000 speed: 1.89(0.65s r0.49)s/itr 0.09h/epoch hand_ssa_loss: 11.8594\n"
     ]
    },
    {
     "name": "stdout",
     "output_type": "stream",
     "text": [
      "only hand\n"
     ]
    },
    {
     "name": "stderr",
     "output_type": "stream",
     "text": [
      "\u001b[92m01-22 17:49:43\u001b[0m Epoch 2/60 itr 161/170: lr: 0.001000 speed: 1.89(0.65s r0.49)s/itr 0.09h/epoch hand_ssa_loss: 7.6008\n",
      "INFO:train_logs.txt:Epoch 2/60 itr 161/170: lr: 0.001000 speed: 1.89(0.65s r0.49)s/itr 0.09h/epoch hand_ssa_loss: 7.6008\n"
     ]
    },
    {
     "name": "stdout",
     "output_type": "stream",
     "text": [
      "only hand\n"
     ]
    },
    {
     "name": "stderr",
     "output_type": "stream",
     "text": [
      "\u001b[92m01-22 17:49:44\u001b[0m Epoch 2/60 itr 162/170: lr: 0.001000 speed: 1.89(0.65s r0.49)s/itr 0.09h/epoch hand_ssa_loss: 8.3924\n",
      "INFO:train_logs.txt:Epoch 2/60 itr 162/170: lr: 0.001000 speed: 1.89(0.65s r0.49)s/itr 0.09h/epoch hand_ssa_loss: 8.3924\n"
     ]
    },
    {
     "name": "stdout",
     "output_type": "stream",
     "text": [
      "only hand\n"
     ]
    },
    {
     "name": "stderr",
     "output_type": "stream",
     "text": [
      "\u001b[92m01-22 17:49:46\u001b[0m Epoch 2/60 itr 163/170: lr: 0.001000 speed: 1.89(0.65s r0.49)s/itr 0.09h/epoch hand_ssa_loss: 10.4971\n",
      "INFO:train_logs.txt:Epoch 2/60 itr 163/170: lr: 0.001000 speed: 1.89(0.65s r0.49)s/itr 0.09h/epoch hand_ssa_loss: 10.4971\n"
     ]
    },
    {
     "name": "stdout",
     "output_type": "stream",
     "text": [
      "only hand\n"
     ]
    },
    {
     "name": "stderr",
     "output_type": "stream",
     "text": [
      "\u001b[92m01-22 17:49:48\u001b[0m Epoch 2/60 itr 164/170: lr: 0.001000 speed: 1.88(0.65s r0.49)s/itr 0.09h/epoch hand_ssa_loss: 13.4293\n",
      "INFO:train_logs.txt:Epoch 2/60 itr 164/170: lr: 0.001000 speed: 1.88(0.65s r0.49)s/itr 0.09h/epoch hand_ssa_loss: 13.4293\n"
     ]
    },
    {
     "name": "stdout",
     "output_type": "stream",
     "text": [
      "only hand\n"
     ]
    },
    {
     "name": "stderr",
     "output_type": "stream",
     "text": [
      "\u001b[92m01-22 17:49:49\u001b[0m Epoch 2/60 itr 165/170: lr: 0.001000 speed: 1.88(0.65s r0.49)s/itr 0.09h/epoch hand_ssa_loss: 6.8953\n",
      "INFO:train_logs.txt:Epoch 2/60 itr 165/170: lr: 0.001000 speed: 1.88(0.65s r0.49)s/itr 0.09h/epoch hand_ssa_loss: 6.8953\n"
     ]
    },
    {
     "name": "stdout",
     "output_type": "stream",
     "text": [
      "only hand\n"
     ]
    },
    {
     "name": "stderr",
     "output_type": "stream",
     "text": [
      "\u001b[92m01-22 17:49:51\u001b[0m Epoch 2/60 itr 166/170: lr: 0.001000 speed: 1.88(0.65s r0.49)s/itr 0.09h/epoch hand_ssa_loss: 9.3320\n",
      "INFO:train_logs.txt:Epoch 2/60 itr 166/170: lr: 0.001000 speed: 1.88(0.65s r0.49)s/itr 0.09h/epoch hand_ssa_loss: 9.3320\n"
     ]
    },
    {
     "name": "stdout",
     "output_type": "stream",
     "text": [
      "only hand\n"
     ]
    },
    {
     "name": "stderr",
     "output_type": "stream",
     "text": [
      "\u001b[92m01-22 17:49:52\u001b[0m Epoch 2/60 itr 167/170: lr: 0.001000 speed: 1.88(0.65s r0.49)s/itr 0.09h/epoch hand_ssa_loss: 12.8764\n",
      "INFO:train_logs.txt:Epoch 2/60 itr 167/170: lr: 0.001000 speed: 1.88(0.65s r0.49)s/itr 0.09h/epoch hand_ssa_loss: 12.8764\n"
     ]
    },
    {
     "name": "stdout",
     "output_type": "stream",
     "text": [
      "only hand\n"
     ]
    },
    {
     "name": "stderr",
     "output_type": "stream",
     "text": [
      "\u001b[92m01-22 17:49:54\u001b[0m Epoch 2/60 itr 168/170: lr: 0.001000 speed: 1.88(0.65s r0.49)s/itr 0.09h/epoch hand_ssa_loss: 12.9519\n",
      "INFO:train_logs.txt:Epoch 2/60 itr 168/170: lr: 0.001000 speed: 1.88(0.65s r0.49)s/itr 0.09h/epoch hand_ssa_loss: 12.9519\n"
     ]
    },
    {
     "name": "stdout",
     "output_type": "stream",
     "text": [
      "only hand\n"
     ]
    },
    {
     "name": "stderr",
     "output_type": "stream",
     "text": [
      "\u001b[92m01-22 17:49:55\u001b[0m Epoch 2/60 itr 169/170: lr: 0.001000 speed: 1.88(0.65s r0.49)s/itr 0.09h/epoch hand_ssa_loss: 9.8652\n",
      "INFO:train_logs.txt:Epoch 2/60 itr 169/170: lr: 0.001000 speed: 1.88(0.65s r0.49)s/itr 0.09h/epoch hand_ssa_loss: 9.8652\n",
      "\u001b[92m01-22 17:49:56\u001b[0m Write snapshot into c:\\Users\\vladi\\RP\\InterWild\\main\\..\\output\\model_dump\\snapshot_2.pth\n",
      "INFO:train_logs.txt:Write snapshot into c:\\Users\\vladi\\RP\\InterWild\\main\\..\\output\\model_dump\\snapshot_2.pth\n",
      "\u001b[92m01-22 17:49:56\u001b[0m [Epoch 3/60] - Training SSA...\n",
      "INFO:train_logs.txt:[Epoch 3/60] - Training SSA...\n",
      "\u001b[92m01-22 17:49:56\u001b[0m Running validation...\n",
      "INFO:train_logs.txt:Running validation...\n",
      "\u001b[92m01-22 17:50:15\u001b[0m Validation source Results:\n",
      "EvaluationReport:\n",
      "PCK:\n",
      "  Mean: 0.717\n",
      "  Min:  0.476\n",
      "  Max:  0.976\n",
      "  Count: 80\n",
      "IOU:\n",
      "  Mean: 0.671\n",
      "  Min:  0.351\n",
      "  Max:  0.815\n",
      "  Count: 80\n",
      "INFO:train_logs.txt:Validation source Results:\n",
      "EvaluationReport:\n",
      "PCK:\n",
      "  Mean: 0.717\n",
      "  Min:  0.476\n",
      "  Max:  0.976\n",
      "  Count: 80\n",
      "IOU:\n",
      "  Mean: 0.671\n",
      "  Min:  0.351\n",
      "  Max:  0.815\n",
      "  Count: 80\n",
      "\u001b[92m01-22 17:50:15\u001b[0m Running validation...\n",
      "INFO:train_logs.txt:Running validation...\n",
      "\u001b[92m01-22 17:50:20\u001b[0m Validation target Results:\n",
      "EvaluationReport:\n",
      "PCK:\n",
      "  Mean: 0.288\n",
      "  Min:  0.000\n",
      "  Max:  0.810\n",
      "  Count: 80\n",
      "IOU:\n",
      "  Mean: 0.281\n",
      "  Min:  0.000\n",
      "  Max:  0.786\n",
      "  Count: 80\n",
      "INFO:train_logs.txt:Validation target Results:\n",
      "EvaluationReport:\n",
      "PCK:\n",
      "  Mean: 0.288\n",
      "  Min:  0.000\n",
      "  Max:  0.810\n",
      "  Count: 80\n",
      "IOU:\n",
      "  Mean: 0.281\n",
      "  Min:  0.000\n",
      "  Max:  0.786\n",
      "  Count: 80\n"
     ]
    },
    {
     "name": "stdout",
     "output_type": "stream",
     "text": [
      "only hand\n"
     ]
    },
    {
     "name": "stderr",
     "output_type": "stream",
     "text": [
      "\u001b[92m01-22 17:50:23\u001b[0m Epoch 3/60 itr 0/170: lr: 0.001000 speed: 1.88(0.65s r0.54)s/itr 0.09h/epoch hand_ssa_loss: 12.8328\n",
      "INFO:train_logs.txt:Epoch 3/60 itr 0/170: lr: 0.001000 speed: 1.88(0.65s r0.54)s/itr 0.09h/epoch hand_ssa_loss: 12.8328\n"
     ]
    },
    {
     "name": "stdout",
     "output_type": "stream",
     "text": [
      "only hand\n"
     ]
    },
    {
     "name": "stderr",
     "output_type": "stream",
     "text": [
      "\u001b[92m01-22 17:50:25\u001b[0m Epoch 3/60 itr 1/170: lr: 0.001000 speed: 1.93(0.65s r0.54)s/itr 0.09h/epoch hand_ssa_loss: 9.7773\n",
      "INFO:train_logs.txt:Epoch 3/60 itr 1/170: lr: 0.001000 speed: 1.93(0.65s r0.54)s/itr 0.09h/epoch hand_ssa_loss: 9.7773\n"
     ]
    },
    {
     "name": "stdout",
     "output_type": "stream",
     "text": [
      "only hand\n"
     ]
    },
    {
     "name": "stderr",
     "output_type": "stream",
     "text": [
      "\u001b[92m01-22 17:50:26\u001b[0m Epoch 3/60 itr 2/170: lr: 0.001000 speed: 1.93(0.65s r0.54)s/itr 0.09h/epoch hand_ssa_loss: 8.4639\n",
      "INFO:train_logs.txt:Epoch 3/60 itr 2/170: lr: 0.001000 speed: 1.93(0.65s r0.54)s/itr 0.09h/epoch hand_ssa_loss: 8.4639\n"
     ]
    },
    {
     "name": "stdout",
     "output_type": "stream",
     "text": [
      "only hand\n"
     ]
    },
    {
     "name": "stderr",
     "output_type": "stream",
     "text": [
      "\u001b[92m01-22 17:50:28\u001b[0m Epoch 3/60 itr 3/170: lr: 0.001000 speed: 1.93(0.65s r0.54)s/itr 0.09h/epoch hand_ssa_loss: 14.5340\n",
      "INFO:train_logs.txt:Epoch 3/60 itr 3/170: lr: 0.001000 speed: 1.93(0.65s r0.54)s/itr 0.09h/epoch hand_ssa_loss: 14.5340\n"
     ]
    },
    {
     "name": "stdout",
     "output_type": "stream",
     "text": [
      "only hand\n"
     ]
    },
    {
     "name": "stderr",
     "output_type": "stream",
     "text": [
      "\u001b[92m01-22 17:50:30\u001b[0m Epoch 3/60 itr 4/170: lr: 0.001000 speed: 1.93(0.64s r0.54)s/itr 0.09h/epoch hand_ssa_loss: 29.8437\n",
      "INFO:train_logs.txt:Epoch 3/60 itr 4/170: lr: 0.001000 speed: 1.93(0.64s r0.54)s/itr 0.09h/epoch hand_ssa_loss: 29.8437\n"
     ]
    },
    {
     "name": "stdout",
     "output_type": "stream",
     "text": [
      "only hand\n"
     ]
    },
    {
     "name": "stderr",
     "output_type": "stream",
     "text": [
      "\u001b[92m01-22 17:50:31\u001b[0m Epoch 3/60 itr 5/170: lr: 0.001000 speed: 1.93(0.65s r0.54)s/itr 0.09h/epoch hand_ssa_loss: 13.2820\n",
      "INFO:train_logs.txt:Epoch 3/60 itr 5/170: lr: 0.001000 speed: 1.93(0.65s r0.54)s/itr 0.09h/epoch hand_ssa_loss: 13.2820\n"
     ]
    },
    {
     "name": "stdout",
     "output_type": "stream",
     "text": [
      "only hand\n"
     ]
    },
    {
     "name": "stderr",
     "output_type": "stream",
     "text": [
      "\u001b[92m01-22 17:50:33\u001b[0m Epoch 3/60 itr 6/170: lr: 0.001000 speed: 1.93(0.64s r0.54)s/itr 0.09h/epoch hand_ssa_loss: 13.8783\n",
      "INFO:train_logs.txt:Epoch 3/60 itr 6/170: lr: 0.001000 speed: 1.93(0.64s r0.54)s/itr 0.09h/epoch hand_ssa_loss: 13.8783\n"
     ]
    },
    {
     "name": "stdout",
     "output_type": "stream",
     "text": [
      "only hand\n"
     ]
    },
    {
     "name": "stderr",
     "output_type": "stream",
     "text": [
      "\u001b[92m01-22 17:50:35\u001b[0m Epoch 3/60 itr 7/170: lr: 0.001000 speed: 1.93(0.64s r0.54)s/itr 0.09h/epoch hand_ssa_loss: 7.2909\n",
      "INFO:train_logs.txt:Epoch 3/60 itr 7/170: lr: 0.001000 speed: 1.93(0.64s r0.54)s/itr 0.09h/epoch hand_ssa_loss: 7.2909\n"
     ]
    },
    {
     "name": "stdout",
     "output_type": "stream",
     "text": [
      "only hand\n"
     ]
    },
    {
     "name": "stderr",
     "output_type": "stream",
     "text": [
      "\u001b[92m01-22 17:50:36\u001b[0m Epoch 3/60 itr 8/170: lr: 0.001000 speed: 1.93(0.64s r0.54)s/itr 0.09h/epoch hand_ssa_loss: 12.8115\n",
      "INFO:train_logs.txt:Epoch 3/60 itr 8/170: lr: 0.001000 speed: 1.93(0.64s r0.54)s/itr 0.09h/epoch hand_ssa_loss: 12.8115\n"
     ]
    },
    {
     "name": "stdout",
     "output_type": "stream",
     "text": [
      "only hand\n"
     ]
    },
    {
     "name": "stderr",
     "output_type": "stream",
     "text": [
      "\u001b[92m01-22 17:50:38\u001b[0m Epoch 3/60 itr 9/170: lr: 0.001000 speed: 1.93(0.64s r0.54)s/itr 0.09h/epoch hand_ssa_loss: 11.1919\n",
      "INFO:train_logs.txt:Epoch 3/60 itr 9/170: lr: 0.001000 speed: 1.93(0.64s r0.54)s/itr 0.09h/epoch hand_ssa_loss: 11.1919\n"
     ]
    },
    {
     "name": "stdout",
     "output_type": "stream",
     "text": [
      "only hand\n"
     ]
    },
    {
     "name": "stderr",
     "output_type": "stream",
     "text": [
      "\u001b[92m01-22 17:50:40\u001b[0m Epoch 3/60 itr 10/170: lr: 0.001000 speed: 1.93(0.64s r0.54)s/itr 0.09h/epoch hand_ssa_loss: 7.2113\n",
      "INFO:train_logs.txt:Epoch 3/60 itr 10/170: lr: 0.001000 speed: 1.93(0.64s r0.54)s/itr 0.09h/epoch hand_ssa_loss: 7.2113\n"
     ]
    },
    {
     "name": "stdout",
     "output_type": "stream",
     "text": [
      "only hand\n"
     ]
    },
    {
     "name": "stderr",
     "output_type": "stream",
     "text": [
      "\u001b[92m01-22 17:50:41\u001b[0m Epoch 3/60 itr 11/170: lr: 0.001000 speed: 1.93(0.64s r0.54)s/itr 0.09h/epoch hand_ssa_loss: 7.6796\n",
      "INFO:train_logs.txt:Epoch 3/60 itr 11/170: lr: 0.001000 speed: 1.93(0.64s r0.54)s/itr 0.09h/epoch hand_ssa_loss: 7.6796\n"
     ]
    },
    {
     "name": "stdout",
     "output_type": "stream",
     "text": [
      "only hand\n"
     ]
    },
    {
     "name": "stderr",
     "output_type": "stream",
     "text": [
      "\u001b[92m01-22 17:50:44\u001b[0m Epoch 3/60 itr 12/170: lr: 0.001000 speed: 1.93(0.64s r0.54)s/itr 0.09h/epoch hand_ssa_loss: 12.3475\n",
      "INFO:train_logs.txt:Epoch 3/60 itr 12/170: lr: 0.001000 speed: 1.93(0.64s r0.54)s/itr 0.09h/epoch hand_ssa_loss: 12.3475\n"
     ]
    },
    {
     "name": "stdout",
     "output_type": "stream",
     "text": [
      "only hand\n"
     ]
    },
    {
     "name": "stderr",
     "output_type": "stream",
     "text": [
      "\u001b[92m01-22 17:50:45\u001b[0m Epoch 3/60 itr 13/170: lr: 0.001000 speed: 1.93(0.64s r0.54)s/itr 0.09h/epoch hand_ssa_loss: 9.2356\n",
      "INFO:train_logs.txt:Epoch 3/60 itr 13/170: lr: 0.001000 speed: 1.93(0.64s r0.54)s/itr 0.09h/epoch hand_ssa_loss: 9.2356\n"
     ]
    },
    {
     "name": "stdout",
     "output_type": "stream",
     "text": [
      "only hand\n"
     ]
    },
    {
     "name": "stderr",
     "output_type": "stream",
     "text": [
      "\u001b[92m01-22 17:50:47\u001b[0m Epoch 3/60 itr 14/170: lr: 0.001000 speed: 1.93(0.64s r0.54)s/itr 0.09h/epoch hand_ssa_loss: 9.9629\n",
      "INFO:train_logs.txt:Epoch 3/60 itr 14/170: lr: 0.001000 speed: 1.93(0.64s r0.54)s/itr 0.09h/epoch hand_ssa_loss: 9.9629\n"
     ]
    },
    {
     "name": "stdout",
     "output_type": "stream",
     "text": [
      "only hand\n"
     ]
    },
    {
     "name": "stderr",
     "output_type": "stream",
     "text": [
      "\u001b[92m01-22 17:50:48\u001b[0m Epoch 3/60 itr 15/170: lr: 0.001000 speed: 1.92(0.64s r0.54)s/itr 0.09h/epoch hand_ssa_loss: 11.3513\n",
      "INFO:train_logs.txt:Epoch 3/60 itr 15/170: lr: 0.001000 speed: 1.92(0.64s r0.54)s/itr 0.09h/epoch hand_ssa_loss: 11.3513\n"
     ]
    },
    {
     "name": "stdout",
     "output_type": "stream",
     "text": [
      "only hand\n"
     ]
    },
    {
     "name": "stderr",
     "output_type": "stream",
     "text": [
      "\u001b[92m01-22 17:50:50\u001b[0m Epoch 3/60 itr 16/170: lr: 0.001000 speed: 1.92(0.64s r0.54)s/itr 0.09h/epoch hand_ssa_loss: 9.6313\n",
      "INFO:train_logs.txt:Epoch 3/60 itr 16/170: lr: 0.001000 speed: 1.92(0.64s r0.54)s/itr 0.09h/epoch hand_ssa_loss: 9.6313\n"
     ]
    },
    {
     "name": "stdout",
     "output_type": "stream",
     "text": [
      "only hand\n"
     ]
    },
    {
     "name": "stderr",
     "output_type": "stream",
     "text": [
      "\u001b[92m01-22 17:50:51\u001b[0m Epoch 3/60 itr 17/170: lr: 0.001000 speed: 1.92(0.64s r0.54)s/itr 0.09h/epoch hand_ssa_loss: 8.4097\n",
      "INFO:train_logs.txt:Epoch 3/60 itr 17/170: lr: 0.001000 speed: 1.92(0.64s r0.54)s/itr 0.09h/epoch hand_ssa_loss: 8.4097\n"
     ]
    },
    {
     "name": "stdout",
     "output_type": "stream",
     "text": [
      "only hand\n"
     ]
    },
    {
     "name": "stderr",
     "output_type": "stream",
     "text": [
      "\u001b[92m01-22 17:50:53\u001b[0m Epoch 3/60 itr 18/170: lr: 0.001000 speed: 1.92(0.64s r0.54)s/itr 0.09h/epoch hand_ssa_loss: 10.5552\n",
      "INFO:train_logs.txt:Epoch 3/60 itr 18/170: lr: 0.001000 speed: 1.92(0.64s r0.54)s/itr 0.09h/epoch hand_ssa_loss: 10.5552\n"
     ]
    },
    {
     "name": "stdout",
     "output_type": "stream",
     "text": [
      "only hand\n"
     ]
    },
    {
     "name": "stderr",
     "output_type": "stream",
     "text": [
      "\u001b[92m01-22 17:50:54\u001b[0m Epoch 3/60 itr 19/170: lr: 0.001000 speed: 1.92(0.64s r0.54)s/itr 0.09h/epoch hand_ssa_loss: 20.1041\n",
      "INFO:train_logs.txt:Epoch 3/60 itr 19/170: lr: 0.001000 speed: 1.92(0.64s r0.54)s/itr 0.09h/epoch hand_ssa_loss: 20.1041\n"
     ]
    },
    {
     "name": "stdout",
     "output_type": "stream",
     "text": [
      "only hand\n"
     ]
    },
    {
     "name": "stderr",
     "output_type": "stream",
     "text": [
      "\u001b[92m01-22 17:50:56\u001b[0m Epoch 3/60 itr 20/170: lr: 0.001000 speed: 1.92(0.64s r0.54)s/itr 0.09h/epoch hand_ssa_loss: 10.2067\n",
      "INFO:train_logs.txt:Epoch 3/60 itr 20/170: lr: 0.001000 speed: 1.92(0.64s r0.54)s/itr 0.09h/epoch hand_ssa_loss: 10.2067\n"
     ]
    },
    {
     "name": "stdout",
     "output_type": "stream",
     "text": [
      "only hand\n"
     ]
    },
    {
     "name": "stderr",
     "output_type": "stream",
     "text": [
      "\u001b[92m01-22 17:50:57\u001b[0m Epoch 3/60 itr 21/170: lr: 0.001000 speed: 1.92(0.64s r0.54)s/itr 0.09h/epoch hand_ssa_loss: 8.6007\n",
      "INFO:train_logs.txt:Epoch 3/60 itr 21/170: lr: 0.001000 speed: 1.92(0.64s r0.54)s/itr 0.09h/epoch hand_ssa_loss: 8.6007\n"
     ]
    },
    {
     "name": "stdout",
     "output_type": "stream",
     "text": [
      "only hand\n"
     ]
    },
    {
     "name": "stderr",
     "output_type": "stream",
     "text": [
      "\u001b[92m01-22 17:50:59\u001b[0m Epoch 3/60 itr 22/170: lr: 0.001000 speed: 1.92(0.64s r0.53)s/itr 0.09h/epoch hand_ssa_loss: 8.0326\n",
      "INFO:train_logs.txt:Epoch 3/60 itr 22/170: lr: 0.001000 speed: 1.92(0.64s r0.53)s/itr 0.09h/epoch hand_ssa_loss: 8.0326\n"
     ]
    },
    {
     "name": "stdout",
     "output_type": "stream",
     "text": [
      "only hand\n"
     ]
    },
    {
     "name": "stderr",
     "output_type": "stream",
     "text": [
      "\u001b[92m01-22 17:51:00\u001b[0m Epoch 3/60 itr 23/170: lr: 0.001000 speed: 1.92(0.64s r0.53)s/itr 0.09h/epoch hand_ssa_loss: 14.3218\n",
      "INFO:train_logs.txt:Epoch 3/60 itr 23/170: lr: 0.001000 speed: 1.92(0.64s r0.53)s/itr 0.09h/epoch hand_ssa_loss: 14.3218\n"
     ]
    },
    {
     "name": "stdout",
     "output_type": "stream",
     "text": [
      "only hand\n"
     ]
    },
    {
     "name": "stderr",
     "output_type": "stream",
     "text": [
      "\u001b[92m01-22 17:51:01\u001b[0m Epoch 3/60 itr 24/170: lr: 0.001000 speed: 1.92(0.64s r0.53)s/itr 0.09h/epoch hand_ssa_loss: 8.5588\n",
      "INFO:train_logs.txt:Epoch 3/60 itr 24/170: lr: 0.001000 speed: 1.92(0.64s r0.53)s/itr 0.09h/epoch hand_ssa_loss: 8.5588\n"
     ]
    },
    {
     "name": "stdout",
     "output_type": "stream",
     "text": [
      "only hand\n"
     ]
    },
    {
     "name": "stderr",
     "output_type": "stream",
     "text": [
      "\u001b[92m01-22 17:51:03\u001b[0m Epoch 3/60 itr 25/170: lr: 0.001000 speed: 1.92(0.63s r0.53)s/itr 0.09h/epoch hand_ssa_loss: 8.4648\n",
      "INFO:train_logs.txt:Epoch 3/60 itr 25/170: lr: 0.001000 speed: 1.92(0.63s r0.53)s/itr 0.09h/epoch hand_ssa_loss: 8.4648\n"
     ]
    },
    {
     "name": "stdout",
     "output_type": "stream",
     "text": [
      "only hand\n"
     ]
    },
    {
     "name": "stderr",
     "output_type": "stream",
     "text": [
      "\u001b[92m01-22 17:51:05\u001b[0m Epoch 3/60 itr 26/170: lr: 0.001000 speed: 1.92(0.63s r0.53)s/itr 0.09h/epoch hand_ssa_loss: 10.2682\n",
      "INFO:train_logs.txt:Epoch 3/60 itr 26/170: lr: 0.001000 speed: 1.92(0.63s r0.53)s/itr 0.09h/epoch hand_ssa_loss: 10.2682\n"
     ]
    },
    {
     "name": "stdout",
     "output_type": "stream",
     "text": [
      "only hand\n"
     ]
    },
    {
     "name": "stderr",
     "output_type": "stream",
     "text": [
      "\u001b[92m01-22 17:51:06\u001b[0m Epoch 3/60 itr 27/170: lr: 0.001000 speed: 1.92(0.63s r0.53)s/itr 0.09h/epoch hand_ssa_loss: 9.6455\n",
      "INFO:train_logs.txt:Epoch 3/60 itr 27/170: lr: 0.001000 speed: 1.92(0.63s r0.53)s/itr 0.09h/epoch hand_ssa_loss: 9.6455\n"
     ]
    },
    {
     "name": "stdout",
     "output_type": "stream",
     "text": [
      "only hand\n"
     ]
    },
    {
     "name": "stderr",
     "output_type": "stream",
     "text": [
      "\u001b[92m01-22 17:51:08\u001b[0m Epoch 3/60 itr 28/170: lr: 0.001000 speed: 1.91(0.63s r0.53)s/itr 0.09h/epoch hand_ssa_loss: 7.0770\n",
      "INFO:train_logs.txt:Epoch 3/60 itr 28/170: lr: 0.001000 speed: 1.91(0.63s r0.53)s/itr 0.09h/epoch hand_ssa_loss: 7.0770\n"
     ]
    },
    {
     "name": "stdout",
     "output_type": "stream",
     "text": [
      "only hand\n"
     ]
    },
    {
     "name": "stderr",
     "output_type": "stream",
     "text": [
      "\u001b[92m01-22 17:51:09\u001b[0m Epoch 3/60 itr 29/170: lr: 0.001000 speed: 1.91(0.63s r0.53)s/itr 0.09h/epoch hand_ssa_loss: 14.8896\n",
      "INFO:train_logs.txt:Epoch 3/60 itr 29/170: lr: 0.001000 speed: 1.91(0.63s r0.53)s/itr 0.09h/epoch hand_ssa_loss: 14.8896\n"
     ]
    },
    {
     "name": "stdout",
     "output_type": "stream",
     "text": [
      "only hand\n"
     ]
    },
    {
     "name": "stderr",
     "output_type": "stream",
     "text": [
      "\u001b[92m01-22 17:51:11\u001b[0m Epoch 3/60 itr 30/170: lr: 0.001000 speed: 1.91(0.63s r0.53)s/itr 0.09h/epoch hand_ssa_loss: 11.2646\n",
      "INFO:train_logs.txt:Epoch 3/60 itr 30/170: lr: 0.001000 speed: 1.91(0.63s r0.53)s/itr 0.09h/epoch hand_ssa_loss: 11.2646\n"
     ]
    },
    {
     "name": "stdout",
     "output_type": "stream",
     "text": [
      "only hand\n"
     ]
    },
    {
     "name": "stderr",
     "output_type": "stream",
     "text": [
      "\u001b[92m01-22 17:51:13\u001b[0m Epoch 3/60 itr 31/170: lr: 0.001000 speed: 1.91(0.63s r0.53)s/itr 0.09h/epoch hand_ssa_loss: 10.8045\n",
      "INFO:train_logs.txt:Epoch 3/60 itr 31/170: lr: 0.001000 speed: 1.91(0.63s r0.53)s/itr 0.09h/epoch hand_ssa_loss: 10.8045\n"
     ]
    },
    {
     "name": "stdout",
     "output_type": "stream",
     "text": [
      "only hand\n"
     ]
    },
    {
     "name": "stderr",
     "output_type": "stream",
     "text": [
      "\u001b[92m01-22 17:51:15\u001b[0m Epoch 3/60 itr 32/170: lr: 0.001000 speed: 1.91(0.63s r0.53)s/itr 0.09h/epoch hand_ssa_loss: 10.7098\n",
      "INFO:train_logs.txt:Epoch 3/60 itr 32/170: lr: 0.001000 speed: 1.91(0.63s r0.53)s/itr 0.09h/epoch hand_ssa_loss: 10.7098\n"
     ]
    },
    {
     "name": "stdout",
     "output_type": "stream",
     "text": [
      "only hand\n"
     ]
    },
    {
     "name": "stderr",
     "output_type": "stream",
     "text": [
      "\u001b[92m01-22 17:51:16\u001b[0m Epoch 3/60 itr 33/170: lr: 0.001000 speed: 1.91(0.63s r0.53)s/itr 0.09h/epoch hand_ssa_loss: 9.5987\n",
      "INFO:train_logs.txt:Epoch 3/60 itr 33/170: lr: 0.001000 speed: 1.91(0.63s r0.53)s/itr 0.09h/epoch hand_ssa_loss: 9.5987\n"
     ]
    },
    {
     "name": "stdout",
     "output_type": "stream",
     "text": [
      "only hand\n"
     ]
    },
    {
     "name": "stderr",
     "output_type": "stream",
     "text": [
      "\u001b[92m01-22 17:51:18\u001b[0m Epoch 3/60 itr 34/170: lr: 0.001000 speed: 1.91(0.63s r0.53)s/itr 0.09h/epoch hand_ssa_loss: 8.9724\n",
      "INFO:train_logs.txt:Epoch 3/60 itr 34/170: lr: 0.001000 speed: 1.91(0.63s r0.53)s/itr 0.09h/epoch hand_ssa_loss: 8.9724\n"
     ]
    },
    {
     "name": "stdout",
     "output_type": "stream",
     "text": [
      "only hand\n"
     ]
    },
    {
     "name": "stderr",
     "output_type": "stream",
     "text": [
      "\u001b[92m01-22 17:51:19\u001b[0m Epoch 3/60 itr 35/170: lr: 0.001000 speed: 1.91(0.63s r0.53)s/itr 0.09h/epoch hand_ssa_loss: 9.3052\n",
      "INFO:train_logs.txt:Epoch 3/60 itr 35/170: lr: 0.001000 speed: 1.91(0.63s r0.53)s/itr 0.09h/epoch hand_ssa_loss: 9.3052\n"
     ]
    },
    {
     "name": "stdout",
     "output_type": "stream",
     "text": [
      "only hand\n"
     ]
    },
    {
     "name": "stderr",
     "output_type": "stream",
     "text": [
      "\u001b[92m01-22 17:51:21\u001b[0m Epoch 3/60 itr 36/170: lr: 0.001000 speed: 1.91(0.62s r0.53)s/itr 0.09h/epoch hand_ssa_loss: 10.1225\n",
      "INFO:train_logs.txt:Epoch 3/60 itr 36/170: lr: 0.001000 speed: 1.91(0.62s r0.53)s/itr 0.09h/epoch hand_ssa_loss: 10.1225\n"
     ]
    },
    {
     "name": "stdout",
     "output_type": "stream",
     "text": [
      "only hand\n"
     ]
    },
    {
     "name": "stderr",
     "output_type": "stream",
     "text": [
      "\u001b[92m01-22 17:51:23\u001b[0m Epoch 3/60 itr 37/170: lr: 0.001000 speed: 1.91(0.62s r0.53)s/itr 0.09h/epoch hand_ssa_loss: 9.3175\n",
      "INFO:train_logs.txt:Epoch 3/60 itr 37/170: lr: 0.001000 speed: 1.91(0.62s r0.53)s/itr 0.09h/epoch hand_ssa_loss: 9.3175\n"
     ]
    },
    {
     "name": "stdout",
     "output_type": "stream",
     "text": [
      "only hand\n"
     ]
    },
    {
     "name": "stderr",
     "output_type": "stream",
     "text": [
      "\u001b[92m01-22 17:51:24\u001b[0m Epoch 3/60 itr 38/170: lr: 0.001000 speed: 1.91(0.62s r0.53)s/itr 0.09h/epoch hand_ssa_loss: 7.6767\n",
      "INFO:train_logs.txt:Epoch 3/60 itr 38/170: lr: 0.001000 speed: 1.91(0.62s r0.53)s/itr 0.09h/epoch hand_ssa_loss: 7.6767\n"
     ]
    },
    {
     "name": "stdout",
     "output_type": "stream",
     "text": [
      "only hand\n"
     ]
    },
    {
     "name": "stderr",
     "output_type": "stream",
     "text": [
      "\u001b[92m01-22 17:51:26\u001b[0m Epoch 3/60 itr 39/170: lr: 0.001000 speed: 1.91(0.62s r0.53)s/itr 0.09h/epoch hand_ssa_loss: 16.6546\n",
      "INFO:train_logs.txt:Epoch 3/60 itr 39/170: lr: 0.001000 speed: 1.91(0.62s r0.53)s/itr 0.09h/epoch hand_ssa_loss: 16.6546\n"
     ]
    },
    {
     "name": "stdout",
     "output_type": "stream",
     "text": [
      "only hand\n"
     ]
    },
    {
     "name": "stderr",
     "output_type": "stream",
     "text": [
      "\u001b[92m01-22 17:51:27\u001b[0m Epoch 3/60 itr 40/170: lr: 0.001000 speed: 1.91(0.62s r0.53)s/itr 0.09h/epoch hand_ssa_loss: 10.3446\n",
      "INFO:train_logs.txt:Epoch 3/60 itr 40/170: lr: 0.001000 speed: 1.91(0.62s r0.53)s/itr 0.09h/epoch hand_ssa_loss: 10.3446\n"
     ]
    },
    {
     "name": "stdout",
     "output_type": "stream",
     "text": [
      "only hand\n"
     ]
    },
    {
     "name": "stderr",
     "output_type": "stream",
     "text": [
      "\u001b[92m01-22 17:51:29\u001b[0m Epoch 3/60 itr 41/170: lr: 0.001000 speed: 1.91(0.62s r0.53)s/itr 0.09h/epoch hand_ssa_loss: 12.1157\n",
      "INFO:train_logs.txt:Epoch 3/60 itr 41/170: lr: 0.001000 speed: 1.91(0.62s r0.53)s/itr 0.09h/epoch hand_ssa_loss: 12.1157\n"
     ]
    },
    {
     "name": "stdout",
     "output_type": "stream",
     "text": [
      "only hand\n"
     ]
    },
    {
     "name": "stderr",
     "output_type": "stream",
     "text": [
      "\u001b[92m01-22 17:51:30\u001b[0m Epoch 3/60 itr 42/170: lr: 0.001000 speed: 1.91(0.62s r0.53)s/itr 0.09h/epoch hand_ssa_loss: 9.0694\n",
      "INFO:train_logs.txt:Epoch 3/60 itr 42/170: lr: 0.001000 speed: 1.91(0.62s r0.53)s/itr 0.09h/epoch hand_ssa_loss: 9.0694\n"
     ]
    },
    {
     "name": "stdout",
     "output_type": "stream",
     "text": [
      "only hand\n"
     ]
    },
    {
     "name": "stderr",
     "output_type": "stream",
     "text": [
      "\u001b[92m01-22 17:51:32\u001b[0m Epoch 3/60 itr 43/170: lr: 0.001000 speed: 1.91(0.62s r0.53)s/itr 0.09h/epoch hand_ssa_loss: 11.8752\n",
      "INFO:train_logs.txt:Epoch 3/60 itr 43/170: lr: 0.001000 speed: 1.91(0.62s r0.53)s/itr 0.09h/epoch hand_ssa_loss: 11.8752\n"
     ]
    },
    {
     "name": "stdout",
     "output_type": "stream",
     "text": [
      "only hand\n"
     ]
    },
    {
     "name": "stderr",
     "output_type": "stream",
     "text": [
      "\u001b[92m01-22 17:51:34\u001b[0m Epoch 3/60 itr 44/170: lr: 0.001000 speed: 1.91(0.62s r0.53)s/itr 0.09h/epoch hand_ssa_loss: 12.8948\n",
      "INFO:train_logs.txt:Epoch 3/60 itr 44/170: lr: 0.001000 speed: 1.91(0.62s r0.53)s/itr 0.09h/epoch hand_ssa_loss: 12.8948\n"
     ]
    },
    {
     "name": "stdout",
     "output_type": "stream",
     "text": [
      "only hand\n"
     ]
    },
    {
     "name": "stderr",
     "output_type": "stream",
     "text": [
      "\u001b[92m01-22 17:51:35\u001b[0m Epoch 3/60 itr 45/170: lr: 0.001000 speed: 1.91(0.62s r0.53)s/itr 0.09h/epoch hand_ssa_loss: 8.4946\n",
      "INFO:train_logs.txt:Epoch 3/60 itr 45/170: lr: 0.001000 speed: 1.91(0.62s r0.53)s/itr 0.09h/epoch hand_ssa_loss: 8.4946\n"
     ]
    },
    {
     "name": "stdout",
     "output_type": "stream",
     "text": [
      "only hand\n"
     ]
    },
    {
     "name": "stderr",
     "output_type": "stream",
     "text": [
      "\u001b[92m01-22 17:51:37\u001b[0m Epoch 3/60 itr 46/170: lr: 0.001000 speed: 1.91(0.62s r0.53)s/itr 0.09h/epoch hand_ssa_loss: 7.0053\n",
      "INFO:train_logs.txt:Epoch 3/60 itr 46/170: lr: 0.001000 speed: 1.91(0.62s r0.53)s/itr 0.09h/epoch hand_ssa_loss: 7.0053\n"
     ]
    },
    {
     "name": "stdout",
     "output_type": "stream",
     "text": [
      "only hand\n"
     ]
    },
    {
     "name": "stderr",
     "output_type": "stream",
     "text": [
      "\u001b[92m01-22 17:51:38\u001b[0m Epoch 3/60 itr 47/170: lr: 0.001000 speed: 1.90(0.62s r0.53)s/itr 0.09h/epoch hand_ssa_loss: 10.3837\n",
      "INFO:train_logs.txt:Epoch 3/60 itr 47/170: lr: 0.001000 speed: 1.90(0.62s r0.53)s/itr 0.09h/epoch hand_ssa_loss: 10.3837\n"
     ]
    },
    {
     "name": "stdout",
     "output_type": "stream",
     "text": [
      "only hand\n"
     ]
    },
    {
     "name": "stderr",
     "output_type": "stream",
     "text": [
      "\u001b[92m01-22 17:51:40\u001b[0m Epoch 3/60 itr 48/170: lr: 0.001000 speed: 1.90(0.61s r0.53)s/itr 0.09h/epoch hand_ssa_loss: 14.8993\n",
      "INFO:train_logs.txt:Epoch 3/60 itr 48/170: lr: 0.001000 speed: 1.90(0.61s r0.53)s/itr 0.09h/epoch hand_ssa_loss: 14.8993\n"
     ]
    },
    {
     "name": "stdout",
     "output_type": "stream",
     "text": [
      "only hand\n"
     ]
    },
    {
     "name": "stderr",
     "output_type": "stream",
     "text": [
      "\u001b[92m01-22 17:51:42\u001b[0m Epoch 3/60 itr 49/170: lr: 0.001000 speed: 1.90(0.61s r0.52)s/itr 0.09h/epoch hand_ssa_loss: 11.5432\n",
      "INFO:train_logs.txt:Epoch 3/60 itr 49/170: lr: 0.001000 speed: 1.90(0.61s r0.52)s/itr 0.09h/epoch hand_ssa_loss: 11.5432\n"
     ]
    },
    {
     "name": "stdout",
     "output_type": "stream",
     "text": [
      "only hand\n"
     ]
    },
    {
     "name": "stderr",
     "output_type": "stream",
     "text": [
      "\u001b[92m01-22 17:51:43\u001b[0m Epoch 3/60 itr 50/170: lr: 0.001000 speed: 1.90(0.61s r0.52)s/itr 0.09h/epoch hand_ssa_loss: 8.9746\n",
      "INFO:train_logs.txt:Epoch 3/60 itr 50/170: lr: 0.001000 speed: 1.90(0.61s r0.52)s/itr 0.09h/epoch hand_ssa_loss: 8.9746\n"
     ]
    },
    {
     "name": "stdout",
     "output_type": "stream",
     "text": [
      "only hand\n"
     ]
    },
    {
     "name": "stderr",
     "output_type": "stream",
     "text": [
      "\u001b[92m01-22 17:51:45\u001b[0m Epoch 3/60 itr 51/170: lr: 0.001000 speed: 1.90(0.61s r0.52)s/itr 0.09h/epoch hand_ssa_loss: 11.9725\n",
      "INFO:train_logs.txt:Epoch 3/60 itr 51/170: lr: 0.001000 speed: 1.90(0.61s r0.52)s/itr 0.09h/epoch hand_ssa_loss: 11.9725\n"
     ]
    },
    {
     "name": "stdout",
     "output_type": "stream",
     "text": [
      "only hand\n"
     ]
    },
    {
     "name": "stderr",
     "output_type": "stream",
     "text": [
      "\u001b[92m01-22 17:51:47\u001b[0m Epoch 3/60 itr 52/170: lr: 0.001000 speed: 1.90(0.61s r0.52)s/itr 0.09h/epoch hand_ssa_loss: 7.2786\n",
      "INFO:train_logs.txt:Epoch 3/60 itr 52/170: lr: 0.001000 speed: 1.90(0.61s r0.52)s/itr 0.09h/epoch hand_ssa_loss: 7.2786\n"
     ]
    },
    {
     "name": "stdout",
     "output_type": "stream",
     "text": [
      "only hand\n"
     ]
    },
    {
     "name": "stderr",
     "output_type": "stream",
     "text": [
      "\u001b[92m01-22 17:51:52\u001b[0m Epoch 3/60 itr 53/170: lr: 0.001000 speed: 1.90(0.62s r0.52)s/itr 0.09h/epoch hand_ssa_loss: 9.1293\n",
      "INFO:train_logs.txt:Epoch 3/60 itr 53/170: lr: 0.001000 speed: 1.90(0.62s r0.52)s/itr 0.09h/epoch hand_ssa_loss: 9.1293\n"
     ]
    },
    {
     "name": "stdout",
     "output_type": "stream",
     "text": [
      "only hand\n"
     ]
    },
    {
     "name": "stderr",
     "output_type": "stream",
     "text": [
      "\u001b[92m01-22 17:51:54\u001b[0m Epoch 3/60 itr 54/170: lr: 0.001000 speed: 1.91(0.62s r0.52)s/itr 0.09h/epoch hand_ssa_loss: 10.0370\n",
      "INFO:train_logs.txt:Epoch 3/60 itr 54/170: lr: 0.001000 speed: 1.91(0.62s r0.52)s/itr 0.09h/epoch hand_ssa_loss: 10.0370\n"
     ]
    },
    {
     "name": "stdout",
     "output_type": "stream",
     "text": [
      "only hand\n"
     ]
    },
    {
     "name": "stderr",
     "output_type": "stream",
     "text": [
      "\u001b[92m01-22 17:51:55\u001b[0m Epoch 3/60 itr 55/170: lr: 0.001000 speed: 1.91(0.62s r0.52)s/itr 0.09h/epoch hand_ssa_loss: 12.8604\n",
      "INFO:train_logs.txt:Epoch 3/60 itr 55/170: lr: 0.001000 speed: 1.91(0.62s r0.52)s/itr 0.09h/epoch hand_ssa_loss: 12.8604\n"
     ]
    },
    {
     "name": "stdout",
     "output_type": "stream",
     "text": [
      "only hand\n"
     ]
    },
    {
     "name": "stderr",
     "output_type": "stream",
     "text": [
      "\u001b[92m01-22 17:51:59\u001b[0m Epoch 3/60 itr 56/170: lr: 0.001000 speed: 1.91(0.63s r0.52)s/itr 0.09h/epoch hand_ssa_loss: 10.5517\n",
      "INFO:train_logs.txt:Epoch 3/60 itr 56/170: lr: 0.001000 speed: 1.91(0.63s r0.52)s/itr 0.09h/epoch hand_ssa_loss: 10.5517\n"
     ]
    },
    {
     "name": "stdout",
     "output_type": "stream",
     "text": [
      "only hand\n"
     ]
    },
    {
     "name": "stderr",
     "output_type": "stream",
     "text": [
      "\u001b[92m01-22 17:52:02\u001b[0m Epoch 3/60 itr 57/170: lr: 0.001000 speed: 1.91(0.63s r0.52)s/itr 0.09h/epoch hand_ssa_loss: 8.0439\n",
      "INFO:train_logs.txt:Epoch 3/60 itr 57/170: lr: 0.001000 speed: 1.91(0.63s r0.52)s/itr 0.09h/epoch hand_ssa_loss: 8.0439\n"
     ]
    },
    {
     "name": "stdout",
     "output_type": "stream",
     "text": [
      "only hand\n"
     ]
    },
    {
     "name": "stderr",
     "output_type": "stream",
     "text": [
      "\u001b[92m01-22 17:52:03\u001b[0m Epoch 3/60 itr 58/170: lr: 0.001000 speed: 1.91(0.63s r0.52)s/itr 0.09h/epoch hand_ssa_loss: 8.2455\n",
      "INFO:train_logs.txt:Epoch 3/60 itr 58/170: lr: 0.001000 speed: 1.91(0.63s r0.52)s/itr 0.09h/epoch hand_ssa_loss: 8.2455\n"
     ]
    },
    {
     "name": "stdout",
     "output_type": "stream",
     "text": [
      "only hand\n"
     ]
    },
    {
     "name": "stderr",
     "output_type": "stream",
     "text": [
      "\u001b[92m01-22 17:52:05\u001b[0m Epoch 3/60 itr 59/170: lr: 0.001000 speed: 1.91(0.63s r0.52)s/itr 0.09h/epoch hand_ssa_loss: 7.7685\n",
      "INFO:train_logs.txt:Epoch 3/60 itr 59/170: lr: 0.001000 speed: 1.91(0.63s r0.52)s/itr 0.09h/epoch hand_ssa_loss: 7.7685\n"
     ]
    },
    {
     "name": "stdout",
     "output_type": "stream",
     "text": [
      "only hand\n"
     ]
    },
    {
     "name": "stderr",
     "output_type": "stream",
     "text": [
      "\u001b[92m01-22 17:52:09\u001b[0m Epoch 3/60 itr 60/170: lr: 0.001000 speed: 1.91(0.64s r0.52)s/itr 0.09h/epoch hand_ssa_loss: 10.1105\n",
      "INFO:train_logs.txt:Epoch 3/60 itr 60/170: lr: 0.001000 speed: 1.91(0.64s r0.52)s/itr 0.09h/epoch hand_ssa_loss: 10.1105\n"
     ]
    },
    {
     "name": "stdout",
     "output_type": "stream",
     "text": [
      "only hand\n"
     ]
    },
    {
     "name": "stderr",
     "output_type": "stream",
     "text": [
      "\u001b[92m01-22 17:52:12\u001b[0m Epoch 3/60 itr 61/170: lr: 0.001000 speed: 1.91(0.64s r0.51)s/itr 0.09h/epoch hand_ssa_loss: 9.8118\n",
      "INFO:train_logs.txt:Epoch 3/60 itr 61/170: lr: 0.001000 speed: 1.91(0.64s r0.51)s/itr 0.09h/epoch hand_ssa_loss: 9.8118\n"
     ]
    },
    {
     "name": "stdout",
     "output_type": "stream",
     "text": [
      "only hand\n"
     ]
    },
    {
     "name": "stderr",
     "output_type": "stream",
     "text": [
      "\u001b[92m01-22 17:52:14\u001b[0m Epoch 3/60 itr 62/170: lr: 0.001000 speed: 1.92(0.65s r0.51)s/itr 0.09h/epoch hand_ssa_loss: 9.9102\n",
      "INFO:train_logs.txt:Epoch 3/60 itr 62/170: lr: 0.001000 speed: 1.92(0.65s r0.51)s/itr 0.09h/epoch hand_ssa_loss: 9.9102\n"
     ]
    },
    {
     "name": "stdout",
     "output_type": "stream",
     "text": [
      "only hand\n"
     ]
    },
    {
     "name": "stderr",
     "output_type": "stream",
     "text": [
      "\u001b[92m01-22 17:52:16\u001b[0m Epoch 3/60 itr 63/170: lr: 0.001000 speed: 1.92(0.65s r0.51)s/itr 0.09h/epoch hand_ssa_loss: 10.6987\n",
      "INFO:train_logs.txt:Epoch 3/60 itr 63/170: lr: 0.001000 speed: 1.92(0.65s r0.51)s/itr 0.09h/epoch hand_ssa_loss: 10.6987\n"
     ]
    },
    {
     "name": "stdout",
     "output_type": "stream",
     "text": [
      "only hand\n"
     ]
    },
    {
     "name": "stderr",
     "output_type": "stream",
     "text": [
      "\u001b[92m01-22 17:52:19\u001b[0m Epoch 3/60 itr 64/170: lr: 0.001000 speed: 1.92(0.65s r0.51)s/itr 0.09h/epoch hand_ssa_loss: 7.3438\n",
      "INFO:train_logs.txt:Epoch 3/60 itr 64/170: lr: 0.001000 speed: 1.92(0.65s r0.51)s/itr 0.09h/epoch hand_ssa_loss: 7.3438\n"
     ]
    },
    {
     "name": "stdout",
     "output_type": "stream",
     "text": [
      "only hand\n"
     ]
    },
    {
     "name": "stderr",
     "output_type": "stream",
     "text": [
      "\u001b[92m01-22 17:52:22\u001b[0m Epoch 3/60 itr 65/170: lr: 0.001000 speed: 1.92(0.66s r0.51)s/itr 0.09h/epoch hand_ssa_loss: 9.7284\n",
      "INFO:train_logs.txt:Epoch 3/60 itr 65/170: lr: 0.001000 speed: 1.92(0.66s r0.51)s/itr 0.09h/epoch hand_ssa_loss: 9.7284\n"
     ]
    },
    {
     "name": "stdout",
     "output_type": "stream",
     "text": [
      "only hand\n"
     ]
    },
    {
     "name": "stderr",
     "output_type": "stream",
     "text": [
      "\u001b[92m01-22 17:52:25\u001b[0m Epoch 3/60 itr 66/170: lr: 0.001000 speed: 1.92(0.66s r0.51)s/itr 0.09h/epoch hand_ssa_loss: 9.6561\n",
      "INFO:train_logs.txt:Epoch 3/60 itr 66/170: lr: 0.001000 speed: 1.92(0.66s r0.51)s/itr 0.09h/epoch hand_ssa_loss: 9.6561\n"
     ]
    },
    {
     "name": "stdout",
     "output_type": "stream",
     "text": [
      "only hand\n"
     ]
    },
    {
     "name": "stderr",
     "output_type": "stream",
     "text": [
      "\u001b[92m01-22 17:52:25\u001b[0m Epoch 3/60 itr 67/170: lr: 0.001000 speed: 1.92(0.66s r0.51)s/itr 0.09h/epoch hand_ssa_loss: 10.6486\n",
      "INFO:train_logs.txt:Epoch 3/60 itr 67/170: lr: 0.001000 speed: 1.92(0.66s r0.51)s/itr 0.09h/epoch hand_ssa_loss: 10.6486\n"
     ]
    },
    {
     "name": "stdout",
     "output_type": "stream",
     "text": [
      "only hand\n"
     ]
    },
    {
     "name": "stderr",
     "output_type": "stream",
     "text": [
      "\u001b[92m01-22 17:52:27\u001b[0m Epoch 3/60 itr 68/170: lr: 0.001000 speed: 1.92(0.66s r0.51)s/itr 0.09h/epoch hand_ssa_loss: 13.0382\n",
      "INFO:train_logs.txt:Epoch 3/60 itr 68/170: lr: 0.001000 speed: 1.92(0.66s r0.51)s/itr 0.09h/epoch hand_ssa_loss: 13.0382\n"
     ]
    },
    {
     "name": "stdout",
     "output_type": "stream",
     "text": [
      "only hand\n"
     ]
    },
    {
     "name": "stderr",
     "output_type": "stream",
     "text": [
      "\u001b[92m01-22 17:52:31\u001b[0m Epoch 3/60 itr 69/170: lr: 0.001000 speed: 1.92(0.66s r0.51)s/itr 0.09h/epoch hand_ssa_loss: 6.8772\n",
      "INFO:train_logs.txt:Epoch 3/60 itr 69/170: lr: 0.001000 speed: 1.92(0.66s r0.51)s/itr 0.09h/epoch hand_ssa_loss: 6.8772\n"
     ]
    },
    {
     "name": "stdout",
     "output_type": "stream",
     "text": [
      "only hand\n"
     ]
    },
    {
     "name": "stderr",
     "output_type": "stream",
     "text": [
      "\u001b[92m01-22 17:52:32\u001b[0m Epoch 3/60 itr 70/170: lr: 0.001000 speed: 1.92(0.67s r0.51)s/itr 0.09h/epoch hand_ssa_loss: 10.6284\n",
      "INFO:train_logs.txt:Epoch 3/60 itr 70/170: lr: 0.001000 speed: 1.92(0.67s r0.51)s/itr 0.09h/epoch hand_ssa_loss: 10.6284\n"
     ]
    },
    {
     "name": "stdout",
     "output_type": "stream",
     "text": [
      "only hand\n"
     ]
    },
    {
     "name": "stderr",
     "output_type": "stream",
     "text": [
      "\u001b[92m01-22 17:52:33\u001b[0m Epoch 3/60 itr 71/170: lr: 0.001000 speed: 1.92(0.67s r0.51)s/itr 0.09h/epoch hand_ssa_loss: 11.4265\n",
      "INFO:train_logs.txt:Epoch 3/60 itr 71/170: lr: 0.001000 speed: 1.92(0.67s r0.51)s/itr 0.09h/epoch hand_ssa_loss: 11.4265\n"
     ]
    },
    {
     "name": "stdout",
     "output_type": "stream",
     "text": [
      "only hand\n"
     ]
    },
    {
     "name": "stderr",
     "output_type": "stream",
     "text": [
      "\u001b[92m01-22 17:52:39\u001b[0m Epoch 3/60 itr 72/170: lr: 0.001000 speed: 1.92(0.67s r0.50)s/itr 0.09h/epoch hand_ssa_loss: 31.3672\n",
      "INFO:train_logs.txt:Epoch 3/60 itr 72/170: lr: 0.001000 speed: 1.92(0.67s r0.50)s/itr 0.09h/epoch hand_ssa_loss: 31.3672\n"
     ]
    },
    {
     "name": "stdout",
     "output_type": "stream",
     "text": [
      "only hand\n"
     ]
    },
    {
     "name": "stderr",
     "output_type": "stream",
     "text": [
      "\u001b[92m01-22 17:52:42\u001b[0m Epoch 3/60 itr 73/170: lr: 0.001000 speed: 1.93(0.68s r0.50)s/itr 0.09h/epoch hand_ssa_loss: 7.9082\n",
      "INFO:train_logs.txt:Epoch 3/60 itr 73/170: lr: 0.001000 speed: 1.93(0.68s r0.50)s/itr 0.09h/epoch hand_ssa_loss: 7.9082\n"
     ]
    },
    {
     "name": "stdout",
     "output_type": "stream",
     "text": [
      "only hand\n"
     ]
    },
    {
     "name": "stderr",
     "output_type": "stream",
     "text": [
      "\u001b[92m01-22 17:52:44\u001b[0m Epoch 3/60 itr 74/170: lr: 0.001000 speed: 1.93(0.68s r0.50)s/itr 0.09h/epoch hand_ssa_loss: 6.5642\n",
      "INFO:train_logs.txt:Epoch 3/60 itr 74/170: lr: 0.001000 speed: 1.93(0.68s r0.50)s/itr 0.09h/epoch hand_ssa_loss: 6.5642\n"
     ]
    },
    {
     "name": "stdout",
     "output_type": "stream",
     "text": [
      "only hand\n"
     ]
    },
    {
     "name": "stderr",
     "output_type": "stream",
     "text": [
      "\u001b[92m01-22 17:52:46\u001b[0m Epoch 3/60 itr 75/170: lr: 0.001000 speed: 1.93(0.68s r0.50)s/itr 0.09h/epoch hand_ssa_loss: 16.0361\n",
      "INFO:train_logs.txt:Epoch 3/60 itr 75/170: lr: 0.001000 speed: 1.93(0.68s r0.50)s/itr 0.09h/epoch hand_ssa_loss: 16.0361\n"
     ]
    },
    {
     "name": "stdout",
     "output_type": "stream",
     "text": [
      "only hand\n"
     ]
    },
    {
     "name": "stderr",
     "output_type": "stream",
     "text": [
      "\u001b[92m01-22 17:52:49\u001b[0m Epoch 3/60 itr 76/170: lr: 0.001000 speed: 1.93(0.69s r0.50)s/itr 0.09h/epoch hand_ssa_loss: 13.6115\n",
      "INFO:train_logs.txt:Epoch 3/60 itr 76/170: lr: 0.001000 speed: 1.93(0.69s r0.50)s/itr 0.09h/epoch hand_ssa_loss: 13.6115\n"
     ]
    },
    {
     "name": "stdout",
     "output_type": "stream",
     "text": [
      "only hand\n"
     ]
    },
    {
     "name": "stderr",
     "output_type": "stream",
     "text": [
      "\u001b[92m01-22 17:52:51\u001b[0m Epoch 3/60 itr 77/170: lr: 0.001000 speed: 1.93(0.69s r0.50)s/itr 0.09h/epoch hand_ssa_loss: 7.3805\n",
      "INFO:train_logs.txt:Epoch 3/60 itr 77/170: lr: 0.001000 speed: 1.93(0.69s r0.50)s/itr 0.09h/epoch hand_ssa_loss: 7.3805\n"
     ]
    },
    {
     "name": "stdout",
     "output_type": "stream",
     "text": [
      "only hand\n"
     ]
    },
    {
     "name": "stderr",
     "output_type": "stream",
     "text": [
      "\u001b[92m01-22 17:52:54\u001b[0m Epoch 3/60 itr 78/170: lr: 0.001000 speed: 1.93(0.69s r0.50)s/itr 0.09h/epoch hand_ssa_loss: 15.8296\n",
      "INFO:train_logs.txt:Epoch 3/60 itr 78/170: lr: 0.001000 speed: 1.93(0.69s r0.50)s/itr 0.09h/epoch hand_ssa_loss: 15.8296\n"
     ]
    },
    {
     "name": "stdout",
     "output_type": "stream",
     "text": [
      "only hand\n"
     ]
    },
    {
     "name": "stderr",
     "output_type": "stream",
     "text": [
      "\u001b[92m01-22 17:52:55\u001b[0m Epoch 3/60 itr 79/170: lr: 0.001000 speed: 1.93(0.69s r0.50)s/itr 0.09h/epoch hand_ssa_loss: 14.2355\n",
      "INFO:train_logs.txt:Epoch 3/60 itr 79/170: lr: 0.001000 speed: 1.93(0.69s r0.50)s/itr 0.09h/epoch hand_ssa_loss: 14.2355\n"
     ]
    },
    {
     "name": "stdout",
     "output_type": "stream",
     "text": [
      "only hand\n"
     ]
    },
    {
     "name": "stderr",
     "output_type": "stream",
     "text": [
      "\u001b[92m01-22 17:52:56\u001b[0m Epoch 3/60 itr 80/170: lr: 0.001000 speed: 1.93(0.69s r0.50)s/itr 0.09h/epoch hand_ssa_loss: 8.3324\n",
      "INFO:train_logs.txt:Epoch 3/60 itr 80/170: lr: 0.001000 speed: 1.93(0.69s r0.50)s/itr 0.09h/epoch hand_ssa_loss: 8.3324\n"
     ]
    },
    {
     "name": "stdout",
     "output_type": "stream",
     "text": [
      "only hand\n"
     ]
    },
    {
     "name": "stderr",
     "output_type": "stream",
     "text": [
      "\u001b[92m01-22 17:53:01\u001b[0m Epoch 3/60 itr 81/170: lr: 0.001000 speed: 1.93(0.70s r0.50)s/itr 0.09h/epoch hand_ssa_loss: 6.5145\n",
      "INFO:train_logs.txt:Epoch 3/60 itr 81/170: lr: 0.001000 speed: 1.93(0.70s r0.50)s/itr 0.09h/epoch hand_ssa_loss: 6.5145\n"
     ]
    },
    {
     "name": "stdout",
     "output_type": "stream",
     "text": [
      "only hand\n"
     ]
    },
    {
     "name": "stderr",
     "output_type": "stream",
     "text": [
      "\u001b[92m01-22 17:53:02\u001b[0m Epoch 3/60 itr 82/170: lr: 0.001000 speed: 1.93(0.70s r0.50)s/itr 0.09h/epoch hand_ssa_loss: 10.1825\n",
      "INFO:train_logs.txt:Epoch 3/60 itr 82/170: lr: 0.001000 speed: 1.93(0.70s r0.50)s/itr 0.09h/epoch hand_ssa_loss: 10.1825\n"
     ]
    },
    {
     "name": "stdout",
     "output_type": "stream",
     "text": [
      "only hand\n"
     ]
    },
    {
     "name": "stderr",
     "output_type": "stream",
     "text": [
      "\u001b[92m01-22 17:53:03\u001b[0m Epoch 3/60 itr 83/170: lr: 0.001000 speed: 1.93(0.70s r0.50)s/itr 0.09h/epoch hand_ssa_loss: 10.9506\n",
      "INFO:train_logs.txt:Epoch 3/60 itr 83/170: lr: 0.001000 speed: 1.93(0.70s r0.50)s/itr 0.09h/epoch hand_ssa_loss: 10.9506\n"
     ]
    },
    {
     "name": "stdout",
     "output_type": "stream",
     "text": [
      "only hand\n"
     ]
    },
    {
     "name": "stderr",
     "output_type": "stream",
     "text": [
      "\u001b[92m01-22 17:53:07\u001b[0m Epoch 3/60 itr 84/170: lr: 0.001000 speed: 1.93(0.71s r0.49)s/itr 0.09h/epoch hand_ssa_loss: 9.5196\n",
      "INFO:train_logs.txt:Epoch 3/60 itr 84/170: lr: 0.001000 speed: 1.93(0.71s r0.49)s/itr 0.09h/epoch hand_ssa_loss: 9.5196\n"
     ]
    },
    {
     "name": "stdout",
     "output_type": "stream",
     "text": [
      "only hand\n"
     ]
    },
    {
     "name": "stderr",
     "output_type": "stream",
     "text": [
      "\u001b[92m01-22 17:53:09\u001b[0m Epoch 3/60 itr 85/170: lr: 0.001000 speed: 1.93(0.71s r0.49)s/itr 0.09h/epoch hand_ssa_loss: 10.1636\n",
      "INFO:train_logs.txt:Epoch 3/60 itr 85/170: lr: 0.001000 speed: 1.93(0.71s r0.49)s/itr 0.09h/epoch hand_ssa_loss: 10.1636\n"
     ]
    },
    {
     "name": "stdout",
     "output_type": "stream",
     "text": [
      "only hand\n"
     ]
    },
    {
     "name": "stderr",
     "output_type": "stream",
     "text": [
      "\u001b[92m01-22 17:53:12\u001b[0m Epoch 3/60 itr 86/170: lr: 0.001000 speed: 1.94(0.71s r0.49)s/itr 0.09h/epoch hand_ssa_loss: 10.2189\n",
      "INFO:train_logs.txt:Epoch 3/60 itr 86/170: lr: 0.001000 speed: 1.94(0.71s r0.49)s/itr 0.09h/epoch hand_ssa_loss: 10.2189\n"
     ]
    },
    {
     "name": "stdout",
     "output_type": "stream",
     "text": [
      "only hand\n"
     ]
    },
    {
     "name": "stderr",
     "output_type": "stream",
     "text": [
      "\u001b[92m01-22 17:53:14\u001b[0m Epoch 3/60 itr 87/170: lr: 0.001000 speed: 1.94(0.72s r0.49)s/itr 0.09h/epoch hand_ssa_loss: 10.9899\n",
      "INFO:train_logs.txt:Epoch 3/60 itr 87/170: lr: 0.001000 speed: 1.94(0.72s r0.49)s/itr 0.09h/epoch hand_ssa_loss: 10.9899\n"
     ]
    },
    {
     "name": "stdout",
     "output_type": "stream",
     "text": [
      "only hand\n"
     ]
    },
    {
     "name": "stderr",
     "output_type": "stream",
     "text": [
      "\u001b[92m01-22 17:53:15\u001b[0m Epoch 3/60 itr 88/170: lr: 0.001000 speed: 1.94(0.72s r0.49)s/itr 0.09h/epoch hand_ssa_loss: 11.4892\n",
      "INFO:train_logs.txt:Epoch 3/60 itr 88/170: lr: 0.001000 speed: 1.94(0.72s r0.49)s/itr 0.09h/epoch hand_ssa_loss: 11.4892\n"
     ]
    },
    {
     "name": "stdout",
     "output_type": "stream",
     "text": [
      "only hand\n"
     ]
    },
    {
     "name": "stderr",
     "output_type": "stream",
     "text": [
      "\u001b[92m01-22 17:53:19\u001b[0m Epoch 3/60 itr 89/170: lr: 0.001000 speed: 1.94(0.72s r0.49)s/itr 0.09h/epoch hand_ssa_loss: 8.9085\n",
      "INFO:train_logs.txt:Epoch 3/60 itr 89/170: lr: 0.001000 speed: 1.94(0.72s r0.49)s/itr 0.09h/epoch hand_ssa_loss: 8.9085\n"
     ]
    },
    {
     "name": "stdout",
     "output_type": "stream",
     "text": [
      "only hand\n"
     ]
    },
    {
     "name": "stderr",
     "output_type": "stream",
     "text": [
      "\u001b[92m01-22 17:53:22\u001b[0m Epoch 3/60 itr 90/170: lr: 0.001000 speed: 1.94(0.73s r0.49)s/itr 0.09h/epoch hand_ssa_loss: 12.0160\n",
      "INFO:train_logs.txt:Epoch 3/60 itr 90/170: lr: 0.001000 speed: 1.94(0.73s r0.49)s/itr 0.09h/epoch hand_ssa_loss: 12.0160\n"
     ]
    },
    {
     "name": "stdout",
     "output_type": "stream",
     "text": [
      "only hand\n"
     ]
    },
    {
     "name": "stderr",
     "output_type": "stream",
     "text": [
      "\u001b[92m01-22 17:53:23\u001b[0m Epoch 3/60 itr 91/170: lr: 0.001000 speed: 1.94(0.73s r0.49)s/itr 0.09h/epoch hand_ssa_loss: 10.3484\n",
      "INFO:train_logs.txt:Epoch 3/60 itr 91/170: lr: 0.001000 speed: 1.94(0.73s r0.49)s/itr 0.09h/epoch hand_ssa_loss: 10.3484\n"
     ]
    },
    {
     "name": "stdout",
     "output_type": "stream",
     "text": [
      "only hand\n"
     ]
    },
    {
     "name": "stderr",
     "output_type": "stream",
     "text": [
      "\u001b[92m01-22 17:53:24\u001b[0m Epoch 3/60 itr 92/170: lr: 0.001000 speed: 1.94(0.73s r0.49)s/itr 0.09h/epoch hand_ssa_loss: 7.3921\n",
      "INFO:train_logs.txt:Epoch 3/60 itr 92/170: lr: 0.001000 speed: 1.94(0.73s r0.49)s/itr 0.09h/epoch hand_ssa_loss: 7.3921\n"
     ]
    },
    {
     "name": "stdout",
     "output_type": "stream",
     "text": [
      "only hand\n"
     ]
    },
    {
     "name": "stderr",
     "output_type": "stream",
     "text": [
      "\u001b[92m01-22 17:53:28\u001b[0m Epoch 3/60 itr 93/170: lr: 0.001000 speed: 1.94(0.73s r0.49)s/itr 0.09h/epoch hand_ssa_loss: 11.9927\n",
      "INFO:train_logs.txt:Epoch 3/60 itr 93/170: lr: 0.001000 speed: 1.94(0.73s r0.49)s/itr 0.09h/epoch hand_ssa_loss: 11.9927\n"
     ]
    },
    {
     "name": "stdout",
     "output_type": "stream",
     "text": [
      "only hand\n"
     ]
    },
    {
     "name": "stderr",
     "output_type": "stream",
     "text": [
      "\u001b[92m01-22 17:53:31\u001b[0m Epoch 3/60 itr 94/170: lr: 0.001000 speed: 1.94(0.74s r0.49)s/itr 0.09h/epoch hand_ssa_loss: 8.4654\n",
      "INFO:train_logs.txt:Epoch 3/60 itr 94/170: lr: 0.001000 speed: 1.94(0.74s r0.49)s/itr 0.09h/epoch hand_ssa_loss: 8.4654\n"
     ]
    },
    {
     "name": "stdout",
     "output_type": "stream",
     "text": [
      "only hand\n"
     ]
    },
    {
     "name": "stderr",
     "output_type": "stream",
     "text": [
      "\u001b[92m01-22 17:53:33\u001b[0m Epoch 3/60 itr 95/170: lr: 0.001000 speed: 1.94(0.74s r0.49)s/itr 0.09h/epoch hand_ssa_loss: 8.5676\n",
      "INFO:train_logs.txt:Epoch 3/60 itr 95/170: lr: 0.001000 speed: 1.94(0.74s r0.49)s/itr 0.09h/epoch hand_ssa_loss: 8.5676\n"
     ]
    },
    {
     "name": "stdout",
     "output_type": "stream",
     "text": [
      "only hand\n"
     ]
    },
    {
     "name": "stderr",
     "output_type": "stream",
     "text": [
      "\u001b[92m01-22 17:53:36\u001b[0m Epoch 3/60 itr 96/170: lr: 0.001000 speed: 1.94(0.74s r0.48)s/itr 0.09h/epoch hand_ssa_loss: 19.5793\n",
      "INFO:train_logs.txt:Epoch 3/60 itr 96/170: lr: 0.001000 speed: 1.94(0.74s r0.48)s/itr 0.09h/epoch hand_ssa_loss: 19.5793\n"
     ]
    },
    {
     "name": "stdout",
     "output_type": "stream",
     "text": [
      "only hand\n"
     ]
    },
    {
     "name": "stderr",
     "output_type": "stream",
     "text": [
      "\u001b[92m01-22 17:53:38\u001b[0m Epoch 3/60 itr 97/170: lr: 0.001000 speed: 1.94(0.74s r0.48)s/itr 0.09h/epoch hand_ssa_loss: 9.2469\n",
      "INFO:train_logs.txt:Epoch 3/60 itr 97/170: lr: 0.001000 speed: 1.94(0.74s r0.48)s/itr 0.09h/epoch hand_ssa_loss: 9.2469\n"
     ]
    },
    {
     "name": "stdout",
     "output_type": "stream",
     "text": [
      "only hand\n"
     ]
    },
    {
     "name": "stderr",
     "output_type": "stream",
     "text": [
      "\u001b[92m01-22 17:53:40\u001b[0m Epoch 3/60 itr 98/170: lr: 0.001000 speed: 1.94(0.75s r0.48)s/itr 0.09h/epoch hand_ssa_loss: 19.0564\n",
      "INFO:train_logs.txt:Epoch 3/60 itr 98/170: lr: 0.001000 speed: 1.94(0.75s r0.48)s/itr 0.09h/epoch hand_ssa_loss: 19.0564\n"
     ]
    },
    {
     "name": "stdout",
     "output_type": "stream",
     "text": [
      "only hand\n"
     ]
    },
    {
     "name": "stderr",
     "output_type": "stream",
     "text": [
      "\u001b[92m01-22 17:53:43\u001b[0m Epoch 3/60 itr 99/170: lr: 0.001000 speed: 1.94(0.75s r0.48)s/itr 0.09h/epoch hand_ssa_loss: 8.8803\n",
      "INFO:train_logs.txt:Epoch 3/60 itr 99/170: lr: 0.001000 speed: 1.94(0.75s r0.48)s/itr 0.09h/epoch hand_ssa_loss: 8.8803\n"
     ]
    },
    {
     "name": "stdout",
     "output_type": "stream",
     "text": [
      "only hand\n"
     ]
    },
    {
     "name": "stderr",
     "output_type": "stream",
     "text": [
      "\u001b[92m01-22 17:53:45\u001b[0m Epoch 3/60 itr 100/170: lr: 0.001000 speed: 1.95(0.75s r0.48)s/itr 0.09h/epoch hand_ssa_loss: 12.1847\n",
      "INFO:train_logs.txt:Epoch 3/60 itr 100/170: lr: 0.001000 speed: 1.95(0.75s r0.48)s/itr 0.09h/epoch hand_ssa_loss: 12.1847\n"
     ]
    },
    {
     "name": "stdout",
     "output_type": "stream",
     "text": [
      "only hand\n"
     ]
    },
    {
     "name": "stderr",
     "output_type": "stream",
     "text": [
      "\u001b[92m01-22 17:53:46\u001b[0m Epoch 3/60 itr 101/170: lr: 0.001000 speed: 1.95(0.75s r0.48)s/itr 0.09h/epoch hand_ssa_loss: 9.9415\n",
      "INFO:train_logs.txt:Epoch 3/60 itr 101/170: lr: 0.001000 speed: 1.95(0.75s r0.48)s/itr 0.09h/epoch hand_ssa_loss: 9.9415\n"
     ]
    },
    {
     "name": "stdout",
     "output_type": "stream",
     "text": [
      "only hand\n"
     ]
    },
    {
     "name": "stderr",
     "output_type": "stream",
     "text": [
      "\u001b[92m01-22 17:53:49\u001b[0m Epoch 3/60 itr 102/170: lr: 0.001000 speed: 1.95(0.76s r0.48)s/itr 0.09h/epoch hand_ssa_loss: 10.8510\n",
      "INFO:train_logs.txt:Epoch 3/60 itr 102/170: lr: 0.001000 speed: 1.95(0.76s r0.48)s/itr 0.09h/epoch hand_ssa_loss: 10.8510\n"
     ]
    },
    {
     "name": "stdout",
     "output_type": "stream",
     "text": [
      "only hand\n"
     ]
    },
    {
     "name": "stderr",
     "output_type": "stream",
     "text": [
      "\u001b[92m01-22 17:53:52\u001b[0m Epoch 3/60 itr 103/170: lr: 0.001000 speed: 1.95(0.76s r0.48)s/itr 0.09h/epoch hand_ssa_loss: 7.6322\n",
      "INFO:train_logs.txt:Epoch 3/60 itr 103/170: lr: 0.001000 speed: 1.95(0.76s r0.48)s/itr 0.09h/epoch hand_ssa_loss: 7.6322\n"
     ]
    },
    {
     "name": "stdout",
     "output_type": "stream",
     "text": [
      "only hand\n"
     ]
    },
    {
     "name": "stderr",
     "output_type": "stream",
     "text": [
      "\u001b[92m01-22 17:53:53\u001b[0m Epoch 3/60 itr 104/170: lr: 0.001000 speed: 1.95(0.76s r0.48)s/itr 0.09h/epoch hand_ssa_loss: 12.3941\n",
      "INFO:train_logs.txt:Epoch 3/60 itr 104/170: lr: 0.001000 speed: 1.95(0.76s r0.48)s/itr 0.09h/epoch hand_ssa_loss: 12.3941\n"
     ]
    },
    {
     "name": "stdout",
     "output_type": "stream",
     "text": [
      "only hand\n"
     ]
    },
    {
     "name": "stderr",
     "output_type": "stream",
     "text": [
      "\u001b[92m01-22 17:53:54\u001b[0m Epoch 3/60 itr 105/170: lr: 0.001000 speed: 1.95(0.76s r0.48)s/itr 0.09h/epoch hand_ssa_loss: 10.9566\n",
      "INFO:train_logs.txt:Epoch 3/60 itr 105/170: lr: 0.001000 speed: 1.95(0.76s r0.48)s/itr 0.09h/epoch hand_ssa_loss: 10.9566\n"
     ]
    },
    {
     "name": "stdout",
     "output_type": "stream",
     "text": [
      "only hand\n"
     ]
    },
    {
     "name": "stderr",
     "output_type": "stream",
     "text": [
      "\u001b[92m01-22 17:53:55\u001b[0m Epoch 3/60 itr 106/170: lr: 0.001000 speed: 1.95(0.76s r0.48)s/itr 0.09h/epoch hand_ssa_loss: 7.6446\n",
      "INFO:train_logs.txt:Epoch 3/60 itr 106/170: lr: 0.001000 speed: 1.95(0.76s r0.48)s/itr 0.09h/epoch hand_ssa_loss: 7.6446\n"
     ]
    },
    {
     "name": "stdout",
     "output_type": "stream",
     "text": [
      "only hand\n"
     ]
    },
    {
     "name": "stderr",
     "output_type": "stream",
     "text": [
      "\u001b[92m01-22 17:53:58\u001b[0m Epoch 3/60 itr 107/170: lr: 0.001000 speed: 1.94(0.76s r0.48)s/itr 0.09h/epoch hand_ssa_loss: 11.0977\n",
      "INFO:train_logs.txt:Epoch 3/60 itr 107/170: lr: 0.001000 speed: 1.94(0.76s r0.48)s/itr 0.09h/epoch hand_ssa_loss: 11.0977\n"
     ]
    },
    {
     "name": "stdout",
     "output_type": "stream",
     "text": [
      "only hand\n"
     ]
    },
    {
     "name": "stderr",
     "output_type": "stream",
     "text": [
      "\u001b[92m01-22 17:54:01\u001b[0m Epoch 3/60 itr 108/170: lr: 0.001000 speed: 1.95(0.76s r0.48)s/itr 0.09h/epoch hand_ssa_loss: 9.6682\n",
      "INFO:train_logs.txt:Epoch 3/60 itr 108/170: lr: 0.001000 speed: 1.95(0.76s r0.48)s/itr 0.09h/epoch hand_ssa_loss: 9.6682\n"
     ]
    },
    {
     "name": "stdout",
     "output_type": "stream",
     "text": [
      "only hand\n"
     ]
    },
    {
     "name": "stderr",
     "output_type": "stream",
     "text": [
      "\u001b[92m01-22 17:54:04\u001b[0m Epoch 3/60 itr 109/170: lr: 0.001000 speed: 1.95(0.77s r0.47)s/itr 0.09h/epoch hand_ssa_loss: 14.4021\n",
      "INFO:train_logs.txt:Epoch 3/60 itr 109/170: lr: 0.001000 speed: 1.95(0.77s r0.47)s/itr 0.09h/epoch hand_ssa_loss: 14.4021\n"
     ]
    },
    {
     "name": "stdout",
     "output_type": "stream",
     "text": [
      "only hand\n"
     ]
    },
    {
     "name": "stderr",
     "output_type": "stream",
     "text": [
      "\u001b[92m01-22 17:54:06\u001b[0m Epoch 3/60 itr 110/170: lr: 0.001000 speed: 1.95(0.77s r0.47)s/itr 0.09h/epoch hand_ssa_loss: 11.5903\n",
      "INFO:train_logs.txt:Epoch 3/60 itr 110/170: lr: 0.001000 speed: 1.95(0.77s r0.47)s/itr 0.09h/epoch hand_ssa_loss: 11.5903\n"
     ]
    },
    {
     "name": "stdout",
     "output_type": "stream",
     "text": [
      "only hand\n"
     ]
    },
    {
     "name": "stderr",
     "output_type": "stream",
     "text": [
      "\u001b[92m01-22 17:54:09\u001b[0m Epoch 3/60 itr 111/170: lr: 0.001000 speed: 1.95(0.77s r0.47)s/itr 0.09h/epoch hand_ssa_loss: 11.6945\n",
      "INFO:train_logs.txt:Epoch 3/60 itr 111/170: lr: 0.001000 speed: 1.95(0.77s r0.47)s/itr 0.09h/epoch hand_ssa_loss: 11.6945\n"
     ]
    },
    {
     "name": "stdout",
     "output_type": "stream",
     "text": [
      "only hand\n"
     ]
    },
    {
     "name": "stderr",
     "output_type": "stream",
     "text": [
      "\u001b[92m01-22 17:54:10\u001b[0m Epoch 3/60 itr 112/170: lr: 0.001000 speed: 1.95(0.77s r0.47)s/itr 0.09h/epoch hand_ssa_loss: 11.5110\n",
      "INFO:train_logs.txt:Epoch 3/60 itr 112/170: lr: 0.001000 speed: 1.95(0.77s r0.47)s/itr 0.09h/epoch hand_ssa_loss: 11.5110\n"
     ]
    },
    {
     "name": "stdout",
     "output_type": "stream",
     "text": [
      "only hand\n"
     ]
    },
    {
     "name": "stderr",
     "output_type": "stream",
     "text": [
      "\u001b[92m01-22 17:54:13\u001b[0m Epoch 3/60 itr 113/170: lr: 0.001000 speed: 1.95(0.77s r0.47)s/itr 0.09h/epoch hand_ssa_loss: 11.1685\n",
      "INFO:train_logs.txt:Epoch 3/60 itr 113/170: lr: 0.001000 speed: 1.95(0.77s r0.47)s/itr 0.09h/epoch hand_ssa_loss: 11.1685\n"
     ]
    },
    {
     "name": "stdout",
     "output_type": "stream",
     "text": [
      "only hand\n"
     ]
    },
    {
     "name": "stderr",
     "output_type": "stream",
     "text": [
      "\u001b[92m01-22 17:54:16\u001b[0m Epoch 3/60 itr 114/170: lr: 0.001000 speed: 1.95(0.78s r0.47)s/itr 0.09h/epoch hand_ssa_loss: 17.2602\n",
      "INFO:train_logs.txt:Epoch 3/60 itr 114/170: lr: 0.001000 speed: 1.95(0.78s r0.47)s/itr 0.09h/epoch hand_ssa_loss: 17.2602\n"
     ]
    },
    {
     "name": "stdout",
     "output_type": "stream",
     "text": [
      "only hand\n"
     ]
    },
    {
     "name": "stderr",
     "output_type": "stream",
     "text": [
      "\u001b[92m01-22 17:54:18\u001b[0m Epoch 3/60 itr 115/170: lr: 0.001000 speed: 1.95(0.78s r0.47)s/itr 0.09h/epoch hand_ssa_loss: 7.6441\n",
      "INFO:train_logs.txt:Epoch 3/60 itr 115/170: lr: 0.001000 speed: 1.95(0.78s r0.47)s/itr 0.09h/epoch hand_ssa_loss: 7.6441\n"
     ]
    },
    {
     "name": "stdout",
     "output_type": "stream",
     "text": [
      "only hand\n"
     ]
    },
    {
     "name": "stderr",
     "output_type": "stream",
     "text": [
      "\u001b[92m01-22 17:54:20\u001b[0m Epoch 3/60 itr 116/170: lr: 0.001000 speed: 1.95(0.78s r0.47)s/itr 0.09h/epoch hand_ssa_loss: 10.7714\n",
      "INFO:train_logs.txt:Epoch 3/60 itr 116/170: lr: 0.001000 speed: 1.95(0.78s r0.47)s/itr 0.09h/epoch hand_ssa_loss: 10.7714\n"
     ]
    },
    {
     "name": "stdout",
     "output_type": "stream",
     "text": [
      "only hand\n"
     ]
    },
    {
     "name": "stderr",
     "output_type": "stream",
     "text": [
      "\u001b[92m01-22 17:54:23\u001b[0m Epoch 3/60 itr 117/170: lr: 0.001000 speed: 1.95(0.78s r0.47)s/itr 0.09h/epoch hand_ssa_loss: 7.8801\n",
      "INFO:train_logs.txt:Epoch 3/60 itr 117/170: lr: 0.001000 speed: 1.95(0.78s r0.47)s/itr 0.09h/epoch hand_ssa_loss: 7.8801\n"
     ]
    },
    {
     "name": "stdout",
     "output_type": "stream",
     "text": [
      "only hand\n"
     ]
    },
    {
     "name": "stderr",
     "output_type": "stream",
     "text": [
      "\u001b[92m01-22 17:54:25\u001b[0m Epoch 3/60 itr 118/170: lr: 0.001000 speed: 1.95(0.79s r0.47)s/itr 0.09h/epoch hand_ssa_loss: 13.3049\n",
      "INFO:train_logs.txt:Epoch 3/60 itr 118/170: lr: 0.001000 speed: 1.95(0.79s r0.47)s/itr 0.09h/epoch hand_ssa_loss: 13.3049\n"
     ]
    },
    {
     "name": "stdout",
     "output_type": "stream",
     "text": [
      "only hand\n"
     ]
    },
    {
     "name": "stderr",
     "output_type": "stream",
     "text": [
      "\u001b[92m01-22 17:54:27\u001b[0m Epoch 3/60 itr 119/170: lr: 0.001000 speed: 1.95(0.79s r0.47)s/itr 0.09h/epoch hand_ssa_loss: 8.2093\n",
      "INFO:train_logs.txt:Epoch 3/60 itr 119/170: lr: 0.001000 speed: 1.95(0.79s r0.47)s/itr 0.09h/epoch hand_ssa_loss: 8.2093\n"
     ]
    },
    {
     "name": "stdout",
     "output_type": "stream",
     "text": [
      "only hand\n"
     ]
    },
    {
     "name": "stderr",
     "output_type": "stream",
     "text": [
      "\u001b[92m01-22 17:54:29\u001b[0m Epoch 3/60 itr 120/170: lr: 0.001000 speed: 1.95(0.79s r0.47)s/itr 0.09h/epoch hand_ssa_loss: 11.2484\n",
      "INFO:train_logs.txt:Epoch 3/60 itr 120/170: lr: 0.001000 speed: 1.95(0.79s r0.47)s/itr 0.09h/epoch hand_ssa_loss: 11.2484\n"
     ]
    },
    {
     "name": "stdout",
     "output_type": "stream",
     "text": [
      "only hand\n"
     ]
    },
    {
     "name": "stderr",
     "output_type": "stream",
     "text": [
      "\u001b[92m01-22 17:54:30\u001b[0m Epoch 3/60 itr 121/170: lr: 0.001000 speed: 1.95(0.79s r0.47)s/itr 0.09h/epoch hand_ssa_loss: 11.6466\n",
      "INFO:train_logs.txt:Epoch 3/60 itr 121/170: lr: 0.001000 speed: 1.95(0.79s r0.47)s/itr 0.09h/epoch hand_ssa_loss: 11.6466\n"
     ]
    },
    {
     "name": "stdout",
     "output_type": "stream",
     "text": [
      "only hand\n"
     ]
    },
    {
     "name": "stderr",
     "output_type": "stream",
     "text": [
      "\u001b[92m01-22 17:54:31\u001b[0m Epoch 3/60 itr 122/170: lr: 0.001000 speed: 1.95(0.79s r0.46)s/itr 0.09h/epoch hand_ssa_loss: 7.4884\n",
      "INFO:train_logs.txt:Epoch 3/60 itr 122/170: lr: 0.001000 speed: 1.95(0.79s r0.46)s/itr 0.09h/epoch hand_ssa_loss: 7.4884\n"
     ]
    },
    {
     "name": "stdout",
     "output_type": "stream",
     "text": [
      "only hand\n"
     ]
    },
    {
     "name": "stderr",
     "output_type": "stream",
     "text": [
      "\u001b[92m01-22 17:54:33\u001b[0m Epoch 3/60 itr 123/170: lr: 0.001000 speed: 1.95(0.79s r0.46)s/itr 0.09h/epoch hand_ssa_loss: 9.9183\n",
      "INFO:train_logs.txt:Epoch 3/60 itr 123/170: lr: 0.001000 speed: 1.95(0.79s r0.46)s/itr 0.09h/epoch hand_ssa_loss: 9.9183\n"
     ]
    },
    {
     "name": "stdout",
     "output_type": "stream",
     "text": [
      "only hand\n"
     ]
    },
    {
     "name": "stderr",
     "output_type": "stream",
     "text": [
      "\u001b[92m01-22 17:54:35\u001b[0m Epoch 3/60 itr 124/170: lr: 0.001000 speed: 1.95(0.79s r0.47)s/itr 0.09h/epoch hand_ssa_loss: 8.2172\n",
      "INFO:train_logs.txt:Epoch 3/60 itr 124/170: lr: 0.001000 speed: 1.95(0.79s r0.47)s/itr 0.09h/epoch hand_ssa_loss: 8.2172\n"
     ]
    },
    {
     "name": "stdout",
     "output_type": "stream",
     "text": [
      "only hand\n"
     ]
    },
    {
     "name": "stderr",
     "output_type": "stream",
     "text": [
      "\u001b[92m01-22 17:54:36\u001b[0m Epoch 3/60 itr 125/170: lr: 0.001000 speed: 1.95(0.79s r0.47)s/itr 0.09h/epoch hand_ssa_loss: 9.6769\n",
      "INFO:train_logs.txt:Epoch 3/60 itr 125/170: lr: 0.001000 speed: 1.95(0.79s r0.47)s/itr 0.09h/epoch hand_ssa_loss: 9.6769\n"
     ]
    },
    {
     "name": "stdout",
     "output_type": "stream",
     "text": [
      "only hand\n"
     ]
    },
    {
     "name": "stderr",
     "output_type": "stream",
     "text": [
      "\u001b[92m01-22 17:54:38\u001b[0m Epoch 3/60 itr 126/170: lr: 0.001000 speed: 1.95(0.78s r0.47)s/itr 0.09h/epoch hand_ssa_loss: 9.0599\n",
      "INFO:train_logs.txt:Epoch 3/60 itr 126/170: lr: 0.001000 speed: 1.95(0.78s r0.47)s/itr 0.09h/epoch hand_ssa_loss: 9.0599\n"
     ]
    },
    {
     "name": "stdout",
     "output_type": "stream",
     "text": [
      "only hand\n"
     ]
    },
    {
     "name": "stderr",
     "output_type": "stream",
     "text": [
      "\u001b[92m01-22 17:54:40\u001b[0m Epoch 3/60 itr 127/170: lr: 0.001000 speed: 1.95(0.78s r0.46)s/itr 0.09h/epoch hand_ssa_loss: 8.6510\n",
      "INFO:train_logs.txt:Epoch 3/60 itr 127/170: lr: 0.001000 speed: 1.95(0.78s r0.46)s/itr 0.09h/epoch hand_ssa_loss: 8.6510\n"
     ]
    },
    {
     "name": "stdout",
     "output_type": "stream",
     "text": [
      "only hand\n"
     ]
    },
    {
     "name": "stderr",
     "output_type": "stream",
     "text": [
      "\u001b[92m01-22 17:54:41\u001b[0m Epoch 3/60 itr 128/170: lr: 0.001000 speed: 1.95(0.78s r0.46)s/itr 0.09h/epoch hand_ssa_loss: 10.5024\n",
      "INFO:train_logs.txt:Epoch 3/60 itr 128/170: lr: 0.001000 speed: 1.95(0.78s r0.46)s/itr 0.09h/epoch hand_ssa_loss: 10.5024\n"
     ]
    },
    {
     "name": "stdout",
     "output_type": "stream",
     "text": [
      "only hand\n"
     ]
    },
    {
     "name": "stderr",
     "output_type": "stream",
     "text": [
      "\u001b[92m01-22 17:54:43\u001b[0m Epoch 3/60 itr 129/170: lr: 0.001000 speed: 1.95(0.78s r0.46)s/itr 0.09h/epoch hand_ssa_loss: 10.5121\n",
      "INFO:train_logs.txt:Epoch 3/60 itr 129/170: lr: 0.001000 speed: 1.95(0.78s r0.46)s/itr 0.09h/epoch hand_ssa_loss: 10.5121\n"
     ]
    },
    {
     "name": "stdout",
     "output_type": "stream",
     "text": [
      "only hand\n"
     ]
    },
    {
     "name": "stderr",
     "output_type": "stream",
     "text": [
      "\u001b[92m01-22 17:54:44\u001b[0m Epoch 3/60 itr 130/170: lr: 0.001000 speed: 1.95(0.78s r0.46)s/itr 0.09h/epoch hand_ssa_loss: 10.0469\n",
      "INFO:train_logs.txt:Epoch 3/60 itr 130/170: lr: 0.001000 speed: 1.95(0.78s r0.46)s/itr 0.09h/epoch hand_ssa_loss: 10.0469\n"
     ]
    },
    {
     "name": "stdout",
     "output_type": "stream",
     "text": [
      "only hand\n"
     ]
    },
    {
     "name": "stderr",
     "output_type": "stream",
     "text": [
      "\u001b[92m01-22 17:54:46\u001b[0m Epoch 3/60 itr 131/170: lr: 0.001000 speed: 1.95(0.78s r0.46)s/itr 0.09h/epoch hand_ssa_loss: 9.7655\n",
      "INFO:train_logs.txt:Epoch 3/60 itr 131/170: lr: 0.001000 speed: 1.95(0.78s r0.46)s/itr 0.09h/epoch hand_ssa_loss: 9.7655\n"
     ]
    },
    {
     "name": "stdout",
     "output_type": "stream",
     "text": [
      "only hand\n"
     ]
    },
    {
     "name": "stderr",
     "output_type": "stream",
     "text": [
      "\u001b[92m01-22 17:54:47\u001b[0m Epoch 3/60 itr 132/170: lr: 0.001000 speed: 1.95(0.78s r0.46)s/itr 0.09h/epoch hand_ssa_loss: 6.5837\n",
      "INFO:train_logs.txt:Epoch 3/60 itr 132/170: lr: 0.001000 speed: 1.95(0.78s r0.46)s/itr 0.09h/epoch hand_ssa_loss: 6.5837\n"
     ]
    },
    {
     "name": "stdout",
     "output_type": "stream",
     "text": [
      "only hand\n"
     ]
    },
    {
     "name": "stderr",
     "output_type": "stream",
     "text": [
      "\u001b[92m01-22 17:54:49\u001b[0m Epoch 3/60 itr 133/170: lr: 0.001000 speed: 1.95(0.78s r0.46)s/itr 0.09h/epoch hand_ssa_loss: 7.5737\n",
      "INFO:train_logs.txt:Epoch 3/60 itr 133/170: lr: 0.001000 speed: 1.95(0.78s r0.46)s/itr 0.09h/epoch hand_ssa_loss: 7.5737\n"
     ]
    },
    {
     "name": "stdout",
     "output_type": "stream",
     "text": [
      "only hand\n"
     ]
    },
    {
     "name": "stderr",
     "output_type": "stream",
     "text": [
      "\u001b[92m01-22 17:54:50\u001b[0m Epoch 3/60 itr 134/170: lr: 0.001000 speed: 1.95(0.78s r0.46)s/itr 0.09h/epoch hand_ssa_loss: 5.9718\n",
      "INFO:train_logs.txt:Epoch 3/60 itr 134/170: lr: 0.001000 speed: 1.95(0.78s r0.46)s/itr 0.09h/epoch hand_ssa_loss: 5.9718\n"
     ]
    },
    {
     "name": "stdout",
     "output_type": "stream",
     "text": [
      "only hand\n"
     ]
    },
    {
     "name": "stderr",
     "output_type": "stream",
     "text": [
      "\u001b[92m01-22 17:54:52\u001b[0m Epoch 3/60 itr 135/170: lr: 0.001000 speed: 1.94(0.77s r0.46)s/itr 0.09h/epoch hand_ssa_loss: 12.4473\n",
      "INFO:train_logs.txt:Epoch 3/60 itr 135/170: lr: 0.001000 speed: 1.94(0.77s r0.46)s/itr 0.09h/epoch hand_ssa_loss: 12.4473\n"
     ]
    },
    {
     "name": "stdout",
     "output_type": "stream",
     "text": [
      "only hand\n"
     ]
    },
    {
     "name": "stderr",
     "output_type": "stream",
     "text": [
      "\u001b[92m01-22 17:54:54\u001b[0m Epoch 3/60 itr 136/170: lr: 0.001000 speed: 1.94(0.77s r0.46)s/itr 0.09h/epoch hand_ssa_loss: 8.2331\n",
      "INFO:train_logs.txt:Epoch 3/60 itr 136/170: lr: 0.001000 speed: 1.94(0.77s r0.46)s/itr 0.09h/epoch hand_ssa_loss: 8.2331\n"
     ]
    },
    {
     "name": "stdout",
     "output_type": "stream",
     "text": [
      "only hand\n"
     ]
    },
    {
     "name": "stderr",
     "output_type": "stream",
     "text": [
      "\u001b[92m01-22 17:54:55\u001b[0m Epoch 3/60 itr 137/170: lr: 0.001000 speed: 1.94(0.77s r0.46)s/itr 0.09h/epoch hand_ssa_loss: 7.1299\n",
      "INFO:train_logs.txt:Epoch 3/60 itr 137/170: lr: 0.001000 speed: 1.94(0.77s r0.46)s/itr 0.09h/epoch hand_ssa_loss: 7.1299\n"
     ]
    },
    {
     "name": "stdout",
     "output_type": "stream",
     "text": [
      "only hand\n"
     ]
    },
    {
     "name": "stderr",
     "output_type": "stream",
     "text": [
      "\u001b[92m01-22 17:54:56\u001b[0m Epoch 3/60 itr 138/170: lr: 0.001000 speed: 1.94(0.77s r0.46)s/itr 0.09h/epoch hand_ssa_loss: 9.4032\n",
      "INFO:train_logs.txt:Epoch 3/60 itr 138/170: lr: 0.001000 speed: 1.94(0.77s r0.46)s/itr 0.09h/epoch hand_ssa_loss: 9.4032\n"
     ]
    },
    {
     "name": "stdout",
     "output_type": "stream",
     "text": [
      "only hand\n"
     ]
    },
    {
     "name": "stderr",
     "output_type": "stream",
     "text": [
      "\u001b[92m01-22 17:54:58\u001b[0m Epoch 3/60 itr 139/170: lr: 0.001000 speed: 1.94(0.77s r0.46)s/itr 0.09h/epoch hand_ssa_loss: 12.3723\n",
      "INFO:train_logs.txt:Epoch 3/60 itr 139/170: lr: 0.001000 speed: 1.94(0.77s r0.46)s/itr 0.09h/epoch hand_ssa_loss: 12.3723\n"
     ]
    },
    {
     "name": "stdout",
     "output_type": "stream",
     "text": [
      "only hand\n"
     ]
    },
    {
     "name": "stderr",
     "output_type": "stream",
     "text": [
      "\u001b[92m01-22 17:55:00\u001b[0m Epoch 3/60 itr 140/170: lr: 0.001000 speed: 1.94(0.77s r0.46)s/itr 0.09h/epoch hand_ssa_loss: 7.2904\n",
      "INFO:train_logs.txt:Epoch 3/60 itr 140/170: lr: 0.001000 speed: 1.94(0.77s r0.46)s/itr 0.09h/epoch hand_ssa_loss: 7.2904\n"
     ]
    },
    {
     "name": "stdout",
     "output_type": "stream",
     "text": [
      "only hand\n"
     ]
    },
    {
     "name": "stderr",
     "output_type": "stream",
     "text": [
      "\u001b[92m01-22 17:55:01\u001b[0m Epoch 3/60 itr 141/170: lr: 0.001000 speed: 1.94(0.77s r0.46)s/itr 0.09h/epoch hand_ssa_loss: 9.8798\n",
      "INFO:train_logs.txt:Epoch 3/60 itr 141/170: lr: 0.001000 speed: 1.94(0.77s r0.46)s/itr 0.09h/epoch hand_ssa_loss: 9.8798\n"
     ]
    },
    {
     "name": "stdout",
     "output_type": "stream",
     "text": [
      "only hand\n"
     ]
    },
    {
     "name": "stderr",
     "output_type": "stream",
     "text": [
      "\u001b[92m01-22 17:55:03\u001b[0m Epoch 3/60 itr 142/170: lr: 0.001000 speed: 1.94(0.77s r0.46)s/itr 0.09h/epoch hand_ssa_loss: 7.7707\n",
      "INFO:train_logs.txt:Epoch 3/60 itr 142/170: lr: 0.001000 speed: 1.94(0.77s r0.46)s/itr 0.09h/epoch hand_ssa_loss: 7.7707\n"
     ]
    },
    {
     "name": "stdout",
     "output_type": "stream",
     "text": [
      "only hand\n"
     ]
    },
    {
     "name": "stderr",
     "output_type": "stream",
     "text": [
      "\u001b[92m01-22 17:55:05\u001b[0m Epoch 3/60 itr 143/170: lr: 0.001000 speed: 1.94(0.77s r0.46)s/itr 0.09h/epoch hand_ssa_loss: 7.8099\n",
      "INFO:train_logs.txt:Epoch 3/60 itr 143/170: lr: 0.001000 speed: 1.94(0.77s r0.46)s/itr 0.09h/epoch hand_ssa_loss: 7.8099\n"
     ]
    },
    {
     "name": "stdout",
     "output_type": "stream",
     "text": [
      "only hand\n"
     ]
    },
    {
     "name": "stderr",
     "output_type": "stream",
     "text": [
      "\u001b[92m01-22 17:55:06\u001b[0m Epoch 3/60 itr 144/170: lr: 0.001000 speed: 1.94(0.77s r0.46)s/itr 0.09h/epoch hand_ssa_loss: 8.8406\n",
      "INFO:train_logs.txt:Epoch 3/60 itr 144/170: lr: 0.001000 speed: 1.94(0.77s r0.46)s/itr 0.09h/epoch hand_ssa_loss: 8.8406\n"
     ]
    },
    {
     "name": "stdout",
     "output_type": "stream",
     "text": [
      "only hand\n"
     ]
    },
    {
     "name": "stderr",
     "output_type": "stream",
     "text": [
      "\u001b[92m01-22 17:55:08\u001b[0m Epoch 3/60 itr 145/170: lr: 0.001000 speed: 1.94(0.77s r0.46)s/itr 0.09h/epoch hand_ssa_loss: 7.6138\n",
      "INFO:train_logs.txt:Epoch 3/60 itr 145/170: lr: 0.001000 speed: 1.94(0.77s r0.46)s/itr 0.09h/epoch hand_ssa_loss: 7.6138\n"
     ]
    },
    {
     "name": "stdout",
     "output_type": "stream",
     "text": [
      "only hand\n"
     ]
    },
    {
     "name": "stderr",
     "output_type": "stream",
     "text": [
      "\u001b[92m01-22 17:55:09\u001b[0m Epoch 3/60 itr 146/170: lr: 0.001000 speed: 1.94(0.77s r0.46)s/itr 0.09h/epoch hand_ssa_loss: 9.9928\n",
      "INFO:train_logs.txt:Epoch 3/60 itr 146/170: lr: 0.001000 speed: 1.94(0.77s r0.46)s/itr 0.09h/epoch hand_ssa_loss: 9.9928\n"
     ]
    },
    {
     "name": "stdout",
     "output_type": "stream",
     "text": [
      "only hand\n"
     ]
    },
    {
     "name": "stderr",
     "output_type": "stream",
     "text": [
      "\u001b[92m01-22 17:55:11\u001b[0m Epoch 3/60 itr 147/170: lr: 0.001000 speed: 1.94(0.77s r0.46)s/itr 0.09h/epoch hand_ssa_loss: 7.9258\n",
      "INFO:train_logs.txt:Epoch 3/60 itr 147/170: lr: 0.001000 speed: 1.94(0.77s r0.46)s/itr 0.09h/epoch hand_ssa_loss: 7.9258\n"
     ]
    },
    {
     "name": "stdout",
     "output_type": "stream",
     "text": [
      "only hand\n"
     ]
    },
    {
     "name": "stderr",
     "output_type": "stream",
     "text": [
      "\u001b[92m01-22 17:55:12\u001b[0m Epoch 3/60 itr 148/170: lr: 0.001000 speed: 1.94(0.77s r0.46)s/itr 0.09h/epoch hand_ssa_loss: 11.5341\n",
      "INFO:train_logs.txt:Epoch 3/60 itr 148/170: lr: 0.001000 speed: 1.94(0.77s r0.46)s/itr 0.09h/epoch hand_ssa_loss: 11.5341\n"
     ]
    },
    {
     "name": "stdout",
     "output_type": "stream",
     "text": [
      "only hand\n"
     ]
    },
    {
     "name": "stderr",
     "output_type": "stream",
     "text": [
      "\u001b[92m01-22 17:55:14\u001b[0m Epoch 3/60 itr 149/170: lr: 0.001000 speed: 1.94(0.77s r0.46)s/itr 0.09h/epoch hand_ssa_loss: 7.1915\n",
      "INFO:train_logs.txt:Epoch 3/60 itr 149/170: lr: 0.001000 speed: 1.94(0.77s r0.46)s/itr 0.09h/epoch hand_ssa_loss: 7.1915\n"
     ]
    },
    {
     "name": "stdout",
     "output_type": "stream",
     "text": [
      "only hand\n"
     ]
    },
    {
     "name": "stderr",
     "output_type": "stream",
     "text": [
      "\u001b[92m01-22 17:55:16\u001b[0m Epoch 3/60 itr 150/170: lr: 0.001000 speed: 1.94(0.77s r0.46)s/itr 0.09h/epoch hand_ssa_loss: 8.4595\n",
      "INFO:train_logs.txt:Epoch 3/60 itr 150/170: lr: 0.001000 speed: 1.94(0.77s r0.46)s/itr 0.09h/epoch hand_ssa_loss: 8.4595\n"
     ]
    },
    {
     "name": "stdout",
     "output_type": "stream",
     "text": [
      "only hand\n"
     ]
    },
    {
     "name": "stderr",
     "output_type": "stream",
     "text": [
      "\u001b[92m01-22 17:55:17\u001b[0m Epoch 3/60 itr 151/170: lr: 0.001000 speed: 1.94(0.77s r0.46)s/itr 0.09h/epoch hand_ssa_loss: 8.3964\n",
      "INFO:train_logs.txt:Epoch 3/60 itr 151/170: lr: 0.001000 speed: 1.94(0.77s r0.46)s/itr 0.09h/epoch hand_ssa_loss: 8.3964\n"
     ]
    },
    {
     "name": "stdout",
     "output_type": "stream",
     "text": [
      "only hand\n"
     ]
    },
    {
     "name": "stderr",
     "output_type": "stream",
     "text": [
      "\u001b[92m01-22 17:55:19\u001b[0m Epoch 3/60 itr 152/170: lr: 0.001000 speed: 1.93(0.77s r0.46)s/itr 0.09h/epoch hand_ssa_loss: 7.2321\n",
      "INFO:train_logs.txt:Epoch 3/60 itr 152/170: lr: 0.001000 speed: 1.93(0.77s r0.46)s/itr 0.09h/epoch hand_ssa_loss: 7.2321\n"
     ]
    },
    {
     "name": "stdout",
     "output_type": "stream",
     "text": [
      "only hand\n"
     ]
    },
    {
     "name": "stderr",
     "output_type": "stream",
     "text": [
      "\u001b[92m01-22 17:55:21\u001b[0m Epoch 3/60 itr 153/170: lr: 0.001000 speed: 1.94(0.76s r0.46)s/itr 0.09h/epoch hand_ssa_loss: 9.7708\n",
      "INFO:train_logs.txt:Epoch 3/60 itr 153/170: lr: 0.001000 speed: 1.94(0.76s r0.46)s/itr 0.09h/epoch hand_ssa_loss: 9.7708\n"
     ]
    },
    {
     "name": "stdout",
     "output_type": "stream",
     "text": [
      "only hand\n"
     ]
    },
    {
     "name": "stderr",
     "output_type": "stream",
     "text": [
      "\u001b[92m01-22 17:55:23\u001b[0m Epoch 3/60 itr 154/170: lr: 0.001000 speed: 1.94(0.76s r0.46)s/itr 0.09h/epoch hand_ssa_loss: 5.5536\n",
      "INFO:train_logs.txt:Epoch 3/60 itr 154/170: lr: 0.001000 speed: 1.94(0.76s r0.46)s/itr 0.09h/epoch hand_ssa_loss: 5.5536\n"
     ]
    },
    {
     "name": "stdout",
     "output_type": "stream",
     "text": [
      "only hand\n"
     ]
    },
    {
     "name": "stderr",
     "output_type": "stream",
     "text": [
      "\u001b[92m01-22 17:55:25\u001b[0m Epoch 3/60 itr 155/170: lr: 0.001000 speed: 1.94(0.76s r0.46)s/itr 0.09h/epoch hand_ssa_loss: 8.1781\n",
      "INFO:train_logs.txt:Epoch 3/60 itr 155/170: lr: 0.001000 speed: 1.94(0.76s r0.46)s/itr 0.09h/epoch hand_ssa_loss: 8.1781\n"
     ]
    },
    {
     "name": "stdout",
     "output_type": "stream",
     "text": [
      "only hand\n"
     ]
    },
    {
     "name": "stderr",
     "output_type": "stream",
     "text": [
      "\u001b[92m01-22 17:55:27\u001b[0m Epoch 3/60 itr 156/170: lr: 0.001000 speed: 1.94(0.76s r0.46)s/itr 0.09h/epoch hand_ssa_loss: 15.4309\n",
      "INFO:train_logs.txt:Epoch 3/60 itr 156/170: lr: 0.001000 speed: 1.94(0.76s r0.46)s/itr 0.09h/epoch hand_ssa_loss: 15.4309\n"
     ]
    },
    {
     "name": "stdout",
     "output_type": "stream",
     "text": [
      "only hand\n"
     ]
    },
    {
     "name": "stderr",
     "output_type": "stream",
     "text": [
      "\u001b[92m01-22 17:55:28\u001b[0m Epoch 3/60 itr 157/170: lr: 0.001000 speed: 1.94(0.76s r0.46)s/itr 0.09h/epoch hand_ssa_loss: 11.9810\n",
      "INFO:train_logs.txt:Epoch 3/60 itr 157/170: lr: 0.001000 speed: 1.94(0.76s r0.46)s/itr 0.09h/epoch hand_ssa_loss: 11.9810\n"
     ]
    },
    {
     "name": "stdout",
     "output_type": "stream",
     "text": [
      "only hand\n"
     ]
    },
    {
     "name": "stderr",
     "output_type": "stream",
     "text": [
      "\u001b[92m01-22 17:55:30\u001b[0m Epoch 3/60 itr 158/170: lr: 0.001000 speed: 1.93(0.76s r0.46)s/itr 0.09h/epoch hand_ssa_loss: 7.5091\n",
      "INFO:train_logs.txt:Epoch 3/60 itr 158/170: lr: 0.001000 speed: 1.93(0.76s r0.46)s/itr 0.09h/epoch hand_ssa_loss: 7.5091\n"
     ]
    },
    {
     "name": "stdout",
     "output_type": "stream",
     "text": [
      "only hand\n"
     ]
    },
    {
     "name": "stderr",
     "output_type": "stream",
     "text": [
      "\u001b[92m01-22 17:55:32\u001b[0m Epoch 3/60 itr 159/170: lr: 0.001000 speed: 1.93(0.76s r0.46)s/itr 0.09h/epoch hand_ssa_loss: 5.9326\n",
      "INFO:train_logs.txt:Epoch 3/60 itr 159/170: lr: 0.001000 speed: 1.93(0.76s r0.46)s/itr 0.09h/epoch hand_ssa_loss: 5.9326\n"
     ]
    },
    {
     "name": "stdout",
     "output_type": "stream",
     "text": [
      "only hand\n"
     ]
    },
    {
     "name": "stderr",
     "output_type": "stream",
     "text": [
      "\u001b[92m01-22 17:55:33\u001b[0m Epoch 3/60 itr 160/170: lr: 0.001000 speed: 1.93(0.76s r0.46)s/itr 0.09h/epoch hand_ssa_loss: 10.1243\n",
      "INFO:train_logs.txt:Epoch 3/60 itr 160/170: lr: 0.001000 speed: 1.93(0.76s r0.46)s/itr 0.09h/epoch hand_ssa_loss: 10.1243\n"
     ]
    },
    {
     "name": "stdout",
     "output_type": "stream",
     "text": [
      "only hand\n"
     ]
    },
    {
     "name": "stderr",
     "output_type": "stream",
     "text": [
      "\u001b[92m01-22 17:55:35\u001b[0m Epoch 3/60 itr 161/170: lr: 0.001000 speed: 1.93(0.76s r0.46)s/itr 0.09h/epoch hand_ssa_loss: 8.1542\n",
      "INFO:train_logs.txt:Epoch 3/60 itr 161/170: lr: 0.001000 speed: 1.93(0.76s r0.46)s/itr 0.09h/epoch hand_ssa_loss: 8.1542\n"
     ]
    },
    {
     "name": "stdout",
     "output_type": "stream",
     "text": [
      "only hand\n"
     ]
    },
    {
     "name": "stderr",
     "output_type": "stream",
     "text": [
      "\u001b[92m01-22 17:55:36\u001b[0m Epoch 3/60 itr 162/170: lr: 0.001000 speed: 1.93(0.76s r0.46)s/itr 0.09h/epoch hand_ssa_loss: 7.2697\n",
      "INFO:train_logs.txt:Epoch 3/60 itr 162/170: lr: 0.001000 speed: 1.93(0.76s r0.46)s/itr 0.09h/epoch hand_ssa_loss: 7.2697\n"
     ]
    },
    {
     "name": "stdout",
     "output_type": "stream",
     "text": [
      "only hand\n"
     ]
    },
    {
     "name": "stderr",
     "output_type": "stream",
     "text": [
      "\u001b[92m01-22 17:55:38\u001b[0m Epoch 3/60 itr 163/170: lr: 0.001000 speed: 1.93(0.76s r0.46)s/itr 0.09h/epoch hand_ssa_loss: 10.4519\n",
      "INFO:train_logs.txt:Epoch 3/60 itr 163/170: lr: 0.001000 speed: 1.93(0.76s r0.46)s/itr 0.09h/epoch hand_ssa_loss: 10.4519\n"
     ]
    },
    {
     "name": "stdout",
     "output_type": "stream",
     "text": [
      "only hand\n"
     ]
    },
    {
     "name": "stderr",
     "output_type": "stream",
     "text": [
      "\u001b[92m01-22 17:55:40\u001b[0m Epoch 3/60 itr 164/170: lr: 0.001000 speed: 1.93(0.76s r0.46)s/itr 0.09h/epoch hand_ssa_loss: 8.3353\n",
      "INFO:train_logs.txt:Epoch 3/60 itr 164/170: lr: 0.001000 speed: 1.93(0.76s r0.46)s/itr 0.09h/epoch hand_ssa_loss: 8.3353\n"
     ]
    },
    {
     "name": "stdout",
     "output_type": "stream",
     "text": [
      "only hand\n"
     ]
    },
    {
     "name": "stderr",
     "output_type": "stream",
     "text": [
      "\u001b[92m01-22 17:55:41\u001b[0m Epoch 3/60 itr 165/170: lr: 0.001000 speed: 1.93(0.75s r0.46)s/itr 0.09h/epoch hand_ssa_loss: 7.2317\n",
      "INFO:train_logs.txt:Epoch 3/60 itr 165/170: lr: 0.001000 speed: 1.93(0.75s r0.46)s/itr 0.09h/epoch hand_ssa_loss: 7.2317\n"
     ]
    },
    {
     "name": "stdout",
     "output_type": "stream",
     "text": [
      "only hand\n"
     ]
    },
    {
     "name": "stderr",
     "output_type": "stream",
     "text": [
      "\u001b[92m01-22 17:55:43\u001b[0m Epoch 3/60 itr 166/170: lr: 0.001000 speed: 1.93(0.75s r0.46)s/itr 0.09h/epoch hand_ssa_loss: 20.2653\n",
      "INFO:train_logs.txt:Epoch 3/60 itr 166/170: lr: 0.001000 speed: 1.93(0.75s r0.46)s/itr 0.09h/epoch hand_ssa_loss: 20.2653\n"
     ]
    },
    {
     "name": "stdout",
     "output_type": "stream",
     "text": [
      "only hand\n"
     ]
    },
    {
     "name": "stderr",
     "output_type": "stream",
     "text": [
      "\u001b[92m01-22 17:55:45\u001b[0m Epoch 3/60 itr 167/170: lr: 0.001000 speed: 1.93(0.75s r0.46)s/itr 0.09h/epoch hand_ssa_loss: 8.2880\n",
      "INFO:train_logs.txt:Epoch 3/60 itr 167/170: lr: 0.001000 speed: 1.93(0.75s r0.46)s/itr 0.09h/epoch hand_ssa_loss: 8.2880\n"
     ]
    },
    {
     "name": "stdout",
     "output_type": "stream",
     "text": [
      "only hand\n"
     ]
    },
    {
     "name": "stderr",
     "output_type": "stream",
     "text": [
      "\u001b[92m01-22 17:55:47\u001b[0m Epoch 3/60 itr 168/170: lr: 0.001000 speed: 1.93(0.75s r0.46)s/itr 0.09h/epoch hand_ssa_loss: 13.9797\n",
      "INFO:train_logs.txt:Epoch 3/60 itr 168/170: lr: 0.001000 speed: 1.93(0.75s r0.46)s/itr 0.09h/epoch hand_ssa_loss: 13.9797\n"
     ]
    },
    {
     "name": "stdout",
     "output_type": "stream",
     "text": [
      "only hand\n"
     ]
    },
    {
     "name": "stderr",
     "output_type": "stream",
     "text": [
      "\u001b[92m01-22 17:55:50\u001b[0m Epoch 3/60 itr 169/170: lr: 0.001000 speed: 1.93(0.75s r0.46)s/itr 0.09h/epoch hand_ssa_loss: 6.0061\n",
      "INFO:train_logs.txt:Epoch 3/60 itr 169/170: lr: 0.001000 speed: 1.93(0.75s r0.46)s/itr 0.09h/epoch hand_ssa_loss: 6.0061\n",
      "\u001b[92m01-22 17:55:51\u001b[0m Write snapshot into c:\\Users\\vladi\\RP\\InterWild\\main\\..\\output\\model_dump\\snapshot_3.pth\n",
      "INFO:train_logs.txt:Write snapshot into c:\\Users\\vladi\\RP\\InterWild\\main\\..\\output\\model_dump\\snapshot_3.pth\n",
      "\u001b[92m01-22 17:55:51\u001b[0m [Epoch 4/60] - Training SSA...\n",
      "INFO:train_logs.txt:[Epoch 4/60] - Training SSA...\n",
      "\u001b[92m01-22 17:55:51\u001b[0m Running validation...\n",
      "INFO:train_logs.txt:Running validation...\n"
     ]
    }
   ],
   "source": [
    "trainer.train(validation_dataset_source = val_dataset_source, validation_dataset_target = val_dataset_target)"
   ]
  }
 ],
 "metadata": {
  "kernelspec": {
   "display_name": "Python 3",
   "language": "python",
   "name": "python3"
  },
  "language_info": {
   "codemirror_mode": {
    "name": "ipython",
    "version": 3
   },
   "file_extension": ".py",
   "mimetype": "text/x-python",
   "name": "python",
   "nbconvert_exporter": "python",
   "pygments_lexer": "ipython3",
   "version": "3.10.11"
  }
 },
 "nbformat": 4,
 "nbformat_minor": 2
}
